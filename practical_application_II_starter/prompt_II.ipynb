{
 "cells": [
  {
   "cell_type": "markdown",
   "id": "af5b828d",
   "metadata": {},
   "source": [
    "# What drives the price of a car?\n",
    "\n",
    "![](images/kurt.jpeg)"
   ]
  },
  {
   "cell_type": "markdown",
   "id": "c029a209",
   "metadata": {},
   "source": [
    "**OVERVIEW**\n",
    "\n",
    "In this application, you will explore a dataset from kaggle that contains information on 3 million used cars.  Your goal is to understand what factors make a car more or less expensive.  As a result of your analysis, you should provide clear recommendations to your client -- a used car dealership -- as to what consumers value in a used car."
   ]
  },
  {
   "cell_type": "markdown",
   "id": "dcf8d7e2",
   "metadata": {},
   "source": [
    "### CRISP-DM Framework\n",
    "\n",
    "<center>\n",
    "    <img src = images/crisp.png width = 50%/>\n",
    "</center>\n",
    "\n",
    "\n",
    "To frame the task, throughout our practical applications we will refer back to a standard process in industry for data projects called CRISP-DM.  This process provides a framework for working through a data problem.  Your first step in this application will be to read through a brief overview of CRISP-DM [here](https://mo-pcco.s3.us-east-1.amazonaws.com/BH-PCMLAI/module_11/readings_starter.zip).  After reading the overview, answer the questions below."
   ]
  },
  {
   "cell_type": "markdown",
   "id": "f8bd7d1a",
   "metadata": {},
   "source": [
    "### Business Understanding\n",
    "\n",
    "From a business perspective, we are tasked with identifying key drivers for used car prices.  In the CRISP-DM overview, we are asked to convert this business framing to a data problem definition.  Using a few sentences, reframe the task as a data task with the appropriate technical vocabulary. "
   ]
  },
  {
   "cell_type": "markdown",
   "id": "1738b14a",
   "metadata": {},
   "source": [
    "### **Answer: Reframing the Problem as a Data problem**\n",
    "\n",
    "**TASK**: \n",
    "- Use the vehicle data to PREDICT the features that affect the price column of used vehicles. \n",
    "- Convert the features into encoded columns. \n",
    "- Build both a Linear and Polynomial Regression of degree 3 with a Sequential Feature Selector model \n",
    "- Compare the results of the two models. \n",
    "- Use GridSearchCV to select the best score for both models?"
   ]
  },
  {
   "cell_type": "markdown",
   "id": "9173f517",
   "metadata": {},
   "source": [
    "### Data Understanding\n",
    "\n",
    "After considering the business understanding, we want to get familiar with our data.  Write down some steps that you would take to get to know the dataset and identify any quality issues within.  Take time to get to know the dataset and explore what information it contains and how this could be used to inform your business understanding."
   ]
  },
  {
   "cell_type": "markdown",
   "id": "0552b5e0",
   "metadata": {},
   "source": [
    "### Answer: Steps to understand the data\n",
    "- Obtain the Dataset\n",
    "- Drop unwanted columns (VIN, in this case)\n",
    "- Describe the Dataset\n",
    "- Fill Empty Cells\n",
    "- Replace zero values on the price column with the mean of the column\n",
    "- Encode the columns with category type\n",
    "- Plot a histogram of the encoded data\n",
    "- Obtain the Correlation Coefficients to determine column importance\n",
    "- Convet the encoded columns to float type\n",
    "- Scale the Data\n",
    "- Perform Principal Component Analysis on the Data"
   ]
  },
  {
   "cell_type": "code",
   "execution_count": 334,
   "id": "b63b4d1d",
   "metadata": {},
   "outputs": [],
   "source": [
    "import statsmodels.tsa.filters.filtertools as ft\n",
    "from sklearn.metrics import mean_squared_error\n",
    "from statsmodels.tsa.filters.filtertools import convolution_filter\n",
    "from sklearn.feature_selection import SequentialFeatureSelector\n",
    "from statsmodels.tsa.seasonal import _extrapolate_trend\n",
    "import pandas.testing as tm\n",
    "import statsmodels.tsa.arima_process as arima_process\n",
    "import statsmodels.graphics.tsaplots as tsaplots\n",
    "import numpy as np\n",
    "import pandas as pd\n",
    "import matplotlib.pyplot as plt\n",
    "import statsmodels.api as sm\n",
    "from statsmodels.tsa.seasonal import seasonal_decompose\n",
    "from sklearn.preprocessing import OneHotEncoder\n",
    "from sklearn.pipeline import Pipeline\n",
    "from sklearn.preprocessing import StandardScaler\n",
    "from sklearn.impute import SimpleImputer\n",
    "from sklearn.compose import ColumnTransformer\n",
    "from sklearn.decomposition import PCA\n",
    "from sklearn.linear_model import LogisticRegression, LinearRegression\n",
    "from sklearn.pipeline import make_pipeline\n",
    "from sklearn.model_selection import train_test_split, GridSearchCV\n",
    "from sklearn.preprocessing import PolynomialFeatures, OrdinalEncoder\n",
    "from sklearn.linear_model import Ridge\n",
    "from scipy import stats\n",
    "from scipy.linalg import svd\n",
    "\n",
    "import warnings\n",
    "warnings.filterwarnings('ignore')"
   ]
  },
  {
   "cell_type": "code",
   "execution_count": 335,
   "id": "08b2700a",
   "metadata": {},
   "outputs": [],
   "source": [
    "veh = pd.read_csv('data/vehicles.csv')"
   ]
  },
  {
   "cell_type": "code",
   "execution_count": 336,
   "id": "cc9432a2",
   "metadata": {},
   "outputs": [
    {
     "data": {
      "text/html": [
       "<div>\n",
       "<style scoped>\n",
       "    .dataframe tbody tr th:only-of-type {\n",
       "        vertical-align: middle;\n",
       "    }\n",
       "\n",
       "    .dataframe tbody tr th {\n",
       "        vertical-align: top;\n",
       "    }\n",
       "\n",
       "    .dataframe thead th {\n",
       "        text-align: right;\n",
       "    }\n",
       "</style>\n",
       "<table border=\"1\" class=\"dataframe\">\n",
       "  <thead>\n",
       "    <tr style=\"text-align: right;\">\n",
       "      <th></th>\n",
       "      <th>id</th>\n",
       "      <th>region</th>\n",
       "      <th>price</th>\n",
       "      <th>year</th>\n",
       "      <th>manufacturer</th>\n",
       "      <th>model</th>\n",
       "      <th>condition</th>\n",
       "      <th>cylinders</th>\n",
       "      <th>fuel</th>\n",
       "      <th>odometer</th>\n",
       "      <th>title_status</th>\n",
       "      <th>transmission</th>\n",
       "      <th>VIN</th>\n",
       "      <th>drive</th>\n",
       "      <th>size</th>\n",
       "      <th>type</th>\n",
       "      <th>paint_color</th>\n",
       "      <th>state</th>\n",
       "    </tr>\n",
       "  </thead>\n",
       "  <tbody>\n",
       "    <tr>\n",
       "      <th>0</th>\n",
       "      <td>7222695916</td>\n",
       "      <td>prescott</td>\n",
       "      <td>6000</td>\n",
       "      <td>NaN</td>\n",
       "      <td>NaN</td>\n",
       "      <td>NaN</td>\n",
       "      <td>NaN</td>\n",
       "      <td>NaN</td>\n",
       "      <td>NaN</td>\n",
       "      <td>NaN</td>\n",
       "      <td>NaN</td>\n",
       "      <td>NaN</td>\n",
       "      <td>NaN</td>\n",
       "      <td>NaN</td>\n",
       "      <td>NaN</td>\n",
       "      <td>NaN</td>\n",
       "      <td>NaN</td>\n",
       "      <td>az</td>\n",
       "    </tr>\n",
       "    <tr>\n",
       "      <th>1</th>\n",
       "      <td>7218891961</td>\n",
       "      <td>fayetteville</td>\n",
       "      <td>11900</td>\n",
       "      <td>NaN</td>\n",
       "      <td>NaN</td>\n",
       "      <td>NaN</td>\n",
       "      <td>NaN</td>\n",
       "      <td>NaN</td>\n",
       "      <td>NaN</td>\n",
       "      <td>NaN</td>\n",
       "      <td>NaN</td>\n",
       "      <td>NaN</td>\n",
       "      <td>NaN</td>\n",
       "      <td>NaN</td>\n",
       "      <td>NaN</td>\n",
       "      <td>NaN</td>\n",
       "      <td>NaN</td>\n",
       "      <td>ar</td>\n",
       "    </tr>\n",
       "    <tr>\n",
       "      <th>2</th>\n",
       "      <td>7221797935</td>\n",
       "      <td>florida keys</td>\n",
       "      <td>21000</td>\n",
       "      <td>NaN</td>\n",
       "      <td>NaN</td>\n",
       "      <td>NaN</td>\n",
       "      <td>NaN</td>\n",
       "      <td>NaN</td>\n",
       "      <td>NaN</td>\n",
       "      <td>NaN</td>\n",
       "      <td>NaN</td>\n",
       "      <td>NaN</td>\n",
       "      <td>NaN</td>\n",
       "      <td>NaN</td>\n",
       "      <td>NaN</td>\n",
       "      <td>NaN</td>\n",
       "      <td>NaN</td>\n",
       "      <td>fl</td>\n",
       "    </tr>\n",
       "  </tbody>\n",
       "</table>\n",
       "</div>"
      ],
      "text/plain": [
       "           id        region  price  year manufacturer model condition  \\\n",
       "0  7222695916      prescott   6000   NaN          NaN   NaN       NaN   \n",
       "1  7218891961  fayetteville  11900   NaN          NaN   NaN       NaN   \n",
       "2  7221797935  florida keys  21000   NaN          NaN   NaN       NaN   \n",
       "\n",
       "  cylinders fuel  odometer title_status transmission  VIN drive size type  \\\n",
       "0       NaN  NaN       NaN          NaN          NaN  NaN   NaN  NaN  NaN   \n",
       "1       NaN  NaN       NaN          NaN          NaN  NaN   NaN  NaN  NaN   \n",
       "2       NaN  NaN       NaN          NaN          NaN  NaN   NaN  NaN  NaN   \n",
       "\n",
       "  paint_color state  \n",
       "0         NaN    az  \n",
       "1         NaN    ar  \n",
       "2         NaN    fl  "
      ]
     },
     "execution_count": 336,
     "metadata": {},
     "output_type": "execute_result"
    }
   ],
   "source": [
    "veh.head(3)"
   ]
  },
  {
   "cell_type": "markdown",
   "id": "ad803183",
   "metadata": {},
   "source": [
    "### 1. Information about the data"
   ]
  },
  {
   "cell_type": "code",
   "execution_count": 337,
   "id": "c5770091",
   "metadata": {},
   "outputs": [
    {
     "name": "stdout",
     "output_type": "stream",
     "text": [
      "<class 'pandas.core.frame.DataFrame'>\n",
      "RangeIndex: 426880 entries, 0 to 426879\n",
      "Data columns (total 18 columns):\n",
      " #   Column        Non-Null Count   Dtype  \n",
      "---  ------        --------------   -----  \n",
      " 0   id            426880 non-null  int64  \n",
      " 1   region        426880 non-null  object \n",
      " 2   price         426880 non-null  int64  \n",
      " 3   year          425675 non-null  float64\n",
      " 4   manufacturer  409234 non-null  object \n",
      " 5   model         421603 non-null  object \n",
      " 6   condition     252776 non-null  object \n",
      " 7   cylinders     249202 non-null  object \n",
      " 8   fuel          423867 non-null  object \n",
      " 9   odometer      422480 non-null  float64\n",
      " 10  title_status  418638 non-null  object \n",
      " 11  transmission  424324 non-null  object \n",
      " 12  VIN           265838 non-null  object \n",
      " 13  drive         296313 non-null  object \n",
      " 14  size          120519 non-null  object \n",
      " 15  type          334022 non-null  object \n",
      " 16  paint_color   296677 non-null  object \n",
      " 17  state         426880 non-null  object \n",
      "dtypes: float64(2), int64(2), object(14)\n",
      "memory usage: 58.6+ MB\n"
     ]
    }
   ],
   "source": [
    "veh.info()"
   ]
  },
  {
   "cell_type": "code",
   "execution_count": 338,
   "id": "0f553f15",
   "metadata": {},
   "outputs": [
    {
     "data": {
      "text/html": [
       "<div>\n",
       "<style scoped>\n",
       "    .dataframe tbody tr th:only-of-type {\n",
       "        vertical-align: middle;\n",
       "    }\n",
       "\n",
       "    .dataframe tbody tr th {\n",
       "        vertical-align: top;\n",
       "    }\n",
       "\n",
       "    .dataframe thead th {\n",
       "        text-align: right;\n",
       "    }\n",
       "</style>\n",
       "<table border=\"1\" class=\"dataframe\">\n",
       "  <thead>\n",
       "    <tr style=\"text-align: right;\">\n",
       "      <th></th>\n",
       "      <th>id</th>\n",
       "      <th>price</th>\n",
       "      <th>year</th>\n",
       "      <th>odometer</th>\n",
       "    </tr>\n",
       "  </thead>\n",
       "  <tbody>\n",
       "    <tr>\n",
       "      <th>count</th>\n",
       "      <td>4.268800e+05</td>\n",
       "      <td>4.268800e+05</td>\n",
       "      <td>425675.000000</td>\n",
       "      <td>4.224800e+05</td>\n",
       "    </tr>\n",
       "    <tr>\n",
       "      <th>mean</th>\n",
       "      <td>7.311487e+09</td>\n",
       "      <td>7.519903e+04</td>\n",
       "      <td>2011.235191</td>\n",
       "      <td>9.804333e+04</td>\n",
       "    </tr>\n",
       "    <tr>\n",
       "      <th>std</th>\n",
       "      <td>4.473170e+06</td>\n",
       "      <td>1.218228e+07</td>\n",
       "      <td>9.452120</td>\n",
       "      <td>2.138815e+05</td>\n",
       "    </tr>\n",
       "    <tr>\n",
       "      <th>min</th>\n",
       "      <td>7.207408e+09</td>\n",
       "      <td>0.000000e+00</td>\n",
       "      <td>1900.000000</td>\n",
       "      <td>0.000000e+00</td>\n",
       "    </tr>\n",
       "    <tr>\n",
       "      <th>25%</th>\n",
       "      <td>7.308143e+09</td>\n",
       "      <td>5.900000e+03</td>\n",
       "      <td>2008.000000</td>\n",
       "      <td>3.770400e+04</td>\n",
       "    </tr>\n",
       "    <tr>\n",
       "      <th>50%</th>\n",
       "      <td>7.312621e+09</td>\n",
       "      <td>1.395000e+04</td>\n",
       "      <td>2013.000000</td>\n",
       "      <td>8.554800e+04</td>\n",
       "    </tr>\n",
       "    <tr>\n",
       "      <th>75%</th>\n",
       "      <td>7.315254e+09</td>\n",
       "      <td>2.648575e+04</td>\n",
       "      <td>2017.000000</td>\n",
       "      <td>1.335425e+05</td>\n",
       "    </tr>\n",
       "    <tr>\n",
       "      <th>max</th>\n",
       "      <td>7.317101e+09</td>\n",
       "      <td>3.736929e+09</td>\n",
       "      <td>2022.000000</td>\n",
       "      <td>1.000000e+07</td>\n",
       "    </tr>\n",
       "  </tbody>\n",
       "</table>\n",
       "</div>"
      ],
      "text/plain": [
       "                 id         price           year      odometer\n",
       "count  4.268800e+05  4.268800e+05  425675.000000  4.224800e+05\n",
       "mean   7.311487e+09  7.519903e+04    2011.235191  9.804333e+04\n",
       "std    4.473170e+06  1.218228e+07       9.452120  2.138815e+05\n",
       "min    7.207408e+09  0.000000e+00    1900.000000  0.000000e+00\n",
       "25%    7.308143e+09  5.900000e+03    2008.000000  3.770400e+04\n",
       "50%    7.312621e+09  1.395000e+04    2013.000000  8.554800e+04\n",
       "75%    7.315254e+09  2.648575e+04    2017.000000  1.335425e+05\n",
       "max    7.317101e+09  3.736929e+09    2022.000000  1.000000e+07"
      ]
     },
     "execution_count": 338,
     "metadata": {},
     "output_type": "execute_result"
    }
   ],
   "source": [
    "veh.describe()"
   ]
  },
  {
   "cell_type": "code",
   "execution_count": 339,
   "id": "9593ce3d",
   "metadata": {},
   "outputs": [
    {
     "data": {
      "text/plain": [
       "array([[<AxesSubplot:title={'center':'id'}>,\n",
       "        <AxesSubplot:title={'center':'price'}>],\n",
       "       [<AxesSubplot:title={'center':'year'}>,\n",
       "        <AxesSubplot:title={'center':'odometer'}>]], dtype=object)"
      ]
     },
     "execution_count": 339,
     "metadata": {},
     "output_type": "execute_result"
    },
    {
     "data": {
      "image/png": "[encoded data removed]",
      "text/plain": [
       "<Figure size 1440x1080 with 4 Axes>"
      ]
     },
     "metadata": {
      "needs_background": "light"
     },
     "output_type": "display_data"
    }
   ],
   "source": [
    "veh.hist(bins=50, figsize=(20,15))"
   ]
  },
  {
   "cell_type": "code",
   "execution_count": 340,
   "id": "7c80692c",
   "metadata": {},
   "outputs": [
    {
     "data": {
      "text/plain": [
       "<AxesSubplot:xlabel='price', ylabel='odometer'>"
      ]
     },
     "execution_count": 340,
     "metadata": {},
     "output_type": "execute_result"
    },
    {
     "data": {
      "image/png": "[encoded data removed]",
      "text/plain": [
       "<Figure size 432x288 with 1 Axes>"
      ]
     },
     "metadata": {
      "needs_background": "light"
     },
     "output_type": "display_data"
    }
   ],
   "source": [
    "fig = plt.figure()\n",
    "ax = fig.add_subplot(1,1,1)\n",
    "veh.plot(ax=ax, x='price', y='odometer', kind='scatter', style='k-', linewidth=0.5)"
   ]
  },
  {
   "cell_type": "code",
   "execution_count": 341,
   "id": "a1ab1338",
   "metadata": {},
   "outputs": [
    {
     "data": {
      "text/plain": [
       "<AxesSubplot:xlabel='price', ylabel='year'>"
      ]
     },
     "execution_count": 341,
     "metadata": {},
     "output_type": "execute_result"
    },
    {
     "data": {
      "image/png": "[encoded data removed]",
      "text/plain": [
       "<Figure size 432x288 with 1 Axes>"
      ]
     },
     "metadata": {
      "needs_background": "light"
     },
     "output_type": "display_data"
    }
   ],
   "source": [
    "veh.plot(kind='scatter', x='price', y='year')"
   ]
  },
  {
   "cell_type": "markdown",
   "id": "5aac1a4a",
   "metadata": {},
   "source": [
    "### 2. Drop Unwanted Columns"
   ]
  },
  {
   "cell_type": "code",
   "execution_count": 342,
   "id": "138f27bf",
   "metadata": {},
   "outputs": [],
   "source": [
    "veh = veh.drop(columns=[\"VIN\"],axis=1)"
   ]
  },
  {
   "cell_type": "code",
   "execution_count": 343,
   "id": "799edc31",
   "metadata": {},
   "outputs": [
    {
     "data": {
      "text/html": [
       "<div>\n",
       "<style scoped>\n",
       "    .dataframe tbody tr th:only-of-type {\n",
       "        vertical-align: middle;\n",
       "    }\n",
       "\n",
       "    .dataframe tbody tr th {\n",
       "        vertical-align: top;\n",
       "    }\n",
       "\n",
       "    .dataframe thead th {\n",
       "        text-align: right;\n",
       "    }\n",
       "</style>\n",
       "<table border=\"1\" class=\"dataframe\">\n",
       "  <thead>\n",
       "    <tr style=\"text-align: right;\">\n",
       "      <th></th>\n",
       "      <th>id</th>\n",
       "      <th>region</th>\n",
       "      <th>price</th>\n",
       "      <th>year</th>\n",
       "      <th>manufacturer</th>\n",
       "      <th>model</th>\n",
       "      <th>condition</th>\n",
       "      <th>cylinders</th>\n",
       "      <th>fuel</th>\n",
       "      <th>odometer</th>\n",
       "      <th>title_status</th>\n",
       "      <th>transmission</th>\n",
       "      <th>drive</th>\n",
       "      <th>size</th>\n",
       "      <th>type</th>\n",
       "      <th>paint_color</th>\n",
       "      <th>state</th>\n",
       "    </tr>\n",
       "  </thead>\n",
       "  <tbody>\n",
       "    <tr>\n",
       "      <th>0</th>\n",
       "      <td>7222695916</td>\n",
       "      <td>prescott</td>\n",
       "      <td>6000</td>\n",
       "      <td>NaN</td>\n",
       "      <td>NaN</td>\n",
       "      <td>NaN</td>\n",
       "      <td>NaN</td>\n",
       "      <td>NaN</td>\n",
       "      <td>NaN</td>\n",
       "      <td>NaN</td>\n",
       "      <td>NaN</td>\n",
       "      <td>NaN</td>\n",
       "      <td>NaN</td>\n",
       "      <td>NaN</td>\n",
       "      <td>NaN</td>\n",
       "      <td>NaN</td>\n",
       "      <td>az</td>\n",
       "    </tr>\n",
       "    <tr>\n",
       "      <th>1</th>\n",
       "      <td>7218891961</td>\n",
       "      <td>fayetteville</td>\n",
       "      <td>11900</td>\n",
       "      <td>NaN</td>\n",
       "      <td>NaN</td>\n",
       "      <td>NaN</td>\n",
       "      <td>NaN</td>\n",
       "      <td>NaN</td>\n",
       "      <td>NaN</td>\n",
       "      <td>NaN</td>\n",
       "      <td>NaN</td>\n",
       "      <td>NaN</td>\n",
       "      <td>NaN</td>\n",
       "      <td>NaN</td>\n",
       "      <td>NaN</td>\n",
       "      <td>NaN</td>\n",
       "      <td>ar</td>\n",
       "    </tr>\n",
       "    <tr>\n",
       "      <th>2</th>\n",
       "      <td>7221797935</td>\n",
       "      <td>florida keys</td>\n",
       "      <td>21000</td>\n",
       "      <td>NaN</td>\n",
       "      <td>NaN</td>\n",
       "      <td>NaN</td>\n",
       "      <td>NaN</td>\n",
       "      <td>NaN</td>\n",
       "      <td>NaN</td>\n",
       "      <td>NaN</td>\n",
       "      <td>NaN</td>\n",
       "      <td>NaN</td>\n",
       "      <td>NaN</td>\n",
       "      <td>NaN</td>\n",
       "      <td>NaN</td>\n",
       "      <td>NaN</td>\n",
       "      <td>fl</td>\n",
       "    </tr>\n",
       "    <tr>\n",
       "      <th>3</th>\n",
       "      <td>7222270760</td>\n",
       "      <td>worcester / central MA</td>\n",
       "      <td>1500</td>\n",
       "      <td>NaN</td>\n",
       "      <td>NaN</td>\n",
       "      <td>NaN</td>\n",
       "      <td>NaN</td>\n",
       "      <td>NaN</td>\n",
       "      <td>NaN</td>\n",
       "      <td>NaN</td>\n",
       "      <td>NaN</td>\n",
       "      <td>NaN</td>\n",
       "      <td>NaN</td>\n",
       "      <td>NaN</td>\n",
       "      <td>NaN</td>\n",
       "      <td>NaN</td>\n",
       "      <td>ma</td>\n",
       "    </tr>\n",
       "    <tr>\n",
       "      <th>4</th>\n",
       "      <td>7210384030</td>\n",
       "      <td>greensboro</td>\n",
       "      <td>4900</td>\n",
       "      <td>NaN</td>\n",
       "      <td>NaN</td>\n",
       "      <td>NaN</td>\n",
       "      <td>NaN</td>\n",
       "      <td>NaN</td>\n",
       "      <td>NaN</td>\n",
       "      <td>NaN</td>\n",
       "      <td>NaN</td>\n",
       "      <td>NaN</td>\n",
       "      <td>NaN</td>\n",
       "      <td>NaN</td>\n",
       "      <td>NaN</td>\n",
       "      <td>NaN</td>\n",
       "      <td>nc</td>\n",
       "    </tr>\n",
       "    <tr>\n",
       "      <th>...</th>\n",
       "      <td>...</td>\n",
       "      <td>...</td>\n",
       "      <td>...</td>\n",
       "      <td>...</td>\n",
       "      <td>...</td>\n",
       "      <td>...</td>\n",
       "      <td>...</td>\n",
       "      <td>...</td>\n",
       "      <td>...</td>\n",
       "      <td>...</td>\n",
       "      <td>...</td>\n",
       "      <td>...</td>\n",
       "      <td>...</td>\n",
       "      <td>...</td>\n",
       "      <td>...</td>\n",
       "      <td>...</td>\n",
       "      <td>...</td>\n",
       "    </tr>\n",
       "    <tr>\n",
       "      <th>426875</th>\n",
       "      <td>7301591192</td>\n",
       "      <td>wyoming</td>\n",
       "      <td>23590</td>\n",
       "      <td>2019.0</td>\n",
       "      <td>nissan</td>\n",
       "      <td>maxima s sedan 4d</td>\n",
       "      <td>good</td>\n",
       "      <td>6 cylinders</td>\n",
       "      <td>gas</td>\n",
       "      <td>32226.0</td>\n",
       "      <td>clean</td>\n",
       "      <td>other</td>\n",
       "      <td>fwd</td>\n",
       "      <td>NaN</td>\n",
       "      <td>sedan</td>\n",
       "      <td>NaN</td>\n",
       "      <td>wy</td>\n",
       "    </tr>\n",
       "    <tr>\n",
       "      <th>426876</th>\n",
       "      <td>7301591187</td>\n",
       "      <td>wyoming</td>\n",
       "      <td>30590</td>\n",
       "      <td>2020.0</td>\n",
       "      <td>volvo</td>\n",
       "      <td>s60 t5 momentum sedan 4d</td>\n",
       "      <td>good</td>\n",
       "      <td>NaN</td>\n",
       "      <td>gas</td>\n",
       "      <td>12029.0</td>\n",
       "      <td>clean</td>\n",
       "      <td>other</td>\n",
       "      <td>fwd</td>\n",
       "      <td>NaN</td>\n",
       "      <td>sedan</td>\n",
       "      <td>red</td>\n",
       "      <td>wy</td>\n",
       "    </tr>\n",
       "    <tr>\n",
       "      <th>426877</th>\n",
       "      <td>7301591147</td>\n",
       "      <td>wyoming</td>\n",
       "      <td>34990</td>\n",
       "      <td>2020.0</td>\n",
       "      <td>cadillac</td>\n",
       "      <td>xt4 sport suv 4d</td>\n",
       "      <td>good</td>\n",
       "      <td>NaN</td>\n",
       "      <td>diesel</td>\n",
       "      <td>4174.0</td>\n",
       "      <td>clean</td>\n",
       "      <td>other</td>\n",
       "      <td>NaN</td>\n",
       "      <td>NaN</td>\n",
       "      <td>hatchback</td>\n",
       "      <td>white</td>\n",
       "      <td>wy</td>\n",
       "    </tr>\n",
       "    <tr>\n",
       "      <th>426878</th>\n",
       "      <td>7301591140</td>\n",
       "      <td>wyoming</td>\n",
       "      <td>28990</td>\n",
       "      <td>2018.0</td>\n",
       "      <td>lexus</td>\n",
       "      <td>es 350 sedan 4d</td>\n",
       "      <td>good</td>\n",
       "      <td>6 cylinders</td>\n",
       "      <td>gas</td>\n",
       "      <td>30112.0</td>\n",
       "      <td>clean</td>\n",
       "      <td>other</td>\n",
       "      <td>fwd</td>\n",
       "      <td>NaN</td>\n",
       "      <td>sedan</td>\n",
       "      <td>silver</td>\n",
       "      <td>wy</td>\n",
       "    </tr>\n",
       "    <tr>\n",
       "      <th>426879</th>\n",
       "      <td>7301591129</td>\n",
       "      <td>wyoming</td>\n",
       "      <td>30590</td>\n",
       "      <td>2019.0</td>\n",
       "      <td>bmw</td>\n",
       "      <td>4 series 430i gran coupe</td>\n",
       "      <td>good</td>\n",
       "      <td>NaN</td>\n",
       "      <td>gas</td>\n",
       "      <td>22716.0</td>\n",
       "      <td>clean</td>\n",
       "      <td>other</td>\n",
       "      <td>rwd</td>\n",
       "      <td>NaN</td>\n",
       "      <td>coupe</td>\n",
       "      <td>NaN</td>\n",
       "      <td>wy</td>\n",
       "    </tr>\n",
       "  </tbody>\n",
       "</table>\n",
       "<p>418703 rows × 17 columns</p>\n",
       "</div>"
      ],
      "text/plain": [
       "                id                  region  price    year manufacturer  \\\n",
       "0       7222695916                prescott   6000     NaN          NaN   \n",
       "1       7218891961            fayetteville  11900     NaN          NaN   \n",
       "2       7221797935            florida keys  21000     NaN          NaN   \n",
       "3       7222270760  worcester / central MA   1500     NaN          NaN   \n",
       "4       7210384030              greensboro   4900     NaN          NaN   \n",
       "...            ...                     ...    ...     ...          ...   \n",
       "426875  7301591192                 wyoming  23590  2019.0       nissan   \n",
       "426876  7301591187                 wyoming  30590  2020.0        volvo   \n",
       "426877  7301591147                 wyoming  34990  2020.0     cadillac   \n",
       "426878  7301591140                 wyoming  28990  2018.0        lexus   \n",
       "426879  7301591129                 wyoming  30590  2019.0          bmw   \n",
       "\n",
       "                           model condition    cylinders    fuel  odometer  \\\n",
       "0                            NaN       NaN          NaN     NaN       NaN   \n",
       "1                            NaN       NaN          NaN     NaN       NaN   \n",
       "2                            NaN       NaN          NaN     NaN       NaN   \n",
       "3                            NaN       NaN          NaN     NaN       NaN   \n",
       "4                            NaN       NaN          NaN     NaN       NaN   \n",
       "...                          ...       ...          ...     ...       ...   \n",
       "426875         maxima s sedan 4d      good  6 cylinders     gas   32226.0   \n",
       "426876  s60 t5 momentum sedan 4d      good          NaN     gas   12029.0   \n",
       "426877          xt4 sport suv 4d      good          NaN  diesel    4174.0   \n",
       "426878           es 350 sedan 4d      good  6 cylinders     gas   30112.0   \n",
       "426879  4 series 430i gran coupe      good          NaN     gas   22716.0   \n",
       "\n",
       "       title_status transmission drive size       type paint_color state  \n",
       "0               NaN          NaN   NaN  NaN        NaN         NaN    az  \n",
       "1               NaN          NaN   NaN  NaN        NaN         NaN    ar  \n",
       "2               NaN          NaN   NaN  NaN        NaN         NaN    fl  \n",
       "3               NaN          NaN   NaN  NaN        NaN         NaN    ma  \n",
       "4               NaN          NaN   NaN  NaN        NaN         NaN    nc  \n",
       "...             ...          ...   ...  ...        ...         ...   ...  \n",
       "426875        clean        other   fwd  NaN      sedan         NaN    wy  \n",
       "426876        clean        other   fwd  NaN      sedan         red    wy  \n",
       "426877        clean        other   NaN  NaN  hatchback       white    wy  \n",
       "426878        clean        other   fwd  NaN      sedan      silver    wy  \n",
       "426879        clean        other   rwd  NaN      coupe         NaN    wy  \n",
       "\n",
       "[418703 rows x 17 columns]"
      ]
     },
     "execution_count": 343,
     "metadata": {},
     "output_type": "execute_result"
    }
   ],
   "source": [
    "# REMOVE OUTLIERS\n",
    "Q1 = np.percentile(veh['price'], 25,\n",
    "                   interpolation='midpoint')\n",
    "\n",
    "Q3 = np.percentile(veh['price'], 75,\n",
    "                   interpolation='midpoint')\n",
    "IQR = Q3 - Q1\n",
    "IQR\n",
    "\n",
    "upper = np.where(veh['price'] >= (Q3 + 1.5 * IQR))\n",
    "lower = np.where(veh['price'] <= (Q1 - 1.5 * IQR))\n",
    "\n",
    "veh.drop(upper[0], inplace=True)\n",
    "veh.drop(lower[0], inplace=True)\n",
    "veh"
   ]
  },
  {
   "cell_type": "markdown",
   "id": "ec6af739",
   "metadata": {},
   "source": [
    "### 3. Fill Empty Cells"
   ]
  },
  {
   "cell_type": "code",
   "execution_count": 344,
   "id": "4c5070d7",
   "metadata": {},
   "outputs": [],
   "source": [
    "veh[\"size\"].fillna( method ='ffill', inplace = True)\n",
    "veh[\"size\"].fillna( method ='bfill', inplace = True)\n",
    "\n",
    "veh[\"manufacturer\"].fillna( method ='ffill', inplace = True)\n",
    "veh[\"manufacturer\"].fillna( method ='bfill', inplace = True)\n",
    "\n",
    "veh[\"model\"].fillna( method ='ffill', inplace = True)\n",
    "veh[\"model\"].fillna( method ='bfill', inplace = True)\n",
    "\n",
    "veh[\"year\"].fillna( method ='ffill', inplace = True)\n",
    "veh[\"year\"].fillna( method ='bfill', inplace = True)\n",
    "\n",
    "veh[\"cylinders\"].fillna( method ='ffill', inplace = True)\n",
    "veh[\"cylinders\"].fillna( method ='bfill', inplace = True)\n",
    "\n",
    "veh[\"fuel\"].fillna( method ='ffill', inplace = True)\n",
    "veh[\"fuel\"].fillna( method ='bfill', inplace = True)\n",
    "\n",
    "veh[\"odometer\"].fillna( method ='ffill', inplace = True)\n",
    "veh[\"odometer\"].fillna( method ='bfill', inplace = True)\n",
    "\n",
    "veh[\"title_status\"].fillna( method ='ffill', inplace = True)\n",
    "veh[\"title_status\"].fillna( method ='bfill', inplace = True)\n",
    "\n",
    "veh[\"transmission\"].fillna( method ='ffill', inplace = True)\n",
    "veh[\"transmission\"].fillna( method ='bfill', inplace = True)\n",
    "\n",
    "veh[\"drive\"].fillna( method ='ffill', inplace = True)\n",
    "veh[\"drive\"].fillna( method ='bfill', inplace = True)\n",
    "\n",
    "veh[\"type\"].fillna( method ='ffill', inplace = True)\n",
    "veh[\"type\"].fillna( method ='bfill', inplace = True)\n",
    "\n",
    "veh[\"paint_color\"].fillna( method ='ffill', inplace = True)\n",
    "veh[\"paint_color\"].fillna( method ='bfill', inplace = True)\n",
    "\n",
    "veh[\"condition\"].fillna( method ='ffill', inplace = True)\n",
    "veh[\"condition\"].fillna( method ='bfill', inplace = True)"
   ]
  },
  {
   "cell_type": "markdown",
   "id": "d821420e",
   "metadata": {},
   "source": [
    "### 4. Replace Zeros on the price column with mean of the column"
   ]
  },
  {
   "cell_type": "code",
   "execution_count": 345,
   "id": "9bef012e",
   "metadata": {},
   "outputs": [],
   "source": [
    "# REPLACE ZEROs WITH THE MEAN OF THE PRICE COLUMN\n",
    "mean_price = int(pd.to_numeric(veh['price'].mean(skipna=True)))\n",
    "veh['price']=veh.price.mask(veh.price == 0,mean_price)"
   ]
  },
  {
   "cell_type": "code",
   "execution_count": 346,
   "id": "dc04ba2a",
   "metadata": {},
   "outputs": [
    {
     "name": "stdout",
     "output_type": "stream",
     "text": [
      "<class 'pandas.core.frame.DataFrame'>\n",
      "Int64Index: 418703 entries, 0 to 426879\n",
      "Data columns (total 17 columns):\n",
      " #   Column        Non-Null Count   Dtype  \n",
      "---  ------        --------------   -----  \n",
      " 0   id            418703 non-null  int64  \n",
      " 1   region        418703 non-null  object \n",
      " 2   price         418703 non-null  int64  \n",
      " 3   year          418703 non-null  float64\n",
      " 4   manufacturer  418703 non-null  object \n",
      " 5   model         418703 non-null  object \n",
      " 6   condition     418703 non-null  object \n",
      " 7   cylinders     418703 non-null  object \n",
      " 8   fuel          418703 non-null  object \n",
      " 9   odometer      418703 non-null  float64\n",
      " 10  title_status  418703 non-null  object \n",
      " 11  transmission  418703 non-null  object \n",
      " 12  drive         418703 non-null  object \n",
      " 13  size          418703 non-null  object \n",
      " 14  type          418703 non-null  object \n",
      " 15  paint_color   418703 non-null  object \n",
      " 16  state         418703 non-null  object \n",
      "dtypes: float64(2), int64(2), object(13)\n",
      "memory usage: 73.6+ MB\n"
     ]
    }
   ],
   "source": [
    "veh.info()"
   ]
  },
  {
   "cell_type": "code",
   "execution_count": 347,
   "id": "11791c1d",
   "metadata": {},
   "outputs": [
    {
     "data": {
      "text/html": [
       "<div>\n",
       "<style scoped>\n",
       "    .dataframe tbody tr th:only-of-type {\n",
       "        vertical-align: middle;\n",
       "    }\n",
       "\n",
       "    .dataframe tbody tr th {\n",
       "        vertical-align: top;\n",
       "    }\n",
       "\n",
       "    .dataframe thead th {\n",
       "        text-align: right;\n",
       "    }\n",
       "</style>\n",
       "<table border=\"1\" class=\"dataframe\">\n",
       "  <thead>\n",
       "    <tr style=\"text-align: right;\">\n",
       "      <th></th>\n",
       "      <th>id</th>\n",
       "      <th>price</th>\n",
       "      <th>year</th>\n",
       "      <th>odometer</th>\n",
       "    </tr>\n",
       "  </thead>\n",
       "  <tbody>\n",
       "    <tr>\n",
       "      <th>count</th>\n",
       "      <td>4.187030e+05</td>\n",
       "      <td>418703.000000</td>\n",
       "      <td>418703.000000</td>\n",
       "      <td>4.187030e+05</td>\n",
       "    </tr>\n",
       "    <tr>\n",
       "      <th>mean</th>\n",
       "      <td>7.311487e+09</td>\n",
       "      <td>17626.696398</td>\n",
       "      <td>2011.166665</td>\n",
       "      <td>9.910874e+04</td>\n",
       "    </tr>\n",
       "    <tr>\n",
       "      <th>std</th>\n",
       "      <td>4.474037e+06</td>\n",
       "      <td>12257.608376</td>\n",
       "      <td>9.370809</td>\n",
       "      <td>2.145711e+05</td>\n",
       "    </tr>\n",
       "    <tr>\n",
       "      <th>min</th>\n",
       "      <td>7.207408e+09</td>\n",
       "      <td>1.000000</td>\n",
       "      <td>1900.000000</td>\n",
       "      <td>0.000000e+00</td>\n",
       "    </tr>\n",
       "    <tr>\n",
       "      <th>25%</th>\n",
       "      <td>7.308147e+09</td>\n",
       "      <td>7700.000000</td>\n",
       "      <td>2008.000000</td>\n",
       "      <td>3.918050e+04</td>\n",
       "    </tr>\n",
       "    <tr>\n",
       "      <th>50%</th>\n",
       "      <td>7.312619e+09</td>\n",
       "      <td>16342.000000</td>\n",
       "      <td>2013.000000</td>\n",
       "      <td>8.712500e+04</td>\n",
       "    </tr>\n",
       "    <tr>\n",
       "      <th>75%</th>\n",
       "      <td>7.315253e+09</td>\n",
       "      <td>25590.000000</td>\n",
       "      <td>2017.000000</td>\n",
       "      <td>1.346365e+05</td>\n",
       "    </tr>\n",
       "    <tr>\n",
       "      <th>max</th>\n",
       "      <td>7.317101e+09</td>\n",
       "      <td>57341.000000</td>\n",
       "      <td>2022.000000</td>\n",
       "      <td>1.000000e+07</td>\n",
       "    </tr>\n",
       "  </tbody>\n",
       "</table>\n",
       "</div>"
      ],
      "text/plain": [
       "                 id          price           year      odometer\n",
       "count  4.187030e+05  418703.000000  418703.000000  4.187030e+05\n",
       "mean   7.311487e+09   17626.696398    2011.166665  9.910874e+04\n",
       "std    4.474037e+06   12257.608376       9.370809  2.145711e+05\n",
       "min    7.207408e+09       1.000000    1900.000000  0.000000e+00\n",
       "25%    7.308147e+09    7700.000000    2008.000000  3.918050e+04\n",
       "50%    7.312619e+09   16342.000000    2013.000000  8.712500e+04\n",
       "75%    7.315253e+09   25590.000000    2017.000000  1.346365e+05\n",
       "max    7.317101e+09   57341.000000    2022.000000  1.000000e+07"
      ]
     },
     "execution_count": 347,
     "metadata": {},
     "output_type": "execute_result"
    }
   ],
   "source": [
    "veh.describe()"
   ]
  },
  {
   "cell_type": "markdown",
   "id": "04ee2719",
   "metadata": {},
   "source": [
    "### 5. Create an encoded DataFrame and fill it with encoded columns"
   ]
  },
  {
   "cell_type": "code",
   "execution_count": 348,
   "id": "ef74d438",
   "metadata": {},
   "outputs": [],
   "source": [
    "veh_enc = veh"
   ]
  },
  {
   "cell_type": "code",
   "execution_count": 349,
   "id": "47c0fc7a",
   "metadata": {},
   "outputs": [
    {
     "data": {
      "text/html": [
       "<div>\n",
       "<style scoped>\n",
       "    .dataframe tbody tr th:only-of-type {\n",
       "        vertical-align: middle;\n",
       "    }\n",
       "\n",
       "    .dataframe tbody tr th {\n",
       "        vertical-align: top;\n",
       "    }\n",
       "\n",
       "    .dataframe thead th {\n",
       "        text-align: right;\n",
       "    }\n",
       "</style>\n",
       "<table border=\"1\" class=\"dataframe\">\n",
       "  <thead>\n",
       "    <tr style=\"text-align: right;\">\n",
       "      <th></th>\n",
       "      <th>id</th>\n",
       "      <th>region</th>\n",
       "      <th>price</th>\n",
       "      <th>year</th>\n",
       "      <th>manufacturer</th>\n",
       "      <th>model</th>\n",
       "      <th>condition</th>\n",
       "      <th>cylinders</th>\n",
       "      <th>fuel</th>\n",
       "      <th>odometer</th>\n",
       "      <th>title_status</th>\n",
       "      <th>transmission</th>\n",
       "      <th>drive</th>\n",
       "      <th>size</th>\n",
       "      <th>type</th>\n",
       "      <th>paint_color</th>\n",
       "      <th>state</th>\n",
       "    </tr>\n",
       "  </thead>\n",
       "  <tbody>\n",
       "    <tr>\n",
       "      <th>0</th>\n",
       "      <td>7222695916</td>\n",
       "      <td>prescott</td>\n",
       "      <td>6000</td>\n",
       "      <td>2014.0</td>\n",
       "      <td>gmc</td>\n",
       "      <td>sierra 1500 crew cab slt</td>\n",
       "      <td>good</td>\n",
       "      <td>8 cylinders</td>\n",
       "      <td>gas</td>\n",
       "      <td>57923.0</td>\n",
       "      <td>clean</td>\n",
       "      <td>other</td>\n",
       "      <td>rwd</td>\n",
       "      <td>full-size</td>\n",
       "      <td>pickup</td>\n",
       "      <td>white</td>\n",
       "      <td>az</td>\n",
       "    </tr>\n",
       "    <tr>\n",
       "      <th>1</th>\n",
       "      <td>7218891961</td>\n",
       "      <td>fayetteville</td>\n",
       "      <td>11900</td>\n",
       "      <td>2014.0</td>\n",
       "      <td>gmc</td>\n",
       "      <td>sierra 1500 crew cab slt</td>\n",
       "      <td>good</td>\n",
       "      <td>8 cylinders</td>\n",
       "      <td>gas</td>\n",
       "      <td>57923.0</td>\n",
       "      <td>clean</td>\n",
       "      <td>other</td>\n",
       "      <td>rwd</td>\n",
       "      <td>full-size</td>\n",
       "      <td>pickup</td>\n",
       "      <td>white</td>\n",
       "      <td>ar</td>\n",
       "    </tr>\n",
       "    <tr>\n",
       "      <th>2</th>\n",
       "      <td>7221797935</td>\n",
       "      <td>florida keys</td>\n",
       "      <td>21000</td>\n",
       "      <td>2014.0</td>\n",
       "      <td>gmc</td>\n",
       "      <td>sierra 1500 crew cab slt</td>\n",
       "      <td>good</td>\n",
       "      <td>8 cylinders</td>\n",
       "      <td>gas</td>\n",
       "      <td>57923.0</td>\n",
       "      <td>clean</td>\n",
       "      <td>other</td>\n",
       "      <td>rwd</td>\n",
       "      <td>full-size</td>\n",
       "      <td>pickup</td>\n",
       "      <td>white</td>\n",
       "      <td>fl</td>\n",
       "    </tr>\n",
       "  </tbody>\n",
       "</table>\n",
       "</div>"
      ],
      "text/plain": [
       "           id        region  price    year manufacturer  \\\n",
       "0  7222695916      prescott   6000  2014.0          gmc   \n",
       "1  7218891961  fayetteville  11900  2014.0          gmc   \n",
       "2  7221797935  florida keys  21000  2014.0          gmc   \n",
       "\n",
       "                      model condition    cylinders fuel  odometer  \\\n",
       "0  sierra 1500 crew cab slt      good  8 cylinders  gas   57923.0   \n",
       "1  sierra 1500 crew cab slt      good  8 cylinders  gas   57923.0   \n",
       "2  sierra 1500 crew cab slt      good  8 cylinders  gas   57923.0   \n",
       "\n",
       "  title_status transmission drive       size    type paint_color state  \n",
       "0        clean        other   rwd  full-size  pickup       white    az  \n",
       "1        clean        other   rwd  full-size  pickup       white    ar  \n",
       "2        clean        other   rwd  full-size  pickup       white    fl  "
      ]
     },
     "execution_count": 349,
     "metadata": {},
     "output_type": "execute_result"
    }
   ],
   "source": [
    "veh_enc.head(3)"
   ]
  },
  {
   "cell_type": "code",
   "execution_count": 350,
   "id": "82d61999",
   "metadata": {},
   "outputs": [
    {
     "data": {
      "text/html": [
       "<div>\n",
       "<style scoped>\n",
       "    .dataframe tbody tr th:only-of-type {\n",
       "        vertical-align: middle;\n",
       "    }\n",
       "\n",
       "    .dataframe tbody tr th {\n",
       "        vertical-align: top;\n",
       "    }\n",
       "\n",
       "    .dataframe thead th {\n",
       "        text-align: right;\n",
       "    }\n",
       "</style>\n",
       "<table border=\"1\" class=\"dataframe\">\n",
       "  <thead>\n",
       "    <tr style=\"text-align: right;\">\n",
       "      <th></th>\n",
       "      <th>id</th>\n",
       "      <th>region</th>\n",
       "      <th>price</th>\n",
       "      <th>year</th>\n",
       "      <th>manufacturer</th>\n",
       "      <th>model</th>\n",
       "      <th>condition</th>\n",
       "      <th>cylinders</th>\n",
       "      <th>fuel</th>\n",
       "      <th>odometer</th>\n",
       "      <th>title_status</th>\n",
       "      <th>transmission</th>\n",
       "      <th>drive</th>\n",
       "      <th>size</th>\n",
       "      <th>type</th>\n",
       "      <th>paint_color</th>\n",
       "      <th>state</th>\n",
       "    </tr>\n",
       "  </thead>\n",
       "  <tbody>\n",
       "    <tr>\n",
       "      <th>0</th>\n",
       "      <td>7222695916</td>\n",
       "      <td>277</td>\n",
       "      <td>6000</td>\n",
       "      <td>2014.0</td>\n",
       "      <td>14</td>\n",
       "      <td>23679</td>\n",
       "      <td>2</td>\n",
       "      <td>6</td>\n",
       "      <td>2</td>\n",
       "      <td>57923.0</td>\n",
       "      <td>0</td>\n",
       "      <td>2</td>\n",
       "      <td>2</td>\n",
       "      <td>1</td>\n",
       "      <td>8</td>\n",
       "      <td>10</td>\n",
       "      <td>3</td>\n",
       "    </tr>\n",
       "    <tr>\n",
       "      <th>1</th>\n",
       "      <td>7218891961</td>\n",
       "      <td>105</td>\n",
       "      <td>11900</td>\n",
       "      <td>2014.0</td>\n",
       "      <td>14</td>\n",
       "      <td>23679</td>\n",
       "      <td>2</td>\n",
       "      <td>6</td>\n",
       "      <td>2</td>\n",
       "      <td>57923.0</td>\n",
       "      <td>0</td>\n",
       "      <td>2</td>\n",
       "      <td>2</td>\n",
       "      <td>1</td>\n",
       "      <td>8</td>\n",
       "      <td>10</td>\n",
       "      <td>2</td>\n",
       "    </tr>\n",
       "    <tr>\n",
       "      <th>2</th>\n",
       "      <td>7221797935</td>\n",
       "      <td>111</td>\n",
       "      <td>21000</td>\n",
       "      <td>2014.0</td>\n",
       "      <td>14</td>\n",
       "      <td>23679</td>\n",
       "      <td>2</td>\n",
       "      <td>6</td>\n",
       "      <td>2</td>\n",
       "      <td>57923.0</td>\n",
       "      <td>0</td>\n",
       "      <td>2</td>\n",
       "      <td>2</td>\n",
       "      <td>1</td>\n",
       "      <td>8</td>\n",
       "      <td>10</td>\n",
       "      <td>9</td>\n",
       "    </tr>\n",
       "    <tr>\n",
       "      <th>3</th>\n",
       "      <td>7222270760</td>\n",
       "      <td>396</td>\n",
       "      <td>1500</td>\n",
       "      <td>2014.0</td>\n",
       "      <td>14</td>\n",
       "      <td>23679</td>\n",
       "      <td>2</td>\n",
       "      <td>6</td>\n",
       "      <td>2</td>\n",
       "      <td>57923.0</td>\n",
       "      <td>0</td>\n",
       "      <td>2</td>\n",
       "      <td>2</td>\n",
       "      <td>1</td>\n",
       "      <td>8</td>\n",
       "      <td>10</td>\n",
       "      <td>19</td>\n",
       "    </tr>\n",
       "    <tr>\n",
       "      <th>4</th>\n",
       "      <td>7210384030</td>\n",
       "      <td>131</td>\n",
       "      <td>4900</td>\n",
       "      <td>2014.0</td>\n",
       "      <td>14</td>\n",
       "      <td>23679</td>\n",
       "      <td>2</td>\n",
       "      <td>6</td>\n",
       "      <td>2</td>\n",
       "      <td>57923.0</td>\n",
       "      <td>0</td>\n",
       "      <td>2</td>\n",
       "      <td>2</td>\n",
       "      <td>1</td>\n",
       "      <td>8</td>\n",
       "      <td>10</td>\n",
       "      <td>27</td>\n",
       "    </tr>\n",
       "    <tr>\n",
       "      <th>...</th>\n",
       "      <td>...</td>\n",
       "      <td>...</td>\n",
       "      <td>...</td>\n",
       "      <td>...</td>\n",
       "      <td>...</td>\n",
       "      <td>...</td>\n",
       "      <td>...</td>\n",
       "      <td>...</td>\n",
       "      <td>...</td>\n",
       "      <td>...</td>\n",
       "      <td>...</td>\n",
       "      <td>...</td>\n",
       "      <td>...</td>\n",
       "      <td>...</td>\n",
       "      <td>...</td>\n",
       "      <td>...</td>\n",
       "      <td>...</td>\n",
       "    </tr>\n",
       "    <tr>\n",
       "      <th>426875</th>\n",
       "      <td>7301591192</td>\n",
       "      <td>397</td>\n",
       "      <td>23590</td>\n",
       "      <td>2019.0</td>\n",
       "      <td>31</td>\n",
       "      <td>19177</td>\n",
       "      <td>2</td>\n",
       "      <td>5</td>\n",
       "      <td>2</td>\n",
       "      <td>32226.0</td>\n",
       "      <td>0</td>\n",
       "      <td>2</td>\n",
       "      <td>1</td>\n",
       "      <td>1</td>\n",
       "      <td>9</td>\n",
       "      <td>10</td>\n",
       "      <td>50</td>\n",
       "    </tr>\n",
       "    <tr>\n",
       "      <th>426876</th>\n",
       "      <td>7301591187</td>\n",
       "      <td>397</td>\n",
       "      <td>30590</td>\n",
       "      <td>2020.0</td>\n",
       "      <td>41</td>\n",
       "      <td>22979</td>\n",
       "      <td>2</td>\n",
       "      <td>5</td>\n",
       "      <td>2</td>\n",
       "      <td>12029.0</td>\n",
       "      <td>0</td>\n",
       "      <td>2</td>\n",
       "      <td>1</td>\n",
       "      <td>1</td>\n",
       "      <td>9</td>\n",
       "      <td>8</td>\n",
       "      <td>50</td>\n",
       "    </tr>\n",
       "    <tr>\n",
       "      <th>426877</th>\n",
       "      <td>7301591147</td>\n",
       "      <td>397</td>\n",
       "      <td>34990</td>\n",
       "      <td>2020.0</td>\n",
       "      <td>6</td>\n",
       "      <td>28525</td>\n",
       "      <td>2</td>\n",
       "      <td>5</td>\n",
       "      <td>0</td>\n",
       "      <td>4174.0</td>\n",
       "      <td>0</td>\n",
       "      <td>2</td>\n",
       "      <td>1</td>\n",
       "      <td>1</td>\n",
       "      <td>4</td>\n",
       "      <td>10</td>\n",
       "      <td>50</td>\n",
       "    </tr>\n",
       "    <tr>\n",
       "      <th>426878</th>\n",
       "      <td>7301591140</td>\n",
       "      <td>397</td>\n",
       "      <td>28990</td>\n",
       "      <td>2018.0</td>\n",
       "      <td>23</td>\n",
       "      <td>13117</td>\n",
       "      <td>2</td>\n",
       "      <td>5</td>\n",
       "      <td>2</td>\n",
       "      <td>30112.0</td>\n",
       "      <td>0</td>\n",
       "      <td>2</td>\n",
       "      <td>1</td>\n",
       "      <td>1</td>\n",
       "      <td>9</td>\n",
       "      <td>9</td>\n",
       "      <td>50</td>\n",
       "    </tr>\n",
       "    <tr>\n",
       "      <th>426879</th>\n",
       "      <td>7301591129</td>\n",
       "      <td>397</td>\n",
       "      <td>30590</td>\n",
       "      <td>2019.0</td>\n",
       "      <td>4</td>\n",
       "      <td>2971</td>\n",
       "      <td>2</td>\n",
       "      <td>5</td>\n",
       "      <td>2</td>\n",
       "      <td>22716.0</td>\n",
       "      <td>0</td>\n",
       "      <td>2</td>\n",
       "      <td>2</td>\n",
       "      <td>1</td>\n",
       "      <td>3</td>\n",
       "      <td>9</td>\n",
       "      <td>50</td>\n",
       "    </tr>\n",
       "  </tbody>\n",
       "</table>\n",
       "<p>418703 rows × 17 columns</p>\n",
       "</div>"
      ],
      "text/plain": [
       "                id  region  price    year  manufacturer  model  condition  \\\n",
       "0       7222695916     277   6000  2014.0            14  23679          2   \n",
       "1       7218891961     105  11900  2014.0            14  23679          2   \n",
       "2       7221797935     111  21000  2014.0            14  23679          2   \n",
       "3       7222270760     396   1500  2014.0            14  23679          2   \n",
       "4       7210384030     131   4900  2014.0            14  23679          2   \n",
       "...            ...     ...    ...     ...           ...    ...        ...   \n",
       "426875  7301591192     397  23590  2019.0            31  19177          2   \n",
       "426876  7301591187     397  30590  2020.0            41  22979          2   \n",
       "426877  7301591147     397  34990  2020.0             6  28525          2   \n",
       "426878  7301591140     397  28990  2018.0            23  13117          2   \n",
       "426879  7301591129     397  30590  2019.0             4   2971          2   \n",
       "\n",
       "        cylinders  fuel  odometer  title_status  transmission  drive  size  \\\n",
       "0               6     2   57923.0             0             2      2     1   \n",
       "1               6     2   57923.0             0             2      2     1   \n",
       "2               6     2   57923.0             0             2      2     1   \n",
       "3               6     2   57923.0             0             2      2     1   \n",
       "4               6     2   57923.0             0             2      2     1   \n",
       "...           ...   ...       ...           ...           ...    ...   ...   \n",
       "426875          5     2   32226.0             0             2      1     1   \n",
       "426876          5     2   12029.0             0             2      1     1   \n",
       "426877          5     0    4174.0             0             2      1     1   \n",
       "426878          5     2   30112.0             0             2      1     1   \n",
       "426879          5     2   22716.0             0             2      2     1   \n",
       "\n",
       "        type  paint_color  state  \n",
       "0          8           10      3  \n",
       "1          8           10      2  \n",
       "2          8           10      9  \n",
       "3          8           10     19  \n",
       "4          8           10     27  \n",
       "...      ...          ...    ...  \n",
       "426875     9           10     50  \n",
       "426876     9            8     50  \n",
       "426877     4           10     50  \n",
       "426878     9            9     50  \n",
       "426879     3            9     50  \n",
       "\n",
       "[418703 rows x 17 columns]"
      ]
     },
     "execution_count": 350,
     "metadata": {},
     "output_type": "execute_result"
    }
   ],
   "source": [
    "veh_enc[\"size\"] = veh_enc[\"size\"].astype('category')\n",
    "veh_enc[\"size\"] = veh_enc[\"size\"].cat.codes\n",
    "\n",
    "veh_enc[\"manufacturer\"] = veh_enc[\"manufacturer\"].astype('category')\n",
    "veh_enc[\"manufacturer\"] = veh_enc[\"manufacturer\"].cat.codes\n",
    "\n",
    "veh_enc[\"model\"] = veh_enc[\"model\"].astype('category')\n",
    "veh_enc[\"model\"] = veh_enc[\"model\"].cat.codes\n",
    "\n",
    "veh_enc[\"condition\"] = veh_enc[\"condition\"].astype('category')\n",
    "veh_enc[\"condition\"] = veh_enc[\"condition\"].cat.codes\n",
    "\n",
    "veh_enc[\"cylinders\"] = veh_enc[\"cylinders\"].astype('category')\n",
    "veh_enc[\"cylinders\"] = veh_enc[\"cylinders\"].cat.codes\n",
    "\n",
    "veh_enc[\"fuel\"] = veh_enc[\"fuel\"].astype('category')\n",
    "veh_enc[\"fuel\"] = veh_enc[\"fuel\"].cat.codes\n",
    "\n",
    "veh_enc[\"title_status\"] = veh_enc[\"title_status\"].astype('category')\n",
    "veh_enc[\"title_status\"] = veh_enc[\"title_status\"].cat.codes\n",
    "\n",
    "veh_enc[\"transmission\"] = veh_enc[\"transmission\"].astype('category')\n",
    "veh_enc[\"transmission\"] = veh_enc[\"transmission\"].cat.codes\n",
    "\n",
    "veh_enc[\"drive\"] = veh_enc[\"drive\"].astype('category')\n",
    "veh_enc[\"drive\"] = veh_enc[\"drive\"].cat.codes\n",
    "\n",
    "veh_enc[\"type\"] = veh_enc[\"type\"].astype('category')\n",
    "veh_enc[\"type\"] = veh_enc[\"type\"].cat.codes\n",
    "\n",
    "veh_enc[\"paint_color\"] = veh_enc[\"paint_color\"].astype('category')\n",
    "veh_enc[\"paint_color\"] = veh_enc[\"paint_color\"].cat.codes\n",
    "\n",
    "veh_enc[\"state\"] = veh_enc[\"state\"].astype('category')\n",
    "veh_enc[\"state\"] = veh_enc[\"state\"].cat.codes\n",
    "\n",
    "veh_enc[\"region\"] = veh_enc[\"region\"].astype('category')\n",
    "veh_enc[\"region\"] = veh_enc[\"region\"].cat.codes\n",
    "veh_enc"
   ]
  },
  {
   "cell_type": "markdown",
   "id": "e28104db",
   "metadata": {},
   "source": [
    "### 6. Plot a Histogram of the encoded data"
   ]
  },
  {
   "cell_type": "code",
   "execution_count": 396,
   "id": "d7b9e820",
   "metadata": {},
   "outputs": [
    {
     "data": {
      "text/plain": [
       "array([[<AxesSubplot:title={'center':'region'}>,\n",
       "        <AxesSubplot:title={'center':'price'}>,\n",
       "        <AxesSubplot:title={'center':'year'}>,\n",
       "        <AxesSubplot:title={'center':'manufacturer'}>],\n",
       "       [<AxesSubplot:title={'center':'model'}>,\n",
       "        <AxesSubplot:title={'center':'condition'}>,\n",
       "        <AxesSubplot:title={'center':'cylinders'}>,\n",
       "        <AxesSubplot:title={'center':'fuel'}>],\n",
       "       [<AxesSubplot:title={'center':'odometer'}>,\n",
       "        <AxesSubplot:title={'center':'title_status'}>,\n",
       "        <AxesSubplot:title={'center':'transmission'}>,\n",
       "        <AxesSubplot:title={'center':'drive'}>],\n",
       "       [<AxesSubplot:title={'center':'size'}>,\n",
       "        <AxesSubplot:title={'center':'type'}>,\n",
       "        <AxesSubplot:title={'center':'paint_color'}>,\n",
       "        <AxesSubplot:title={'center':'state'}>]], dtype=object)"
      ]
     },
     "execution_count": 396,
     "metadata": {},
     "output_type": "execute_result"
    },
    {
     "data": {
      "image/png": "[encoded data removed]",
      "text/plain": [
       "<Figure size 1440x1080 with 16 Axes>"
      ]
     },
     "metadata": {
      "needs_background": "light"
     },
     "output_type": "display_data"
    }
   ],
   "source": [
    "veh_enc.hist(bins=50, figsize=(20,15))"
   ]
  },
  {
   "cell_type": "markdown",
   "id": "16d967bd",
   "metadata": {},
   "source": [
    "### 7. Correlations"
   ]
  },
  {
   "cell_type": "code",
   "execution_count": 352,
   "id": "6eb0abeb",
   "metadata": {},
   "outputs": [
    {
     "data": {
      "text/html": [
       "<div>\n",
       "<style scoped>\n",
       "    .dataframe tbody tr th:only-of-type {\n",
       "        vertical-align: middle;\n",
       "    }\n",
       "\n",
       "    .dataframe tbody tr th {\n",
       "        vertical-align: top;\n",
       "    }\n",
       "\n",
       "    .dataframe thead th {\n",
       "        text-align: right;\n",
       "    }\n",
       "</style>\n",
       "<table border=\"1\" class=\"dataframe\">\n",
       "  <thead>\n",
       "    <tr style=\"text-align: right;\">\n",
       "      <th></th>\n",
       "      <th>region</th>\n",
       "      <th>price</th>\n",
       "      <th>year</th>\n",
       "      <th>manufacturer</th>\n",
       "      <th>model</th>\n",
       "      <th>condition</th>\n",
       "      <th>cylinders</th>\n",
       "      <th>fuel</th>\n",
       "      <th>odometer</th>\n",
       "      <th>title_status</th>\n",
       "      <th>transmission</th>\n",
       "      <th>drive</th>\n",
       "      <th>size</th>\n",
       "      <th>type</th>\n",
       "      <th>paint_color</th>\n",
       "      <th>state</th>\n",
       "    </tr>\n",
       "  </thead>\n",
       "  <tbody>\n",
       "    <tr>\n",
       "      <th>region</th>\n",
       "      <td>1.000000</td>\n",
       "      <td>-0.020763</td>\n",
       "      <td>-0.004157</td>\n",
       "      <td>0.001649</td>\n",
       "      <td>-0.000126</td>\n",
       "      <td>-0.019182</td>\n",
       "      <td>-0.005632</td>\n",
       "      <td>-0.004121</td>\n",
       "      <td>-0.001220</td>\n",
       "      <td>-0.007775</td>\n",
       "      <td>-0.015365</td>\n",
       "      <td>0.010804</td>\n",
       "      <td>-0.015130</td>\n",
       "      <td>0.003995</td>\n",
       "      <td>-0.002052</td>\n",
       "      <td>-0.038317</td>\n",
       "    </tr>\n",
       "    <tr>\n",
       "      <th>price</th>\n",
       "      <td>-0.020763</td>\n",
       "      <td>1.000000</td>\n",
       "      <td>0.355200</td>\n",
       "      <td>-0.041442</td>\n",
       "      <td>0.026248</td>\n",
       "      <td>0.107373</td>\n",
       "      <td>0.199962</td>\n",
       "      <td>-0.005508</td>\n",
       "      <td>-0.162614</td>\n",
       "      <td>-0.089235</td>\n",
       "      <td>0.307236</td>\n",
       "      <td>-0.068789</td>\n",
       "      <td>-0.001453</td>\n",
       "      <td>0.039414</td>\n",
       "      <td>0.017881</td>\n",
       "      <td>0.010079</td>\n",
       "    </tr>\n",
       "    <tr>\n",
       "      <th>year</th>\n",
       "      <td>-0.004157</td>\n",
       "      <td>0.355200</td>\n",
       "      <td>1.000000</td>\n",
       "      <td>0.027750</td>\n",
       "      <td>0.052774</td>\n",
       "      <td>0.051114</td>\n",
       "      <td>-0.070556</td>\n",
       "      <td>0.107189</td>\n",
       "      <td>-0.155130</td>\n",
       "      <td>-0.018969</td>\n",
       "      <td>0.135693</td>\n",
       "      <td>-0.114218</td>\n",
       "      <td>0.001756</td>\n",
       "      <td>0.013457</td>\n",
       "      <td>0.007214</td>\n",
       "      <td>0.010456</td>\n",
       "    </tr>\n",
       "    <tr>\n",
       "      <th>manufacturer</th>\n",
       "      <td>0.001649</td>\n",
       "      <td>-0.041442</td>\n",
       "      <td>0.027750</td>\n",
       "      <td>1.000000</td>\n",
       "      <td>-0.018386</td>\n",
       "      <td>-0.020073</td>\n",
       "      <td>-0.122711</td>\n",
       "      <td>-0.025099</td>\n",
       "      <td>-0.000722</td>\n",
       "      <td>0.014021</td>\n",
       "      <td>-0.000205</td>\n",
       "      <td>-0.068355</td>\n",
       "      <td>-0.000655</td>\n",
       "      <td>0.038011</td>\n",
       "      <td>0.006123</td>\n",
       "      <td>-0.012771</td>\n",
       "    </tr>\n",
       "    <tr>\n",
       "      <th>model</th>\n",
       "      <td>-0.000126</td>\n",
       "      <td>0.026248</td>\n",
       "      <td>0.052774</td>\n",
       "      <td>-0.018386</td>\n",
       "      <td>1.000000</td>\n",
       "      <td>0.001235</td>\n",
       "      <td>0.038252</td>\n",
       "      <td>0.073056</td>\n",
       "      <td>-0.007928</td>\n",
       "      <td>-0.010276</td>\n",
       "      <td>0.012444</td>\n",
       "      <td>-0.098435</td>\n",
       "      <td>0.002927</td>\n",
       "      <td>-0.089162</td>\n",
       "      <td>0.009343</td>\n",
       "      <td>0.003504</td>\n",
       "    </tr>\n",
       "    <tr>\n",
       "      <th>condition</th>\n",
       "      <td>-0.019182</td>\n",
       "      <td>0.107373</td>\n",
       "      <td>0.051114</td>\n",
       "      <td>-0.020073</td>\n",
       "      <td>0.001235</td>\n",
       "      <td>1.000000</td>\n",
       "      <td>0.068600</td>\n",
       "      <td>0.094041</td>\n",
       "      <td>-0.023420</td>\n",
       "      <td>0.000879</td>\n",
       "      <td>0.231510</td>\n",
       "      <td>0.062349</td>\n",
       "      <td>-0.002753</td>\n",
       "      <td>0.033196</td>\n",
       "      <td>-0.005268</td>\n",
       "      <td>0.029656</td>\n",
       "    </tr>\n",
       "    <tr>\n",
       "      <th>cylinders</th>\n",
       "      <td>-0.005632</td>\n",
       "      <td>0.199962</td>\n",
       "      <td>-0.070556</td>\n",
       "      <td>-0.122711</td>\n",
       "      <td>0.038252</td>\n",
       "      <td>0.068600</td>\n",
       "      <td>1.000000</td>\n",
       "      <td>-0.028989</td>\n",
       "      <td>0.009578</td>\n",
       "      <td>-0.046369</td>\n",
       "      <td>0.098820</td>\n",
       "      <td>-0.013986</td>\n",
       "      <td>-0.006446</td>\n",
       "      <td>0.032865</td>\n",
       "      <td>0.019090</td>\n",
       "      <td>0.028747</td>\n",
       "    </tr>\n",
       "    <tr>\n",
       "      <th>fuel</th>\n",
       "      <td>-0.004121</td>\n",
       "      <td>-0.005508</td>\n",
       "      <td>0.107189</td>\n",
       "      <td>-0.025099</td>\n",
       "      <td>0.073056</td>\n",
       "      <td>0.094041</td>\n",
       "      <td>-0.028989</td>\n",
       "      <td>1.000000</td>\n",
       "      <td>-0.073469</td>\n",
       "      <td>-0.013124</td>\n",
       "      <td>0.262942</td>\n",
       "      <td>0.062470</td>\n",
       "      <td>0.010062</td>\n",
       "      <td>-0.059668</td>\n",
       "      <td>-0.040134</td>\n",
       "      <td>-0.027363</td>\n",
       "    </tr>\n",
       "    <tr>\n",
       "      <th>odometer</th>\n",
       "      <td>-0.001220</td>\n",
       "      <td>-0.162614</td>\n",
       "      <td>-0.155130</td>\n",
       "      <td>-0.000722</td>\n",
       "      <td>-0.007928</td>\n",
       "      <td>-0.023420</td>\n",
       "      <td>0.009578</td>\n",
       "      <td>-0.073469</td>\n",
       "      <td>1.000000</td>\n",
       "      <td>0.008947</td>\n",
       "      <td>-0.102936</td>\n",
       "      <td>-0.012854</td>\n",
       "      <td>-0.001977</td>\n",
       "      <td>0.005508</td>\n",
       "      <td>0.007102</td>\n",
       "      <td>-0.001064</td>\n",
       "    </tr>\n",
       "    <tr>\n",
       "      <th>title_status</th>\n",
       "      <td>-0.007775</td>\n",
       "      <td>-0.089235</td>\n",
       "      <td>-0.018969</td>\n",
       "      <td>0.014021</td>\n",
       "      <td>-0.010276</td>\n",
       "      <td>0.000879</td>\n",
       "      <td>-0.046369</td>\n",
       "      <td>-0.013124</td>\n",
       "      <td>0.008947</td>\n",
       "      <td>1.000000</td>\n",
       "      <td>-0.053997</td>\n",
       "      <td>0.002641</td>\n",
       "      <td>-0.002503</td>\n",
       "      <td>-0.002931</td>\n",
       "      <td>-0.007670</td>\n",
       "      <td>0.003890</td>\n",
       "    </tr>\n",
       "    <tr>\n",
       "      <th>transmission</th>\n",
       "      <td>-0.015365</td>\n",
       "      <td>0.307236</td>\n",
       "      <td>0.135693</td>\n",
       "      <td>-0.000205</td>\n",
       "      <td>0.012444</td>\n",
       "      <td>0.231510</td>\n",
       "      <td>0.098820</td>\n",
       "      <td>0.262942</td>\n",
       "      <td>-0.102936</td>\n",
       "      <td>-0.053997</td>\n",
       "      <td>1.000000</td>\n",
       "      <td>0.107652</td>\n",
       "      <td>-0.000431</td>\n",
       "      <td>0.033881</td>\n",
       "      <td>-0.007152</td>\n",
       "      <td>-0.007887</td>\n",
       "    </tr>\n",
       "    <tr>\n",
       "      <th>drive</th>\n",
       "      <td>0.010804</td>\n",
       "      <td>-0.068789</td>\n",
       "      <td>-0.114218</td>\n",
       "      <td>-0.068355</td>\n",
       "      <td>-0.098435</td>\n",
       "      <td>0.062349</td>\n",
       "      <td>-0.013986</td>\n",
       "      <td>0.062470</td>\n",
       "      <td>-0.012854</td>\n",
       "      <td>0.002641</td>\n",
       "      <td>0.107652</td>\n",
       "      <td>1.000000</td>\n",
       "      <td>-0.011842</td>\n",
       "      <td>0.094623</td>\n",
       "      <td>0.036863</td>\n",
       "      <td>-0.067077</td>\n",
       "    </tr>\n",
       "    <tr>\n",
       "      <th>size</th>\n",
       "      <td>-0.015130</td>\n",
       "      <td>-0.001453</td>\n",
       "      <td>0.001756</td>\n",
       "      <td>-0.000655</td>\n",
       "      <td>0.002927</td>\n",
       "      <td>-0.002753</td>\n",
       "      <td>-0.006446</td>\n",
       "      <td>0.010062</td>\n",
       "      <td>-0.001977</td>\n",
       "      <td>-0.002503</td>\n",
       "      <td>-0.000431</td>\n",
       "      <td>-0.011842</td>\n",
       "      <td>1.000000</td>\n",
       "      <td>-0.047762</td>\n",
       "      <td>-0.001331</td>\n",
       "      <td>0.022035</td>\n",
       "    </tr>\n",
       "    <tr>\n",
       "      <th>type</th>\n",
       "      <td>0.003995</td>\n",
       "      <td>0.039414</td>\n",
       "      <td>0.013457</td>\n",
       "      <td>0.038011</td>\n",
       "      <td>-0.089162</td>\n",
       "      <td>0.033196</td>\n",
       "      <td>0.032865</td>\n",
       "      <td>-0.059668</td>\n",
       "      <td>0.005508</td>\n",
       "      <td>-0.002931</td>\n",
       "      <td>0.033881</td>\n",
       "      <td>0.094623</td>\n",
       "      <td>-0.047762</td>\n",
       "      <td>1.000000</td>\n",
       "      <td>0.049892</td>\n",
       "      <td>-0.008451</td>\n",
       "    </tr>\n",
       "    <tr>\n",
       "      <th>paint_color</th>\n",
       "      <td>-0.002052</td>\n",
       "      <td>0.017881</td>\n",
       "      <td>0.007214</td>\n",
       "      <td>0.006123</td>\n",
       "      <td>0.009343</td>\n",
       "      <td>-0.005268</td>\n",
       "      <td>0.019090</td>\n",
       "      <td>-0.040134</td>\n",
       "      <td>0.007102</td>\n",
       "      <td>-0.007670</td>\n",
       "      <td>-0.007152</td>\n",
       "      <td>0.036863</td>\n",
       "      <td>-0.001331</td>\n",
       "      <td>0.049892</td>\n",
       "      <td>1.000000</td>\n",
       "      <td>-0.025092</td>\n",
       "    </tr>\n",
       "    <tr>\n",
       "      <th>state</th>\n",
       "      <td>-0.038317</td>\n",
       "      <td>0.010079</td>\n",
       "      <td>0.010456</td>\n",
       "      <td>-0.012771</td>\n",
       "      <td>0.003504</td>\n",
       "      <td>0.029656</td>\n",
       "      <td>0.028747</td>\n",
       "      <td>-0.027363</td>\n",
       "      <td>-0.001064</td>\n",
       "      <td>0.003890</td>\n",
       "      <td>-0.007887</td>\n",
       "      <td>-0.067077</td>\n",
       "      <td>0.022035</td>\n",
       "      <td>-0.008451</td>\n",
       "      <td>-0.025092</td>\n",
       "      <td>1.000000</td>\n",
       "    </tr>\n",
       "  </tbody>\n",
       "</table>\n",
       "</div>"
      ],
      "text/plain": [
       "                region     price      year  manufacturer     model  condition  \\\n",
       "region        1.000000 -0.020763 -0.004157      0.001649 -0.000126  -0.019182   \n",
       "price        -0.020763  1.000000  0.355200     -0.041442  0.026248   0.107373   \n",
       "year         -0.004157  0.355200  1.000000      0.027750  0.052774   0.051114   \n",
       "manufacturer  0.001649 -0.041442  0.027750      1.000000 -0.018386  -0.020073   \n",
       "model        -0.000126  0.026248  0.052774     -0.018386  1.000000   0.001235   \n",
       "condition    -0.019182  0.107373  0.051114     -0.020073  0.001235   1.000000   \n",
       "cylinders    -0.005632  0.199962 -0.070556     -0.122711  0.038252   0.068600   \n",
       "fuel         -0.004121 -0.005508  0.107189     -0.025099  0.073056   0.094041   \n",
       "odometer     -0.001220 -0.162614 -0.155130     -0.000722 -0.007928  -0.023420   \n",
       "title_status -0.007775 -0.089235 -0.018969      0.014021 -0.010276   0.000879   \n",
       "transmission -0.015365  0.307236  0.135693     -0.000205  0.012444   0.231510   \n",
       "drive         0.010804 -0.068789 -0.114218     -0.068355 -0.098435   0.062349   \n",
       "size         -0.015130 -0.001453  0.001756     -0.000655  0.002927  -0.002753   \n",
       "type          0.003995  0.039414  0.013457      0.038011 -0.089162   0.033196   \n",
       "paint_color  -0.002052  0.017881  0.007214      0.006123  0.009343  -0.005268   \n",
       "state        -0.038317  0.010079  0.010456     -0.012771  0.003504   0.029656   \n",
       "\n",
       "              cylinders      fuel  odometer  title_status  transmission  \\\n",
       "region        -0.005632 -0.004121 -0.001220     -0.007775     -0.015365   \n",
       "price          0.199962 -0.005508 -0.162614     -0.089235      0.307236   \n",
       "year          -0.070556  0.107189 -0.155130     -0.018969      0.135693   \n",
       "manufacturer  -0.122711 -0.025099 -0.000722      0.014021     -0.000205   \n",
       "model          0.038252  0.073056 -0.007928     -0.010276      0.012444   \n",
       "condition      0.068600  0.094041 -0.023420      0.000879      0.231510   \n",
       "cylinders      1.000000 -0.028989  0.009578     -0.046369      0.098820   \n",
       "fuel          -0.028989  1.000000 -0.073469     -0.013124      0.262942   \n",
       "odometer       0.009578 -0.073469  1.000000      0.008947     -0.102936   \n",
       "title_status  -0.046369 -0.013124  0.008947      1.000000     -0.053997   \n",
       "transmission   0.098820  0.262942 -0.102936     -0.053997      1.000000   \n",
       "drive         -0.013986  0.062470 -0.012854      0.002641      0.107652   \n",
       "size          -0.006446  0.010062 -0.001977     -0.002503     -0.000431   \n",
       "type           0.032865 -0.059668  0.005508     -0.002931      0.033881   \n",
       "paint_color    0.019090 -0.040134  0.007102     -0.007670     -0.007152   \n",
       "state          0.028747 -0.027363 -0.001064      0.003890     -0.007887   \n",
       "\n",
       "                 drive      size      type  paint_color     state  \n",
       "region        0.010804 -0.015130  0.003995    -0.002052 -0.038317  \n",
       "price        -0.068789 -0.001453  0.039414     0.017881  0.010079  \n",
       "year         -0.114218  0.001756  0.013457     0.007214  0.010456  \n",
       "manufacturer -0.068355 -0.000655  0.038011     0.006123 -0.012771  \n",
       "model        -0.098435  0.002927 -0.089162     0.009343  0.003504  \n",
       "condition     0.062349 -0.002753  0.033196    -0.005268  0.029656  \n",
       "cylinders    -0.013986 -0.006446  0.032865     0.019090  0.028747  \n",
       "fuel          0.062470  0.010062 -0.059668    -0.040134 -0.027363  \n",
       "odometer     -0.012854 -0.001977  0.005508     0.007102 -0.001064  \n",
       "title_status  0.002641 -0.002503 -0.002931    -0.007670  0.003890  \n",
       "transmission  0.107652 -0.000431  0.033881    -0.007152 -0.007887  \n",
       "drive         1.000000 -0.011842  0.094623     0.036863 -0.067077  \n",
       "size         -0.011842  1.000000 -0.047762    -0.001331  0.022035  \n",
       "type          0.094623 -0.047762  1.000000     0.049892 -0.008451  \n",
       "paint_color   0.036863 -0.001331  0.049892     1.000000 -0.025092  \n",
       "state        -0.067077  0.022035 -0.008451    -0.025092  1.000000  "
      ]
     },
     "execution_count": 352,
     "metadata": {},
     "output_type": "execute_result"
    }
   ],
   "source": [
    "veh_enc = veh_enc.set_index('id')\n",
    "corr_matrix = veh_enc.corr()\n",
    "corr_matrix"
   ]
  },
  {
   "cell_type": "code",
   "execution_count": 353,
   "id": "997d0a4b",
   "metadata": {},
   "outputs": [
    {
     "data": {
      "text/html": [
       "<div>\n",
       "<style scoped>\n",
       "    .dataframe tbody tr th:only-of-type {\n",
       "        vertical-align: middle;\n",
       "    }\n",
       "\n",
       "    .dataframe tbody tr th {\n",
       "        vertical-align: top;\n",
       "    }\n",
       "\n",
       "    .dataframe thead th {\n",
       "        text-align: right;\n",
       "    }\n",
       "</style>\n",
       "<table border=\"1\" class=\"dataframe\">\n",
       "  <thead>\n",
       "    <tr style=\"text-align: right;\">\n",
       "      <th></th>\n",
       "      <th>region</th>\n",
       "      <th>price</th>\n",
       "      <th>year</th>\n",
       "      <th>manufacturer</th>\n",
       "      <th>model</th>\n",
       "      <th>condition</th>\n",
       "      <th>cylinders</th>\n",
       "      <th>fuel</th>\n",
       "      <th>odometer</th>\n",
       "      <th>title_status</th>\n",
       "      <th>transmission</th>\n",
       "      <th>drive</th>\n",
       "      <th>size</th>\n",
       "      <th>type</th>\n",
       "      <th>paint_color</th>\n",
       "      <th>state</th>\n",
       "    </tr>\n",
       "    <tr>\n",
       "      <th>id</th>\n",
       "      <th></th>\n",
       "      <th></th>\n",
       "      <th></th>\n",
       "      <th></th>\n",
       "      <th></th>\n",
       "      <th></th>\n",
       "      <th></th>\n",
       "      <th></th>\n",
       "      <th></th>\n",
       "      <th></th>\n",
       "      <th></th>\n",
       "      <th></th>\n",
       "      <th></th>\n",
       "      <th></th>\n",
       "      <th></th>\n",
       "      <th></th>\n",
       "    </tr>\n",
       "  </thead>\n",
       "  <tbody>\n",
       "    <tr>\n",
       "      <th>7222695916</th>\n",
       "      <td>277</td>\n",
       "      <td>6000</td>\n",
       "      <td>2014.0</td>\n",
       "      <td>14</td>\n",
       "      <td>23679</td>\n",
       "      <td>2</td>\n",
       "      <td>6</td>\n",
       "      <td>2</td>\n",
       "      <td>57923.0</td>\n",
       "      <td>0</td>\n",
       "      <td>2</td>\n",
       "      <td>2</td>\n",
       "      <td>1</td>\n",
       "      <td>8</td>\n",
       "      <td>10</td>\n",
       "      <td>3</td>\n",
       "    </tr>\n",
       "    <tr>\n",
       "      <th>7218891961</th>\n",
       "      <td>105</td>\n",
       "      <td>11900</td>\n",
       "      <td>2014.0</td>\n",
       "      <td>14</td>\n",
       "      <td>23679</td>\n",
       "      <td>2</td>\n",
       "      <td>6</td>\n",
       "      <td>2</td>\n",
       "      <td>57923.0</td>\n",
       "      <td>0</td>\n",
       "      <td>2</td>\n",
       "      <td>2</td>\n",
       "      <td>1</td>\n",
       "      <td>8</td>\n",
       "      <td>10</td>\n",
       "      <td>2</td>\n",
       "    </tr>\n",
       "    <tr>\n",
       "      <th>7221797935</th>\n",
       "      <td>111</td>\n",
       "      <td>21000</td>\n",
       "      <td>2014.0</td>\n",
       "      <td>14</td>\n",
       "      <td>23679</td>\n",
       "      <td>2</td>\n",
       "      <td>6</td>\n",
       "      <td>2</td>\n",
       "      <td>57923.0</td>\n",
       "      <td>0</td>\n",
       "      <td>2</td>\n",
       "      <td>2</td>\n",
       "      <td>1</td>\n",
       "      <td>8</td>\n",
       "      <td>10</td>\n",
       "      <td>9</td>\n",
       "    </tr>\n",
       "  </tbody>\n",
       "</table>\n",
       "</div>"
      ],
      "text/plain": [
       "            region  price    year  manufacturer  model  condition  cylinders  \\\n",
       "id                                                                             \n",
       "7222695916     277   6000  2014.0            14  23679          2          6   \n",
       "7218891961     105  11900  2014.0            14  23679          2          6   \n",
       "7221797935     111  21000  2014.0            14  23679          2          6   \n",
       "\n",
       "            fuel  odometer  title_status  transmission  drive  size  type  \\\n",
       "id                                                                          \n",
       "7222695916     2   57923.0             0             2      2     1     8   \n",
       "7218891961     2   57923.0             0             2      2     1     8   \n",
       "7221797935     2   57923.0             0             2      2     1     8   \n",
       "\n",
       "            paint_color  state  \n",
       "id                              \n",
       "7222695916           10      3  \n",
       "7218891961           10      2  \n",
       "7221797935           10      9  "
      ]
     },
     "execution_count": 353,
     "metadata": {},
     "output_type": "execute_result"
    }
   ],
   "source": [
    "veh_enc.head(3)"
   ]
  },
  {
   "cell_type": "code",
   "execution_count": 354,
   "id": "06b45765",
   "metadata": {},
   "outputs": [
    {
     "data": {
      "text/plain": [
       "price           1.000000\n",
       "year            0.355200\n",
       "transmission    0.307236\n",
       "cylinders       0.199962\n",
       "condition       0.107373\n",
       "type            0.039414\n",
       "model           0.026248\n",
       "paint_color     0.017881\n",
       "state           0.010079\n",
       "size           -0.001453\n",
       "fuel           -0.005508\n",
       "region         -0.020763\n",
       "manufacturer   -0.041442\n",
       "drive          -0.068789\n",
       "title_status   -0.089235\n",
       "odometer       -0.162614\n",
       "Name: price, dtype: float64"
      ]
     },
     "execution_count": 354,
     "metadata": {},
     "output_type": "execute_result"
    }
   ],
   "source": [
    "corr_matrix['price'].sort_values(ascending=False)"
   ]
  },
  {
   "cell_type": "code",
   "execution_count": 397,
   "id": "366ffa8d",
   "metadata": {},
   "outputs": [
    {
     "data": {
      "image/png": "[encoded data removed]",
      "text/plain": [
       "<Figure size 864x576 with 16 Axes>"
      ]
     },
     "metadata": {
      "needs_background": "light"
     },
     "output_type": "display_data"
    }
   ],
   "source": [
    "from pandas.plotting import scatter_matrix\n",
    "attributes = ['price','year','transmission','odometer']\n",
    "scatter_matrix(veh_enc[attributes], figsize=(12,8))\n",
    "plt.show()"
   ]
  },
  {
   "cell_type": "code",
   "execution_count": 398,
   "id": "101dfdc9",
   "metadata": {},
   "outputs": [
    {
     "data": {
      "image/png": "[encoded data removed]",
      "text/plain": [
       "<Figure size 864x576 with 16 Axes>"
      ]
     },
     "metadata": {
      "needs_background": "light"
     },
     "output_type": "display_data"
    }
   ],
   "source": [
    "attributes2 = ['price','cylinders','condition','type']\n",
    "scatter_matrix(veh_enc[attributes2], figsize=(12,8))\n",
    "plt.show()"
   ]
  },
  {
   "cell_type": "code",
   "execution_count": 399,
   "id": "ee61a30b",
   "metadata": {},
   "outputs": [
    {
     "data": {
      "image/png": "[encoded data removed]",
      "text/plain": [
       "<Figure size 864x576 with 25 Axes>"
      ]
     },
     "metadata": {
      "needs_background": "light"
     },
     "output_type": "display_data"
    }
   ],
   "source": [
    "attributes3 = ['price','region','model','manufacturer','state']\n",
    "scatter_matrix(veh_enc[attributes3], figsize=(12,8))\n",
    "plt.show()"
   ]
  },
  {
   "cell_type": "code",
   "execution_count": 358,
   "id": "bdd97de7",
   "metadata": {},
   "outputs": [
    {
     "data": {
      "text/html": [
       "<div>\n",
       "<style scoped>\n",
       "    .dataframe tbody tr th:only-of-type {\n",
       "        vertical-align: middle;\n",
       "    }\n",
       "\n",
       "    .dataframe tbody tr th {\n",
       "        vertical-align: top;\n",
       "    }\n",
       "\n",
       "    .dataframe thead th {\n",
       "        text-align: right;\n",
       "    }\n",
       "</style>\n",
       "<table border=\"1\" class=\"dataframe\">\n",
       "  <thead>\n",
       "    <tr style=\"text-align: right;\">\n",
       "      <th></th>\n",
       "      <th>region</th>\n",
       "      <th>price</th>\n",
       "      <th>year</th>\n",
       "      <th>manufacturer</th>\n",
       "      <th>model</th>\n",
       "      <th>condition</th>\n",
       "      <th>cylinders</th>\n",
       "      <th>fuel</th>\n",
       "      <th>odometer</th>\n",
       "      <th>title_status</th>\n",
       "      <th>transmission</th>\n",
       "      <th>drive</th>\n",
       "      <th>size</th>\n",
       "      <th>type</th>\n",
       "      <th>paint_color</th>\n",
       "      <th>state</th>\n",
       "    </tr>\n",
       "    <tr>\n",
       "      <th>id</th>\n",
       "      <th></th>\n",
       "      <th></th>\n",
       "      <th></th>\n",
       "      <th></th>\n",
       "      <th></th>\n",
       "      <th></th>\n",
       "      <th></th>\n",
       "      <th></th>\n",
       "      <th></th>\n",
       "      <th></th>\n",
       "      <th></th>\n",
       "      <th></th>\n",
       "      <th></th>\n",
       "      <th></th>\n",
       "      <th></th>\n",
       "      <th></th>\n",
       "    </tr>\n",
       "  </thead>\n",
       "  <tbody>\n",
       "    <tr>\n",
       "      <th>7222695916</th>\n",
       "      <td>277</td>\n",
       "      <td>6000</td>\n",
       "      <td>2014.0</td>\n",
       "      <td>14</td>\n",
       "      <td>23679</td>\n",
       "      <td>2</td>\n",
       "      <td>6</td>\n",
       "      <td>2</td>\n",
       "      <td>57923.0</td>\n",
       "      <td>0</td>\n",
       "      <td>2</td>\n",
       "      <td>2</td>\n",
       "      <td>1</td>\n",
       "      <td>8</td>\n",
       "      <td>10</td>\n",
       "      <td>3</td>\n",
       "    </tr>\n",
       "    <tr>\n",
       "      <th>7218891961</th>\n",
       "      <td>105</td>\n",
       "      <td>11900</td>\n",
       "      <td>2014.0</td>\n",
       "      <td>14</td>\n",
       "      <td>23679</td>\n",
       "      <td>2</td>\n",
       "      <td>6</td>\n",
       "      <td>2</td>\n",
       "      <td>57923.0</td>\n",
       "      <td>0</td>\n",
       "      <td>2</td>\n",
       "      <td>2</td>\n",
       "      <td>1</td>\n",
       "      <td>8</td>\n",
       "      <td>10</td>\n",
       "      <td>2</td>\n",
       "    </tr>\n",
       "    <tr>\n",
       "      <th>7221797935</th>\n",
       "      <td>111</td>\n",
       "      <td>21000</td>\n",
       "      <td>2014.0</td>\n",
       "      <td>14</td>\n",
       "      <td>23679</td>\n",
       "      <td>2</td>\n",
       "      <td>6</td>\n",
       "      <td>2</td>\n",
       "      <td>57923.0</td>\n",
       "      <td>0</td>\n",
       "      <td>2</td>\n",
       "      <td>2</td>\n",
       "      <td>1</td>\n",
       "      <td>8</td>\n",
       "      <td>10</td>\n",
       "      <td>9</td>\n",
       "    </tr>\n",
       "    <tr>\n",
       "      <th>7222270760</th>\n",
       "      <td>396</td>\n",
       "      <td>1500</td>\n",
       "      <td>2014.0</td>\n",
       "      <td>14</td>\n",
       "      <td>23679</td>\n",
       "      <td>2</td>\n",
       "      <td>6</td>\n",
       "      <td>2</td>\n",
       "      <td>57923.0</td>\n",
       "      <td>0</td>\n",
       "      <td>2</td>\n",
       "      <td>2</td>\n",
       "      <td>1</td>\n",
       "      <td>8</td>\n",
       "      <td>10</td>\n",
       "      <td>19</td>\n",
       "    </tr>\n",
       "    <tr>\n",
       "      <th>7210384030</th>\n",
       "      <td>131</td>\n",
       "      <td>4900</td>\n",
       "      <td>2014.0</td>\n",
       "      <td>14</td>\n",
       "      <td>23679</td>\n",
       "      <td>2</td>\n",
       "      <td>6</td>\n",
       "      <td>2</td>\n",
       "      <td>57923.0</td>\n",
       "      <td>0</td>\n",
       "      <td>2</td>\n",
       "      <td>2</td>\n",
       "      <td>1</td>\n",
       "      <td>8</td>\n",
       "      <td>10</td>\n",
       "      <td>27</td>\n",
       "    </tr>\n",
       "  </tbody>\n",
       "</table>\n",
       "</div>"
      ],
      "text/plain": [
       "            region  price    year  manufacturer  model  condition  cylinders  \\\n",
       "id                                                                             \n",
       "7222695916     277   6000  2014.0            14  23679          2          6   \n",
       "7218891961     105  11900  2014.0            14  23679          2          6   \n",
       "7221797935     111  21000  2014.0            14  23679          2          6   \n",
       "7222270760     396   1500  2014.0            14  23679          2          6   \n",
       "7210384030     131   4900  2014.0            14  23679          2          6   \n",
       "\n",
       "            fuel  odometer  title_status  transmission  drive  size  type  \\\n",
       "id                                                                          \n",
       "7222695916     2   57923.0             0             2      2     1     8   \n",
       "7218891961     2   57923.0             0             2      2     1     8   \n",
       "7221797935     2   57923.0             0             2      2     1     8   \n",
       "7222270760     2   57923.0             0             2      2     1     8   \n",
       "7210384030     2   57923.0             0             2      2     1     8   \n",
       "\n",
       "            paint_color  state  \n",
       "id                              \n",
       "7222695916           10      3  \n",
       "7218891961           10      2  \n",
       "7221797935           10      9  \n",
       "7222270760           10     19  \n",
       "7210384030           10     27  "
      ]
     },
     "execution_count": 358,
     "metadata": {},
     "output_type": "execute_result"
    }
   ],
   "source": [
    "veh_enc.head()"
   ]
  },
  {
   "cell_type": "code",
   "execution_count": 359,
   "id": "854e64e5",
   "metadata": {},
   "outputs": [
    {
     "name": "stdout",
     "output_type": "stream",
     "text": [
      "<class 'pandas.core.frame.DataFrame'>\n",
      "Int64Index: 418703 entries, 7222695916 to 7301591129\n",
      "Data columns (total 16 columns):\n",
      " #   Column        Non-Null Count   Dtype  \n",
      "---  ------        --------------   -----  \n",
      " 0   region        418703 non-null  int16  \n",
      " 1   price         418703 non-null  int64  \n",
      " 2   year          418703 non-null  float64\n",
      " 3   manufacturer  418703 non-null  int8   \n",
      " 4   model         418703 non-null  int16  \n",
      " 5   condition     418703 non-null  int8   \n",
      " 6   cylinders     418703 non-null  int8   \n",
      " 7   fuel          418703 non-null  int8   \n",
      " 8   odometer      418703 non-null  float64\n",
      " 9   title_status  418703 non-null  int8   \n",
      " 10  transmission  418703 non-null  int8   \n",
      " 11  drive         418703 non-null  int8   \n",
      " 12  size          418703 non-null  int8   \n",
      " 13  type          418703 non-null  int8   \n",
      " 14  paint_color   418703 non-null  int8   \n",
      " 15  state         418703 non-null  int8   \n",
      "dtypes: float64(2), int16(2), int64(1), int8(11)\n",
      "memory usage: 18.8 MB\n"
     ]
    }
   ],
   "source": [
    "veh_enc.info()"
   ]
  },
  {
   "cell_type": "code",
   "execution_count": 360,
   "id": "9a23961c",
   "metadata": {},
   "outputs": [
    {
     "name": "stdout",
     "output_type": "stream",
     "text": [
      "<class 'pandas.core.frame.DataFrame'>\n",
      "Int64Index: 418703 entries, 7222695916 to 7301591129\n",
      "Data columns (total 16 columns):\n",
      " #   Column        Non-Null Count   Dtype  \n",
      "---  ------        --------------   -----  \n",
      " 0   region        418703 non-null  float64\n",
      " 1   price         418703 non-null  float64\n",
      " 2   year          418703 non-null  float64\n",
      " 3   manufacturer  418703 non-null  float64\n",
      " 4   model         418703 non-null  float64\n",
      " 5   condition     418703 non-null  float64\n",
      " 6   cylinders     418703 non-null  float64\n",
      " 7   fuel          418703 non-null  float64\n",
      " 8   odometer      418703 non-null  float64\n",
      " 9   title_status  418703 non-null  float64\n",
      " 10  transmission  418703 non-null  float64\n",
      " 11  drive         418703 non-null  float64\n",
      " 12  size          418703 non-null  float64\n",
      " 13  type          418703 non-null  float64\n",
      " 14  paint_color   418703 non-null  float64\n",
      " 15  state         418703 non-null  float64\n",
      "dtypes: float64(16)\n",
      "memory usage: 54.3 MB\n"
     ]
    }
   ],
   "source": [
    "X = veh_enc\n",
    "X = veh_enc.astype('float')\n",
    "X.info()"
   ]
  },
  {
   "cell_type": "markdown",
   "id": "06449157",
   "metadata": {},
   "source": [
    "### 8. Define the Modelling data"
   ]
  },
  {
   "cell_type": "code",
   "execution_count": 361,
   "id": "40409971",
   "metadata": {},
   "outputs": [],
   "source": [
    "X = veh_enc.drop(['price'], axis=1)\n",
    "y = veh_enc['price']"
   ]
  },
  {
   "cell_type": "markdown",
   "id": "479f7e21",
   "metadata": {},
   "source": [
    "### 9. Scale the X data"
   ]
  },
  {
   "cell_type": "code",
   "execution_count": 362,
   "id": "b37ce9b6",
   "metadata": {},
   "outputs": [],
   "source": [
    "X_scaled = StandardScaler().fit_transform(X)"
   ]
  },
  {
   "cell_type": "markdown",
   "id": "a1b8dcd7",
   "metadata": {},
   "source": [
    "### 10. Perform Principal Components Analysis on the X_scaled data for dimensionality reduction"
   ]
  },
  {
   "cell_type": "code",
   "execution_count": 363,
   "id": "9ed9b8be",
   "metadata": {},
   "outputs": [
    {
     "data": {
      "text/html": [
       "<div>\n",
       "<style scoped>\n",
       "    .dataframe tbody tr th:only-of-type {\n",
       "        vertical-align: middle;\n",
       "    }\n",
       "\n",
       "    .dataframe tbody tr th {\n",
       "        vertical-align: top;\n",
       "    }\n",
       "\n",
       "    .dataframe thead th {\n",
       "        text-align: right;\n",
       "    }\n",
       "</style>\n",
       "<table border=\"1\" class=\"dataframe\">\n",
       "  <thead>\n",
       "    <tr style=\"text-align: right;\">\n",
       "      <th></th>\n",
       "      <th>pca1</th>\n",
       "      <th>pca2</th>\n",
       "      <th>pca3</th>\n",
       "    </tr>\n",
       "  </thead>\n",
       "  <tbody>\n",
       "    <tr>\n",
       "      <th>0</th>\n",
       "      <td>-2.206057</td>\n",
       "      <td>1.689912</td>\n",
       "      <td>0.232341</td>\n",
       "    </tr>\n",
       "    <tr>\n",
       "      <th>1</th>\n",
       "      <td>-2.253306</td>\n",
       "      <td>1.695435</td>\n",
       "      <td>0.389991</td>\n",
       "    </tr>\n",
       "    <tr>\n",
       "      <th>2</th>\n",
       "      <td>-2.245370</td>\n",
       "      <td>1.641658</td>\n",
       "      <td>0.500729</td>\n",
       "    </tr>\n",
       "  </tbody>\n",
       "</table>\n",
       "</div>"
      ],
      "text/plain": [
       "       pca1      pca2      pca3\n",
       "0 -2.206057  1.689912  0.232341\n",
       "1 -2.253306  1.695435  0.389991\n",
       "2 -2.245370  1.641658  0.500729"
      ]
     },
     "execution_count": 363,
     "metadata": {},
     "output_type": "execute_result"
    }
   ],
   "source": [
    "pca = PCA(n_components=3)\n",
    "pca_comp = pca.fit_transform(X_scaled)\n",
    "\n",
    "X_pca = pd.DataFrame(data=pca_comp, columns=['pca1','pca2','pca3'])\n",
    "X_pca.head(3)"
   ]
  },
  {
   "cell_type": "markdown",
   "id": "b7c22a9a",
   "metadata": {},
   "source": [
    "### 11. The defined Modelling data"
   ]
  },
  {
   "cell_type": "code",
   "execution_count": 364,
   "id": "413e3964",
   "metadata": {},
   "outputs": [
    {
     "data": {
      "text/plain": [
       "id\n",
       "7222695916     6000\n",
       "7218891961    11900\n",
       "7221797935    21000\n",
       "7222270760     1500\n",
       "7210384030     4900\n",
       "              ...  \n",
       "7301591192    23590\n",
       "7301591187    30590\n",
       "7301591147    34990\n",
       "7301591140    28990\n",
       "7301591129    30590\n",
       "Name: price, Length: 418703, dtype: int64"
      ]
     },
     "execution_count": 364,
     "metadata": {},
     "output_type": "execute_result"
    }
   ],
   "source": [
    "X = X_pca\n",
    "y = y\n",
    "y"
   ]
  },
  {
   "cell_type": "code",
   "execution_count": 365,
   "id": "e0debb73",
   "metadata": {},
   "outputs": [],
   "source": [
    "#np.log1p\n",
    "X_train, X_test, y_train, y_test = train_test_split(X, y, test_size = 0.3, random_state = 42)"
   ]
  },
  {
   "cell_type": "code",
   "execution_count": 366,
   "id": "91c2730f",
   "metadata": {},
   "outputs": [
    {
     "data": {
      "text/html": [
       "<div>\n",
       "<style scoped>\n",
       "    .dataframe tbody tr th:only-of-type {\n",
       "        vertical-align: middle;\n",
       "    }\n",
       "\n",
       "    .dataframe tbody tr th {\n",
       "        vertical-align: top;\n",
       "    }\n",
       "\n",
       "    .dataframe thead th {\n",
       "        text-align: right;\n",
       "    }\n",
       "</style>\n",
       "<table border=\"1\" class=\"dataframe\">\n",
       "  <thead>\n",
       "    <tr style=\"text-align: right;\">\n",
       "      <th></th>\n",
       "      <th>pca1</th>\n",
       "      <th>pca2</th>\n",
       "      <th>pca3</th>\n",
       "    </tr>\n",
       "  </thead>\n",
       "  <tbody>\n",
       "    <tr>\n",
       "      <th>303096</th>\n",
       "      <td>0.010361</td>\n",
       "      <td>0.446660</td>\n",
       "      <td>0.516479</td>\n",
       "    </tr>\n",
       "    <tr>\n",
       "      <th>329039</th>\n",
       "      <td>1.250850</td>\n",
       "      <td>-0.352953</td>\n",
       "      <td>-1.069014</td>\n",
       "    </tr>\n",
       "    <tr>\n",
       "      <th>362032</th>\n",
       "      <td>-0.039160</td>\n",
       "      <td>-1.163367</td>\n",
       "      <td>0.918600</td>\n",
       "    </tr>\n",
       "  </tbody>\n",
       "</table>\n",
       "</div>"
      ],
      "text/plain": [
       "            pca1      pca2      pca3\n",
       "303096  0.010361  0.446660  0.516479\n",
       "329039  1.250850 -0.352953 -1.069014\n",
       "362032 -0.039160 -1.163367  0.918600"
      ]
     },
     "execution_count": 366,
     "metadata": {},
     "output_type": "execute_result"
    }
   ],
   "source": [
    "X_train.head(3)"
   ]
  },
  {
   "cell_type": "code",
   "execution_count": 367,
   "id": "d7b0b9b8",
   "metadata": {},
   "outputs": [
    {
     "data": {
      "text/html": [
       "<div>\n",
       "<style scoped>\n",
       "    .dataframe tbody tr th:only-of-type {\n",
       "        vertical-align: middle;\n",
       "    }\n",
       "\n",
       "    .dataframe tbody tr th {\n",
       "        vertical-align: top;\n",
       "    }\n",
       "\n",
       "    .dataframe thead th {\n",
       "        text-align: right;\n",
       "    }\n",
       "</style>\n",
       "<table border=\"1\" class=\"dataframe\">\n",
       "  <thead>\n",
       "    <tr style=\"text-align: right;\">\n",
       "      <th></th>\n",
       "      <th>pca1</th>\n",
       "      <th>pca2</th>\n",
       "      <th>pca3</th>\n",
       "    </tr>\n",
       "  </thead>\n",
       "  <tbody>\n",
       "    <tr>\n",
       "      <th>32615</th>\n",
       "      <td>-0.070375</td>\n",
       "      <td>0.487029</td>\n",
       "      <td>0.140003</td>\n",
       "    </tr>\n",
       "  </tbody>\n",
       "</table>\n",
       "</div>"
      ],
      "text/plain": [
       "           pca1      pca2      pca3\n",
       "32615 -0.070375  0.487029  0.140003"
      ]
     },
     "execution_count": 367,
     "metadata": {},
     "output_type": "execute_result"
    }
   ],
   "source": [
    "X_test.head(1)"
   ]
  },
  {
   "cell_type": "markdown",
   "id": "c2d52b2b",
   "metadata": {},
   "source": [
    "### Plain Linear Regression"
   ]
  },
  {
   "cell_type": "code",
   "execution_count": 368,
   "id": "36833654",
   "metadata": {},
   "outputs": [
    {
     "data": {
      "text/plain": [
       "Pipeline(steps=[('linreg', LinearRegression())])"
      ]
     },
     "execution_count": 368,
     "metadata": {},
     "output_type": "execute_result"
    }
   ],
   "source": [
    "linreg = Pipeline([('linreg', LinearRegression())])\n",
    "linreg.fit(X_train, y_train)"
   ]
  },
  {
   "cell_type": "markdown",
   "id": "e0dc4f4c",
   "metadata": {},
   "source": [
    "#### Predict the test results"
   ]
  },
  {
   "cell_type": "code",
   "execution_count": 369,
   "id": "4f9d40a0",
   "metadata": {},
   "outputs": [
    {
     "name": "stdout",
     "output_type": "stream",
     "text": [
      "17614.27424494698\n",
      "17637.10072055576\n"
     ]
    }
   ],
   "source": [
    "y_train_pred = linreg.predict(X_train)\n",
    "y_test_pred = linreg.predict(X_test)\n",
    "\n",
    "print(y_train_pred.mean())\n",
    "print(y_test_pred.mean())"
   ]
  },
  {
   "cell_type": "code",
   "execution_count": 370,
   "id": "c1bf62a8",
   "metadata": {},
   "outputs": [
    {
     "data": {
      "text/plain": [
       "array([17314.04119978])"
      ]
     },
     "execution_count": 370,
     "metadata": {},
     "output_type": "execute_result"
    }
   ],
   "source": [
    "train_pred_first = linreg.predict([[-0.005875,0.451736,0.494672]])\n",
    "train_pred_first"
   ]
  },
  {
   "cell_type": "code",
   "execution_count": 371,
   "id": "e5907ba2",
   "metadata": {},
   "outputs": [
    {
     "data": {
      "text/plain": [
       "array([17424.97518874])"
      ]
     },
     "execution_count": 371,
     "metadata": {},
     "output_type": "execute_result"
    }
   ],
   "source": [
    "test_pred_first = linreg.predict([[-0.064166,0.411703,0.110537]])\n",
    "test_pred_first"
   ]
  },
  {
   "cell_type": "markdown",
   "id": "f3d2f479",
   "metadata": {},
   "source": [
    "### **Sequential Feature Selector with Linear Regression Model**"
   ]
  },
  {
   "cell_type": "code",
   "execution_count": 372,
   "id": "434babb6",
   "metadata": {},
   "outputs": [],
   "source": [
    "X_train, X_test, y_train, y_test = train_test_split(X, y, test_size=0.3, random_state=42)"
   ]
  },
  {
   "cell_type": "code",
   "execution_count": 373,
   "id": "f641659e",
   "metadata": {},
   "outputs": [],
   "source": [
    "poly_features = PolynomialFeatures(degree = 3, include_bias=False)"
   ]
  },
  {
   "cell_type": "code",
   "execution_count": 374,
   "id": "dc674868",
   "metadata": {},
   "outputs": [],
   "source": [
    "X_train_poly = poly_features.fit_transform(X_train)\n",
    "X_test_poly = poly_features.fit_transform(X_test)"
   ]
  },
  {
   "cell_type": "code",
   "execution_count": 375,
   "id": "986dbd7f",
   "metadata": {},
   "outputs": [],
   "source": [
    "columns = poly_features.get_feature_names()"
   ]
  },
  {
   "cell_type": "code",
   "execution_count": 376,
   "id": "9d260ead",
   "metadata": {},
   "outputs": [],
   "source": [
    "train_df = pd.DataFrame(X_train_poly, columns=columns)\n",
    "test_df = pd.DataFrame(X_test_poly, columns = columns)"
   ]
  },
  {
   "cell_type": "code",
   "execution_count": 377,
   "id": "8714d19d",
   "metadata": {},
   "outputs": [],
   "source": [
    "selector = SequentialFeatureSelector(LinearRegression(), n_features_to_select=3)"
   ]
  },
  {
   "cell_type": "code",
   "execution_count": 378,
   "id": "a30214c0",
   "metadata": {},
   "outputs": [
    {
     "data": {
      "text/plain": [
       "Pipeline(steps=[('column_selector',\n",
       "                 SequentialFeatureSelector(estimator=LinearRegression(),\n",
       "                                           n_features_to_select=3)),\n",
       "                ('linreg', LinearRegression())])"
      ]
     },
     "execution_count": 378,
     "metadata": {},
     "output_type": "execute_result"
    }
   ],
   "source": [
    "pipe = Pipeline([('column_selector', selector),\n",
    "                ('linreg', LinearRegression())])\n",
    "pipe.fit(train_df, y_train)"
   ]
  },
  {
   "cell_type": "code",
   "execution_count": 379,
   "id": "d1c27cc5",
   "metadata": {},
   "outputs": [
    {
     "name": "stdout",
     "output_type": "stream",
     "text": [
      "17614.27424494698\n",
      "17639.483461054617\n"
     ]
    }
   ],
   "source": [
    "pipe_train_pred = pipe.predict(train_df)\n",
    "pipe_test_pred = pipe.predict(test_df)\n",
    "\n",
    "print(pipe_train_pred.mean())\n",
    "print(pipe_test_pred.mean())"
   ]
  },
  {
   "cell_type": "markdown",
   "id": "22d9b50a",
   "metadata": {},
   "source": [
    "## Evaluation"
   ]
  },
  {
   "cell_type": "markdown",
   "id": "fd1750c2",
   "metadata": {},
   "source": [
    "#### 1. Plain Linear Regression Evaluation"
   ]
  },
  {
   "cell_type": "code",
   "execution_count": 380,
   "id": "e30c01be",
   "metadata": {},
   "outputs": [
    {
     "name": "stdout",
     "output_type": "stream",
     "text": [
      "r2score: 0.11948910138543545\n",
      " \n",
      "Train RMSE: 11511.695918889778\n",
      "Test RMSE: 11493.262282114027\n",
      " \n",
      "Mean Train Prediction: 17614.27424494698\n",
      "Mean Test Prediction: 17637.10072055576\n"
     ]
    }
   ],
   "source": [
    "from sklearn.metrics import r2_score\n",
    "r2score_linreg = r2_score(y_test, y_test_pred)\n",
    "\n",
    "linreg_train_mse = mean_squared_error(y_train, y_train_pred)\n",
    "linreg_test_mse = mean_squared_error(y_test, y_test_pred)\n",
    "\n",
    "linreg_train_rmse = np.sqrt(linreg_train_mse)\n",
    "linreg_test_rmse = np.sqrt(linreg_test_mse)\n",
    "\n",
    "linreg_mean_train_pred = np.mean(y_train_pred)\n",
    "linreg_mean_test_pred = np.mean(y_test_pred)\n",
    "\n",
    "\n",
    "print(\"r2score:\", r2score_linreg)\n",
    "print(\" \")\n",
    "print(\"Train RMSE:\", linreg_train_rmse)\n",
    "print(\"Test RMSE:\", linreg_test_rmse)\n",
    "print(\" \")\n",
    "print(\"Mean Train Prediction:\", linreg_mean_train_pred)\n",
    "print(\"Mean Test Prediction:\", linreg_mean_test_pred)"
   ]
  },
  {
   "cell_type": "markdown",
   "id": "0ebc8631",
   "metadata": {},
   "source": [
    "#### >>Plot the results <<"
   ]
  },
  {
   "cell_type": "code",
   "execution_count": 381,
   "id": "735010f8",
   "metadata": {},
   "outputs": [
    {
     "data": {
      "text/html": [
       "<div>\n",
       "<style scoped>\n",
       "    .dataframe tbody tr th:only-of-type {\n",
       "        vertical-align: middle;\n",
       "    }\n",
       "\n",
       "    .dataframe tbody tr th {\n",
       "        vertical-align: top;\n",
       "    }\n",
       "\n",
       "    .dataframe thead th {\n",
       "        text-align: right;\n",
       "    }\n",
       "</style>\n",
       "<table border=\"1\" class=\"dataframe\">\n",
       "  <thead>\n",
       "    <tr style=\"text-align: right;\">\n",
       "      <th></th>\n",
       "      <th>Actual Value</th>\n",
       "      <th>Predicted value</th>\n",
       "      <th>Difference</th>\n",
       "    </tr>\n",
       "    <tr>\n",
       "      <th>id</th>\n",
       "      <th></th>\n",
       "      <th></th>\n",
       "      <th></th>\n",
       "    </tr>\n",
       "  </thead>\n",
       "  <tbody>\n",
       "    <tr>\n",
       "      <th>7316548741</th>\n",
       "      <td>4999</td>\n",
       "      <td>17374.074871</td>\n",
       "      <td>-12375.074871</td>\n",
       "    </tr>\n",
       "    <tr>\n",
       "      <th>7311144829</th>\n",
       "      <td>37614</td>\n",
       "      <td>16615.590626</td>\n",
       "      <td>20998.409374</td>\n",
       "    </tr>\n",
       "    <tr>\n",
       "      <th>7308183160</th>\n",
       "      <td>16342</td>\n",
       "      <td>20933.876491</td>\n",
       "      <td>-4591.876491</td>\n",
       "    </tr>\n",
       "    <tr>\n",
       "      <th>7306608008</th>\n",
       "      <td>14950</td>\n",
       "      <td>16737.367108</td>\n",
       "      <td>-1787.367108</td>\n",
       "    </tr>\n",
       "  </tbody>\n",
       "</table>\n",
       "</div>"
      ],
      "text/plain": [
       "            Actual Value  Predicted value    Difference\n",
       "id                                                     \n",
       "7316548741          4999     17374.074871 -12375.074871\n",
       "7311144829         37614     16615.590626  20998.409374\n",
       "7308183160         16342     20933.876491  -4591.876491\n",
       "7306608008         14950     16737.367108  -1787.367108"
      ]
     },
     "execution_count": 381,
     "metadata": {},
     "output_type": "execute_result"
    }
   ],
   "source": [
    "pred_y_linreg = pd.DataFrame({'Actual Value':y_test,'Predicted value':y_test_pred, 'Difference':y_test-y_test_pred})\n",
    "pred_y_linreg[:4]"
   ]
  },
  {
   "cell_type": "code",
   "execution_count": 382,
   "id": "f0e631da",
   "metadata": {},
   "outputs": [
    {
     "data": {
      "text/plain": [
       "Text(0.5, 1.0, 'Actual vs Predicted')"
      ]
     },
     "execution_count": 382,
     "metadata": {},
     "output_type": "execute_result"
    },
    {
     "data": {
      "image/png": "[encoded data removed]",
      "text/plain": [
       "<Figure size 720x432 with 1 Axes>"
      ]
     },
     "metadata": {
      "needs_background": "light"
     },
     "output_type": "display_data"
    }
   ],
   "source": [
    "plt.figure(figsize=(10,6))\n",
    "plt.scatter(y_test, y_test_pred)\n",
    "plt.xlabel('Actual')\n",
    "plt.ylabel('Predicted')\n",
    "plt.title('Actual vs Predicted')"
   ]
  },
  {
   "cell_type": "code",
   "execution_count": 383,
   "id": "5b7a5cc4",
   "metadata": {},
   "outputs": [
    {
     "data": {
      "text/plain": [
       "{'memory': None,\n",
       " 'steps': [('linreg', LinearRegression())],\n",
       " 'verbose': False,\n",
       " 'linreg': LinearRegression(),\n",
       " 'linreg__copy_X': True,\n",
       " 'linreg__fit_intercept': True,\n",
       " 'linreg__n_jobs': None,\n",
       " 'linreg__normalize': False,\n",
       " 'linreg__positive': False}"
      ]
     },
     "execution_count": 383,
     "metadata": {},
     "output_type": "execute_result"
    }
   ],
   "source": [
    "linreg.get_params()"
   ]
  },
  {
   "cell_type": "code",
   "execution_count": 384,
   "id": "d93404ce",
   "metadata": {},
   "outputs": [],
   "source": [
    "param_grid = {'linreg__fit_intercept':[True,False],\n",
    "              'linreg__copy_X': [True, False], \n",
    "              'linreg__n_jobs': [None]}"
   ]
  },
  {
   "cell_type": "code",
   "execution_count": 385,
   "id": "72e14fe9",
   "metadata": {},
   "outputs": [
    {
     "data": {
      "text/plain": [
       "GridSearchCV(estimator=Pipeline(steps=[('linreg', LinearRegression())]),\n",
       "             param_grid={'linreg__copy_X': [True, False],\n",
       "                         'linreg__fit_intercept': [True, False],\n",
       "                         'linreg__n_jobs': [None]})"
      ]
     },
     "execution_count": 385,
     "metadata": {},
     "output_type": "execute_result"
    }
   ],
   "source": [
    "grid = GridSearchCV(linreg, param_grid, cv=None)\n",
    "grid.fit(X_train,y_train)"
   ]
  },
  {
   "cell_type": "code",
   "execution_count": 386,
   "id": "01b76de6",
   "metadata": {},
   "outputs": [
    {
     "data": {
      "text/plain": [
       "{'mean_fit_time': array([0.1018681 , 0.08198996, 0.08390183, 0.07396493]),\n",
       " 'std_fit_time': array([0.01700435, 0.0111858 , 0.01392011, 0.01283297]),\n",
       " 'mean_score_time': array([0.00624809, 0.00905137, 0.00815659, 0.01197596]),\n",
       " 'std_score_time': array([0.00765232, 0.00741352, 0.00702397, 0.00607213]),\n",
       " 'param_linreg__copy_X': masked_array(data=[True, True, False, False],\n",
       "              mask=[False, False, False, False],\n",
       "        fill_value='?',\n",
       "             dtype=object),\n",
       " 'param_linreg__fit_intercept': masked_array(data=[True, False, True, False],\n",
       "              mask=[False, False, False, False],\n",
       "        fill_value='?',\n",
       "             dtype=object),\n",
       " 'param_linreg__n_jobs': masked_array(data=[None, None, None, None],\n",
       "              mask=[False, False, False, False],\n",
       "        fill_value='?',\n",
       "             dtype=object),\n",
       " 'params': [{'linreg__copy_X': True,\n",
       "   'linreg__fit_intercept': True,\n",
       "   'linreg__n_jobs': None},\n",
       "  {'linreg__copy_X': True,\n",
       "   'linreg__fit_intercept': False,\n",
       "   'linreg__n_jobs': None},\n",
       "  {'linreg__copy_X': False,\n",
       "   'linreg__fit_intercept': True,\n",
       "   'linreg__n_jobs': None},\n",
       "  {'linreg__copy_X': False,\n",
       "   'linreg__fit_intercept': False,\n",
       "   'linreg__n_jobs': None}],\n",
       " 'split0_test_score': array([ 0.11879212, -1.95849561,  0.11879212, -1.95849561]),\n",
       " 'split1_test_score': array([ 0.11629324, -1.94814244,  0.11629324, -1.94814244]),\n",
       " 'split2_test_score': array([ 0.11914015, -1.92580527,  0.11914015, -1.92580527]),\n",
       " 'split3_test_score': array([ 0.11959849, -1.95655716,  0.11959849, -1.95655716]),\n",
       " 'split4_test_score': array([ 0.11887594, -1.94520332,  0.11887594, -1.94520332]),\n",
       " 'mean_test_score': array([ 0.11853999, -1.94684076,  0.11853999, -1.94684076]),\n",
       " 'std_test_score': array([0.00115801, 0.01163711, 0.00115801, 0.01163711]),\n",
       " 'rank_test_score': array([1, 3, 1, 3])}"
      ]
     },
     "execution_count": 386,
     "metadata": {},
     "output_type": "execute_result"
    }
   ],
   "source": [
    "grid.cv_results_"
   ]
  },
  {
   "cell_type": "code",
   "execution_count": 387,
   "id": "cae4fe6d",
   "metadata": {},
   "outputs": [
    {
     "data": {
      "text/plain": [
       "0.1185399882817274"
      ]
     },
     "execution_count": 387,
     "metadata": {},
     "output_type": "execute_result"
    }
   ],
   "source": [
    "grid.best_score_"
   ]
  },
  {
   "cell_type": "markdown",
   "id": "4e1fd795",
   "metadata": {},
   "source": [
    "#### 2. Sequential Feature Selection with Linear Regression Evaluation"
   ]
  },
  {
   "cell_type": "code",
   "execution_count": 388,
   "id": "06947945",
   "metadata": {},
   "outputs": [
    {
     "name": "stdout",
     "output_type": "stream",
     "text": [
      "r2score: 0.14160453165773468\n",
      " \n",
      "Train RMSE: 11363.489631670274\n",
      "Test RMSE: 11348.008641036007\n",
      " \n",
      "Mean Train Prediction: 17614.27424494698\n",
      "Mean Test Prediction: 17639.483461054617\n"
     ]
    }
   ],
   "source": [
    "r2score = r2_score(y_test, pipe_test_pred)\n",
    "pipe_train_mse = mean_squared_error(y_train, pipe_train_pred)\n",
    "pipe_train_rmse = np.sqrt(pipe_train_mse)\n",
    "pipe_mean_train_pred = np.mean(pipe_train_pred)\n",
    "\n",
    "pipe_test_mse = mean_squared_error(y_test, pipe_test_pred)\n",
    "pipe_test_rmse = np.sqrt(pipe_test_mse)\n",
    "pipe_mean_test_pred = np.mean(pipe_test_pred)\n",
    "\n",
    "print(\"r2score:\", r2score)\n",
    "print(\" \")\n",
    "print(\"Train RMSE:\", pipe_train_rmse)\n",
    "print(\"Test RMSE:\", pipe_test_rmse)\n",
    "\n",
    "print(\" \")\n",
    "print(\"Mean Train Prediction:\", pipe_mean_train_pred)\n",
    "print(\"Mean Test Prediction:\", pipe_mean_test_pred)"
   ]
  },
  {
   "cell_type": "markdown",
   "id": "44e72ab3",
   "metadata": {},
   "source": [
    "#### >>Predicted values<<"
   ]
  },
  {
   "cell_type": "code",
   "execution_count": 389,
   "id": "ee186162",
   "metadata": {},
   "outputs": [
    {
     "data": {
      "text/html": [
       "<div>\n",
       "<style scoped>\n",
       "    .dataframe tbody tr th:only-of-type {\n",
       "        vertical-align: middle;\n",
       "    }\n",
       "\n",
       "    .dataframe tbody tr th {\n",
       "        vertical-align: top;\n",
       "    }\n",
       "\n",
       "    .dataframe thead th {\n",
       "        text-align: right;\n",
       "    }\n",
       "</style>\n",
       "<table border=\"1\" class=\"dataframe\">\n",
       "  <thead>\n",
       "    <tr style=\"text-align: right;\">\n",
       "      <th></th>\n",
       "      <th>Actual Value</th>\n",
       "      <th>Predicted value</th>\n",
       "      <th>Difference</th>\n",
       "    </tr>\n",
       "    <tr>\n",
       "      <th>id</th>\n",
       "      <th></th>\n",
       "      <th></th>\n",
       "      <th></th>\n",
       "    </tr>\n",
       "  </thead>\n",
       "  <tbody>\n",
       "    <tr>\n",
       "      <th>7316548741</th>\n",
       "      <td>4999</td>\n",
       "      <td>16468.565725</td>\n",
       "      <td>-11469.565725</td>\n",
       "    </tr>\n",
       "    <tr>\n",
       "      <th>7311144829</th>\n",
       "      <td>37614</td>\n",
       "      <td>16319.958191</td>\n",
       "      <td>21294.041809</td>\n",
       "    </tr>\n",
       "    <tr>\n",
       "      <th>7308183160</th>\n",
       "      <td>16342</td>\n",
       "      <td>20781.541227</td>\n",
       "      <td>-4439.541227</td>\n",
       "    </tr>\n",
       "    <tr>\n",
       "      <th>7306608008</th>\n",
       "      <td>14950</td>\n",
       "      <td>16680.235760</td>\n",
       "      <td>-1730.235760</td>\n",
       "    </tr>\n",
       "  </tbody>\n",
       "</table>\n",
       "</div>"
      ],
      "text/plain": [
       "            Actual Value  Predicted value    Difference\n",
       "id                                                     \n",
       "7316548741          4999     16468.565725 -11469.565725\n",
       "7311144829         37614     16319.958191  21294.041809\n",
       "7308183160         16342     20781.541227  -4439.541227\n",
       "7306608008         14950     16680.235760  -1730.235760"
      ]
     },
     "execution_count": 389,
     "metadata": {},
     "output_type": "execute_result"
    }
   ],
   "source": [
    "pred_y_df = pd.DataFrame({'Actual Value':y_test,'Predicted value':pipe_test_pred, 'Difference':y_test-pipe_test_pred})\n",
    "pred_y_df[:4]"
   ]
  },
  {
   "cell_type": "code",
   "execution_count": 390,
   "id": "9722ae69",
   "metadata": {},
   "outputs": [
    {
     "data": {
      "text/plain": [
       "Text(0.5, 1.0, 'Actual vs Predicted')"
      ]
     },
     "execution_count": 390,
     "metadata": {},
     "output_type": "execute_result"
    },
    {
     "data": {
      "image/png": "[encoded data removed]",
      "text/plain": [
       "<Figure size 720x432 with 1 Axes>"
      ]
     },
     "metadata": {
      "needs_background": "light"
     },
     "output_type": "display_data"
    }
   ],
   "source": [
    "plt.figure(figsize=(10,6))\n",
    "plt.scatter(y_test, pipe_test_pred)\n",
    "plt.xlabel('Actual')\n",
    "plt.ylabel('Predicted')\n",
    "plt.title('Actual vs Predicted')"
   ]
  },
  {
   "cell_type": "code",
   "execution_count": 391,
   "id": "2ffd0b22",
   "metadata": {},
   "outputs": [
    {
     "data": {
      "text/plain": [
       "{'memory': None,\n",
       " 'steps': [('column_selector',\n",
       "   SequentialFeatureSelector(estimator=LinearRegression(), n_features_to_select=3)),\n",
       "  ('linreg', LinearRegression())],\n",
       " 'verbose': False,\n",
       " 'column_selector': SequentialFeatureSelector(estimator=LinearRegression(), n_features_to_select=3),\n",
       " 'linreg': LinearRegression(),\n",
       " 'column_selector__cv': 5,\n",
       " 'column_selector__direction': 'forward',\n",
       " 'column_selector__estimator__copy_X': True,\n",
       " 'column_selector__estimator__fit_intercept': True,\n",
       " 'column_selector__estimator__n_jobs': None,\n",
       " 'column_selector__estimator__normalize': False,\n",
       " 'column_selector__estimator__positive': False,\n",
       " 'column_selector__estimator': LinearRegression(),\n",
       " 'column_selector__n_features_to_select': 3,\n",
       " 'column_selector__n_jobs': None,\n",
       " 'column_selector__scoring': None,\n",
       " 'linreg__copy_X': True,\n",
       " 'linreg__fit_intercept': True,\n",
       " 'linreg__n_jobs': None,\n",
       " 'linreg__normalize': False,\n",
       " 'linreg__positive': False}"
      ]
     },
     "execution_count": 391,
     "metadata": {},
     "output_type": "execute_result"
    }
   ],
   "source": [
    "pipe.get_params()"
   ]
  },
  {
   "cell_type": "code",
   "execution_count": 392,
   "id": "70981090",
   "metadata": {},
   "outputs": [],
   "source": [
    "param_grid = {'column_selector__estimator__fit_intercept':[True,False],\n",
    "              'column_selector__estimator__copy_X': [True, False], \n",
    "              'column_selector__n_features_to_select': [None]}"
   ]
  },
  {
   "cell_type": "code",
   "execution_count": 393,
   "id": "d2b76dd4",
   "metadata": {},
   "outputs": [
    {
     "data": {
      "text/plain": [
       "GridSearchCV(estimator=Pipeline(steps=[('column_selector',\n",
       "                                        SequentialFeatureSelector(estimator=LinearRegression(),\n",
       "                                                                  n_features_to_select=3)),\n",
       "                                       ('linreg', LinearRegression())]),\n",
       "             param_grid={'column_selector__estimator__copy_X': [True, False],\n",
       "                         'column_selector__estimator__fit_intercept': [True,\n",
       "                                                                       False],\n",
       "                         'column_selector__n_features_to_select': [None]})"
      ]
     },
     "execution_count": 393,
     "metadata": {},
     "output_type": "execute_result"
    }
   ],
   "source": [
    "grid_pipe = GridSearchCV(pipe, param_grid, cv=None)\n",
    "grid_pipe.fit(X_train,y_train)"
   ]
  },
  {
   "cell_type": "code",
   "execution_count": 394,
   "id": "db2e3532",
   "metadata": {},
   "outputs": [
    {
     "data": {
      "text/plain": [
       "{'mean_fit_time': array([0.75042005, 0.67528348, 0.69798708, 0.60895996]),\n",
       " 'std_fit_time': array([0.02502121, 0.04586682, 0.0423908 , 0.04493609]),\n",
       " 'mean_score_time': array([0.00937815, 0.00625796, 0.01249509, 0.00624847]),\n",
       " 'std_score_time': array([0.00765723, 0.00766443, 0.00624754, 0.00765279]),\n",
       " 'param_column_selector__estimator__copy_X': masked_array(data=[True, True, False, False],\n",
       "              mask=[False, False, False, False],\n",
       "        fill_value='?',\n",
       "             dtype=object),\n",
       " 'param_column_selector__estimator__fit_intercept': masked_array(data=[True, False, True, False],\n",
       "              mask=[False, False, False, False],\n",
       "        fill_value='?',\n",
       "             dtype=object),\n",
       " 'param_column_selector__n_features_to_select': masked_array(data=[None, None, None, None],\n",
       "              mask=[False, False, False, False],\n",
       "        fill_value='?',\n",
       "             dtype=object),\n",
       " 'params': [{'column_selector__estimator__copy_X': True,\n",
       "   'column_selector__estimator__fit_intercept': True,\n",
       "   'column_selector__n_features_to_select': None},\n",
       "  {'column_selector__estimator__copy_X': True,\n",
       "   'column_selector__estimator__fit_intercept': False,\n",
       "   'column_selector__n_features_to_select': None},\n",
       "  {'column_selector__estimator__copy_X': False,\n",
       "   'column_selector__estimator__fit_intercept': True,\n",
       "   'column_selector__n_features_to_select': None},\n",
       "  {'column_selector__estimator__copy_X': False,\n",
       "   'column_selector__estimator__fit_intercept': False,\n",
       "   'column_selector__n_features_to_select': None}],\n",
       " 'split0_test_score': array([0.10812541, 0.10812541, 0.10812541, 0.10812541]),\n",
       " 'split1_test_score': array([0.1061105, 0.1061105, 0.1061105, 0.1061105]),\n",
       " 'split2_test_score': array([0.10959323, 0.10959323, 0.10959323, 0.10959323]),\n",
       " 'split3_test_score': array([0.10836631, 0.10836631, 0.10836631, 0.10836631]),\n",
       " 'split4_test_score': array([0.10826437, 0.10826437, 0.10826437, 0.10826437]),\n",
       " 'mean_test_score': array([0.10809197, 0.10809197, 0.10809197, 0.10809197]),\n",
       " 'std_test_score': array([0.00112126, 0.00112126, 0.00112126, 0.00112126]),\n",
       " 'rank_test_score': array([1, 1, 1, 1])}"
      ]
     },
     "execution_count": 394,
     "metadata": {},
     "output_type": "execute_result"
    }
   ],
   "source": [
    "grid_pipe.cv_results_"
   ]
  },
  {
   "cell_type": "code",
   "execution_count": 395,
   "id": "37687a81",
   "metadata": {},
   "outputs": [
    {
     "data": {
      "text/plain": [
       "0.10809196633798765"
      ]
     },
     "execution_count": 395,
     "metadata": {},
     "output_type": "execute_result"
    }
   ],
   "source": [
    "grid_pipe.best_score_"
   ]
  },
  {
   "cell_type": "markdown",
   "id": "b57c0bd1",
   "metadata": {},
   "source": [
    "### Summary\n",
    "**1. Linear Regression**\n",
    "- r2score: 0.10746105428442088\n",
    "- Train RMSE: 11586.92464954767\n",
    "- Test RMSE: 11571.496743675363\n",
    "- Mean Train Prediction: 17614.27424494698\n",
    "- Mean Test Prediction: 17634.42009833624\n",
    "- Best Score: 0.10698216168833415\n",
    "\n",
    "**2. Sequential Feature Selector with Linear Regression**\n",
    "- r2score: 0.13405267456064762\n",
    "- Train RMSE: 11424.052571806244\n",
    "- Test RMSE: 11397.817197254697\n",
    "- Mean Train Prediction: 17614.27424494698\n",
    "- Mean Test Prediction: 17637.238816670346\n",
    "- Best Score: 0.10104175027598314"
   ]
  },
  {
   "cell_type": "markdown",
   "id": "46331259",
   "metadata": {},
   "source": [
    "### **Model Selection**\n",
    "- The Sequential Feature Selector with Linear Regression Model was selected because of the following features\n",
    "    - r2score is higher\n",
    "    - Test RMSE is smaller\n",
    "    - Best Score is smaller"
   ]
  },
  {
   "cell_type": "markdown",
   "id": "4a03ded7",
   "metadata": {},
   "source": [
    "## Deployment\n",
    "Now that we've settled on our models and findings, it is time to deliver the information to the client.  You should organize your work as a basic report that details your primary findings.  Keep in mind that your audience is a group of used car dealers interested in fine tuning their inventory."
   ]
  },
  {
   "cell_type": "markdown",
   "id": "c572b344",
   "metadata": {},
   "source": [
    "### Answer: Report\n",
    "**A summary of Machine Learning analytic report**\n",
    "- The findings of the analysis of used car data reveals that\n",
    "    - Most vehicles sold starts in the range of \\$17,600 to \\\\$18,000\n",
    "    - Most cars sold are capped at around \\$40,000\n",
    "    - Selling cars whose years are nearer to year 2020 would be more profitable\n",
    "    - Cylinder, Condition, Price and Model features strongly determine price of a vehicle.\n",
    "    - The Higher the values of the four features, the higher the price of the vehicle\n",
    "    - Odometer: The smaller the odometer readings, the higher the price of a vehicle"
   ]
  },
  {
   "cell_type": "markdown",
   "id": "64d735d0",
   "metadata": {},
   "source": []
  }
 ],
 "metadata": {
  "kernelspec": {
   "display_name": "Python 3 (ipykernel)",
   "language": "python",
   "name": "python3"
  },
  "language_info": {
   "codemirror_mode": {
    "name": "ipython",
    "version": 3
   },
   "file_extension": ".py",
   "mimetype": "text/x-python",
   "name": "python",
   "nbconvert_exporter": "python",
   "pygments_lexer": "ipython3",
   "version": "3.9.7"
  }
 },
 "nbformat": 4,
 "nbformat_minor": 5
}
