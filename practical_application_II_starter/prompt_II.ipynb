{
 "cells": [
  {
   "cell_type": "markdown",
   "id": "f7b37656",
   "metadata": {},
   "source": [
    "# What drives the price of a car?\n",
    "\n",
    "![](images/kurt.jpeg)"
   ]
  },
  {
   "cell_type": "markdown",
   "id": "13064f1c",
   "metadata": {},
   "source": [
    "**OVERVIEW**\n",
    "\n",
    "In this application, you will explore a dataset from kaggle that contains information on 3 million used cars.  Your goal is to understand what factors make a car more or less expensive.  As a result of your analysis, you should provide clear recommendations to your client -- a used car dealership -- as to what consumers value in a used car."
   ]
  },
  {
   "cell_type": "markdown",
   "id": "40c3668f",
   "metadata": {},
   "source": [
    "### CRISP-DM Framework\n",
    "\n",
    "<center>\n",
    "    <img src = images/crisp.png width = 50%/>\n",
    "</center>\n",
    "\n",
    "\n",
    "To frame the task, throughout our practical applications we will refer back to a standard process in industry for data projects called CRISP-DM.  This process provides a framework for working through a data problem.  Your first step in this application will be to read through a brief overview of CRISP-DM [here](https://mo-pcco.s3.us-east-1.amazonaws.com/BH-PCMLAI/module_11/readings_starter.zip).  After reading the overview, answer the questions below."
   ]
  },
  {
   "cell_type": "markdown",
   "id": "014554a3",
   "metadata": {},
   "source": [
    "### Business Understanding\n",
    "\n",
    "From a business perspective, we are tasked with identifying key drivers for used car prices.  In the CRISP-DM overview, we are asked to convert this business framing to a data problem definition.  Using a few sentences, reframe the task as a data task with the appropriate technical vocabulary. "
   ]
  },
  {
   "cell_type": "markdown",
   "id": "b743ce26",
   "metadata": {},
   "source": [
    "### **Answer: Reframing the Problem as a Data problem**\n",
    "\n",
    "**TASK**: \n",
    "- Use the vehicle data to PREDICT the features that affect the price column of used vehicles. \n",
    "- Convert the features into encoded columns. \n",
    "- Build both a Linear and Polynomial Regression of degree 3 with a Sequential Feature Selector model \n",
    "- Compare the results of the two models. \n",
    "- Use GridSearchCV to select the best score for both models?"
   ]
  },
  {
   "cell_type": "markdown",
   "id": "8a22b986",
   "metadata": {},
   "source": [
    "### Data Understanding\n",
    "\n",
    "After considering the business understanding, we want to get familiar with our data.  Write down some steps that you would take to get to know the dataset and identify any quality issues within.  Take time to get to know the dataset and explore what information it contains and how this could be used to inform your business understanding."
   ]
  },
  {
   "cell_type": "markdown",
   "id": "dc381e1d",
   "metadata": {},
   "source": [
    "### Answer: Steps to understand the data\n",
    "- Obtain the Dataset\n",
    "- Drop unwanted columns (VIN, in this case)\n",
    "- Describe the Dataset\n",
    "- Fill Empty Cells\n",
    "- Replace zero values on the price column with the mean of the column\n",
    "- Encode the columns with category type\n",
    "- Plot a histogram of the encoded data\n",
    "- Obtain the Correlation Coefficients to determine column importance\n",
    "- Convet the encoded columns to float type\n",
    "- Scale the Data\n",
    "- Perform Principal Component Analysis on the Data"
   ]
  },
  {
   "cell_type": "code",
   "execution_count": 185,
   "id": "b63b4d1d",
   "metadata": {},
   "outputs": [],
   "source": [
    "import statsmodels.tsa.filters.filtertools as ft\n",
    "from sklearn.metrics import mean_squared_error\n",
    "from statsmodels.tsa.filters.filtertools import convolution_filter\n",
    "from sklearn.feature_selection import SequentialFeatureSelector\n",
    "from statsmodels.tsa.seasonal import _extrapolate_trend\n",
    "import pandas.testing as tm\n",
    "import statsmodels.tsa.arima_process as arima_process\n",
    "import statsmodels.graphics.tsaplots as tsaplots\n",
    "import numpy as np\n",
    "import pandas as pd\n",
    "import matplotlib.pyplot as plt\n",
    "import statsmodels.api as sm\n",
    "from statsmodels.tsa.seasonal import seasonal_decompose\n",
    "from sklearn.preprocessing import OneHotEncoder\n",
    "from sklearn.pipeline import Pipeline\n",
    "from sklearn.preprocessing import StandardScaler\n",
    "from sklearn.impute import SimpleImputer\n",
    "from sklearn.compose import ColumnTransformer\n",
    "from sklearn.decomposition import PCA\n",
    "from sklearn.linear_model import LogisticRegression, LinearRegression, Lasso\n",
    "from sklearn.pipeline import make_pipeline\n",
    "from sklearn.model_selection import train_test_split, GridSearchCV\n",
    "from sklearn.preprocessing import PolynomialFeatures, OrdinalEncoder\n",
    "from sklearn.linear_model import Ridge\n",
    "from scipy import stats\n",
    "from scipy.linalg import svd\n",
    "\n",
    "import warnings\n",
    "warnings.filterwarnings('ignore')"
   ]
  },
  {
   "cell_type": "code",
   "execution_count": 186,
   "id": "08b2700a",
   "metadata": {},
   "outputs": [],
   "source": [
    "veh = pd.read_csv('data/vehicles.csv')"
   ]
  },
  {
   "cell_type": "code",
   "execution_count": 187,
   "id": "cc9432a2",
   "metadata": {},
   "outputs": [
    {
     "data": {
      "text/html": [
       "<div>\n",
       "<style scoped>\n",
       "    .dataframe tbody tr th:only-of-type {\n",
       "        vertical-align: middle;\n",
       "    }\n",
       "\n",
       "    .dataframe tbody tr th {\n",
       "        vertical-align: top;\n",
       "    }\n",
       "\n",
       "    .dataframe thead th {\n",
       "        text-align: right;\n",
       "    }\n",
       "</style>\n",
       "<table border=\"1\" class=\"dataframe\">\n",
       "  <thead>\n",
       "    <tr style=\"text-align: right;\">\n",
       "      <th></th>\n",
       "      <th>id</th>\n",
       "      <th>region</th>\n",
       "      <th>price</th>\n",
       "      <th>year</th>\n",
       "      <th>manufacturer</th>\n",
       "      <th>model</th>\n",
       "      <th>condition</th>\n",
       "      <th>cylinders</th>\n",
       "      <th>fuel</th>\n",
       "      <th>odometer</th>\n",
       "      <th>title_status</th>\n",
       "      <th>transmission</th>\n",
       "      <th>VIN</th>\n",
       "      <th>drive</th>\n",
       "      <th>size</th>\n",
       "      <th>type</th>\n",
       "      <th>paint_color</th>\n",
       "      <th>state</th>\n",
       "    </tr>\n",
       "  </thead>\n",
       "  <tbody>\n",
       "    <tr>\n",
       "      <th>0</th>\n",
       "      <td>7222695916</td>\n",
       "      <td>prescott</td>\n",
       "      <td>6000</td>\n",
       "      <td>NaN</td>\n",
       "      <td>NaN</td>\n",
       "      <td>NaN</td>\n",
       "      <td>NaN</td>\n",
       "      <td>NaN</td>\n",
       "      <td>NaN</td>\n",
       "      <td>NaN</td>\n",
       "      <td>NaN</td>\n",
       "      <td>NaN</td>\n",
       "      <td>NaN</td>\n",
       "      <td>NaN</td>\n",
       "      <td>NaN</td>\n",
       "      <td>NaN</td>\n",
       "      <td>NaN</td>\n",
       "      <td>az</td>\n",
       "    </tr>\n",
       "    <tr>\n",
       "      <th>1</th>\n",
       "      <td>7218891961</td>\n",
       "      <td>fayetteville</td>\n",
       "      <td>11900</td>\n",
       "      <td>NaN</td>\n",
       "      <td>NaN</td>\n",
       "      <td>NaN</td>\n",
       "      <td>NaN</td>\n",
       "      <td>NaN</td>\n",
       "      <td>NaN</td>\n",
       "      <td>NaN</td>\n",
       "      <td>NaN</td>\n",
       "      <td>NaN</td>\n",
       "      <td>NaN</td>\n",
       "      <td>NaN</td>\n",
       "      <td>NaN</td>\n",
       "      <td>NaN</td>\n",
       "      <td>NaN</td>\n",
       "      <td>ar</td>\n",
       "    </tr>\n",
       "    <tr>\n",
       "      <th>2</th>\n",
       "      <td>7221797935</td>\n",
       "      <td>florida keys</td>\n",
       "      <td>21000</td>\n",
       "      <td>NaN</td>\n",
       "      <td>NaN</td>\n",
       "      <td>NaN</td>\n",
       "      <td>NaN</td>\n",
       "      <td>NaN</td>\n",
       "      <td>NaN</td>\n",
       "      <td>NaN</td>\n",
       "      <td>NaN</td>\n",
       "      <td>NaN</td>\n",
       "      <td>NaN</td>\n",
       "      <td>NaN</td>\n",
       "      <td>NaN</td>\n",
       "      <td>NaN</td>\n",
       "      <td>NaN</td>\n",
       "      <td>fl</td>\n",
       "    </tr>\n",
       "  </tbody>\n",
       "</table>\n",
       "</div>"
      ],
      "text/plain": [
       "           id        region  price  year manufacturer model condition  \\\n",
       "0  7222695916      prescott   6000   NaN          NaN   NaN       NaN   \n",
       "1  7218891961  fayetteville  11900   NaN          NaN   NaN       NaN   \n",
       "2  7221797935  florida keys  21000   NaN          NaN   NaN       NaN   \n",
       "\n",
       "  cylinders fuel  odometer title_status transmission  VIN drive size type  \\\n",
       "0       NaN  NaN       NaN          NaN          NaN  NaN   NaN  NaN  NaN   \n",
       "1       NaN  NaN       NaN          NaN          NaN  NaN   NaN  NaN  NaN   \n",
       "2       NaN  NaN       NaN          NaN          NaN  NaN   NaN  NaN  NaN   \n",
       "\n",
       "  paint_color state  \n",
       "0         NaN    az  \n",
       "1         NaN    ar  \n",
       "2         NaN    fl  "
      ]
     },
     "execution_count": 187,
     "metadata": {},
     "output_type": "execute_result"
    }
   ],
   "source": [
    "veh.head(3)"
   ]
  },
  {
   "cell_type": "markdown",
   "id": "ad803183",
   "metadata": {},
   "source": [
    "### 1. Information about the data"
   ]
  },
  {
   "cell_type": "code",
   "execution_count": 188,
   "id": "c5770091",
   "metadata": {},
   "outputs": [
    {
     "name": "stdout",
     "output_type": "stream",
     "text": [
      "<class 'pandas.core.frame.DataFrame'>\n",
      "RangeIndex: 426880 entries, 0 to 426879\n",
      "Data columns (total 18 columns):\n",
      " #   Column        Non-Null Count   Dtype  \n",
      "---  ------        --------------   -----  \n",
      " 0   id            426880 non-null  int64  \n",
      " 1   region        426880 non-null  object \n",
      " 2   price         426880 non-null  int64  \n",
      " 3   year          425675 non-null  float64\n",
      " 4   manufacturer  409234 non-null  object \n",
      " 5   model         421603 non-null  object \n",
      " 6   condition     252776 non-null  object \n",
      " 7   cylinders     249202 non-null  object \n",
      " 8   fuel          423867 non-null  object \n",
      " 9   odometer      422480 non-null  float64\n",
      " 10  title_status  418638 non-null  object \n",
      " 11  transmission  424324 non-null  object \n",
      " 12  VIN           265838 non-null  object \n",
      " 13  drive         296313 non-null  object \n",
      " 14  size          120519 non-null  object \n",
      " 15  type          334022 non-null  object \n",
      " 16  paint_color   296677 non-null  object \n",
      " 17  state         426880 non-null  object \n",
      "dtypes: float64(2), int64(2), object(14)\n",
      "memory usage: 58.6+ MB\n"
     ]
    }
   ],
   "source": [
    "veh.info()"
   ]
  },
  {
   "cell_type": "code",
   "execution_count": 189,
   "id": "0f553f15",
   "metadata": {},
   "outputs": [
    {
     "data": {
      "text/html": [
       "<div>\n",
       "<style scoped>\n",
       "    .dataframe tbody tr th:only-of-type {\n",
       "        vertical-align: middle;\n",
       "    }\n",
       "\n",
       "    .dataframe tbody tr th {\n",
       "        vertical-align: top;\n",
       "    }\n",
       "\n",
       "    .dataframe thead th {\n",
       "        text-align: right;\n",
       "    }\n",
       "</style>\n",
       "<table border=\"1\" class=\"dataframe\">\n",
       "  <thead>\n",
       "    <tr style=\"text-align: right;\">\n",
       "      <th></th>\n",
       "      <th>id</th>\n",
       "      <th>price</th>\n",
       "      <th>year</th>\n",
       "      <th>odometer</th>\n",
       "    </tr>\n",
       "  </thead>\n",
       "  <tbody>\n",
       "    <tr>\n",
       "      <th>count</th>\n",
       "      <td>4.268800e+05</td>\n",
       "      <td>4.268800e+05</td>\n",
       "      <td>425675.000000</td>\n",
       "      <td>4.224800e+05</td>\n",
       "    </tr>\n",
       "    <tr>\n",
       "      <th>mean</th>\n",
       "      <td>7.311487e+09</td>\n",
       "      <td>7.519903e+04</td>\n",
       "      <td>2011.235191</td>\n",
       "      <td>9.804333e+04</td>\n",
       "    </tr>\n",
       "    <tr>\n",
       "      <th>std</th>\n",
       "      <td>4.473170e+06</td>\n",
       "      <td>1.218228e+07</td>\n",
       "      <td>9.452120</td>\n",
       "      <td>2.138815e+05</td>\n",
       "    </tr>\n",
       "    <tr>\n",
       "      <th>min</th>\n",
       "      <td>7.207408e+09</td>\n",
       "      <td>0.000000e+00</td>\n",
       "      <td>1900.000000</td>\n",
       "      <td>0.000000e+00</td>\n",
       "    </tr>\n",
       "    <tr>\n",
       "      <th>25%</th>\n",
       "      <td>7.308143e+09</td>\n",
       "      <td>5.900000e+03</td>\n",
       "      <td>2008.000000</td>\n",
       "      <td>3.770400e+04</td>\n",
       "    </tr>\n",
       "    <tr>\n",
       "      <th>50%</th>\n",
       "      <td>7.312621e+09</td>\n",
       "      <td>1.395000e+04</td>\n",
       "      <td>2013.000000</td>\n",
       "      <td>8.554800e+04</td>\n",
       "    </tr>\n",
       "    <tr>\n",
       "      <th>75%</th>\n",
       "      <td>7.315254e+09</td>\n",
       "      <td>2.648575e+04</td>\n",
       "      <td>2017.000000</td>\n",
       "      <td>1.335425e+05</td>\n",
       "    </tr>\n",
       "    <tr>\n",
       "      <th>max</th>\n",
       "      <td>7.317101e+09</td>\n",
       "      <td>3.736929e+09</td>\n",
       "      <td>2022.000000</td>\n",
       "      <td>1.000000e+07</td>\n",
       "    </tr>\n",
       "  </tbody>\n",
       "</table>\n",
       "</div>"
      ],
      "text/plain": [
       "                 id         price           year      odometer\n",
       "count  4.268800e+05  4.268800e+05  425675.000000  4.224800e+05\n",
       "mean   7.311487e+09  7.519903e+04    2011.235191  9.804333e+04\n",
       "std    4.473170e+06  1.218228e+07       9.452120  2.138815e+05\n",
       "min    7.207408e+09  0.000000e+00    1900.000000  0.000000e+00\n",
       "25%    7.308143e+09  5.900000e+03    2008.000000  3.770400e+04\n",
       "50%    7.312621e+09  1.395000e+04    2013.000000  8.554800e+04\n",
       "75%    7.315254e+09  2.648575e+04    2017.000000  1.335425e+05\n",
       "max    7.317101e+09  3.736929e+09    2022.000000  1.000000e+07"
      ]
     },
     "execution_count": 189,
     "metadata": {},
     "output_type": "execute_result"
    }
   ],
   "source": [
    "veh.describe()"
   ]
  },
  {
   "cell_type": "code",
   "execution_count": 190,
   "id": "9593ce3d",
   "metadata": {},
   "outputs": [
    {
     "data": {
      "text/plain": [
       "array([[<AxesSubplot:title={'center':'id'}>,\n",
       "        <AxesSubplot:title={'center':'price'}>],\n",
       "       [<AxesSubplot:title={'center':'year'}>,\n",
       "        <AxesSubplot:title={'center':'odometer'}>]], dtype=object)"
      ]
     },
     "execution_count": 190,
     "metadata": {},
     "output_type": "execute_result"
    },
    {
     "data": {
      "image/png": "[encoded data removed]",
      "text/plain": [
       "<Figure size 1440x1080 with 4 Axes>"
      ]
     },
     "metadata": {
      "needs_background": "light"
     },
     "output_type": "display_data"
    }
   ],
   "source": [
    "veh.hist(bins=50, figsize=(20,15))"
   ]
  },
  {
   "cell_type": "code",
   "execution_count": 191,
   "id": "7c80692c",
   "metadata": {},
   "outputs": [
    {
     "data": {
      "text/plain": [
       "<AxesSubplot:xlabel='price', ylabel='odometer'>"
      ]
     },
     "execution_count": 191,
     "metadata": {},
     "output_type": "execute_result"
    },
    {
     "data": {
      "image/png": "[encoded data removed]",
      "text/plain": [
       "<Figure size 432x288 with 1 Axes>"
      ]
     },
     "metadata": {
      "needs_background": "light"
     },
     "output_type": "display_data"
    }
   ],
   "source": [
    "fig = plt.figure()\n",
    "ax = fig.add_subplot(1,1,1)\n",
    "veh.plot(ax=ax, x='price', y='odometer', kind='scatter', style='k-', linewidth=0.5)"
   ]
  },
  {
   "cell_type": "code",
   "execution_count": 192,
   "id": "a1ab1338",
   "metadata": {},
   "outputs": [
    {
     "data": {
      "text/plain": [
       "<AxesSubplot:xlabel='price', ylabel='year'>"
      ]
     },
     "execution_count": 192,
     "metadata": {},
     "output_type": "execute_result"
    },
    {
     "data": {
      "image/png": "[encoded data removed]",
      "text/plain": [
       "<Figure size 432x288 with 1 Axes>"
      ]
     },
     "metadata": {
      "needs_background": "light"
     },
     "output_type": "display_data"
    }
   ],
   "source": [
    "veh.plot(kind='scatter', x='price', y='year')"
   ]
  },
  {
   "cell_type": "markdown",
   "id": "5aac1a4a",
   "metadata": {},
   "source": [
    "### 2. Drop Unwanted Columns"
   ]
  },
  {
   "cell_type": "code",
   "execution_count": 193,
   "id": "138f27bf",
   "metadata": {},
   "outputs": [],
   "source": [
    "veh = veh.drop(columns=[\"VIN\"],axis=1)"
   ]
  },
  {
   "cell_type": "code",
   "execution_count": 194,
   "id": "799edc31",
   "metadata": {},
   "outputs": [
    {
     "data": {
      "text/html": [
       "<div>\n",
       "<style scoped>\n",
       "    .dataframe tbody tr th:only-of-type {\n",
       "        vertical-align: middle;\n",
       "    }\n",
       "\n",
       "    .dataframe tbody tr th {\n",
       "        vertical-align: top;\n",
       "    }\n",
       "\n",
       "    .dataframe thead th {\n",
       "        text-align: right;\n",
       "    }\n",
       "</style>\n",
       "<table border=\"1\" class=\"dataframe\">\n",
       "  <thead>\n",
       "    <tr style=\"text-align: right;\">\n",
       "      <th></th>\n",
       "      <th>id</th>\n",
       "      <th>region</th>\n",
       "      <th>price</th>\n",
       "      <th>year</th>\n",
       "      <th>manufacturer</th>\n",
       "      <th>model</th>\n",
       "      <th>condition</th>\n",
       "      <th>cylinders</th>\n",
       "      <th>fuel</th>\n",
       "      <th>odometer</th>\n",
       "      <th>title_status</th>\n",
       "      <th>transmission</th>\n",
       "      <th>drive</th>\n",
       "      <th>size</th>\n",
       "      <th>type</th>\n",
       "      <th>paint_color</th>\n",
       "      <th>state</th>\n",
       "    </tr>\n",
       "  </thead>\n",
       "  <tbody>\n",
       "    <tr>\n",
       "      <th>0</th>\n",
       "      <td>7222695916</td>\n",
       "      <td>prescott</td>\n",
       "      <td>6000</td>\n",
       "      <td>NaN</td>\n",
       "      <td>NaN</td>\n",
       "      <td>NaN</td>\n",
       "      <td>NaN</td>\n",
       "      <td>NaN</td>\n",
       "      <td>NaN</td>\n",
       "      <td>NaN</td>\n",
       "      <td>NaN</td>\n",
       "      <td>NaN</td>\n",
       "      <td>NaN</td>\n",
       "      <td>NaN</td>\n",
       "      <td>NaN</td>\n",
       "      <td>NaN</td>\n",
       "      <td>az</td>\n",
       "    </tr>\n",
       "    <tr>\n",
       "      <th>1</th>\n",
       "      <td>7218891961</td>\n",
       "      <td>fayetteville</td>\n",
       "      <td>11900</td>\n",
       "      <td>NaN</td>\n",
       "      <td>NaN</td>\n",
       "      <td>NaN</td>\n",
       "      <td>NaN</td>\n",
       "      <td>NaN</td>\n",
       "      <td>NaN</td>\n",
       "      <td>NaN</td>\n",
       "      <td>NaN</td>\n",
       "      <td>NaN</td>\n",
       "      <td>NaN</td>\n",
       "      <td>NaN</td>\n",
       "      <td>NaN</td>\n",
       "      <td>NaN</td>\n",
       "      <td>ar</td>\n",
       "    </tr>\n",
       "    <tr>\n",
       "      <th>2</th>\n",
       "      <td>7221797935</td>\n",
       "      <td>florida keys</td>\n",
       "      <td>21000</td>\n",
       "      <td>NaN</td>\n",
       "      <td>NaN</td>\n",
       "      <td>NaN</td>\n",
       "      <td>NaN</td>\n",
       "      <td>NaN</td>\n",
       "      <td>NaN</td>\n",
       "      <td>NaN</td>\n",
       "      <td>NaN</td>\n",
       "      <td>NaN</td>\n",
       "      <td>NaN</td>\n",
       "      <td>NaN</td>\n",
       "      <td>NaN</td>\n",
       "      <td>NaN</td>\n",
       "      <td>fl</td>\n",
       "    </tr>\n",
       "    <tr>\n",
       "      <th>3</th>\n",
       "      <td>7222270760</td>\n",
       "      <td>worcester / central MA</td>\n",
       "      <td>1500</td>\n",
       "      <td>NaN</td>\n",
       "      <td>NaN</td>\n",
       "      <td>NaN</td>\n",
       "      <td>NaN</td>\n",
       "      <td>NaN</td>\n",
       "      <td>NaN</td>\n",
       "      <td>NaN</td>\n",
       "      <td>NaN</td>\n",
       "      <td>NaN</td>\n",
       "      <td>NaN</td>\n",
       "      <td>NaN</td>\n",
       "      <td>NaN</td>\n",
       "      <td>NaN</td>\n",
       "      <td>ma</td>\n",
       "    </tr>\n",
       "    <tr>\n",
       "      <th>4</th>\n",
       "      <td>7210384030</td>\n",
       "      <td>greensboro</td>\n",
       "      <td>4900</td>\n",
       "      <td>NaN</td>\n",
       "      <td>NaN</td>\n",
       "      <td>NaN</td>\n",
       "      <td>NaN</td>\n",
       "      <td>NaN</td>\n",
       "      <td>NaN</td>\n",
       "      <td>NaN</td>\n",
       "      <td>NaN</td>\n",
       "      <td>NaN</td>\n",
       "      <td>NaN</td>\n",
       "      <td>NaN</td>\n",
       "      <td>NaN</td>\n",
       "      <td>NaN</td>\n",
       "      <td>nc</td>\n",
       "    </tr>\n",
       "    <tr>\n",
       "      <th>...</th>\n",
       "      <td>...</td>\n",
       "      <td>...</td>\n",
       "      <td>...</td>\n",
       "      <td>...</td>\n",
       "      <td>...</td>\n",
       "      <td>...</td>\n",
       "      <td>...</td>\n",
       "      <td>...</td>\n",
       "      <td>...</td>\n",
       "      <td>...</td>\n",
       "      <td>...</td>\n",
       "      <td>...</td>\n",
       "      <td>...</td>\n",
       "      <td>...</td>\n",
       "      <td>...</td>\n",
       "      <td>...</td>\n",
       "      <td>...</td>\n",
       "    </tr>\n",
       "    <tr>\n",
       "      <th>426875</th>\n",
       "      <td>7301591192</td>\n",
       "      <td>wyoming</td>\n",
       "      <td>23590</td>\n",
       "      <td>2019.0</td>\n",
       "      <td>nissan</td>\n",
       "      <td>maxima s sedan 4d</td>\n",
       "      <td>good</td>\n",
       "      <td>6 cylinders</td>\n",
       "      <td>gas</td>\n",
       "      <td>32226.0</td>\n",
       "      <td>clean</td>\n",
       "      <td>other</td>\n",
       "      <td>fwd</td>\n",
       "      <td>NaN</td>\n",
       "      <td>sedan</td>\n",
       "      <td>NaN</td>\n",
       "      <td>wy</td>\n",
       "    </tr>\n",
       "    <tr>\n",
       "      <th>426876</th>\n",
       "      <td>7301591187</td>\n",
       "      <td>wyoming</td>\n",
       "      <td>30590</td>\n",
       "      <td>2020.0</td>\n",
       "      <td>volvo</td>\n",
       "      <td>s60 t5 momentum sedan 4d</td>\n",
       "      <td>good</td>\n",
       "      <td>NaN</td>\n",
       "      <td>gas</td>\n",
       "      <td>12029.0</td>\n",
       "      <td>clean</td>\n",
       "      <td>other</td>\n",
       "      <td>fwd</td>\n",
       "      <td>NaN</td>\n",
       "      <td>sedan</td>\n",
       "      <td>red</td>\n",
       "      <td>wy</td>\n",
       "    </tr>\n",
       "    <tr>\n",
       "      <th>426877</th>\n",
       "      <td>7301591147</td>\n",
       "      <td>wyoming</td>\n",
       "      <td>34990</td>\n",
       "      <td>2020.0</td>\n",
       "      <td>cadillac</td>\n",
       "      <td>xt4 sport suv 4d</td>\n",
       "      <td>good</td>\n",
       "      <td>NaN</td>\n",
       "      <td>diesel</td>\n",
       "      <td>4174.0</td>\n",
       "      <td>clean</td>\n",
       "      <td>other</td>\n",
       "      <td>NaN</td>\n",
       "      <td>NaN</td>\n",
       "      <td>hatchback</td>\n",
       "      <td>white</td>\n",
       "      <td>wy</td>\n",
       "    </tr>\n",
       "    <tr>\n",
       "      <th>426878</th>\n",
       "      <td>7301591140</td>\n",
       "      <td>wyoming</td>\n",
       "      <td>28990</td>\n",
       "      <td>2018.0</td>\n",
       "      <td>lexus</td>\n",
       "      <td>es 350 sedan 4d</td>\n",
       "      <td>good</td>\n",
       "      <td>6 cylinders</td>\n",
       "      <td>gas</td>\n",
       "      <td>30112.0</td>\n",
       "      <td>clean</td>\n",
       "      <td>other</td>\n",
       "      <td>fwd</td>\n",
       "      <td>NaN</td>\n",
       "      <td>sedan</td>\n",
       "      <td>silver</td>\n",
       "      <td>wy</td>\n",
       "    </tr>\n",
       "    <tr>\n",
       "      <th>426879</th>\n",
       "      <td>7301591129</td>\n",
       "      <td>wyoming</td>\n",
       "      <td>30590</td>\n",
       "      <td>2019.0</td>\n",
       "      <td>bmw</td>\n",
       "      <td>4 series 430i gran coupe</td>\n",
       "      <td>good</td>\n",
       "      <td>NaN</td>\n",
       "      <td>gas</td>\n",
       "      <td>22716.0</td>\n",
       "      <td>clean</td>\n",
       "      <td>other</td>\n",
       "      <td>rwd</td>\n",
       "      <td>NaN</td>\n",
       "      <td>coupe</td>\n",
       "      <td>NaN</td>\n",
       "      <td>wy</td>\n",
       "    </tr>\n",
       "  </tbody>\n",
       "</table>\n",
       "<p>418703 rows × 17 columns</p>\n",
       "</div>"
      ],
      "text/plain": [
       "                id                  region  price    year manufacturer  \\\n",
       "0       7222695916                prescott   6000     NaN          NaN   \n",
       "1       7218891961            fayetteville  11900     NaN          NaN   \n",
       "2       7221797935            florida keys  21000     NaN          NaN   \n",
       "3       7222270760  worcester / central MA   1500     NaN          NaN   \n",
       "4       7210384030              greensboro   4900     NaN          NaN   \n",
       "...            ...                     ...    ...     ...          ...   \n",
       "426875  7301591192                 wyoming  23590  2019.0       nissan   \n",
       "426876  7301591187                 wyoming  30590  2020.0        volvo   \n",
       "426877  7301591147                 wyoming  34990  2020.0     cadillac   \n",
       "426878  7301591140                 wyoming  28990  2018.0        lexus   \n",
       "426879  7301591129                 wyoming  30590  2019.0          bmw   \n",
       "\n",
       "                           model condition    cylinders    fuel  odometer  \\\n",
       "0                            NaN       NaN          NaN     NaN       NaN   \n",
       "1                            NaN       NaN          NaN     NaN       NaN   \n",
       "2                            NaN       NaN          NaN     NaN       NaN   \n",
       "3                            NaN       NaN          NaN     NaN       NaN   \n",
       "4                            NaN       NaN          NaN     NaN       NaN   \n",
       "...                          ...       ...          ...     ...       ...   \n",
       "426875         maxima s sedan 4d      good  6 cylinders     gas   32226.0   \n",
       "426876  s60 t5 momentum sedan 4d      good          NaN     gas   12029.0   \n",
       "426877          xt4 sport suv 4d      good          NaN  diesel    4174.0   \n",
       "426878           es 350 sedan 4d      good  6 cylinders     gas   30112.0   \n",
       "426879  4 series 430i gran coupe      good          NaN     gas   22716.0   \n",
       "\n",
       "       title_status transmission drive size       type paint_color state  \n",
       "0               NaN          NaN   NaN  NaN        NaN         NaN    az  \n",
       "1               NaN          NaN   NaN  NaN        NaN         NaN    ar  \n",
       "2               NaN          NaN   NaN  NaN        NaN         NaN    fl  \n",
       "3               NaN          NaN   NaN  NaN        NaN         NaN    ma  \n",
       "4               NaN          NaN   NaN  NaN        NaN         NaN    nc  \n",
       "...             ...          ...   ...  ...        ...         ...   ...  \n",
       "426875        clean        other   fwd  NaN      sedan         NaN    wy  \n",
       "426876        clean        other   fwd  NaN      sedan         red    wy  \n",
       "426877        clean        other   NaN  NaN  hatchback       white    wy  \n",
       "426878        clean        other   fwd  NaN      sedan      silver    wy  \n",
       "426879        clean        other   rwd  NaN      coupe         NaN    wy  \n",
       "\n",
       "[418703 rows x 17 columns]"
      ]
     },
     "execution_count": 194,
     "metadata": {},
     "output_type": "execute_result"
    }
   ],
   "source": [
    "# REMOVE OUTLIERS\n",
    "Q1 = np.percentile(veh['price'], 25,\n",
    "                   interpolation='midpoint')\n",
    "\n",
    "Q3 = np.percentile(veh['price'], 75,\n",
    "                   interpolation='midpoint')\n",
    "IQR = Q3 - Q1\n",
    "IQR\n",
    "\n",
    "upper = np.where(veh['price'] >= (Q3 + 1.5 * IQR))\n",
    "lower = np.where(veh['price'] <= (Q1 - 1.5 * IQR))\n",
    "\n",
    "veh.drop(upper[0], inplace=True)\n",
    "veh.drop(lower[0], inplace=True)\n",
    "veh"
   ]
  },
  {
   "cell_type": "markdown",
   "id": "ec6af739",
   "metadata": {},
   "source": [
    "### 3. Fill Empty Cells"
   ]
  },
  {
   "cell_type": "code",
   "execution_count": 195,
   "id": "4c5070d7",
   "metadata": {},
   "outputs": [
    {
     "data": {
      "text/html": [
       "<div>\n",
       "<style scoped>\n",
       "    .dataframe tbody tr th:only-of-type {\n",
       "        vertical-align: middle;\n",
       "    }\n",
       "\n",
       "    .dataframe tbody tr th {\n",
       "        vertical-align: top;\n",
       "    }\n",
       "\n",
       "    .dataframe thead th {\n",
       "        text-align: right;\n",
       "    }\n",
       "</style>\n",
       "<table border=\"1\" class=\"dataframe\">\n",
       "  <thead>\n",
       "    <tr style=\"text-align: right;\">\n",
       "      <th></th>\n",
       "      <th>id</th>\n",
       "      <th>region</th>\n",
       "      <th>price</th>\n",
       "      <th>year</th>\n",
       "      <th>manufacturer</th>\n",
       "      <th>model</th>\n",
       "      <th>condition</th>\n",
       "      <th>cylinders</th>\n",
       "      <th>fuel</th>\n",
       "      <th>odometer</th>\n",
       "      <th>title_status</th>\n",
       "      <th>transmission</th>\n",
       "      <th>drive</th>\n",
       "      <th>size</th>\n",
       "      <th>type</th>\n",
       "      <th>paint_color</th>\n",
       "      <th>state</th>\n",
       "    </tr>\n",
       "  </thead>\n",
       "  <tbody>\n",
       "    <tr>\n",
       "      <th>0</th>\n",
       "      <td>7222695916</td>\n",
       "      <td>prescott</td>\n",
       "      <td>6000</td>\n",
       "      <td>2014.0</td>\n",
       "      <td>gmc</td>\n",
       "      <td>sierra 1500 crew cab slt</td>\n",
       "      <td>good</td>\n",
       "      <td>8 cylinders</td>\n",
       "      <td>gas</td>\n",
       "      <td>57923.0</td>\n",
       "      <td>clean</td>\n",
       "      <td>other</td>\n",
       "      <td>rwd</td>\n",
       "      <td>full-size</td>\n",
       "      <td>pickup</td>\n",
       "      <td>white</td>\n",
       "      <td>az</td>\n",
       "    </tr>\n",
       "    <tr>\n",
       "      <th>1</th>\n",
       "      <td>7218891961</td>\n",
       "      <td>fayetteville</td>\n",
       "      <td>11900</td>\n",
       "      <td>2014.0</td>\n",
       "      <td>gmc</td>\n",
       "      <td>sierra 1500 crew cab slt</td>\n",
       "      <td>good</td>\n",
       "      <td>8 cylinders</td>\n",
       "      <td>gas</td>\n",
       "      <td>57923.0</td>\n",
       "      <td>clean</td>\n",
       "      <td>other</td>\n",
       "      <td>rwd</td>\n",
       "      <td>full-size</td>\n",
       "      <td>pickup</td>\n",
       "      <td>white</td>\n",
       "      <td>ar</td>\n",
       "    </tr>\n",
       "    <tr>\n",
       "      <th>2</th>\n",
       "      <td>7221797935</td>\n",
       "      <td>florida keys</td>\n",
       "      <td>21000</td>\n",
       "      <td>2014.0</td>\n",
       "      <td>gmc</td>\n",
       "      <td>sierra 1500 crew cab slt</td>\n",
       "      <td>good</td>\n",
       "      <td>8 cylinders</td>\n",
       "      <td>gas</td>\n",
       "      <td>57923.0</td>\n",
       "      <td>clean</td>\n",
       "      <td>other</td>\n",
       "      <td>rwd</td>\n",
       "      <td>full-size</td>\n",
       "      <td>pickup</td>\n",
       "      <td>white</td>\n",
       "      <td>fl</td>\n",
       "    </tr>\n",
       "    <tr>\n",
       "      <th>3</th>\n",
       "      <td>7222270760</td>\n",
       "      <td>worcester / central MA</td>\n",
       "      <td>1500</td>\n",
       "      <td>2014.0</td>\n",
       "      <td>gmc</td>\n",
       "      <td>sierra 1500 crew cab slt</td>\n",
       "      <td>good</td>\n",
       "      <td>8 cylinders</td>\n",
       "      <td>gas</td>\n",
       "      <td>57923.0</td>\n",
       "      <td>clean</td>\n",
       "      <td>other</td>\n",
       "      <td>rwd</td>\n",
       "      <td>full-size</td>\n",
       "      <td>pickup</td>\n",
       "      <td>white</td>\n",
       "      <td>ma</td>\n",
       "    </tr>\n",
       "    <tr>\n",
       "      <th>4</th>\n",
       "      <td>7210384030</td>\n",
       "      <td>greensboro</td>\n",
       "      <td>4900</td>\n",
       "      <td>2014.0</td>\n",
       "      <td>gmc</td>\n",
       "      <td>sierra 1500 crew cab slt</td>\n",
       "      <td>good</td>\n",
       "      <td>8 cylinders</td>\n",
       "      <td>gas</td>\n",
       "      <td>57923.0</td>\n",
       "      <td>clean</td>\n",
       "      <td>other</td>\n",
       "      <td>rwd</td>\n",
       "      <td>full-size</td>\n",
       "      <td>pickup</td>\n",
       "      <td>white</td>\n",
       "      <td>nc</td>\n",
       "    </tr>\n",
       "  </tbody>\n",
       "</table>\n",
       "</div>"
      ],
      "text/plain": [
       "           id                  region  price    year manufacturer  \\\n",
       "0  7222695916                prescott   6000  2014.0          gmc   \n",
       "1  7218891961            fayetteville  11900  2014.0          gmc   \n",
       "2  7221797935            florida keys  21000  2014.0          gmc   \n",
       "3  7222270760  worcester / central MA   1500  2014.0          gmc   \n",
       "4  7210384030              greensboro   4900  2014.0          gmc   \n",
       "\n",
       "                      model condition    cylinders fuel  odometer  \\\n",
       "0  sierra 1500 crew cab slt      good  8 cylinders  gas   57923.0   \n",
       "1  sierra 1500 crew cab slt      good  8 cylinders  gas   57923.0   \n",
       "2  sierra 1500 crew cab slt      good  8 cylinders  gas   57923.0   \n",
       "3  sierra 1500 crew cab slt      good  8 cylinders  gas   57923.0   \n",
       "4  sierra 1500 crew cab slt      good  8 cylinders  gas   57923.0   \n",
       "\n",
       "  title_status transmission drive       size    type paint_color state  \n",
       "0        clean        other   rwd  full-size  pickup       white    az  \n",
       "1        clean        other   rwd  full-size  pickup       white    ar  \n",
       "2        clean        other   rwd  full-size  pickup       white    fl  \n",
       "3        clean        other   rwd  full-size  pickup       white    ma  \n",
       "4        clean        other   rwd  full-size  pickup       white    nc  "
      ]
     },
     "execution_count": 195,
     "metadata": {},
     "output_type": "execute_result"
    }
   ],
   "source": [
    "veh[\"size\"].fillna( method ='ffill', inplace = True)\n",
    "veh[\"size\"].fillna( method ='bfill', inplace = True)\n",
    "\n",
    "veh[\"manufacturer\"].fillna( method ='ffill', inplace = True)\n",
    "veh[\"manufacturer\"].fillna( method ='bfill', inplace = True)\n",
    "\n",
    "veh[\"model\"].fillna( method ='ffill', inplace = True)\n",
    "veh[\"model\"].fillna( method ='bfill', inplace = True)\n",
    "\n",
    "veh[\"year\"].fillna( method ='ffill', inplace = True)\n",
    "veh[\"year\"].fillna( method ='bfill', inplace = True)\n",
    "\n",
    "veh[\"cylinders\"].fillna( method ='ffill', inplace = True)\n",
    "veh[\"cylinders\"].fillna( method ='bfill', inplace = True)\n",
    "\n",
    "veh[\"fuel\"].fillna( method ='ffill', inplace = True)\n",
    "veh[\"fuel\"].fillna( method ='bfill', inplace = True)\n",
    "\n",
    "veh[\"odometer\"].fillna( method ='ffill', inplace = True)\n",
    "veh[\"odometer\"].fillna( method ='bfill', inplace = True)\n",
    "\n",
    "veh[\"title_status\"].fillna( method ='ffill', inplace = True)\n",
    "veh[\"title_status\"].fillna( method ='bfill', inplace = True)\n",
    "\n",
    "veh[\"transmission\"].fillna( method ='ffill', inplace = True)\n",
    "veh[\"transmission\"].fillna( method ='bfill', inplace = True)\n",
    "\n",
    "veh[\"drive\"].fillna( method ='ffill', inplace = True)\n",
    "veh[\"drive\"].fillna( method ='bfill', inplace = True)\n",
    "\n",
    "veh[\"type\"].fillna( method ='ffill', inplace = True)\n",
    "veh[\"type\"].fillna( method ='bfill', inplace = True)\n",
    "\n",
    "veh[\"paint_color\"].fillna( method ='ffill', inplace = True)\n",
    "veh[\"paint_color\"].fillna( method ='bfill', inplace = True)\n",
    "\n",
    "veh[\"condition\"].fillna( method ='ffill', inplace = True)\n",
    "veh[\"condition\"].fillna( method ='bfill', inplace = True)\n",
    "veh.head()"
   ]
  },
  {
   "cell_type": "code",
   "execution_count": 196,
   "id": "f84c7d65",
   "metadata": {},
   "outputs": [
    {
     "data": {
      "text/plain": [
       "f-150                      8010\n",
       "silverado 1500             5173\n",
       "1500                       4221\n",
       "camry                      3164\n",
       "silverado                  3009\n",
       "                           ... \n",
       "kicks s                       1\n",
       "pickup 1500 4x4               1\n",
       "q7 s line                     1\n",
       "SUZUKI FORENZA                1\n",
       "Paige Glenbrook Touring       1\n",
       "Name: model, Length: 28842, dtype: int64"
      ]
     },
     "execution_count": 196,
     "metadata": {},
     "output_type": "execute_result"
    }
   ],
   "source": [
    "veh.model.value_counts(dropna=False)"
   ]
  },
  {
   "cell_type": "markdown",
   "id": "d821420e",
   "metadata": {},
   "source": [
    "### 4. Replace Zeros on the price column with mean of the column"
   ]
  },
  {
   "cell_type": "code",
   "execution_count": 197,
   "id": "9bef012e",
   "metadata": {},
   "outputs": [
    {
     "data": {
      "text/html": [
       "<div>\n",
       "<style scoped>\n",
       "    .dataframe tbody tr th:only-of-type {\n",
       "        vertical-align: middle;\n",
       "    }\n",
       "\n",
       "    .dataframe tbody tr th {\n",
       "        vertical-align: top;\n",
       "    }\n",
       "\n",
       "    .dataframe thead th {\n",
       "        text-align: right;\n",
       "    }\n",
       "</style>\n",
       "<table border=\"1\" class=\"dataframe\">\n",
       "  <thead>\n",
       "    <tr style=\"text-align: right;\">\n",
       "      <th></th>\n",
       "      <th>id</th>\n",
       "      <th>region</th>\n",
       "      <th>price</th>\n",
       "      <th>year</th>\n",
       "      <th>manufacturer</th>\n",
       "      <th>model</th>\n",
       "      <th>condition</th>\n",
       "      <th>cylinders</th>\n",
       "      <th>fuel</th>\n",
       "      <th>odometer</th>\n",
       "      <th>title_status</th>\n",
       "      <th>transmission</th>\n",
       "      <th>drive</th>\n",
       "      <th>size</th>\n",
       "      <th>type</th>\n",
       "      <th>paint_color</th>\n",
       "      <th>state</th>\n",
       "    </tr>\n",
       "  </thead>\n",
       "  <tbody>\n",
       "    <tr>\n",
       "      <th>0</th>\n",
       "      <td>7222695916</td>\n",
       "      <td>prescott</td>\n",
       "      <td>6000</td>\n",
       "      <td>2014.0</td>\n",
       "      <td>gmc</td>\n",
       "      <td>sierra 1500 crew cab slt</td>\n",
       "      <td>good</td>\n",
       "      <td>8 cylinders</td>\n",
       "      <td>gas</td>\n",
       "      <td>57923.0</td>\n",
       "      <td>clean</td>\n",
       "      <td>other</td>\n",
       "      <td>rwd</td>\n",
       "      <td>full-size</td>\n",
       "      <td>pickup</td>\n",
       "      <td>white</td>\n",
       "      <td>az</td>\n",
       "    </tr>\n",
       "    <tr>\n",
       "      <th>1</th>\n",
       "      <td>7218891961</td>\n",
       "      <td>fayetteville</td>\n",
       "      <td>11900</td>\n",
       "      <td>2014.0</td>\n",
       "      <td>gmc</td>\n",
       "      <td>sierra 1500 crew cab slt</td>\n",
       "      <td>good</td>\n",
       "      <td>8 cylinders</td>\n",
       "      <td>gas</td>\n",
       "      <td>57923.0</td>\n",
       "      <td>clean</td>\n",
       "      <td>other</td>\n",
       "      <td>rwd</td>\n",
       "      <td>full-size</td>\n",
       "      <td>pickup</td>\n",
       "      <td>white</td>\n",
       "      <td>ar</td>\n",
       "    </tr>\n",
       "    <tr>\n",
       "      <th>2</th>\n",
       "      <td>7221797935</td>\n",
       "      <td>florida keys</td>\n",
       "      <td>21000</td>\n",
       "      <td>2014.0</td>\n",
       "      <td>gmc</td>\n",
       "      <td>sierra 1500 crew cab slt</td>\n",
       "      <td>good</td>\n",
       "      <td>8 cylinders</td>\n",
       "      <td>gas</td>\n",
       "      <td>57923.0</td>\n",
       "      <td>clean</td>\n",
       "      <td>other</td>\n",
       "      <td>rwd</td>\n",
       "      <td>full-size</td>\n",
       "      <td>pickup</td>\n",
       "      <td>white</td>\n",
       "      <td>fl</td>\n",
       "    </tr>\n",
       "    <tr>\n",
       "      <th>3</th>\n",
       "      <td>7222270760</td>\n",
       "      <td>worcester / central MA</td>\n",
       "      <td>1500</td>\n",
       "      <td>2014.0</td>\n",
       "      <td>gmc</td>\n",
       "      <td>sierra 1500 crew cab slt</td>\n",
       "      <td>good</td>\n",
       "      <td>8 cylinders</td>\n",
       "      <td>gas</td>\n",
       "      <td>57923.0</td>\n",
       "      <td>clean</td>\n",
       "      <td>other</td>\n",
       "      <td>rwd</td>\n",
       "      <td>full-size</td>\n",
       "      <td>pickup</td>\n",
       "      <td>white</td>\n",
       "      <td>ma</td>\n",
       "    </tr>\n",
       "    <tr>\n",
       "      <th>4</th>\n",
       "      <td>7210384030</td>\n",
       "      <td>greensboro</td>\n",
       "      <td>4900</td>\n",
       "      <td>2014.0</td>\n",
       "      <td>gmc</td>\n",
       "      <td>sierra 1500 crew cab slt</td>\n",
       "      <td>good</td>\n",
       "      <td>8 cylinders</td>\n",
       "      <td>gas</td>\n",
       "      <td>57923.0</td>\n",
       "      <td>clean</td>\n",
       "      <td>other</td>\n",
       "      <td>rwd</td>\n",
       "      <td>full-size</td>\n",
       "      <td>pickup</td>\n",
       "      <td>white</td>\n",
       "      <td>nc</td>\n",
       "    </tr>\n",
       "  </tbody>\n",
       "</table>\n",
       "</div>"
      ],
      "text/plain": [
       "           id                  region  price    year manufacturer  \\\n",
       "0  7222695916                prescott   6000  2014.0          gmc   \n",
       "1  7218891961            fayetteville  11900  2014.0          gmc   \n",
       "2  7221797935            florida keys  21000  2014.0          gmc   \n",
       "3  7222270760  worcester / central MA   1500  2014.0          gmc   \n",
       "4  7210384030              greensboro   4900  2014.0          gmc   \n",
       "\n",
       "                      model condition    cylinders fuel  odometer  \\\n",
       "0  sierra 1500 crew cab slt      good  8 cylinders  gas   57923.0   \n",
       "1  sierra 1500 crew cab slt      good  8 cylinders  gas   57923.0   \n",
       "2  sierra 1500 crew cab slt      good  8 cylinders  gas   57923.0   \n",
       "3  sierra 1500 crew cab slt      good  8 cylinders  gas   57923.0   \n",
       "4  sierra 1500 crew cab slt      good  8 cylinders  gas   57923.0   \n",
       "\n",
       "  title_status transmission drive       size    type paint_color state  \n",
       "0        clean        other   rwd  full-size  pickup       white    az  \n",
       "1        clean        other   rwd  full-size  pickup       white    ar  \n",
       "2        clean        other   rwd  full-size  pickup       white    fl  \n",
       "3        clean        other   rwd  full-size  pickup       white    ma  \n",
       "4        clean        other   rwd  full-size  pickup       white    nc  "
      ]
     },
     "execution_count": 197,
     "metadata": {},
     "output_type": "execute_result"
    }
   ],
   "source": [
    "# REPLACE ZEROs WITH THE MEAN OF THE PRICE COLUMN\n",
    "mean_price = int(pd.to_numeric(veh['price'].mean(skipna=True)))\n",
    "veh['price']=veh.price.mask(veh.price == 0,mean_price)\n",
    "veh.head()"
   ]
  },
  {
   "cell_type": "code",
   "execution_count": 198,
   "id": "dc04ba2a",
   "metadata": {},
   "outputs": [
    {
     "name": "stdout",
     "output_type": "stream",
     "text": [
      "<class 'pandas.core.frame.DataFrame'>\n",
      "Int64Index: 418703 entries, 0 to 426879\n",
      "Data columns (total 17 columns):\n",
      " #   Column        Non-Null Count   Dtype  \n",
      "---  ------        --------------   -----  \n",
      " 0   id            418703 non-null  int64  \n",
      " 1   region        418703 non-null  object \n",
      " 2   price         418703 non-null  int64  \n",
      " 3   year          418703 non-null  float64\n",
      " 4   manufacturer  418703 non-null  object \n",
      " 5   model         418703 non-null  object \n",
      " 6   condition     418703 non-null  object \n",
      " 7   cylinders     418703 non-null  object \n",
      " 8   fuel          418703 non-null  object \n",
      " 9   odometer      418703 non-null  float64\n",
      " 10  title_status  418703 non-null  object \n",
      " 11  transmission  418703 non-null  object \n",
      " 12  drive         418703 non-null  object \n",
      " 13  size          418703 non-null  object \n",
      " 14  type          418703 non-null  object \n",
      " 15  paint_color   418703 non-null  object \n",
      " 16  state         418703 non-null  object \n",
      "dtypes: float64(2), int64(2), object(13)\n",
      "memory usage: 73.6+ MB\n"
     ]
    }
   ],
   "source": [
    "veh.info()"
   ]
  },
  {
   "cell_type": "code",
   "execution_count": 199,
   "id": "11791c1d",
   "metadata": {},
   "outputs": [
    {
     "data": {
      "text/html": [
       "<div>\n",
       "<style scoped>\n",
       "    .dataframe tbody tr th:only-of-type {\n",
       "        vertical-align: middle;\n",
       "    }\n",
       "\n",
       "    .dataframe tbody tr th {\n",
       "        vertical-align: top;\n",
       "    }\n",
       "\n",
       "    .dataframe thead th {\n",
       "        text-align: right;\n",
       "    }\n",
       "</style>\n",
       "<table border=\"1\" class=\"dataframe\">\n",
       "  <thead>\n",
       "    <tr style=\"text-align: right;\">\n",
       "      <th></th>\n",
       "      <th>id</th>\n",
       "      <th>price</th>\n",
       "      <th>year</th>\n",
       "      <th>odometer</th>\n",
       "    </tr>\n",
       "  </thead>\n",
       "  <tbody>\n",
       "    <tr>\n",
       "      <th>count</th>\n",
       "      <td>4.187030e+05</td>\n",
       "      <td>418703.000000</td>\n",
       "      <td>418703.000000</td>\n",
       "      <td>4.187030e+05</td>\n",
       "    </tr>\n",
       "    <tr>\n",
       "      <th>mean</th>\n",
       "      <td>7.311487e+09</td>\n",
       "      <td>17626.696398</td>\n",
       "      <td>2011.166665</td>\n",
       "      <td>9.910874e+04</td>\n",
       "    </tr>\n",
       "    <tr>\n",
       "      <th>std</th>\n",
       "      <td>4.474037e+06</td>\n",
       "      <td>12257.608376</td>\n",
       "      <td>9.370809</td>\n",
       "      <td>2.145711e+05</td>\n",
       "    </tr>\n",
       "    <tr>\n",
       "      <th>min</th>\n",
       "      <td>7.207408e+09</td>\n",
       "      <td>1.000000</td>\n",
       "      <td>1900.000000</td>\n",
       "      <td>0.000000e+00</td>\n",
       "    </tr>\n",
       "    <tr>\n",
       "      <th>25%</th>\n",
       "      <td>7.308147e+09</td>\n",
       "      <td>7700.000000</td>\n",
       "      <td>2008.000000</td>\n",
       "      <td>3.918050e+04</td>\n",
       "    </tr>\n",
       "    <tr>\n",
       "      <th>50%</th>\n",
       "      <td>7.312619e+09</td>\n",
       "      <td>16342.000000</td>\n",
       "      <td>2013.000000</td>\n",
       "      <td>8.712500e+04</td>\n",
       "    </tr>\n",
       "    <tr>\n",
       "      <th>75%</th>\n",
       "      <td>7.315253e+09</td>\n",
       "      <td>25590.000000</td>\n",
       "      <td>2017.000000</td>\n",
       "      <td>1.346365e+05</td>\n",
       "    </tr>\n",
       "    <tr>\n",
       "      <th>max</th>\n",
       "      <td>7.317101e+09</td>\n",
       "      <td>57341.000000</td>\n",
       "      <td>2022.000000</td>\n",
       "      <td>1.000000e+07</td>\n",
       "    </tr>\n",
       "  </tbody>\n",
       "</table>\n",
       "</div>"
      ],
      "text/plain": [
       "                 id          price           year      odometer\n",
       "count  4.187030e+05  418703.000000  418703.000000  4.187030e+05\n",
       "mean   7.311487e+09   17626.696398    2011.166665  9.910874e+04\n",
       "std    4.474037e+06   12257.608376       9.370809  2.145711e+05\n",
       "min    7.207408e+09       1.000000    1900.000000  0.000000e+00\n",
       "25%    7.308147e+09    7700.000000    2008.000000  3.918050e+04\n",
       "50%    7.312619e+09   16342.000000    2013.000000  8.712500e+04\n",
       "75%    7.315253e+09   25590.000000    2017.000000  1.346365e+05\n",
       "max    7.317101e+09   57341.000000    2022.000000  1.000000e+07"
      ]
     },
     "execution_count": 199,
     "metadata": {},
     "output_type": "execute_result"
    }
   ],
   "source": [
    "veh.describe()"
   ]
  },
  {
   "cell_type": "markdown",
   "id": "04ee2719",
   "metadata": {},
   "source": [
    "### 5. Create an encoded DataFrame and fill it with encoded columns"
   ]
  },
  {
   "cell_type": "code",
   "execution_count": 200,
   "id": "ef74d438",
   "metadata": {},
   "outputs": [],
   "source": [
    "veh_enc = veh"
   ]
  },
  {
   "cell_type": "code",
   "execution_count": 201,
   "id": "47c0fc7a",
   "metadata": {},
   "outputs": [
    {
     "data": {
      "text/html": [
       "<div>\n",
       "<style scoped>\n",
       "    .dataframe tbody tr th:only-of-type {\n",
       "        vertical-align: middle;\n",
       "    }\n",
       "\n",
       "    .dataframe tbody tr th {\n",
       "        vertical-align: top;\n",
       "    }\n",
       "\n",
       "    .dataframe thead th {\n",
       "        text-align: right;\n",
       "    }\n",
       "</style>\n",
       "<table border=\"1\" class=\"dataframe\">\n",
       "  <thead>\n",
       "    <tr style=\"text-align: right;\">\n",
       "      <th></th>\n",
       "      <th>id</th>\n",
       "      <th>region</th>\n",
       "      <th>price</th>\n",
       "      <th>year</th>\n",
       "      <th>manufacturer</th>\n",
       "      <th>model</th>\n",
       "      <th>condition</th>\n",
       "      <th>cylinders</th>\n",
       "      <th>fuel</th>\n",
       "      <th>odometer</th>\n",
       "      <th>title_status</th>\n",
       "      <th>transmission</th>\n",
       "      <th>drive</th>\n",
       "      <th>size</th>\n",
       "      <th>type</th>\n",
       "      <th>paint_color</th>\n",
       "      <th>state</th>\n",
       "    </tr>\n",
       "  </thead>\n",
       "  <tbody>\n",
       "    <tr>\n",
       "      <th>0</th>\n",
       "      <td>7222695916</td>\n",
       "      <td>prescott</td>\n",
       "      <td>6000</td>\n",
       "      <td>2014.0</td>\n",
       "      <td>gmc</td>\n",
       "      <td>sierra 1500 crew cab slt</td>\n",
       "      <td>good</td>\n",
       "      <td>8 cylinders</td>\n",
       "      <td>gas</td>\n",
       "      <td>57923.0</td>\n",
       "      <td>clean</td>\n",
       "      <td>other</td>\n",
       "      <td>rwd</td>\n",
       "      <td>full-size</td>\n",
       "      <td>pickup</td>\n",
       "      <td>white</td>\n",
       "      <td>az</td>\n",
       "    </tr>\n",
       "    <tr>\n",
       "      <th>1</th>\n",
       "      <td>7218891961</td>\n",
       "      <td>fayetteville</td>\n",
       "      <td>11900</td>\n",
       "      <td>2014.0</td>\n",
       "      <td>gmc</td>\n",
       "      <td>sierra 1500 crew cab slt</td>\n",
       "      <td>good</td>\n",
       "      <td>8 cylinders</td>\n",
       "      <td>gas</td>\n",
       "      <td>57923.0</td>\n",
       "      <td>clean</td>\n",
       "      <td>other</td>\n",
       "      <td>rwd</td>\n",
       "      <td>full-size</td>\n",
       "      <td>pickup</td>\n",
       "      <td>white</td>\n",
       "      <td>ar</td>\n",
       "    </tr>\n",
       "    <tr>\n",
       "      <th>2</th>\n",
       "      <td>7221797935</td>\n",
       "      <td>florida keys</td>\n",
       "      <td>21000</td>\n",
       "      <td>2014.0</td>\n",
       "      <td>gmc</td>\n",
       "      <td>sierra 1500 crew cab slt</td>\n",
       "      <td>good</td>\n",
       "      <td>8 cylinders</td>\n",
       "      <td>gas</td>\n",
       "      <td>57923.0</td>\n",
       "      <td>clean</td>\n",
       "      <td>other</td>\n",
       "      <td>rwd</td>\n",
       "      <td>full-size</td>\n",
       "      <td>pickup</td>\n",
       "      <td>white</td>\n",
       "      <td>fl</td>\n",
       "    </tr>\n",
       "  </tbody>\n",
       "</table>\n",
       "</div>"
      ],
      "text/plain": [
       "           id        region  price    year manufacturer  \\\n",
       "0  7222695916      prescott   6000  2014.0          gmc   \n",
       "1  7218891961  fayetteville  11900  2014.0          gmc   \n",
       "2  7221797935  florida keys  21000  2014.0          gmc   \n",
       "\n",
       "                      model condition    cylinders fuel  odometer  \\\n",
       "0  sierra 1500 crew cab slt      good  8 cylinders  gas   57923.0   \n",
       "1  sierra 1500 crew cab slt      good  8 cylinders  gas   57923.0   \n",
       "2  sierra 1500 crew cab slt      good  8 cylinders  gas   57923.0   \n",
       "\n",
       "  title_status transmission drive       size    type paint_color state  \n",
       "0        clean        other   rwd  full-size  pickup       white    az  \n",
       "1        clean        other   rwd  full-size  pickup       white    ar  \n",
       "2        clean        other   rwd  full-size  pickup       white    fl  "
      ]
     },
     "execution_count": 201,
     "metadata": {},
     "output_type": "execute_result"
    }
   ],
   "source": [
    "veh_enc.head(3)"
   ]
  },
  {
   "cell_type": "code",
   "execution_count": 202,
   "id": "82d61999",
   "metadata": {},
   "outputs": [
    {
     "data": {
      "text/html": [
       "<div>\n",
       "<style scoped>\n",
       "    .dataframe tbody tr th:only-of-type {\n",
       "        vertical-align: middle;\n",
       "    }\n",
       "\n",
       "    .dataframe tbody tr th {\n",
       "        vertical-align: top;\n",
       "    }\n",
       "\n",
       "    .dataframe thead th {\n",
       "        text-align: right;\n",
       "    }\n",
       "</style>\n",
       "<table border=\"1\" class=\"dataframe\">\n",
       "  <thead>\n",
       "    <tr style=\"text-align: right;\">\n",
       "      <th></th>\n",
       "      <th>id</th>\n",
       "      <th>region</th>\n",
       "      <th>price</th>\n",
       "      <th>year</th>\n",
       "      <th>manufacturer</th>\n",
       "      <th>model</th>\n",
       "      <th>condition</th>\n",
       "      <th>cylinders</th>\n",
       "      <th>fuel</th>\n",
       "      <th>odometer</th>\n",
       "      <th>title_status</th>\n",
       "      <th>transmission</th>\n",
       "      <th>drive</th>\n",
       "      <th>size</th>\n",
       "      <th>type</th>\n",
       "      <th>paint_color</th>\n",
       "      <th>state</th>\n",
       "    </tr>\n",
       "  </thead>\n",
       "  <tbody>\n",
       "    <tr>\n",
       "      <th>0</th>\n",
       "      <td>7222695916</td>\n",
       "      <td>277</td>\n",
       "      <td>6000</td>\n",
       "      <td>2014.0</td>\n",
       "      <td>14</td>\n",
       "      <td>23679</td>\n",
       "      <td>2</td>\n",
       "      <td>6</td>\n",
       "      <td>2</td>\n",
       "      <td>57923.0</td>\n",
       "      <td>0</td>\n",
       "      <td>2</td>\n",
       "      <td>2</td>\n",
       "      <td>1</td>\n",
       "      <td>8</td>\n",
       "      <td>10</td>\n",
       "      <td>3</td>\n",
       "    </tr>\n",
       "    <tr>\n",
       "      <th>1</th>\n",
       "      <td>7218891961</td>\n",
       "      <td>105</td>\n",
       "      <td>11900</td>\n",
       "      <td>2014.0</td>\n",
       "      <td>14</td>\n",
       "      <td>23679</td>\n",
       "      <td>2</td>\n",
       "      <td>6</td>\n",
       "      <td>2</td>\n",
       "      <td>57923.0</td>\n",
       "      <td>0</td>\n",
       "      <td>2</td>\n",
       "      <td>2</td>\n",
       "      <td>1</td>\n",
       "      <td>8</td>\n",
       "      <td>10</td>\n",
       "      <td>2</td>\n",
       "    </tr>\n",
       "    <tr>\n",
       "      <th>2</th>\n",
       "      <td>7221797935</td>\n",
       "      <td>111</td>\n",
       "      <td>21000</td>\n",
       "      <td>2014.0</td>\n",
       "      <td>14</td>\n",
       "      <td>23679</td>\n",
       "      <td>2</td>\n",
       "      <td>6</td>\n",
       "      <td>2</td>\n",
       "      <td>57923.0</td>\n",
       "      <td>0</td>\n",
       "      <td>2</td>\n",
       "      <td>2</td>\n",
       "      <td>1</td>\n",
       "      <td>8</td>\n",
       "      <td>10</td>\n",
       "      <td>9</td>\n",
       "    </tr>\n",
       "    <tr>\n",
       "      <th>3</th>\n",
       "      <td>7222270760</td>\n",
       "      <td>396</td>\n",
       "      <td>1500</td>\n",
       "      <td>2014.0</td>\n",
       "      <td>14</td>\n",
       "      <td>23679</td>\n",
       "      <td>2</td>\n",
       "      <td>6</td>\n",
       "      <td>2</td>\n",
       "      <td>57923.0</td>\n",
       "      <td>0</td>\n",
       "      <td>2</td>\n",
       "      <td>2</td>\n",
       "      <td>1</td>\n",
       "      <td>8</td>\n",
       "      <td>10</td>\n",
       "      <td>19</td>\n",
       "    </tr>\n",
       "    <tr>\n",
       "      <th>4</th>\n",
       "      <td>7210384030</td>\n",
       "      <td>131</td>\n",
       "      <td>4900</td>\n",
       "      <td>2014.0</td>\n",
       "      <td>14</td>\n",
       "      <td>23679</td>\n",
       "      <td>2</td>\n",
       "      <td>6</td>\n",
       "      <td>2</td>\n",
       "      <td>57923.0</td>\n",
       "      <td>0</td>\n",
       "      <td>2</td>\n",
       "      <td>2</td>\n",
       "      <td>1</td>\n",
       "      <td>8</td>\n",
       "      <td>10</td>\n",
       "      <td>27</td>\n",
       "    </tr>\n",
       "    <tr>\n",
       "      <th>...</th>\n",
       "      <td>...</td>\n",
       "      <td>...</td>\n",
       "      <td>...</td>\n",
       "      <td>...</td>\n",
       "      <td>...</td>\n",
       "      <td>...</td>\n",
       "      <td>...</td>\n",
       "      <td>...</td>\n",
       "      <td>...</td>\n",
       "      <td>...</td>\n",
       "      <td>...</td>\n",
       "      <td>...</td>\n",
       "      <td>...</td>\n",
       "      <td>...</td>\n",
       "      <td>...</td>\n",
       "      <td>...</td>\n",
       "      <td>...</td>\n",
       "    </tr>\n",
       "    <tr>\n",
       "      <th>426875</th>\n",
       "      <td>7301591192</td>\n",
       "      <td>397</td>\n",
       "      <td>23590</td>\n",
       "      <td>2019.0</td>\n",
       "      <td>31</td>\n",
       "      <td>19177</td>\n",
       "      <td>2</td>\n",
       "      <td>5</td>\n",
       "      <td>2</td>\n",
       "      <td>32226.0</td>\n",
       "      <td>0</td>\n",
       "      <td>2</td>\n",
       "      <td>1</td>\n",
       "      <td>1</td>\n",
       "      <td>9</td>\n",
       "      <td>10</td>\n",
       "      <td>50</td>\n",
       "    </tr>\n",
       "    <tr>\n",
       "      <th>426876</th>\n",
       "      <td>7301591187</td>\n",
       "      <td>397</td>\n",
       "      <td>30590</td>\n",
       "      <td>2020.0</td>\n",
       "      <td>41</td>\n",
       "      <td>22979</td>\n",
       "      <td>2</td>\n",
       "      <td>5</td>\n",
       "      <td>2</td>\n",
       "      <td>12029.0</td>\n",
       "      <td>0</td>\n",
       "      <td>2</td>\n",
       "      <td>1</td>\n",
       "      <td>1</td>\n",
       "      <td>9</td>\n",
       "      <td>8</td>\n",
       "      <td>50</td>\n",
       "    </tr>\n",
       "    <tr>\n",
       "      <th>426877</th>\n",
       "      <td>7301591147</td>\n",
       "      <td>397</td>\n",
       "      <td>34990</td>\n",
       "      <td>2020.0</td>\n",
       "      <td>6</td>\n",
       "      <td>28525</td>\n",
       "      <td>2</td>\n",
       "      <td>5</td>\n",
       "      <td>0</td>\n",
       "      <td>4174.0</td>\n",
       "      <td>0</td>\n",
       "      <td>2</td>\n",
       "      <td>1</td>\n",
       "      <td>1</td>\n",
       "      <td>4</td>\n",
       "      <td>10</td>\n",
       "      <td>50</td>\n",
       "    </tr>\n",
       "    <tr>\n",
       "      <th>426878</th>\n",
       "      <td>7301591140</td>\n",
       "      <td>397</td>\n",
       "      <td>28990</td>\n",
       "      <td>2018.0</td>\n",
       "      <td>23</td>\n",
       "      <td>13117</td>\n",
       "      <td>2</td>\n",
       "      <td>5</td>\n",
       "      <td>2</td>\n",
       "      <td>30112.0</td>\n",
       "      <td>0</td>\n",
       "      <td>2</td>\n",
       "      <td>1</td>\n",
       "      <td>1</td>\n",
       "      <td>9</td>\n",
       "      <td>9</td>\n",
       "      <td>50</td>\n",
       "    </tr>\n",
       "    <tr>\n",
       "      <th>426879</th>\n",
       "      <td>7301591129</td>\n",
       "      <td>397</td>\n",
       "      <td>30590</td>\n",
       "      <td>2019.0</td>\n",
       "      <td>4</td>\n",
       "      <td>2971</td>\n",
       "      <td>2</td>\n",
       "      <td>5</td>\n",
       "      <td>2</td>\n",
       "      <td>22716.0</td>\n",
       "      <td>0</td>\n",
       "      <td>2</td>\n",
       "      <td>2</td>\n",
       "      <td>1</td>\n",
       "      <td>3</td>\n",
       "      <td>9</td>\n",
       "      <td>50</td>\n",
       "    </tr>\n",
       "  </tbody>\n",
       "</table>\n",
       "<p>418703 rows × 17 columns</p>\n",
       "</div>"
      ],
      "text/plain": [
       "                id  region  price    year  manufacturer  model  condition  \\\n",
       "0       7222695916     277   6000  2014.0            14  23679          2   \n",
       "1       7218891961     105  11900  2014.0            14  23679          2   \n",
       "2       7221797935     111  21000  2014.0            14  23679          2   \n",
       "3       7222270760     396   1500  2014.0            14  23679          2   \n",
       "4       7210384030     131   4900  2014.0            14  23679          2   \n",
       "...            ...     ...    ...     ...           ...    ...        ...   \n",
       "426875  7301591192     397  23590  2019.0            31  19177          2   \n",
       "426876  7301591187     397  30590  2020.0            41  22979          2   \n",
       "426877  7301591147     397  34990  2020.0             6  28525          2   \n",
       "426878  7301591140     397  28990  2018.0            23  13117          2   \n",
       "426879  7301591129     397  30590  2019.0             4   2971          2   \n",
       "\n",
       "        cylinders  fuel  odometer  title_status  transmission  drive  size  \\\n",
       "0               6     2   57923.0             0             2      2     1   \n",
       "1               6     2   57923.0             0             2      2     1   \n",
       "2               6     2   57923.0             0             2      2     1   \n",
       "3               6     2   57923.0             0             2      2     1   \n",
       "4               6     2   57923.0             0             2      2     1   \n",
       "...           ...   ...       ...           ...           ...    ...   ...   \n",
       "426875          5     2   32226.0             0             2      1     1   \n",
       "426876          5     2   12029.0             0             2      1     1   \n",
       "426877          5     0    4174.0             0             2      1     1   \n",
       "426878          5     2   30112.0             0             2      1     1   \n",
       "426879          5     2   22716.0             0             2      2     1   \n",
       "\n",
       "        type  paint_color  state  \n",
       "0          8           10      3  \n",
       "1          8           10      2  \n",
       "2          8           10      9  \n",
       "3          8           10     19  \n",
       "4          8           10     27  \n",
       "...      ...          ...    ...  \n",
       "426875     9           10     50  \n",
       "426876     9            8     50  \n",
       "426877     4           10     50  \n",
       "426878     9            9     50  \n",
       "426879     3            9     50  \n",
       "\n",
       "[418703 rows x 17 columns]"
      ]
     },
     "execution_count": 202,
     "metadata": {},
     "output_type": "execute_result"
    }
   ],
   "source": [
    "veh_enc[\"size\"] = veh_enc[\"size\"].astype('category')\n",
    "veh_enc[\"size\"] = veh_enc[\"size\"].cat.codes\n",
    "\n",
    "veh_enc[\"manufacturer\"] = veh_enc[\"manufacturer\"].astype('category')\n",
    "veh_enc[\"manufacturer\"] = veh_enc[\"manufacturer\"].cat.codes\n",
    "\n",
    "veh_enc[\"model\"] = veh_enc[\"model\"].astype('category')\n",
    "veh_enc[\"model\"] = veh_enc[\"model\"].cat.codes\n",
    "\n",
    "veh_enc[\"condition\"] = veh_enc[\"condition\"].astype('category')\n",
    "veh_enc[\"condition\"] = veh_enc[\"condition\"].cat.codes\n",
    "\n",
    "veh_enc[\"cylinders\"] = veh_enc[\"cylinders\"].astype('category')\n",
    "veh_enc[\"cylinders\"] = veh_enc[\"cylinders\"].cat.codes\n",
    "\n",
    "veh_enc[\"fuel\"] = veh_enc[\"fuel\"].astype('category')\n",
    "veh_enc[\"fuel\"] = veh_enc[\"fuel\"].cat.codes\n",
    "\n",
    "veh_enc[\"title_status\"] = veh_enc[\"title_status\"].astype('category')\n",
    "veh_enc[\"title_status\"] = veh_enc[\"title_status\"].cat.codes\n",
    "\n",
    "veh_enc[\"transmission\"] = veh_enc[\"transmission\"].astype('category')\n",
    "veh_enc[\"transmission\"] = veh_enc[\"transmission\"].cat.codes\n",
    "\n",
    "veh_enc[\"drive\"] = veh_enc[\"drive\"].astype('category')\n",
    "veh_enc[\"drive\"] = veh_enc[\"drive\"].cat.codes\n",
    "\n",
    "veh_enc[\"type\"] = veh_enc[\"type\"].astype('category')\n",
    "veh_enc[\"type\"] = veh_enc[\"type\"].cat.codes\n",
    "\n",
    "veh_enc[\"paint_color\"] = veh_enc[\"paint_color\"].astype('category')\n",
    "veh_enc[\"paint_color\"] = veh_enc[\"paint_color\"].cat.codes\n",
    "\n",
    "veh_enc[\"state\"] = veh_enc[\"state\"].astype('category')\n",
    "veh_enc[\"state\"] = veh_enc[\"state\"].cat.codes\n",
    "\n",
    "veh_enc[\"region\"] = veh_enc[\"region\"].astype('category')\n",
    "veh_enc[\"region\"] = veh_enc[\"region\"].cat.codes\n",
    "veh_enc"
   ]
  },
  {
   "cell_type": "markdown",
   "id": "e28104db",
   "metadata": {},
   "source": [
    "### 6. Plot a Histogram of the encoded data"
   ]
  },
  {
   "cell_type": "code",
   "execution_count": 203,
   "id": "d7b9e820",
   "metadata": {},
   "outputs": [
    {
     "data": {
      "text/plain": [
       "array([[<AxesSubplot:title={'center':'id'}>,\n",
       "        <AxesSubplot:title={'center':'region'}>,\n",
       "        <AxesSubplot:title={'center':'price'}>,\n",
       "        <AxesSubplot:title={'center':'year'}>],\n",
       "       [<AxesSubplot:title={'center':'manufacturer'}>,\n",
       "        <AxesSubplot:title={'center':'model'}>,\n",
       "        <AxesSubplot:title={'center':'condition'}>,\n",
       "        <AxesSubplot:title={'center':'cylinders'}>],\n",
       "       [<AxesSubplot:title={'center':'fuel'}>,\n",
       "        <AxesSubplot:title={'center':'odometer'}>,\n",
       "        <AxesSubplot:title={'center':'title_status'}>,\n",
       "        <AxesSubplot:title={'center':'transmission'}>],\n",
       "       [<AxesSubplot:title={'center':'drive'}>,\n",
       "        <AxesSubplot:title={'center':'size'}>,\n",
       "        <AxesSubplot:title={'center':'type'}>,\n",
       "        <AxesSubplot:title={'center':'paint_color'}>],\n",
       "       [<AxesSubplot:title={'center':'state'}>, <AxesSubplot:>,\n",
       "        <AxesSubplot:>, <AxesSubplot:>]], dtype=object)"
      ]
     },
     "execution_count": 203,
     "metadata": {},
     "output_type": "execute_result"
    },
    {
     "data": {
      "image/png": "[encoded data removed]",
      "text/plain": [
       "<Figure size 1440x1080 with 20 Axes>"
      ]
     },
     "metadata": {
      "needs_background": "light"
     },
     "output_type": "display_data"
    }
   ],
   "source": [
    "veh_enc.hist(bins=50, figsize=(20,15))"
   ]
  },
  {
   "cell_type": "code",
   "execution_count": 204,
   "id": "c7aecef1",
   "metadata": {},
   "outputs": [
    {
     "data": {
      "text/plain": [
       "Text(0.5, 1.0, 'Actual vs Predicted')"
      ]
     },
     "execution_count": 204,
     "metadata": {},
     "output_type": "execute_result"
    },
    {
     "data": {
      "text/plain": [
       "<Figure size 720x432 with 0 Axes>"
      ]
     },
     "metadata": {},
     "output_type": "display_data"
    },
    {
     "data": {
      "image/png": "[encoded data removed]",
      "text/plain": [
       "<Figure size 432x288 with 1 Axes>"
      ]
     },
     "metadata": {
      "needs_background": "light"
     },
     "output_type": "display_data"
    }
   ],
   "source": [
    "plt.figure(figsize=(10,6))\n",
    "veh_enc.plot(kind='hist', x='price', y='model')\n",
    "plt.xlabel('Actual')\n",
    "plt.ylabel('Predicted')\n",
    "plt.title('Actual vs Predicted')"
   ]
  },
  {
   "cell_type": "markdown",
   "id": "16d967bd",
   "metadata": {},
   "source": [
    "### 7. Correlations"
   ]
  },
  {
   "cell_type": "code",
   "execution_count": 205,
   "id": "6eb0abeb",
   "metadata": {},
   "outputs": [
    {
     "data": {
      "text/html": [
       "<div>\n",
       "<style scoped>\n",
       "    .dataframe tbody tr th:only-of-type {\n",
       "        vertical-align: middle;\n",
       "    }\n",
       "\n",
       "    .dataframe tbody tr th {\n",
       "        vertical-align: top;\n",
       "    }\n",
       "\n",
       "    .dataframe thead th {\n",
       "        text-align: right;\n",
       "    }\n",
       "</style>\n",
       "<table border=\"1\" class=\"dataframe\">\n",
       "  <thead>\n",
       "    <tr style=\"text-align: right;\">\n",
       "      <th></th>\n",
       "      <th>region</th>\n",
       "      <th>price</th>\n",
       "      <th>year</th>\n",
       "      <th>manufacturer</th>\n",
       "      <th>model</th>\n",
       "      <th>condition</th>\n",
       "      <th>cylinders</th>\n",
       "      <th>fuel</th>\n",
       "      <th>odometer</th>\n",
       "      <th>title_status</th>\n",
       "      <th>transmission</th>\n",
       "      <th>drive</th>\n",
       "      <th>size</th>\n",
       "      <th>type</th>\n",
       "      <th>paint_color</th>\n",
       "      <th>state</th>\n",
       "    </tr>\n",
       "  </thead>\n",
       "  <tbody>\n",
       "    <tr>\n",
       "      <th>region</th>\n",
       "      <td>1.000000</td>\n",
       "      <td>-0.020763</td>\n",
       "      <td>-0.004157</td>\n",
       "      <td>0.001649</td>\n",
       "      <td>-0.000126</td>\n",
       "      <td>-0.019182</td>\n",
       "      <td>-0.005632</td>\n",
       "      <td>-0.004121</td>\n",
       "      <td>-0.001220</td>\n",
       "      <td>-0.007775</td>\n",
       "      <td>-0.015365</td>\n",
       "      <td>0.010804</td>\n",
       "      <td>-0.015130</td>\n",
       "      <td>0.003995</td>\n",
       "      <td>-0.002052</td>\n",
       "      <td>-0.038317</td>\n",
       "    </tr>\n",
       "    <tr>\n",
       "      <th>price</th>\n",
       "      <td>-0.020763</td>\n",
       "      <td>1.000000</td>\n",
       "      <td>0.355200</td>\n",
       "      <td>-0.041442</td>\n",
       "      <td>0.026248</td>\n",
       "      <td>0.107373</td>\n",
       "      <td>0.199962</td>\n",
       "      <td>-0.005508</td>\n",
       "      <td>-0.162614</td>\n",
       "      <td>-0.089235</td>\n",
       "      <td>0.307236</td>\n",
       "      <td>-0.068789</td>\n",
       "      <td>-0.001453</td>\n",
       "      <td>0.039414</td>\n",
       "      <td>0.017881</td>\n",
       "      <td>0.010079</td>\n",
       "    </tr>\n",
       "    <tr>\n",
       "      <th>year</th>\n",
       "      <td>-0.004157</td>\n",
       "      <td>0.355200</td>\n",
       "      <td>1.000000</td>\n",
       "      <td>0.027750</td>\n",
       "      <td>0.052774</td>\n",
       "      <td>0.051114</td>\n",
       "      <td>-0.070556</td>\n",
       "      <td>0.107189</td>\n",
       "      <td>-0.155130</td>\n",
       "      <td>-0.018969</td>\n",
       "      <td>0.135693</td>\n",
       "      <td>-0.114218</td>\n",
       "      <td>0.001756</td>\n",
       "      <td>0.013457</td>\n",
       "      <td>0.007214</td>\n",
       "      <td>0.010456</td>\n",
       "    </tr>\n",
       "    <tr>\n",
       "      <th>manufacturer</th>\n",
       "      <td>0.001649</td>\n",
       "      <td>-0.041442</td>\n",
       "      <td>0.027750</td>\n",
       "      <td>1.000000</td>\n",
       "      <td>-0.018386</td>\n",
       "      <td>-0.020073</td>\n",
       "      <td>-0.122711</td>\n",
       "      <td>-0.025099</td>\n",
       "      <td>-0.000722</td>\n",
       "      <td>0.014021</td>\n",
       "      <td>-0.000205</td>\n",
       "      <td>-0.068355</td>\n",
       "      <td>-0.000655</td>\n",
       "      <td>0.038011</td>\n",
       "      <td>0.006123</td>\n",
       "      <td>-0.012771</td>\n",
       "    </tr>\n",
       "    <tr>\n",
       "      <th>model</th>\n",
       "      <td>-0.000126</td>\n",
       "      <td>0.026248</td>\n",
       "      <td>0.052774</td>\n",
       "      <td>-0.018386</td>\n",
       "      <td>1.000000</td>\n",
       "      <td>0.001235</td>\n",
       "      <td>0.038252</td>\n",
       "      <td>0.073056</td>\n",
       "      <td>-0.007928</td>\n",
       "      <td>-0.010276</td>\n",
       "      <td>0.012444</td>\n",
       "      <td>-0.098435</td>\n",
       "      <td>0.002927</td>\n",
       "      <td>-0.089162</td>\n",
       "      <td>0.009343</td>\n",
       "      <td>0.003504</td>\n",
       "    </tr>\n",
       "    <tr>\n",
       "      <th>condition</th>\n",
       "      <td>-0.019182</td>\n",
       "      <td>0.107373</td>\n",
       "      <td>0.051114</td>\n",
       "      <td>-0.020073</td>\n",
       "      <td>0.001235</td>\n",
       "      <td>1.000000</td>\n",
       "      <td>0.068600</td>\n",
       "      <td>0.094041</td>\n",
       "      <td>-0.023420</td>\n",
       "      <td>0.000879</td>\n",
       "      <td>0.231510</td>\n",
       "      <td>0.062349</td>\n",
       "      <td>-0.002753</td>\n",
       "      <td>0.033196</td>\n",
       "      <td>-0.005268</td>\n",
       "      <td>0.029656</td>\n",
       "    </tr>\n",
       "    <tr>\n",
       "      <th>cylinders</th>\n",
       "      <td>-0.005632</td>\n",
       "      <td>0.199962</td>\n",
       "      <td>-0.070556</td>\n",
       "      <td>-0.122711</td>\n",
       "      <td>0.038252</td>\n",
       "      <td>0.068600</td>\n",
       "      <td>1.000000</td>\n",
       "      <td>-0.028989</td>\n",
       "      <td>0.009578</td>\n",
       "      <td>-0.046369</td>\n",
       "      <td>0.098820</td>\n",
       "      <td>-0.013986</td>\n",
       "      <td>-0.006446</td>\n",
       "      <td>0.032865</td>\n",
       "      <td>0.019090</td>\n",
       "      <td>0.028747</td>\n",
       "    </tr>\n",
       "    <tr>\n",
       "      <th>fuel</th>\n",
       "      <td>-0.004121</td>\n",
       "      <td>-0.005508</td>\n",
       "      <td>0.107189</td>\n",
       "      <td>-0.025099</td>\n",
       "      <td>0.073056</td>\n",
       "      <td>0.094041</td>\n",
       "      <td>-0.028989</td>\n",
       "      <td>1.000000</td>\n",
       "      <td>-0.073469</td>\n",
       "      <td>-0.013124</td>\n",
       "      <td>0.262942</td>\n",
       "      <td>0.062470</td>\n",
       "      <td>0.010062</td>\n",
       "      <td>-0.059668</td>\n",
       "      <td>-0.040134</td>\n",
       "      <td>-0.027363</td>\n",
       "    </tr>\n",
       "    <tr>\n",
       "      <th>odometer</th>\n",
       "      <td>-0.001220</td>\n",
       "      <td>-0.162614</td>\n",
       "      <td>-0.155130</td>\n",
       "      <td>-0.000722</td>\n",
       "      <td>-0.007928</td>\n",
       "      <td>-0.023420</td>\n",
       "      <td>0.009578</td>\n",
       "      <td>-0.073469</td>\n",
       "      <td>1.000000</td>\n",
       "      <td>0.008947</td>\n",
       "      <td>-0.102936</td>\n",
       "      <td>-0.012854</td>\n",
       "      <td>-0.001977</td>\n",
       "      <td>0.005508</td>\n",
       "      <td>0.007102</td>\n",
       "      <td>-0.001064</td>\n",
       "    </tr>\n",
       "    <tr>\n",
       "      <th>title_status</th>\n",
       "      <td>-0.007775</td>\n",
       "      <td>-0.089235</td>\n",
       "      <td>-0.018969</td>\n",
       "      <td>0.014021</td>\n",
       "      <td>-0.010276</td>\n",
       "      <td>0.000879</td>\n",
       "      <td>-0.046369</td>\n",
       "      <td>-0.013124</td>\n",
       "      <td>0.008947</td>\n",
       "      <td>1.000000</td>\n",
       "      <td>-0.053997</td>\n",
       "      <td>0.002641</td>\n",
       "      <td>-0.002503</td>\n",
       "      <td>-0.002931</td>\n",
       "      <td>-0.007670</td>\n",
       "      <td>0.003890</td>\n",
       "    </tr>\n",
       "    <tr>\n",
       "      <th>transmission</th>\n",
       "      <td>-0.015365</td>\n",
       "      <td>0.307236</td>\n",
       "      <td>0.135693</td>\n",
       "      <td>-0.000205</td>\n",
       "      <td>0.012444</td>\n",
       "      <td>0.231510</td>\n",
       "      <td>0.098820</td>\n",
       "      <td>0.262942</td>\n",
       "      <td>-0.102936</td>\n",
       "      <td>-0.053997</td>\n",
       "      <td>1.000000</td>\n",
       "      <td>0.107652</td>\n",
       "      <td>-0.000431</td>\n",
       "      <td>0.033881</td>\n",
       "      <td>-0.007152</td>\n",
       "      <td>-0.007887</td>\n",
       "    </tr>\n",
       "    <tr>\n",
       "      <th>drive</th>\n",
       "      <td>0.010804</td>\n",
       "      <td>-0.068789</td>\n",
       "      <td>-0.114218</td>\n",
       "      <td>-0.068355</td>\n",
       "      <td>-0.098435</td>\n",
       "      <td>0.062349</td>\n",
       "      <td>-0.013986</td>\n",
       "      <td>0.062470</td>\n",
       "      <td>-0.012854</td>\n",
       "      <td>0.002641</td>\n",
       "      <td>0.107652</td>\n",
       "      <td>1.000000</td>\n",
       "      <td>-0.011842</td>\n",
       "      <td>0.094623</td>\n",
       "      <td>0.036863</td>\n",
       "      <td>-0.067077</td>\n",
       "    </tr>\n",
       "    <tr>\n",
       "      <th>size</th>\n",
       "      <td>-0.015130</td>\n",
       "      <td>-0.001453</td>\n",
       "      <td>0.001756</td>\n",
       "      <td>-0.000655</td>\n",
       "      <td>0.002927</td>\n",
       "      <td>-0.002753</td>\n",
       "      <td>-0.006446</td>\n",
       "      <td>0.010062</td>\n",
       "      <td>-0.001977</td>\n",
       "      <td>-0.002503</td>\n",
       "      <td>-0.000431</td>\n",
       "      <td>-0.011842</td>\n",
       "      <td>1.000000</td>\n",
       "      <td>-0.047762</td>\n",
       "      <td>-0.001331</td>\n",
       "      <td>0.022035</td>\n",
       "    </tr>\n",
       "    <tr>\n",
       "      <th>type</th>\n",
       "      <td>0.003995</td>\n",
       "      <td>0.039414</td>\n",
       "      <td>0.013457</td>\n",
       "      <td>0.038011</td>\n",
       "      <td>-0.089162</td>\n",
       "      <td>0.033196</td>\n",
       "      <td>0.032865</td>\n",
       "      <td>-0.059668</td>\n",
       "      <td>0.005508</td>\n",
       "      <td>-0.002931</td>\n",
       "      <td>0.033881</td>\n",
       "      <td>0.094623</td>\n",
       "      <td>-0.047762</td>\n",
       "      <td>1.000000</td>\n",
       "      <td>0.049892</td>\n",
       "      <td>-0.008451</td>\n",
       "    </tr>\n",
       "    <tr>\n",
       "      <th>paint_color</th>\n",
       "      <td>-0.002052</td>\n",
       "      <td>0.017881</td>\n",
       "      <td>0.007214</td>\n",
       "      <td>0.006123</td>\n",
       "      <td>0.009343</td>\n",
       "      <td>-0.005268</td>\n",
       "      <td>0.019090</td>\n",
       "      <td>-0.040134</td>\n",
       "      <td>0.007102</td>\n",
       "      <td>-0.007670</td>\n",
       "      <td>-0.007152</td>\n",
       "      <td>0.036863</td>\n",
       "      <td>-0.001331</td>\n",
       "      <td>0.049892</td>\n",
       "      <td>1.000000</td>\n",
       "      <td>-0.025092</td>\n",
       "    </tr>\n",
       "    <tr>\n",
       "      <th>state</th>\n",
       "      <td>-0.038317</td>\n",
       "      <td>0.010079</td>\n",
       "      <td>0.010456</td>\n",
       "      <td>-0.012771</td>\n",
       "      <td>0.003504</td>\n",
       "      <td>0.029656</td>\n",
       "      <td>0.028747</td>\n",
       "      <td>-0.027363</td>\n",
       "      <td>-0.001064</td>\n",
       "      <td>0.003890</td>\n",
       "      <td>-0.007887</td>\n",
       "      <td>-0.067077</td>\n",
       "      <td>0.022035</td>\n",
       "      <td>-0.008451</td>\n",
       "      <td>-0.025092</td>\n",
       "      <td>1.000000</td>\n",
       "    </tr>\n",
       "  </tbody>\n",
       "</table>\n",
       "</div>"
      ],
      "text/plain": [
       "                region     price      year  manufacturer     model  condition  \\\n",
       "region        1.000000 -0.020763 -0.004157      0.001649 -0.000126  -0.019182   \n",
       "price        -0.020763  1.000000  0.355200     -0.041442  0.026248   0.107373   \n",
       "year         -0.004157  0.355200  1.000000      0.027750  0.052774   0.051114   \n",
       "manufacturer  0.001649 -0.041442  0.027750      1.000000 -0.018386  -0.020073   \n",
       "model        -0.000126  0.026248  0.052774     -0.018386  1.000000   0.001235   \n",
       "condition    -0.019182  0.107373  0.051114     -0.020073  0.001235   1.000000   \n",
       "cylinders    -0.005632  0.199962 -0.070556     -0.122711  0.038252   0.068600   \n",
       "fuel         -0.004121 -0.005508  0.107189     -0.025099  0.073056   0.094041   \n",
       "odometer     -0.001220 -0.162614 -0.155130     -0.000722 -0.007928  -0.023420   \n",
       "title_status -0.007775 -0.089235 -0.018969      0.014021 -0.010276   0.000879   \n",
       "transmission -0.015365  0.307236  0.135693     -0.000205  0.012444   0.231510   \n",
       "drive         0.010804 -0.068789 -0.114218     -0.068355 -0.098435   0.062349   \n",
       "size         -0.015130 -0.001453  0.001756     -0.000655  0.002927  -0.002753   \n",
       "type          0.003995  0.039414  0.013457      0.038011 -0.089162   0.033196   \n",
       "paint_color  -0.002052  0.017881  0.007214      0.006123  0.009343  -0.005268   \n",
       "state        -0.038317  0.010079  0.010456     -0.012771  0.003504   0.029656   \n",
       "\n",
       "              cylinders      fuel  odometer  title_status  transmission  \\\n",
       "region        -0.005632 -0.004121 -0.001220     -0.007775     -0.015365   \n",
       "price          0.199962 -0.005508 -0.162614     -0.089235      0.307236   \n",
       "year          -0.070556  0.107189 -0.155130     -0.018969      0.135693   \n",
       "manufacturer  -0.122711 -0.025099 -0.000722      0.014021     -0.000205   \n",
       "model          0.038252  0.073056 -0.007928     -0.010276      0.012444   \n",
       "condition      0.068600  0.094041 -0.023420      0.000879      0.231510   \n",
       "cylinders      1.000000 -0.028989  0.009578     -0.046369      0.098820   \n",
       "fuel          -0.028989  1.000000 -0.073469     -0.013124      0.262942   \n",
       "odometer       0.009578 -0.073469  1.000000      0.008947     -0.102936   \n",
       "title_status  -0.046369 -0.013124  0.008947      1.000000     -0.053997   \n",
       "transmission   0.098820  0.262942 -0.102936     -0.053997      1.000000   \n",
       "drive         -0.013986  0.062470 -0.012854      0.002641      0.107652   \n",
       "size          -0.006446  0.010062 -0.001977     -0.002503     -0.000431   \n",
       "type           0.032865 -0.059668  0.005508     -0.002931      0.033881   \n",
       "paint_color    0.019090 -0.040134  0.007102     -0.007670     -0.007152   \n",
       "state          0.028747 -0.027363 -0.001064      0.003890     -0.007887   \n",
       "\n",
       "                 drive      size      type  paint_color     state  \n",
       "region        0.010804 -0.015130  0.003995    -0.002052 -0.038317  \n",
       "price        -0.068789 -0.001453  0.039414     0.017881  0.010079  \n",
       "year         -0.114218  0.001756  0.013457     0.007214  0.010456  \n",
       "manufacturer -0.068355 -0.000655  0.038011     0.006123 -0.012771  \n",
       "model        -0.098435  0.002927 -0.089162     0.009343  0.003504  \n",
       "condition     0.062349 -0.002753  0.033196    -0.005268  0.029656  \n",
       "cylinders    -0.013986 -0.006446  0.032865     0.019090  0.028747  \n",
       "fuel          0.062470  0.010062 -0.059668    -0.040134 -0.027363  \n",
       "odometer     -0.012854 -0.001977  0.005508     0.007102 -0.001064  \n",
       "title_status  0.002641 -0.002503 -0.002931    -0.007670  0.003890  \n",
       "transmission  0.107652 -0.000431  0.033881    -0.007152 -0.007887  \n",
       "drive         1.000000 -0.011842  0.094623     0.036863 -0.067077  \n",
       "size         -0.011842  1.000000 -0.047762    -0.001331  0.022035  \n",
       "type          0.094623 -0.047762  1.000000     0.049892 -0.008451  \n",
       "paint_color   0.036863 -0.001331  0.049892     1.000000 -0.025092  \n",
       "state        -0.067077  0.022035 -0.008451    -0.025092  1.000000  "
      ]
     },
     "execution_count": 205,
     "metadata": {},
     "output_type": "execute_result"
    }
   ],
   "source": [
    "veh_enc = veh_enc.set_index('id')\n",
    "corr_matrix = veh_enc.corr()\n",
    "corr_matrix"
   ]
  },
  {
   "cell_type": "code",
   "execution_count": 206,
   "id": "997d0a4b",
   "metadata": {},
   "outputs": [
    {
     "data": {
      "text/html": [
       "<div>\n",
       "<style scoped>\n",
       "    .dataframe tbody tr th:only-of-type {\n",
       "        vertical-align: middle;\n",
       "    }\n",
       "\n",
       "    .dataframe tbody tr th {\n",
       "        vertical-align: top;\n",
       "    }\n",
       "\n",
       "    .dataframe thead th {\n",
       "        text-align: right;\n",
       "    }\n",
       "</style>\n",
       "<table border=\"1\" class=\"dataframe\">\n",
       "  <thead>\n",
       "    <tr style=\"text-align: right;\">\n",
       "      <th></th>\n",
       "      <th>region</th>\n",
       "      <th>price</th>\n",
       "      <th>year</th>\n",
       "      <th>manufacturer</th>\n",
       "      <th>model</th>\n",
       "      <th>condition</th>\n",
       "      <th>cylinders</th>\n",
       "      <th>fuel</th>\n",
       "      <th>odometer</th>\n",
       "      <th>title_status</th>\n",
       "      <th>transmission</th>\n",
       "      <th>drive</th>\n",
       "      <th>size</th>\n",
       "      <th>type</th>\n",
       "      <th>paint_color</th>\n",
       "      <th>state</th>\n",
       "    </tr>\n",
       "    <tr>\n",
       "      <th>id</th>\n",
       "      <th></th>\n",
       "      <th></th>\n",
       "      <th></th>\n",
       "      <th></th>\n",
       "      <th></th>\n",
       "      <th></th>\n",
       "      <th></th>\n",
       "      <th></th>\n",
       "      <th></th>\n",
       "      <th></th>\n",
       "      <th></th>\n",
       "      <th></th>\n",
       "      <th></th>\n",
       "      <th></th>\n",
       "      <th></th>\n",
       "      <th></th>\n",
       "    </tr>\n",
       "  </thead>\n",
       "  <tbody>\n",
       "    <tr>\n",
       "      <th>7222695916</th>\n",
       "      <td>277</td>\n",
       "      <td>6000</td>\n",
       "      <td>2014.0</td>\n",
       "      <td>14</td>\n",
       "      <td>23679</td>\n",
       "      <td>2</td>\n",
       "      <td>6</td>\n",
       "      <td>2</td>\n",
       "      <td>57923.0</td>\n",
       "      <td>0</td>\n",
       "      <td>2</td>\n",
       "      <td>2</td>\n",
       "      <td>1</td>\n",
       "      <td>8</td>\n",
       "      <td>10</td>\n",
       "      <td>3</td>\n",
       "    </tr>\n",
       "    <tr>\n",
       "      <th>7218891961</th>\n",
       "      <td>105</td>\n",
       "      <td>11900</td>\n",
       "      <td>2014.0</td>\n",
       "      <td>14</td>\n",
       "      <td>23679</td>\n",
       "      <td>2</td>\n",
       "      <td>6</td>\n",
       "      <td>2</td>\n",
       "      <td>57923.0</td>\n",
       "      <td>0</td>\n",
       "      <td>2</td>\n",
       "      <td>2</td>\n",
       "      <td>1</td>\n",
       "      <td>8</td>\n",
       "      <td>10</td>\n",
       "      <td>2</td>\n",
       "    </tr>\n",
       "    <tr>\n",
       "      <th>7221797935</th>\n",
       "      <td>111</td>\n",
       "      <td>21000</td>\n",
       "      <td>2014.0</td>\n",
       "      <td>14</td>\n",
       "      <td>23679</td>\n",
       "      <td>2</td>\n",
       "      <td>6</td>\n",
       "      <td>2</td>\n",
       "      <td>57923.0</td>\n",
       "      <td>0</td>\n",
       "      <td>2</td>\n",
       "      <td>2</td>\n",
       "      <td>1</td>\n",
       "      <td>8</td>\n",
       "      <td>10</td>\n",
       "      <td>9</td>\n",
       "    </tr>\n",
       "  </tbody>\n",
       "</table>\n",
       "</div>"
      ],
      "text/plain": [
       "            region  price    year  manufacturer  model  condition  cylinders  \\\n",
       "id                                                                             \n",
       "7222695916     277   6000  2014.0            14  23679          2          6   \n",
       "7218891961     105  11900  2014.0            14  23679          2          6   \n",
       "7221797935     111  21000  2014.0            14  23679          2          6   \n",
       "\n",
       "            fuel  odometer  title_status  transmission  drive  size  type  \\\n",
       "id                                                                          \n",
       "7222695916     2   57923.0             0             2      2     1     8   \n",
       "7218891961     2   57923.0             0             2      2     1     8   \n",
       "7221797935     2   57923.0             0             2      2     1     8   \n",
       "\n",
       "            paint_color  state  \n",
       "id                              \n",
       "7222695916           10      3  \n",
       "7218891961           10      2  \n",
       "7221797935           10      9  "
      ]
     },
     "execution_count": 206,
     "metadata": {},
     "output_type": "execute_result"
    }
   ],
   "source": [
    "veh_enc.head(3)"
   ]
  },
  {
   "cell_type": "code",
   "execution_count": 207,
   "id": "06b45765",
   "metadata": {},
   "outputs": [
    {
     "data": {
      "text/plain": [
       "price           1.000000\n",
       "year            0.355200\n",
       "transmission    0.307236\n",
       "cylinders       0.199962\n",
       "condition       0.107373\n",
       "type            0.039414\n",
       "model           0.026248\n",
       "paint_color     0.017881\n",
       "state           0.010079\n",
       "size           -0.001453\n",
       "fuel           -0.005508\n",
       "region         -0.020763\n",
       "manufacturer   -0.041442\n",
       "drive          -0.068789\n",
       "title_status   -0.089235\n",
       "odometer       -0.162614\n",
       "Name: price, dtype: float64"
      ]
     },
     "execution_count": 207,
     "metadata": {},
     "output_type": "execute_result"
    }
   ],
   "source": [
    "corr_matrix['price'].sort_values(ascending=False)"
   ]
  },
  {
   "cell_type": "code",
   "execution_count": 208,
   "id": "366ffa8d",
   "metadata": {},
   "outputs": [
    {
     "data": {
      "image/png": "[encoded data removed]",
      "text/plain": [
       "<Figure size 864x576 with 16 Axes>"
      ]
     },
     "metadata": {
      "needs_background": "light"
     },
     "output_type": "display_data"
    }
   ],
   "source": [
    "from pandas.plotting import scatter_matrix\n",
    "attributes = ['price','year','transmission','odometer']\n",
    "scatter_matrix(veh_enc[attributes], figsize=(12,8))\n",
    "plt.show()"
   ]
  },
  {
   "cell_type": "code",
   "execution_count": 209,
   "id": "101dfdc9",
   "metadata": {},
   "outputs": [
    {
     "data": {
      "image/png": "[encoded data removed]",
      "text/plain": [
       "<Figure size 864x576 with 16 Axes>"
      ]
     },
     "metadata": {
      "needs_background": "light"
     },
     "output_type": "display_data"
    }
   ],
   "source": [
    "attributes2 = ['price','cylinders','condition','type']\n",
    "scatter_matrix(veh_enc[attributes2], figsize=(12,8))\n",
    "plt.show()"
   ]
  },
  {
   "cell_type": "code",
   "execution_count": 210,
   "id": "ee61a30b",
   "metadata": {},
   "outputs": [
    {
     "data": {
      "image/png": "[encoded data removed]",
      "text/plain": [
       "<Figure size 864x576 with 25 Axes>"
      ]
     },
     "metadata": {
      "needs_background": "light"
     },
     "output_type": "display_data"
    }
   ],
   "source": [
    "attributes3 = ['price','region','model','manufacturer','state']\n",
    "scatter_matrix(veh_enc[attributes3], figsize=(12,8))\n",
    "plt.show()"
   ]
  },
  {
   "cell_type": "code",
   "execution_count": 211,
   "id": "bdd97de7",
   "metadata": {},
   "outputs": [
    {
     "data": {
      "text/html": [
       "<div>\n",
       "<style scoped>\n",
       "    .dataframe tbody tr th:only-of-type {\n",
       "        vertical-align: middle;\n",
       "    }\n",
       "\n",
       "    .dataframe tbody tr th {\n",
       "        vertical-align: top;\n",
       "    }\n",
       "\n",
       "    .dataframe thead th {\n",
       "        text-align: right;\n",
       "    }\n",
       "</style>\n",
       "<table border=\"1\" class=\"dataframe\">\n",
       "  <thead>\n",
       "    <tr style=\"text-align: right;\">\n",
       "      <th></th>\n",
       "      <th>region</th>\n",
       "      <th>price</th>\n",
       "      <th>year</th>\n",
       "      <th>manufacturer</th>\n",
       "      <th>model</th>\n",
       "      <th>condition</th>\n",
       "      <th>cylinders</th>\n",
       "      <th>fuel</th>\n",
       "      <th>odometer</th>\n",
       "      <th>title_status</th>\n",
       "      <th>transmission</th>\n",
       "      <th>drive</th>\n",
       "      <th>size</th>\n",
       "      <th>type</th>\n",
       "      <th>paint_color</th>\n",
       "      <th>state</th>\n",
       "    </tr>\n",
       "    <tr>\n",
       "      <th>id</th>\n",
       "      <th></th>\n",
       "      <th></th>\n",
       "      <th></th>\n",
       "      <th></th>\n",
       "      <th></th>\n",
       "      <th></th>\n",
       "      <th></th>\n",
       "      <th></th>\n",
       "      <th></th>\n",
       "      <th></th>\n",
       "      <th></th>\n",
       "      <th></th>\n",
       "      <th></th>\n",
       "      <th></th>\n",
       "      <th></th>\n",
       "      <th></th>\n",
       "    </tr>\n",
       "  </thead>\n",
       "  <tbody>\n",
       "    <tr>\n",
       "      <th>7222695916</th>\n",
       "      <td>277</td>\n",
       "      <td>6000</td>\n",
       "      <td>2014.0</td>\n",
       "      <td>14</td>\n",
       "      <td>23679</td>\n",
       "      <td>2</td>\n",
       "      <td>6</td>\n",
       "      <td>2</td>\n",
       "      <td>57923.0</td>\n",
       "      <td>0</td>\n",
       "      <td>2</td>\n",
       "      <td>2</td>\n",
       "      <td>1</td>\n",
       "      <td>8</td>\n",
       "      <td>10</td>\n",
       "      <td>3</td>\n",
       "    </tr>\n",
       "    <tr>\n",
       "      <th>7218891961</th>\n",
       "      <td>105</td>\n",
       "      <td>11900</td>\n",
       "      <td>2014.0</td>\n",
       "      <td>14</td>\n",
       "      <td>23679</td>\n",
       "      <td>2</td>\n",
       "      <td>6</td>\n",
       "      <td>2</td>\n",
       "      <td>57923.0</td>\n",
       "      <td>0</td>\n",
       "      <td>2</td>\n",
       "      <td>2</td>\n",
       "      <td>1</td>\n",
       "      <td>8</td>\n",
       "      <td>10</td>\n",
       "      <td>2</td>\n",
       "    </tr>\n",
       "    <tr>\n",
       "      <th>7221797935</th>\n",
       "      <td>111</td>\n",
       "      <td>21000</td>\n",
       "      <td>2014.0</td>\n",
       "      <td>14</td>\n",
       "      <td>23679</td>\n",
       "      <td>2</td>\n",
       "      <td>6</td>\n",
       "      <td>2</td>\n",
       "      <td>57923.0</td>\n",
       "      <td>0</td>\n",
       "      <td>2</td>\n",
       "      <td>2</td>\n",
       "      <td>1</td>\n",
       "      <td>8</td>\n",
       "      <td>10</td>\n",
       "      <td>9</td>\n",
       "    </tr>\n",
       "    <tr>\n",
       "      <th>7222270760</th>\n",
       "      <td>396</td>\n",
       "      <td>1500</td>\n",
       "      <td>2014.0</td>\n",
       "      <td>14</td>\n",
       "      <td>23679</td>\n",
       "      <td>2</td>\n",
       "      <td>6</td>\n",
       "      <td>2</td>\n",
       "      <td>57923.0</td>\n",
       "      <td>0</td>\n",
       "      <td>2</td>\n",
       "      <td>2</td>\n",
       "      <td>1</td>\n",
       "      <td>8</td>\n",
       "      <td>10</td>\n",
       "      <td>19</td>\n",
       "    </tr>\n",
       "    <tr>\n",
       "      <th>7210384030</th>\n",
       "      <td>131</td>\n",
       "      <td>4900</td>\n",
       "      <td>2014.0</td>\n",
       "      <td>14</td>\n",
       "      <td>23679</td>\n",
       "      <td>2</td>\n",
       "      <td>6</td>\n",
       "      <td>2</td>\n",
       "      <td>57923.0</td>\n",
       "      <td>0</td>\n",
       "      <td>2</td>\n",
       "      <td>2</td>\n",
       "      <td>1</td>\n",
       "      <td>8</td>\n",
       "      <td>10</td>\n",
       "      <td>27</td>\n",
       "    </tr>\n",
       "  </tbody>\n",
       "</table>\n",
       "</div>"
      ],
      "text/plain": [
       "            region  price    year  manufacturer  model  condition  cylinders  \\\n",
       "id                                                                             \n",
       "7222695916     277   6000  2014.0            14  23679          2          6   \n",
       "7218891961     105  11900  2014.0            14  23679          2          6   \n",
       "7221797935     111  21000  2014.0            14  23679          2          6   \n",
       "7222270760     396   1500  2014.0            14  23679          2          6   \n",
       "7210384030     131   4900  2014.0            14  23679          2          6   \n",
       "\n",
       "            fuel  odometer  title_status  transmission  drive  size  type  \\\n",
       "id                                                                          \n",
       "7222695916     2   57923.0             0             2      2     1     8   \n",
       "7218891961     2   57923.0             0             2      2     1     8   \n",
       "7221797935     2   57923.0             0             2      2     1     8   \n",
       "7222270760     2   57923.0             0             2      2     1     8   \n",
       "7210384030     2   57923.0             0             2      2     1     8   \n",
       "\n",
       "            paint_color  state  \n",
       "id                              \n",
       "7222695916           10      3  \n",
       "7218891961           10      2  \n",
       "7221797935           10      9  \n",
       "7222270760           10     19  \n",
       "7210384030           10     27  "
      ]
     },
     "execution_count": 211,
     "metadata": {},
     "output_type": "execute_result"
    }
   ],
   "source": [
    "veh_enc.head()"
   ]
  },
  {
   "cell_type": "code",
   "execution_count": 212,
   "id": "854e64e5",
   "metadata": {},
   "outputs": [
    {
     "name": "stdout",
     "output_type": "stream",
     "text": [
      "<class 'pandas.core.frame.DataFrame'>\n",
      "Int64Index: 418703 entries, 7222695916 to 7301591129\n",
      "Data columns (total 16 columns):\n",
      " #   Column        Non-Null Count   Dtype  \n",
      "---  ------        --------------   -----  \n",
      " 0   region        418703 non-null  int16  \n",
      " 1   price         418703 non-null  int64  \n",
      " 2   year          418703 non-null  float64\n",
      " 3   manufacturer  418703 non-null  int8   \n",
      " 4   model         418703 non-null  int16  \n",
      " 5   condition     418703 non-null  int8   \n",
      " 6   cylinders     418703 non-null  int8   \n",
      " 7   fuel          418703 non-null  int8   \n",
      " 8   odometer      418703 non-null  float64\n",
      " 9   title_status  418703 non-null  int8   \n",
      " 10  transmission  418703 non-null  int8   \n",
      " 11  drive         418703 non-null  int8   \n",
      " 12  size          418703 non-null  int8   \n",
      " 13  type          418703 non-null  int8   \n",
      " 14  paint_color   418703 non-null  int8   \n",
      " 15  state         418703 non-null  int8   \n",
      "dtypes: float64(2), int16(2), int64(1), int8(11)\n",
      "memory usage: 18.8 MB\n"
     ]
    }
   ],
   "source": [
    "veh_enc.info()"
   ]
  },
  {
   "cell_type": "code",
   "execution_count": 213,
   "id": "9a23961c",
   "metadata": {},
   "outputs": [
    {
     "name": "stdout",
     "output_type": "stream",
     "text": [
      "<class 'pandas.core.frame.DataFrame'>\n",
      "Int64Index: 418703 entries, 7222695916 to 7301591129\n",
      "Data columns (total 16 columns):\n",
      " #   Column        Non-Null Count   Dtype  \n",
      "---  ------        --------------   -----  \n",
      " 0   region        418703 non-null  float64\n",
      " 1   price         418703 non-null  float64\n",
      " 2   year          418703 non-null  float64\n",
      " 3   manufacturer  418703 non-null  float64\n",
      " 4   model         418703 non-null  float64\n",
      " 5   condition     418703 non-null  float64\n",
      " 6   cylinders     418703 non-null  float64\n",
      " 7   fuel          418703 non-null  float64\n",
      " 8   odometer      418703 non-null  float64\n",
      " 9   title_status  418703 non-null  float64\n",
      " 10  transmission  418703 non-null  float64\n",
      " 11  drive         418703 non-null  float64\n",
      " 12  size          418703 non-null  float64\n",
      " 13  type          418703 non-null  float64\n",
      " 14  paint_color   418703 non-null  float64\n",
      " 15  state         418703 non-null  float64\n",
      "dtypes: float64(16)\n",
      "memory usage: 54.3 MB\n"
     ]
    }
   ],
   "source": [
    "X = veh_enc\n",
    "X = veh_enc.astype('float')\n",
    "X.info()"
   ]
  },
  {
   "cell_type": "markdown",
   "id": "06449157",
   "metadata": {},
   "source": [
    "### 8. Define the Modelling data"
   ]
  },
  {
   "cell_type": "code",
   "execution_count": 214,
   "id": "40409971",
   "metadata": {},
   "outputs": [],
   "source": [
    "X = veh_enc.drop(['price'], axis=1)\n",
    "y = veh_enc['price']"
   ]
  },
  {
   "cell_type": "markdown",
   "id": "479f7e21",
   "metadata": {},
   "source": [
    "### 9. Scale the X data"
   ]
  },
  {
   "cell_type": "code",
   "execution_count": 215,
   "id": "b37ce9b6",
   "metadata": {},
   "outputs": [],
   "source": [
    "X_scaled = StandardScaler().fit_transform(X)"
   ]
  },
  {
   "cell_type": "markdown",
   "id": "a1b8dcd7",
   "metadata": {},
   "source": [
    "### 10. Perform Principal Components Analysis on the X_scaled data for dimensionality reduction"
   ]
  },
  {
   "cell_type": "code",
   "execution_count": 216,
   "id": "9ed9b8be",
   "metadata": {},
   "outputs": [
    {
     "data": {
      "text/html": [
       "<div>\n",
       "<style scoped>\n",
       "    .dataframe tbody tr th:only-of-type {\n",
       "        vertical-align: middle;\n",
       "    }\n",
       "\n",
       "    .dataframe tbody tr th {\n",
       "        vertical-align: top;\n",
       "    }\n",
       "\n",
       "    .dataframe thead th {\n",
       "        text-align: right;\n",
       "    }\n",
       "</style>\n",
       "<table border=\"1\" class=\"dataframe\">\n",
       "  <thead>\n",
       "    <tr style=\"text-align: right;\">\n",
       "      <th></th>\n",
       "      <th>pca1</th>\n",
       "      <th>pca2</th>\n",
       "      <th>pca3</th>\n",
       "    </tr>\n",
       "  </thead>\n",
       "  <tbody>\n",
       "    <tr>\n",
       "      <th>0</th>\n",
       "      <td>-2.221980</td>\n",
       "      <td>1.671566</td>\n",
       "      <td>0.208682</td>\n",
       "    </tr>\n",
       "    <tr>\n",
       "      <th>1</th>\n",
       "      <td>-2.270492</td>\n",
       "      <td>1.638156</td>\n",
       "      <td>0.322834</td>\n",
       "    </tr>\n",
       "    <tr>\n",
       "      <th>2</th>\n",
       "      <td>-2.267811</td>\n",
       "      <td>1.585743</td>\n",
       "      <td>0.425610</td>\n",
       "    </tr>\n",
       "  </tbody>\n",
       "</table>\n",
       "</div>"
      ],
      "text/plain": [
       "       pca1      pca2      pca3\n",
       "0 -2.221980  1.671566  0.208682\n",
       "1 -2.270492  1.638156  0.322834\n",
       "2 -2.267811  1.585743  0.425610"
      ]
     },
     "execution_count": 216,
     "metadata": {},
     "output_type": "execute_result"
    }
   ],
   "source": [
    "pca = PCA(n_components=3)\n",
    "pca_comp = pca.fit_transform(X_scaled)\n",
    "\n",
    "X_pca = pd.DataFrame(data=pca_comp, columns=['pca1','pca2','pca3'])\n",
    "X_pca.head(3)"
   ]
  },
  {
   "cell_type": "markdown",
   "id": "b7c22a9a",
   "metadata": {},
   "source": [
    "### 11. The defined Modelling data"
   ]
  },
  {
   "cell_type": "code",
   "execution_count": 217,
   "id": "413e3964",
   "metadata": {},
   "outputs": [
    {
     "data": {
      "text/plain": [
       "id\n",
       "7222695916     6000\n",
       "7218891961    11900\n",
       "7221797935    21000\n",
       "7222270760     1500\n",
       "7210384030     4900\n",
       "              ...  \n",
       "7301591192    23590\n",
       "7301591187    30590\n",
       "7301591147    34990\n",
       "7301591140    28990\n",
       "7301591129    30590\n",
       "Name: price, Length: 418703, dtype: int64"
      ]
     },
     "execution_count": 217,
     "metadata": {},
     "output_type": "execute_result"
    }
   ],
   "source": [
    "X = X_pca\n",
    "y = y\n",
    "y"
   ]
  },
  {
   "cell_type": "code",
   "execution_count": 218,
   "id": "e0debb73",
   "metadata": {},
   "outputs": [],
   "source": [
    "#np.log1p\n",
    "X_train, X_test, y_train, y_test = train_test_split(X, y, test_size = 0.3, random_state = 42)"
   ]
  },
  {
   "cell_type": "code",
   "execution_count": 219,
   "id": "91c2730f",
   "metadata": {},
   "outputs": [
    {
     "data": {
      "text/html": [
       "<div>\n",
       "<style scoped>\n",
       "    .dataframe tbody tr th:only-of-type {\n",
       "        vertical-align: middle;\n",
       "    }\n",
       "\n",
       "    .dataframe tbody tr th {\n",
       "        vertical-align: top;\n",
       "    }\n",
       "\n",
       "    .dataframe thead th {\n",
       "        text-align: right;\n",
       "    }\n",
       "</style>\n",
       "<table border=\"1\" class=\"dataframe\">\n",
       "  <thead>\n",
       "    <tr style=\"text-align: right;\">\n",
       "      <th></th>\n",
       "      <th>pca1</th>\n",
       "      <th>pca2</th>\n",
       "      <th>pca3</th>\n",
       "    </tr>\n",
       "  </thead>\n",
       "  <tbody>\n",
       "    <tr>\n",
       "      <th>303096</th>\n",
       "      <td>0.003344</td>\n",
       "      <td>0.417326</td>\n",
       "      <td>0.534911</td>\n",
       "    </tr>\n",
       "    <tr>\n",
       "      <th>329039</th>\n",
       "      <td>1.217113</td>\n",
       "      <td>-0.617920</td>\n",
       "      <td>-1.160668</td>\n",
       "    </tr>\n",
       "    <tr>\n",
       "      <th>362032</th>\n",
       "      <td>-0.062009</td>\n",
       "      <td>-1.362353</td>\n",
       "      <td>0.779537</td>\n",
       "    </tr>\n",
       "  </tbody>\n",
       "</table>\n",
       "</div>"
      ],
      "text/plain": [
       "            pca1      pca2      pca3\n",
       "303096  0.003344  0.417326  0.534911\n",
       "329039  1.217113 -0.617920 -1.160668\n",
       "362032 -0.062009 -1.362353  0.779537"
      ]
     },
     "execution_count": 219,
     "metadata": {},
     "output_type": "execute_result"
    }
   ],
   "source": [
    "X_train.head(3)"
   ]
  },
  {
   "cell_type": "code",
   "execution_count": 220,
   "id": "67c598ed",
   "metadata": {},
   "outputs": [
    {
     "data": {
      "text/html": [
       "<div>\n",
       "<style scoped>\n",
       "    .dataframe tbody tr th:only-of-type {\n",
       "        vertical-align: middle;\n",
       "    }\n",
       "\n",
       "    .dataframe tbody tr th {\n",
       "        vertical-align: top;\n",
       "    }\n",
       "\n",
       "    .dataframe thead th {\n",
       "        text-align: right;\n",
       "    }\n",
       "</style>\n",
       "<table border=\"1\" class=\"dataframe\">\n",
       "  <thead>\n",
       "    <tr style=\"text-align: right;\">\n",
       "      <th></th>\n",
       "      <th>pca1</th>\n",
       "      <th>pca2</th>\n",
       "      <th>pca3</th>\n",
       "    </tr>\n",
       "  </thead>\n",
       "  <tbody>\n",
       "    <tr>\n",
       "      <th>32615</th>\n",
       "      <td>-0.034884</td>\n",
       "      <td>0.367346</td>\n",
       "      <td>0.031994</td>\n",
       "    </tr>\n",
       "  </tbody>\n",
       "</table>\n",
       "</div>"
      ],
      "text/plain": [
       "           pca1      pca2      pca3\n",
       "32615 -0.034884  0.367346  0.031994"
      ]
     },
     "execution_count": 220,
     "metadata": {},
     "output_type": "execute_result"
    }
   ],
   "source": [
    "X_test.head(1)"
   ]
  },
  {
   "cell_type": "markdown",
   "id": "7685d299",
   "metadata": {},
   "source": [
    "## Create the Models"
   ]
  },
  {
   "cell_type": "markdown",
   "id": "aaf70d32",
   "metadata": {},
   "source": [
    "### **1. Plain Linear Regression**"
   ]
  },
  {
   "cell_type": "code",
   "execution_count": 221,
   "id": "4929ab44",
   "metadata": {},
   "outputs": [
    {
     "data": {
      "text/plain": [
       "Pipeline(steps=[('linreg', LinearRegression())])"
      ]
     },
     "execution_count": 221,
     "metadata": {},
     "output_type": "execute_result"
    }
   ],
   "source": [
    "linreg = Pipeline([('linreg', LinearRegression())])\n",
    "linreg.fit(X_train, y_train)"
   ]
  },
  {
   "cell_type": "markdown",
   "id": "5c5c7a7d",
   "metadata": {},
   "source": [
    "#### Predict the test results"
   ]
  },
  {
   "cell_type": "code",
   "execution_count": 222,
   "id": "b10d4bb3",
   "metadata": {},
   "outputs": [],
   "source": [
    "y_train_pred = linreg.predict(X_train)\n",
    "y_test_pred = linreg.predict(X_test)\n",
    "\n",
    "y_train_mse = mean_squared_error(y_train, y_train_pred)\n",
    "y_test_mse = mean_squared_error(y_test, y_test_pred)"
   ]
  },
  {
   "cell_type": "code",
   "execution_count": 223,
   "id": "b00f1970",
   "metadata": {},
   "outputs": [
    {
     "name": "stdout",
     "output_type": "stream",
     "text": [
      "\u001b[1m Train Predictions:  \u001b[0m 17614.27424494698\n",
      "\u001b[1m Test Predictions:  \u001b[0m 17636.583268868308\n",
      " \n",
      "\u001b[1m Train MSE:  \u001b[0m 18.7029382169981\n",
      "\u001b[1m Test MSE:  \u001b[0m 18.699556887592177\n"
     ]
    }
   ],
   "source": [
    "print(\"\\033[1m\", \"Train Predictions: \", '\\033[0m', y_train_pred.mean())\n",
    "print(\"\\033[1m\", \"Test Predictions: \", '\\033[0m', y_test_pred.mean())\n",
    "print(\" \")\n",
    "print(\"\\033[1m\", \"Train MSE: \", '\\033[0m', np.log1p(y_train_mse))\n",
    "print(\"\\033[1m\", \"Test MSE: \", '\\033[0m', np.log1p(y_test_mse))"
   ]
  },
  {
   "cell_type": "code",
   "execution_count": 224,
   "id": "2ae8c465",
   "metadata": {},
   "outputs": [
    {
     "data": {
      "text/plain": [
       "array([17505.49108339])"
      ]
     },
     "execution_count": 224,
     "metadata": {},
     "output_type": "execute_result"
    }
   ],
   "source": [
    "train_pred_first = linreg.predict([[-0.005875,0.451736,0.494672]])\n",
    "train_pred_first"
   ]
  },
  {
   "cell_type": "code",
   "execution_count": 225,
   "id": "91ec47ed",
   "metadata": {},
   "outputs": [
    {
     "data": {
      "text/plain": [
       "array([17530.33658841])"
      ]
     },
     "execution_count": 225,
     "metadata": {},
     "output_type": "execute_result"
    }
   ],
   "source": [
    "test_pred_first = linreg.predict([[-0.064166,0.411703,0.110537]])\n",
    "test_pred_first"
   ]
  },
  {
   "cell_type": "markdown",
   "id": "c4401ec4",
   "metadata": {},
   "source": [
    "### **2. Sequential Feature Selector with Linear Regression Model**"
   ]
  },
  {
   "cell_type": "code",
   "execution_count": 226,
   "id": "2d20165a",
   "metadata": {},
   "outputs": [],
   "source": [
    "X_train, X_test, y_train, y_test = train_test_split(X, y, test_size=0.3, random_state=42)"
   ]
  },
  {
   "cell_type": "code",
   "execution_count": 227,
   "id": "28104b99",
   "metadata": {},
   "outputs": [],
   "source": [
    "poly_features = PolynomialFeatures(degree = 3, include_bias=False)"
   ]
  },
  {
   "cell_type": "code",
   "execution_count": 228,
   "id": "dc674868",
   "metadata": {},
   "outputs": [],
   "source": [
    "X_train_poly = poly_features.fit_transform(X_train)\n",
    "X_test_poly = poly_features.fit_transform(X_test)"
   ]
  },
  {
   "cell_type": "code",
   "execution_count": 229,
   "id": "986dbd7f",
   "metadata": {},
   "outputs": [],
   "source": [
    "columns = poly_features.get_feature_names()"
   ]
  },
  {
   "cell_type": "code",
   "execution_count": 230,
   "id": "9d260ead",
   "metadata": {},
   "outputs": [],
   "source": [
    "train_df = pd.DataFrame(X_train_poly, columns=columns)\n",
    "test_df = pd.DataFrame(X_test_poly, columns = columns)"
   ]
  },
  {
   "cell_type": "code",
   "execution_count": 231,
   "id": "8714d19d",
   "metadata": {},
   "outputs": [],
   "source": [
    "selector = SequentialFeatureSelector(LinearRegression(), n_features_to_select=3)"
   ]
  },
  {
   "cell_type": "code",
   "execution_count": 232,
   "id": "f80b97a6",
   "metadata": {},
   "outputs": [
    {
     "data": {
      "text/plain": [
       "Pipeline(steps=[('column_selector',\n",
       "                 SequentialFeatureSelector(estimator=LinearRegression(),\n",
       "                                           n_features_to_select=3)),\n",
       "                ('linreg', LinearRegression())])"
      ]
     },
     "execution_count": 232,
     "metadata": {},
     "output_type": "execute_result"
    }
   ],
   "source": [
    "pipe = Pipeline([('column_selector', selector),\n",
    "                ('linreg', LinearRegression())])\n",
    "pipe.fit(train_df, y_train)"
   ]
  },
  {
   "cell_type": "code",
   "execution_count": 233,
   "id": "f959b91a",
   "metadata": {},
   "outputs": [
    {
     "name": "stdout",
     "output_type": "stream",
     "text": [
      "\u001b[1m Train Predictions:  \u001b[0m 17614.27424494698\n",
      "\u001b[1m Test Predictions:  \u001b[0m 17638.416641930693\n",
      " \n",
      "\u001b[1m Train MSE:  \u001b[0m 18.680502225033035\n",
      "\u001b[1m Test MSE:  \u001b[0m 18.6778276282629\n"
     ]
    }
   ],
   "source": [
    "pipe_train_pred = pipe.predict(train_df)\n",
    "pipe_test_pred = pipe.predict(test_df)\n",
    "\n",
    "pipe_train_mse = mean_squared_error(y_train, pipe_train_pred)\n",
    "pipe_test_mse = mean_squared_error(y_test, pipe_test_pred)\n",
    "\n",
    "print(\"\\033[1m\", \"Train Predictions: \", '\\033[0m', pipe_train_pred.mean())\n",
    "print(\"\\033[1m\", \"Test Predictions: \", '\\033[0m', pipe_test_pred.mean())\n",
    "print(\" \")\n",
    "print(\"\\033[1m\", \"Train MSE: \", '\\033[0m', np.log1p(pipe_train_mse))\n",
    "print(\"\\033[1m\", \"Test MSE: \", '\\033[0m', np.log1p(pipe_test_mse))"
   ]
  },
  {
   "cell_type": "code",
   "execution_count": null,
   "id": "d5c51001",
   "metadata": {},
   "outputs": [],
   "source": []
  },
  {
   "cell_type": "markdown",
   "id": "9828b041",
   "metadata": {},
   "source": [
    "### **3. Ridge Regression Model**"
   ]
  },
  {
   "cell_type": "code",
   "execution_count": 234,
   "id": "94cde811",
   "metadata": {},
   "outputs": [],
   "source": [
    "X_train, X_test, y_train, y_test = train_test_split(X, y, test_size=0.3, random_state=42)"
   ]
  },
  {
   "cell_type": "code",
   "execution_count": 235,
   "id": "0086d238",
   "metadata": {},
   "outputs": [],
   "source": [
    "\n",
    "ridge_pipe = Pipeline([('scaler', StandardScaler()), \n",
    "                      ('ridge', Ridge())])"
   ]
  },
  {
   "cell_type": "code",
   "execution_count": 236,
   "id": "fa0f608c",
   "metadata": {},
   "outputs": [
    {
     "data": {
      "text/plain": [
       "Pipeline(steps=[('scaler', StandardScaler()), ('ridge', Ridge())])"
      ]
     },
     "execution_count": 236,
     "metadata": {},
     "output_type": "execute_result"
    }
   ],
   "source": [
    "ridge_pipe.fit(X_train, y_train)"
   ]
  },
  {
   "cell_type": "code",
   "execution_count": 237,
   "id": "15679a21",
   "metadata": {},
   "outputs": [],
   "source": [
    "ridge_pipe_train_preds = ridge_pipe.predict(X_train)\n",
    "ridge_pipe_test_preds = ridge_pipe.predict(X_test)\n",
    "ridge_pipe_train_mse = mean_squared_error(y_train, ridge_pipe_train_preds)\n",
    "ridge_pipe_test_mse = mean_squared_error(y_test, ridge_pipe_test_preds)"
   ]
  },
  {
   "cell_type": "code",
   "execution_count": 238,
   "id": "329ac94e",
   "metadata": {},
   "outputs": [
    {
     "name": "stdout",
     "output_type": "stream",
     "text": [
      "\u001b[1m Train Predictions:  \u001b[0m 17614.27424494698\n",
      "\u001b[1m Test Predictions:  \u001b[0m 17636.583192738653\n",
      " \n",
      "\u001b[1m Train MSE:  \u001b[0m 18.702938216999655\n",
      "\u001b[1m Test MSE:  \u001b[0m 18.699556888246622\n"
     ]
    }
   ],
   "source": [
    "\n",
    "print(\"\\033[1m\", \"Train Predictions: \", '\\033[0m', ridge_pipe_train_preds.mean())\n",
    "print(\"\\033[1m\", \"Test Predictions: \", '\\033[0m', ridge_pipe_test_preds.mean())\n",
    "print(\" \")\n",
    "print(\"\\033[1m\", \"Train MSE: \", '\\033[0m', np.log1p(ridge_pipe_train_mse))\n",
    "print(\"\\033[1m\", \"Test MSE: \", '\\033[0m', np.log1p(ridge_pipe_test_mse))"
   ]
  },
  {
   "cell_type": "markdown",
   "id": "ea47b355",
   "metadata": {},
   "source": [
    "### **4. Lasso Regression Model**"
   ]
  },
  {
   "cell_type": "code",
   "execution_count": 239,
   "id": "241fb999",
   "metadata": {},
   "outputs": [],
   "source": [
    "X_train, X_test, y_train, y_test = train_test_split(X, y, test_size=0.3, random_state=42)"
   ]
  },
  {
   "cell_type": "code",
   "execution_count": 240,
   "id": "b5729b9f",
   "metadata": {},
   "outputs": [],
   "source": [
    "lasso_pipe = Pipeline([('polyfeatures', PolynomialFeatures(degree = 3)),\n",
    "                      ('scaler', StandardScaler()),\n",
    "                     ('lasso', Lasso(random_state = 42))])"
   ]
  },
  {
   "cell_type": "code",
   "execution_count": 241,
   "id": "a59d193d",
   "metadata": {},
   "outputs": [],
   "source": [
    "lasso_pipe.fit(X_train, y_train)\n",
    "lasso_coefs = lasso_pipe.named_steps['lasso'].coef_"
   ]
  },
  {
   "cell_type": "code",
   "execution_count": 242,
   "id": "ef4b6c5b",
   "metadata": {},
   "outputs": [],
   "source": [
    "lasso_pipe_train_preds = lasso_pipe.predict(X_train)\n",
    "lasso_pipe_test_preds = lasso_pipe.predict(X_test)"
   ]
  },
  {
   "cell_type": "code",
   "execution_count": 243,
   "id": "defcd286",
   "metadata": {},
   "outputs": [],
   "source": [
    "lasso_train_mse = mean_squared_error(y_train, lasso_pipe_train_preds)\n",
    "lasso_test_mse = mean_squared_error(y_test, lasso_pipe_test_preds)"
   ]
  },
  {
   "cell_type": "code",
   "execution_count": 244,
   "id": "abac3cbf",
   "metadata": {},
   "outputs": [
    {
     "name": "stdout",
     "output_type": "stream",
     "text": [
      "\u001b[1m Train Predictions:  \u001b[0m 17614.274244946984\n",
      "\u001b[1m Test Predictions:  \u001b[0m 17650.448575362247\n",
      " \n",
      "\u001b[1m Train MSE:  \u001b[0m 18.646723099786243\n",
      "\u001b[1m Test MSE:  \u001b[0m 18.644297918585874\n"
     ]
    }
   ],
   "source": [
    "print(\"\\033[1m\", \"Train Predictions: \", '\\033[0m', lasso_pipe_train_preds.mean())\n",
    "print(\"\\033[1m\", \"Test Predictions: \", '\\033[0m', lasso_pipe_test_preds.mean())\n",
    "print(\" \")\n",
    "print(\"\\033[1m\", \"Train MSE: \", '\\033[0m', np.log1p(lasso_train_mse))\n",
    "print(\"\\033[1m\", \"Test MSE: \", '\\033[0m', np.log1p(lasso_test_mse))"
   ]
  },
  {
   "cell_type": "markdown",
   "id": "f57664d1",
   "metadata": {},
   "source": [
    "## **Model Evaluation**"
   ]
  },
  {
   "cell_type": "markdown",
   "id": "be6ea4dd",
   "metadata": {},
   "source": [
    "#### **1. Plain Linear Regression Evaluation**"
   ]
  },
  {
   "cell_type": "code",
   "execution_count": 245,
   "id": "a50c8d42",
   "metadata": {},
   "outputs": [
    {
     "name": "stdout",
     "output_type": "stream",
     "text": [
      "r2score: 0.11902726527158036\n",
      " \n",
      "Train RMSE: 11515.728835901236\n",
      "Test RMSE: 11496.27604818692\n",
      " \n",
      "Mean Train Prediction: 17614.27424494698\n",
      "Mean Test Prediction: 17636.583268868308\n"
     ]
    }
   ],
   "source": [
    "from sklearn.metrics import r2_score\n",
    "r2score_linreg = r2_score(y_test, y_test_pred)\n",
    "\n",
    "linreg_train_mse = mean_squared_error(y_train, y_train_pred)\n",
    "linreg_test_mse = mean_squared_error(y_test, y_test_pred)\n",
    "\n",
    "linreg_train_rmse = np.sqrt(linreg_train_mse)\n",
    "linreg_test_rmse = np.sqrt(linreg_test_mse)\n",
    "\n",
    "linreg_mean_train_pred = np.mean(y_train_pred)\n",
    "linreg_mean_test_pred = np.mean(y_test_pred)\n",
    "\n",
    "\n",
    "print(\"r2score:\", r2score_linreg)\n",
    "print(\" \")\n",
    "print(\"Train RMSE:\", linreg_train_rmse)\n",
    "print(\"Test RMSE:\", linreg_test_rmse)\n",
    "print(\" \")\n",
    "print(\"Mean Train Prediction:\", linreg_mean_train_pred)\n",
    "print(\"Mean Test Prediction:\", linreg_mean_test_pred)"
   ]
  },
  {
   "cell_type": "markdown",
   "id": "fb8c5bd3",
   "metadata": {},
   "source": [
    "#### **>>Plot the results <<**"
   ]
  },
  {
   "cell_type": "code",
   "execution_count": 246,
   "id": "4c4b1780",
   "metadata": {},
   "outputs": [
    {
     "data": {
      "text/html": [
       "<div>\n",
       "<style scoped>\n",
       "    .dataframe tbody tr th:only-of-type {\n",
       "        vertical-align: middle;\n",
       "    }\n",
       "\n",
       "    .dataframe tbody tr th {\n",
       "        vertical-align: top;\n",
       "    }\n",
       "\n",
       "    .dataframe thead th {\n",
       "        text-align: right;\n",
       "    }\n",
       "</style>\n",
       "<table border=\"1\" class=\"dataframe\">\n",
       "  <thead>\n",
       "    <tr style=\"text-align: right;\">\n",
       "      <th></th>\n",
       "      <th>Actual Value</th>\n",
       "      <th>Predicted value</th>\n",
       "      <th>Difference</th>\n",
       "    </tr>\n",
       "    <tr>\n",
       "      <th>id</th>\n",
       "      <th></th>\n",
       "      <th></th>\n",
       "      <th></th>\n",
       "    </tr>\n",
       "  </thead>\n",
       "  <tbody>\n",
       "    <tr>\n",
       "      <th>7316548741</th>\n",
       "      <td>4999</td>\n",
       "      <td>17432.596936</td>\n",
       "      <td>-12433.596936</td>\n",
       "    </tr>\n",
       "    <tr>\n",
       "      <th>7311144829</th>\n",
       "      <td>37614</td>\n",
       "      <td>16551.548753</td>\n",
       "      <td>21062.451247</td>\n",
       "    </tr>\n",
       "    <tr>\n",
       "      <th>7308183160</th>\n",
       "      <td>16342</td>\n",
       "      <td>20609.902479</td>\n",
       "      <td>-4267.902479</td>\n",
       "    </tr>\n",
       "    <tr>\n",
       "      <th>7306608008</th>\n",
       "      <td>14950</td>\n",
       "      <td>16859.178933</td>\n",
       "      <td>-1909.178933</td>\n",
       "    </tr>\n",
       "  </tbody>\n",
       "</table>\n",
       "</div>"
      ],
      "text/plain": [
       "            Actual Value  Predicted value    Difference\n",
       "id                                                     \n",
       "7316548741          4999     17432.596936 -12433.596936\n",
       "7311144829         37614     16551.548753  21062.451247\n",
       "7308183160         16342     20609.902479  -4267.902479\n",
       "7306608008         14950     16859.178933  -1909.178933"
      ]
     },
     "execution_count": 246,
     "metadata": {},
     "output_type": "execute_result"
    }
   ],
   "source": [
    "pred_y_linreg = pd.DataFrame({'Actual Value':y_test,'Predicted value':y_test_pred, 'Difference':y_test-y_test_pred})\n",
    "pred_y_linreg[:4]"
   ]
  },
  {
   "cell_type": "code",
   "execution_count": 247,
   "id": "6a5e1065",
   "metadata": {},
   "outputs": [
    {
     "data": {
      "text/plain": [
       "Text(0.5, 1.0, 'Actual vs Predicted')"
      ]
     },
     "execution_count": 247,
     "metadata": {},
     "output_type": "execute_result"
    },
    {
     "data": {
      "image/png": "[encoded data removed]",
      "text/plain": [
       "<Figure size 720x432 with 1 Axes>"
      ]
     },
     "metadata": {
      "needs_background": "light"
     },
     "output_type": "display_data"
    }
   ],
   "source": [
    "plt.figure(figsize=(10,6))\n",
    "plt.scatter(y_test, y_test_pred)\n",
    "plt.xlabel('Actual')\n",
    "plt.ylabel('Predicted')\n",
    "plt.title('Actual vs Predicted')"
   ]
  },
  {
   "cell_type": "code",
   "execution_count": 248,
   "id": "9842ec5d",
   "metadata": {},
   "outputs": [
    {
     "data": {
      "text/plain": [
       "{'memory': None,\n",
       " 'steps': [('linreg', LinearRegression())],\n",
       " 'verbose': False,\n",
       " 'linreg': LinearRegression(),\n",
       " 'linreg__copy_X': True,\n",
       " 'linreg__fit_intercept': True,\n",
       " 'linreg__n_jobs': None,\n",
       " 'linreg__normalize': False,\n",
       " 'linreg__positive': False}"
      ]
     },
     "execution_count": 248,
     "metadata": {},
     "output_type": "execute_result"
    }
   ],
   "source": [
    "linreg.get_params()"
   ]
  },
  {
   "cell_type": "code",
   "execution_count": 249,
   "id": "77954f0e",
   "metadata": {},
   "outputs": [],
   "source": [
    "param_grid = {'linreg__fit_intercept':[True,False],\n",
    "              'linreg__copy_X': [True, False], \n",
    "              'linreg__n_jobs': [None]}"
   ]
  },
  {
   "cell_type": "code",
   "execution_count": 250,
   "id": "c2edab6c",
   "metadata": {},
   "outputs": [
    {
     "data": {
      "text/plain": [
       "GridSearchCV(estimator=Pipeline(steps=[('linreg', LinearRegression())]),\n",
       "             param_grid={'linreg__copy_X': [True, False],\n",
       "                         'linreg__fit_intercept': [True, False],\n",
       "                         'linreg__n_jobs': [None]})"
      ]
     },
     "execution_count": 250,
     "metadata": {},
     "output_type": "execute_result"
    }
   ],
   "source": [
    "grid = GridSearchCV(linreg, param_grid, cv=None)\n",
    "grid.fit(X_train,y_train)"
   ]
  },
  {
   "cell_type": "code",
   "execution_count": 251,
   "id": "b61cc92d",
   "metadata": {},
   "outputs": [
    {
     "data": {
      "text/plain": [
       "{'mean_fit_time': array([0.10337639, 0.09371209, 0.09911513, 0.09455647]),\n",
       " 'std_fit_time': array([0.00683281, 0.00790956, 0.01138418, 0.01485657]),\n",
       " 'mean_score_time': array([0.01196747, 0.00797968, 0.01101618, 0.00958657]),\n",
       " 'std_score_time': array([0.00267699, 0.0015488 , 0.00246948, 0.00174932]),\n",
       " 'param_linreg__copy_X': masked_array(data=[True, True, False, False],\n",
       "              mask=[False, False, False, False],\n",
       "        fill_value='?',\n",
       "             dtype=object),\n",
       " 'param_linreg__fit_intercept': masked_array(data=[True, False, True, False],\n",
       "              mask=[False, False, False, False],\n",
       "        fill_value='?',\n",
       "             dtype=object),\n",
       " 'param_linreg__n_jobs': masked_array(data=[None, None, None, None],\n",
       "              mask=[False, False, False, False],\n",
       "        fill_value='?',\n",
       "             dtype=object),\n",
       " 'params': [{'linreg__copy_X': True,\n",
       "   'linreg__fit_intercept': True,\n",
       "   'linreg__n_jobs': None},\n",
       "  {'linreg__copy_X': True,\n",
       "   'linreg__fit_intercept': False,\n",
       "   'linreg__n_jobs': None},\n",
       "  {'linreg__copy_X': False,\n",
       "   'linreg__fit_intercept': True,\n",
       "   'linreg__n_jobs': None},\n",
       "  {'linreg__copy_X': False,\n",
       "   'linreg__fit_intercept': False,\n",
       "   'linreg__n_jobs': None}],\n",
       " 'split0_test_score': array([ 0.11789429, -1.95956788,  0.11789429, -1.95956788]),\n",
       " 'split1_test_score': array([ 0.11578936, -1.94871166,  0.11578936, -1.94871166]),\n",
       " 'split2_test_score': array([ 0.11849181, -1.92647139,  0.11849181, -1.92647139]),\n",
       " 'split3_test_score': array([ 0.11902852, -1.95702848,  0.11902852, -1.95702848]),\n",
       " 'split4_test_score': array([ 0.1183966 , -1.94539814,  0.1183966 , -1.94539814]),\n",
       " 'mean_test_score': array([ 0.11792012, -1.94743551,  0.11792012, -1.94743551]),\n",
       " 'std_test_score': array([0.00112456, 0.01170037, 0.00112456, 0.01170037]),\n",
       " 'rank_test_score': array([1, 3, 1, 3])}"
      ]
     },
     "execution_count": 251,
     "metadata": {},
     "output_type": "execute_result"
    }
   ],
   "source": [
    "grid.cv_results_"
   ]
  },
  {
   "cell_type": "code",
   "execution_count": 252,
   "id": "bcb412d8",
   "metadata": {},
   "outputs": [
    {
     "data": {
      "text/plain": [
       "0.11792011689975565"
      ]
     },
     "execution_count": 252,
     "metadata": {},
     "output_type": "execute_result"
    }
   ],
   "source": [
    "grid.best_score_"
   ]
  },
  {
   "cell_type": "markdown",
   "id": "dd672054",
   "metadata": {},
   "source": [
    "#### **2. Sequential Feature Selection with Linear Regression Evaluation**"
   ]
  },
  {
   "cell_type": "code",
   "execution_count": 253,
   "id": "71bf2757",
   "metadata": {},
   "outputs": [
    {
     "name": "stdout",
     "output_type": "stream",
     "text": [
      "r2score: 0.1379636683451848\n",
      " \n",
      "Train RMSE: 11387.26732264136\n",
      "Test RMSE: 11372.049326091996\n",
      " \n",
      "Mean Train Prediction: 17614.27424494698\n",
      "Mean Test Prediction: 17638.416641930693\n"
     ]
    }
   ],
   "source": [
    "r2score_pipe = r2_score(y_test, pipe_test_pred)\n",
    "pipe_train_mse = mean_squared_error(y_train, pipe_train_pred)\n",
    "pipe_train_rmse = np.sqrt(pipe_train_mse)\n",
    "pipe_mean_train_pred = np.mean(pipe_train_pred)\n",
    "\n",
    "pipe_test_mse = mean_squared_error(y_test, pipe_test_pred)\n",
    "pipe_test_rmse = np.sqrt(pipe_test_mse)\n",
    "pipe_mean_test_pred = np.mean(pipe_test_pred)\n",
    "\n",
    "print(\"r2score:\", r2score_pipe)\n",
    "print(\" \")\n",
    "print(\"Train RMSE:\", pipe_train_rmse)\n",
    "print(\"Test RMSE:\", pipe_test_rmse)\n",
    "\n",
    "print(\" \")\n",
    "print(\"Mean Train Prediction:\", pipe_mean_train_pred)\n",
    "print(\"Mean Test Prediction:\", pipe_mean_test_pred)"
   ]
  },
  {
   "cell_type": "markdown",
   "id": "3c1872f3",
   "metadata": {},
   "source": [
    "#### **>>Predicted values<<**"
   ]
  },
  {
   "cell_type": "code",
   "execution_count": 254,
   "id": "f61c1c98",
   "metadata": {},
   "outputs": [
    {
     "data": {
      "text/html": [
       "<div>\n",
       "<style scoped>\n",
       "    .dataframe tbody tr th:only-of-type {\n",
       "        vertical-align: middle;\n",
       "    }\n",
       "\n",
       "    .dataframe tbody tr th {\n",
       "        vertical-align: top;\n",
       "    }\n",
       "\n",
       "    .dataframe thead th {\n",
       "        text-align: right;\n",
       "    }\n",
       "</style>\n",
       "<table border=\"1\" class=\"dataframe\">\n",
       "  <thead>\n",
       "    <tr style=\"text-align: right;\">\n",
       "      <th></th>\n",
       "      <th>Actual Value</th>\n",
       "      <th>Predicted value</th>\n",
       "      <th>Difference</th>\n",
       "    </tr>\n",
       "    <tr>\n",
       "      <th>id</th>\n",
       "      <th></th>\n",
       "      <th></th>\n",
       "      <th></th>\n",
       "    </tr>\n",
       "  </thead>\n",
       "  <tbody>\n",
       "    <tr>\n",
       "      <th>7316548741</th>\n",
       "      <td>4999</td>\n",
       "      <td>16622.230791</td>\n",
       "      <td>-11623.230791</td>\n",
       "    </tr>\n",
       "    <tr>\n",
       "      <th>7311144829</th>\n",
       "      <td>37614</td>\n",
       "      <td>16144.261465</td>\n",
       "      <td>21469.738535</td>\n",
       "    </tr>\n",
       "    <tr>\n",
       "      <th>7308183160</th>\n",
       "      <td>16342</td>\n",
       "      <td>20037.674561</td>\n",
       "      <td>-3695.674561</td>\n",
       "    </tr>\n",
       "    <tr>\n",
       "      <th>7306608008</th>\n",
       "      <td>14950</td>\n",
       "      <td>16839.642166</td>\n",
       "      <td>-1889.642166</td>\n",
       "    </tr>\n",
       "  </tbody>\n",
       "</table>\n",
       "</div>"
      ],
      "text/plain": [
       "            Actual Value  Predicted value    Difference\n",
       "id                                                     \n",
       "7316548741          4999     16622.230791 -11623.230791\n",
       "7311144829         37614     16144.261465  21469.738535\n",
       "7308183160         16342     20037.674561  -3695.674561\n",
       "7306608008         14950     16839.642166  -1889.642166"
      ]
     },
     "execution_count": 254,
     "metadata": {},
     "output_type": "execute_result"
    }
   ],
   "source": [
    "pred_y_df = pd.DataFrame({'Actual Value':y_test,'Predicted value':pipe_test_pred, 'Difference':y_test-pipe_test_pred})\n",
    "pred_y_df[:4]"
   ]
  },
  {
   "cell_type": "code",
   "execution_count": 255,
   "id": "a1d108b7",
   "metadata": {},
   "outputs": [
    {
     "data": {
      "text/plain": [
       "Text(0.5, 1.0, 'Actual vs Predicted')"
      ]
     },
     "execution_count": 255,
     "metadata": {},
     "output_type": "execute_result"
    },
    {
     "data": {
      "image/png": "[encoded data removed]",
      "text/plain": [
       "<Figure size 720x432 with 1 Axes>"
      ]
     },
     "metadata": {
      "needs_background": "light"
     },
     "output_type": "display_data"
    }
   ],
   "source": [
    "plt.figure(figsize=(10,6))\n",
    "plt.scatter(y_test, pipe_test_pred)\n",
    "plt.xlabel('Actual')\n",
    "plt.ylabel('Predicted')\n",
    "plt.title('Actual vs Predicted')"
   ]
  },
  {
   "cell_type": "code",
   "execution_count": 256,
   "id": "8ae0355a",
   "metadata": {},
   "outputs": [
    {
     "data": {
      "text/plain": [
       "{'memory': None,\n",
       " 'steps': [('column_selector',\n",
       "   SequentialFeatureSelector(estimator=LinearRegression(), n_features_to_select=3)),\n",
       "  ('linreg', LinearRegression())],\n",
       " 'verbose': False,\n",
       " 'column_selector': SequentialFeatureSelector(estimator=LinearRegression(), n_features_to_select=3),\n",
       " 'linreg': LinearRegression(),\n",
       " 'column_selector__cv': 5,\n",
       " 'column_selector__direction': 'forward',\n",
       " 'column_selector__estimator__copy_X': True,\n",
       " 'column_selector__estimator__fit_intercept': True,\n",
       " 'column_selector__estimator__n_jobs': None,\n",
       " 'column_selector__estimator__normalize': False,\n",
       " 'column_selector__estimator__positive': False,\n",
       " 'column_selector__estimator': LinearRegression(),\n",
       " 'column_selector__n_features_to_select': 3,\n",
       " 'column_selector__n_jobs': None,\n",
       " 'column_selector__scoring': None,\n",
       " 'linreg__copy_X': True,\n",
       " 'linreg__fit_intercept': True,\n",
       " 'linreg__n_jobs': None,\n",
       " 'linreg__normalize': False,\n",
       " 'linreg__positive': False}"
      ]
     },
     "execution_count": 256,
     "metadata": {},
     "output_type": "execute_result"
    }
   ],
   "source": [
    "pipe.get_params()"
   ]
  },
  {
   "cell_type": "code",
   "execution_count": 257,
   "id": "68c8707d",
   "metadata": {},
   "outputs": [],
   "source": [
    "param_grid = {'column_selector__estimator__fit_intercept':[True,False],\n",
    "              'column_selector__estimator__copy_X': [True, False], \n",
    "              'column_selector__n_features_to_select': [None]}"
   ]
  },
  {
   "cell_type": "code",
   "execution_count": 258,
   "id": "885bed78",
   "metadata": {},
   "outputs": [
    {
     "data": {
      "text/plain": [
       "GridSearchCV(estimator=Pipeline(steps=[('column_selector',\n",
       "                                        SequentialFeatureSelector(estimator=LinearRegression(),\n",
       "                                                                  n_features_to_select=3)),\n",
       "                                       ('linreg', LinearRegression())]),\n",
       "             param_grid={'column_selector__estimator__copy_X': [True, False],\n",
       "                         'column_selector__estimator__fit_intercept': [True,\n",
       "                                                                       False],\n",
       "                         'column_selector__n_features_to_select': [None]})"
      ]
     },
     "execution_count": 258,
     "metadata": {},
     "output_type": "execute_result"
    }
   ],
   "source": [
    "grid_pipe = GridSearchCV(pipe, param_grid, cv=None)\n",
    "grid_pipe.fit(X_train,y_train)"
   ]
  },
  {
   "cell_type": "code",
   "execution_count": 259,
   "id": "6512646d",
   "metadata": {},
   "outputs": [
    {
     "data": {
      "text/plain": [
       "{'mean_fit_time': array([0.76038318, 0.67273045, 0.79039445, 0.66937737]),\n",
       " 'std_fit_time': array([0.0581197 , 0.03884362, 0.02728165, 0.0170312 ]),\n",
       " 'mean_score_time': array([0.01077728, 0.01078615, 0.01175923, 0.01257725]),\n",
       " 'std_score_time': array([0.00317421, 0.00192326, 0.00192262, 0.00150175]),\n",
       " 'param_column_selector__estimator__copy_X': masked_array(data=[True, True, False, False],\n",
       "              mask=[False, False, False, False],\n",
       "        fill_value='?',\n",
       "             dtype=object),\n",
       " 'param_column_selector__estimator__fit_intercept': masked_array(data=[True, False, True, False],\n",
       "              mask=[False, False, False, False],\n",
       "        fill_value='?',\n",
       "             dtype=object),\n",
       " 'param_column_selector__n_features_to_select': masked_array(data=[None, None, None, None],\n",
       "              mask=[False, False, False, False],\n",
       "        fill_value='?',\n",
       "             dtype=object),\n",
       " 'params': [{'column_selector__estimator__copy_X': True,\n",
       "   'column_selector__estimator__fit_intercept': True,\n",
       "   'column_selector__n_features_to_select': None},\n",
       "  {'column_selector__estimator__copy_X': True,\n",
       "   'column_selector__estimator__fit_intercept': False,\n",
       "   'column_selector__n_features_to_select': None},\n",
       "  {'column_selector__estimator__copy_X': False,\n",
       "   'column_selector__estimator__fit_intercept': True,\n",
       "   'column_selector__n_features_to_select': None},\n",
       "  {'column_selector__estimator__copy_X': False,\n",
       "   'column_selector__estimator__fit_intercept': False,\n",
       "   'column_selector__n_features_to_select': None}],\n",
       " 'split0_test_score': array([0.1093066, 0.1093066, 0.1093066, 0.1093066]),\n",
       " 'split1_test_score': array([0.10747527, 0.10747527, 0.10747527, 0.10747527]),\n",
       " 'split2_test_score': array([0.11080749, 0.11080749, 0.11080749, 0.11080749]),\n",
       " 'split3_test_score': array([0.10963159, 0.10963159, 0.10963159, 0.10963159]),\n",
       " 'split4_test_score': array([0.1094928, 0.1094928, 0.1094928, 0.1094928]),\n",
       " 'mean_test_score': array([0.10934275, 0.10934275, 0.10934275, 0.10934275]),\n",
       " 'std_test_score': array([0.00107147, 0.00107147, 0.00107147, 0.00107147]),\n",
       " 'rank_test_score': array([1, 1, 1, 1])}"
      ]
     },
     "execution_count": 259,
     "metadata": {},
     "output_type": "execute_result"
    }
   ],
   "source": [
    "grid_pipe.cv_results_"
   ]
  },
  {
   "cell_type": "code",
   "execution_count": 260,
   "id": "c75e62cc",
   "metadata": {},
   "outputs": [
    {
     "data": {
      "text/plain": [
       "0.10934274815181588"
      ]
     },
     "execution_count": 260,
     "metadata": {},
     "output_type": "execute_result"
    }
   ],
   "source": [
    "grid_pipe.best_score_"
   ]
  },
  {
   "cell_type": "markdown",
   "id": "5d6d497d",
   "metadata": {},
   "source": [
    "#### **3. Ridge Regression Evaluation**"
   ]
  },
  {
   "cell_type": "code",
   "execution_count": 261,
   "id": "29519f3b",
   "metadata": {},
   "outputs": [
    {
     "name": "stdout",
     "output_type": "stream",
     "text": [
      "r2score: 0.11902726469503067\n",
      " \n",
      "Train RMSE: 11515.728835910206\n",
      "Test RMSE: 11496.276051948771\n",
      " \n",
      "Mean Train Prediction: 17614.27424494698\n",
      "Mean Test Prediction: 17636.583192738653\n"
     ]
    }
   ],
   "source": [
    "r2score_ridge = r2_score(y_test, ridge_pipe_test_preds)\n",
    "ridge_train_mse = mean_squared_error(y_train, ridge_pipe_train_preds)\n",
    "ridge_train_rmse = np.sqrt(ridge_train_mse)\n",
    "ridge_mean_train_pred = np.mean(ridge_pipe_train_preds)\n",
    "\n",
    "ridge_test_mse = mean_squared_error(y_test, ridge_pipe_test_preds)\n",
    "ridge_test_rmse = np.sqrt(ridge_test_mse)\n",
    "ridge_mean_test_pred = np.mean(ridge_pipe_test_preds)\n",
    "\n",
    "print(\"r2score:\", r2score_ridge)\n",
    "print(\" \")\n",
    "print(\"Train RMSE:\", ridge_train_rmse)\n",
    "print(\"Test RMSE:\", ridge_test_rmse)\n",
    "\n",
    "print(\" \")\n",
    "print(\"Mean Train Prediction:\", ridge_mean_train_pred)\n",
    "print(\"Mean Test Prediction:\", ridge_mean_test_pred)"
   ]
  },
  {
   "cell_type": "code",
   "execution_count": 263,
   "id": "82b46673",
   "metadata": {},
   "outputs": [
    {
     "data": {
      "text/html": [
       "<div>\n",
       "<style scoped>\n",
       "    .dataframe tbody tr th:only-of-type {\n",
       "        vertical-align: middle;\n",
       "    }\n",
       "\n",
       "    .dataframe tbody tr th {\n",
       "        vertical-align: top;\n",
       "    }\n",
       "\n",
       "    .dataframe thead th {\n",
       "        text-align: right;\n",
       "    }\n",
       "</style>\n",
       "<table border=\"1\" class=\"dataframe\">\n",
       "  <thead>\n",
       "    <tr style=\"text-align: right;\">\n",
       "      <th></th>\n",
       "      <th>Actual Value</th>\n",
       "      <th>Predicted value</th>\n",
       "      <th>Difference</th>\n",
       "    </tr>\n",
       "    <tr>\n",
       "      <th>id</th>\n",
       "      <th></th>\n",
       "      <th></th>\n",
       "      <th></th>\n",
       "    </tr>\n",
       "  </thead>\n",
       "  <tbody>\n",
       "    <tr>\n",
       "      <th>7316548741</th>\n",
       "      <td>4999</td>\n",
       "      <td>17432.597559</td>\n",
       "      <td>-12433.597559</td>\n",
       "    </tr>\n",
       "    <tr>\n",
       "      <th>7311144829</th>\n",
       "      <td>37614</td>\n",
       "      <td>16551.552373</td>\n",
       "      <td>21062.447627</td>\n",
       "    </tr>\n",
       "    <tr>\n",
       "      <th>7308183160</th>\n",
       "      <td>16342</td>\n",
       "      <td>20609.892237</td>\n",
       "      <td>-4267.892237</td>\n",
       "    </tr>\n",
       "    <tr>\n",
       "      <th>7306608008</th>\n",
       "      <td>14950</td>\n",
       "      <td>16859.181499</td>\n",
       "      <td>-1909.181499</td>\n",
       "    </tr>\n",
       "  </tbody>\n",
       "</table>\n",
       "</div>"
      ],
      "text/plain": [
       "            Actual Value  Predicted value    Difference\n",
       "id                                                     \n",
       "7316548741          4999     17432.597559 -12433.597559\n",
       "7311144829         37614     16551.552373  21062.447627\n",
       "7308183160         16342     20609.892237  -4267.892237\n",
       "7306608008         14950     16859.181499  -1909.181499"
      ]
     },
     "execution_count": 263,
     "metadata": {},
     "output_type": "execute_result"
    }
   ],
   "source": [
    "ridge_pred_y_df = pd.DataFrame({'Actual Value':y_test,'Predicted value':ridge_pipe_test_preds, 'Difference':y_test-ridge_pipe_test_preds})\n",
    "ridge_pred_y_df[:4]"
   ]
  },
  {
   "cell_type": "code",
   "execution_count": 265,
   "id": "aa2cb6b9",
   "metadata": {},
   "outputs": [
    {
     "data": {
      "text/plain": [
       "Text(0.5, 1.0, 'Actual vs Predicted')"
      ]
     },
     "execution_count": 265,
     "metadata": {},
     "output_type": "execute_result"
    },
    {
     "data": {
      "image/png": "[encoded data removed]",
      "text/plain": [
       "<Figure size 720x432 with 1 Axes>"
      ]
     },
     "metadata": {
      "needs_background": "light"
     },
     "output_type": "display_data"
    }
   ],
   "source": [
    "plt.figure(figsize=(10,6))\n",
    "plt.scatter(y_test, ridge_pipe_test_preds)\n",
    "plt.xlabel('Ridge Actual')\n",
    "plt.ylabel('Ridge Predicted')\n",
    "plt.title('Actual vs Predicted')"
   ]
  },
  {
   "cell_type": "code",
   "execution_count": 267,
   "id": "66f6f85f",
   "metadata": {},
   "outputs": [],
   "source": [
    "ridge_param_dict = {'ridge__alpha': np.logspace(0, 10, 50)}"
   ]
  },
  {
   "cell_type": "code",
   "execution_count": 268,
   "id": "e16735cf",
   "metadata": {},
   "outputs": [
    {
     "data": {
      "text/plain": [
       "GridSearchCV(estimator=Pipeline(steps=[('scaler', StandardScaler()),\n",
       "                                       ('ridge', Ridge())]),\n",
       "             param_grid={'ridge__alpha': array([1.00000000e+00, 1.59985872e+00, 2.55954792e+00, 4.09491506e+00,\n",
       "       6.55128557e+00, 1.04811313e+01, 1.67683294e+01, 2.68269580e+01,\n",
       "       4.29193426e+01, 6.86648845e+01, 1.09854114e+02, 1.75751062e+02,\n",
       "       2.81176870e+02, 4.49843267e+02, 7.19685673e+02, 1.15...\n",
       "       7.90604321e+04, 1.26485522e+05, 2.02358965e+05, 3.23745754e+05,\n",
       "       5.17947468e+05, 8.28642773e+05, 1.32571137e+06, 2.12095089e+06,\n",
       "       3.39322177e+06, 5.42867544e+06, 8.68511374e+06, 1.38949549e+07,\n",
       "       2.22299648e+07, 3.55648031e+07, 5.68986603e+07, 9.10298178e+07,\n",
       "       1.45634848e+08, 2.32995181e+08, 3.72759372e+08, 5.96362332e+08,\n",
       "       9.54095476e+08, 1.52641797e+09, 2.44205309e+09, 3.90693994e+09,\n",
       "       6.25055193e+09, 1.00000000e+10])})"
      ]
     },
     "execution_count": 268,
     "metadata": {},
     "output_type": "execute_result"
    }
   ],
   "source": [
    "ridge_grid = GridSearchCV(ridge_pipe, param_grid=ridge_param_dict)\n",
    "ridge_grid.fit(X_train, y_train)"
   ]
  },
  {
   "cell_type": "code",
   "execution_count": 269,
   "id": "180ea1d2",
   "metadata": {
    "scrolled": true
   },
   "outputs": [
    {
     "data": {
      "text/plain": [
       "{'mean_fit_time': array([0.14131103, 0.14780455, 0.15548434, 0.1288271 , 0.14779439,\n",
       "        0.13663073, 0.14129043, 0.13982244, 0.1309546 , 0.13512568,\n",
       "        0.14417839, 0.14284263, 0.14510875, 0.14649715, 0.1322279 ,\n",
       "        0.13267212, 0.15888901, 0.15337877, 0.14542327, 0.14876118,\n",
       "        0.14440889, 0.13804855, 0.15061598, 0.13463826, 0.13356237,\n",
       "        0.14416399, 0.13575625, 0.13653531, 0.12346463, 0.13542967,\n",
       "        0.14324183, 0.15697994, 0.1395946 , 0.12249703, 0.13126979,\n",
       "        0.14641352, 0.14740772, 0.15678396, 0.15255914, 0.13473606,\n",
       "        0.14714522, 0.15577741, 0.1396173 , 0.13580947, 0.13051033,\n",
       "        0.13822303, 0.12663879, 0.13419933, 0.14858675, 0.15666413]),\n",
       " 'std_fit_time': array([0.01053712, 0.00775501, 0.00986809, 0.00864048, 0.01498861,\n",
       "        0.00994774, 0.00787707, 0.01968377, 0.0125332 , 0.00836546,\n",
       "        0.01757674, 0.00721221, 0.00352557, 0.00779985, 0.0097922 ,\n",
       "        0.00854928, 0.00537893, 0.00644094, 0.00686585, 0.01386302,\n",
       "        0.01105425, 0.01637789, 0.00757345, 0.01364374, 0.01074811,\n",
       "        0.01129896, 0.00666698, 0.01962381, 0.0081214 , 0.01153355,\n",
       "        0.01409609, 0.00814167, 0.00848486, 0.00894438, 0.01210167,\n",
       "        0.00962613, 0.0114311 , 0.00700412, 0.01349352, 0.00836534,\n",
       "        0.01746036, 0.00885078, 0.0167212 , 0.00774848, 0.0089413 ,\n",
       "        0.0111936 , 0.00934471, 0.01249243, 0.00752069, 0.01034891]),\n",
       " 'mean_score_time': array([0.01313095, 0.01436167, 0.0167625 , 0.01299071, 0.01278834,\n",
       "        0.01236305, 0.0115777 , 0.01277223, 0.01217155, 0.0111845 ,\n",
       "        0.01417475, 0.01157746, 0.0141634 , 0.01295662, 0.01296773,\n",
       "        0.011587  , 0.01296582, 0.01398082, 0.01278148, 0.01726732,\n",
       "        0.01417937, 0.0151588 , 0.01595583, 0.01396976, 0.01158476,\n",
       "        0.0131712 , 0.01236167, 0.01298347, 0.01358171, 0.0149611 ,\n",
       "        0.01396098, 0.01576118, 0.01417208, 0.01206346, 0.01296906,\n",
       "        0.01476908, 0.01455803, 0.01313257, 0.01458626, 0.01357179,\n",
       "        0.01535883, 0.01377201, 0.01419821, 0.01557851, 0.01271849,\n",
       "        0.01337218, 0.01135678, 0.01276975, 0.01426244, 0.01336455]),\n",
       " 'std_score_time': array([0.00313081, 0.0024128 , 0.0039552 , 0.00251602, 0.00221996,\n",
       "        0.00173629, 0.00134915, 0.00231972, 0.0019372 , 0.00097499,\n",
       "        0.00229018, 0.00048168, 0.00212986, 0.00218101, 0.00208888,\n",
       "        0.00134582, 0.00178355, 0.00234806, 0.00193832, 0.00386226,\n",
       "        0.0019433 , 0.00311504, 0.00244145, 0.00126772, 0.00119918,\n",
       "        0.00211025, 0.00187653, 0.0027565 , 0.00224989, 0.00252451,\n",
       "        0.00244057, 0.00420192, 0.00221148, 0.00154759, 0.00252831,\n",
       "        0.00371317, 0.00264638, 0.00197157, 0.00255351, 0.00256435,\n",
       "        0.00381562, 0.00232373, 0.00243704, 0.00185063, 0.00220185,\n",
       "        0.00234223, 0.00149371, 0.00230742, 0.00195269, 0.00205375]),\n",
       " 'param_ridge__alpha': masked_array(data=[1.0, 1.599858719606058, 2.5595479226995357,\n",
       "                    4.094915062380426, 6.551285568595509,\n",
       "                    10.481131341546858, 16.768329368110084,\n",
       "                    26.826957952797258, 42.91934260128778,\n",
       "                    68.66488450043002, 109.85411419875584,\n",
       "                    175.7510624854793, 281.1768697974231,\n",
       "                    449.8432668969444, 719.6856730011522,\n",
       "                    1151.3953993264481, 1842.0699693267163,\n",
       "                    2947.0517025518097, 4714.866363457394,\n",
       "                    7543.120063354622, 12067.92640639329,\n",
       "                    19306.977288832495, 30888.43596477485,\n",
       "                    49417.13361323838, 79060.43210907701,\n",
       "                    126485.52168552957, 202358.96477251555,\n",
       "                    323745.7542817647, 517947.46792312124,\n",
       "                    828642.7728546843, 1325711.365590111,\n",
       "                    2120950.8879201924, 3393221.7718953295,\n",
       "                    5428675.439323859, 8685113.73751352,\n",
       "                    13894954.943731388, 22229964.825261954,\n",
       "                    35564803.06223129, 56898660.290183045,\n",
       "                    91029817.79915227, 145634847.75012445,\n",
       "                    232995181.0515372, 372759372.0314938,\n",
       "                    596362331.6594636, 954095476.3499963,\n",
       "                    1526417967.1752365, 2442053094.5486546,\n",
       "                    3906939937.0546207, 6250551925.273976, 10000000000.0],\n",
       "              mask=[False, False, False, False, False, False, False, False,\n",
       "                    False, False, False, False, False, False, False, False,\n",
       "                    False, False, False, False, False, False, False, False,\n",
       "                    False, False, False, False, False, False, False, False,\n",
       "                    False, False, False, False, False, False, False, False,\n",
       "                    False, False, False, False, False, False, False, False,\n",
       "                    False, False],\n",
       "        fill_value='?',\n",
       "             dtype=object),\n",
       " 'params': [{'ridge__alpha': 1.0},\n",
       "  {'ridge__alpha': 1.599858719606058},\n",
       "  {'ridge__alpha': 2.5595479226995357},\n",
       "  {'ridge__alpha': 4.094915062380426},\n",
       "  {'ridge__alpha': 6.551285568595509},\n",
       "  {'ridge__alpha': 10.481131341546858},\n",
       "  {'ridge__alpha': 16.768329368110084},\n",
       "  {'ridge__alpha': 26.826957952797258},\n",
       "  {'ridge__alpha': 42.91934260128778},\n",
       "  {'ridge__alpha': 68.66488450043002},\n",
       "  {'ridge__alpha': 109.85411419875584},\n",
       "  {'ridge__alpha': 175.7510624854793},\n",
       "  {'ridge__alpha': 281.1768697974231},\n",
       "  {'ridge__alpha': 449.8432668969444},\n",
       "  {'ridge__alpha': 719.6856730011522},\n",
       "  {'ridge__alpha': 1151.3953993264481},\n",
       "  {'ridge__alpha': 1842.0699693267163},\n",
       "  {'ridge__alpha': 2947.0517025518097},\n",
       "  {'ridge__alpha': 4714.866363457394},\n",
       "  {'ridge__alpha': 7543.120063354622},\n",
       "  {'ridge__alpha': 12067.92640639329},\n",
       "  {'ridge__alpha': 19306.977288832495},\n",
       "  {'ridge__alpha': 30888.43596477485},\n",
       "  {'ridge__alpha': 49417.13361323838},\n",
       "  {'ridge__alpha': 79060.43210907701},\n",
       "  {'ridge__alpha': 126485.52168552957},\n",
       "  {'ridge__alpha': 202358.96477251555},\n",
       "  {'ridge__alpha': 323745.7542817647},\n",
       "  {'ridge__alpha': 517947.46792312124},\n",
       "  {'ridge__alpha': 828642.7728546843},\n",
       "  {'ridge__alpha': 1325711.365590111},\n",
       "  {'ridge__alpha': 2120950.8879201924},\n",
       "  {'ridge__alpha': 3393221.7718953295},\n",
       "  {'ridge__alpha': 5428675.439323859},\n",
       "  {'ridge__alpha': 8685113.73751352},\n",
       "  {'ridge__alpha': 13894954.943731388},\n",
       "  {'ridge__alpha': 22229964.825261954},\n",
       "  {'ridge__alpha': 35564803.06223129},\n",
       "  {'ridge__alpha': 56898660.290183045},\n",
       "  {'ridge__alpha': 91029817.79915227},\n",
       "  {'ridge__alpha': 145634847.75012445},\n",
       "  {'ridge__alpha': 232995181.0515372},\n",
       "  {'ridge__alpha': 372759372.0314938},\n",
       "  {'ridge__alpha': 596362331.6594636},\n",
       "  {'ridge__alpha': 954095476.3499963},\n",
       "  {'ridge__alpha': 1526417967.1752365},\n",
       "  {'ridge__alpha': 2442053094.5486546},\n",
       "  {'ridge__alpha': 3906939937.0546207},\n",
       "  {'ridge__alpha': 6250551925.273976},\n",
       "  {'ridge__alpha': 10000000000.0}],\n",
       " 'split0_test_score': array([1.17894296e-01, 1.17894298e-01, 1.17894302e-01, 1.17894307e-01,\n",
       "        1.17894315e-01, 1.17894329e-01, 1.17894350e-01, 1.17894384e-01,\n",
       "        1.17894438e-01, 1.17894521e-01, 1.17894649e-01, 1.17894837e-01,\n",
       "        1.17895099e-01, 1.17895419e-01, 1.17895676e-01, 1.17895441e-01,\n",
       "        1.17893432e-01, 1.17886113e-01, 1.17864215e-01, 1.17804326e-01,\n",
       "        1.17649627e-01, 1.17268907e-01, 1.16379990e-01, 1.14437586e-01,\n",
       "        1.10548695e-01, 1.03598276e-01, 9.27901221e-02, 7.84290990e-02,\n",
       "        6.21939298e-02, 4.64001157e-02, 3.28694962e-02, 2.23708781e-02,\n",
       "        1.47925431e-02, 9.58961708e-03, 6.13543586e-03, 3.89198939e-03,\n",
       "        2.45531282e-03, 1.54350691e-03, 9.68093322e-04, 6.06262534e-04,\n",
       "        3.79246641e-04, 2.37015050e-04, 1.47981575e-04, 9.22795220e-05,\n",
       "        5.74426340e-05, 3.56598254e-05, 2.20413072e-05, 1.35277856e-05,\n",
       "        8.20589729e-06, 4.87924078e-06]),\n",
       " 'split1_test_score': array([1.15789378e-01, 1.15789387e-01, 1.15789400e-01, 1.15789421e-01,\n",
       "        1.15789456e-01, 1.15789511e-01, 1.15789598e-01, 1.15789738e-01,\n",
       "        1.15789961e-01, 1.15790315e-01, 1.15790875e-01, 1.15791755e-01,\n",
       "        1.15793123e-01, 1.15795210e-01, 1.15798289e-01, 1.15802552e-01,\n",
       "        1.15807701e-01, 1.15811735e-01, 1.15807749e-01, 1.15775897e-01,\n",
       "        1.15664528e-01, 1.15349476e-01, 1.14557191e-01, 1.12750952e-01,\n",
       "        1.09042619e-01, 1.02313153e-01, 9.17501411e-02, 7.76330695e-02,\n",
       "        6.16156962e-02, 4.59982952e-02, 3.25997017e-02, 2.21942055e-02,\n",
       "        1.46788660e-02, 9.51737102e-03, 6.08993921e-03, 3.86355859e-03,\n",
       "        2.43768757e-03, 1.53269063e-03, 9.61554680e-04, 6.02406160e-04,\n",
       "        3.77070170e-04, 2.35889918e-04, 1.47514099e-04, 9.22233172e-05,\n",
       "        5.76435746e-05, 3.60215266e-05, 2.25035046e-05, 1.40528033e-05,\n",
       "        8.77018304e-06, 5.46807191e-06]),\n",
       " 'split2_test_score': array([ 1.18491798e-01,  1.18491793e-01,  1.18491784e-01,  1.18491770e-01,\n",
       "         1.18491748e-01,  1.18491712e-01,  1.18491654e-01,  1.18491562e-01,\n",
       "         1.18491414e-01,  1.18491174e-01,  1.18490784e-01,  1.18490146e-01,\n",
       "         1.18489088e-01,  1.18487300e-01,  1.18484196e-01,  1.18478610e-01,\n",
       "         1.18468110e-01,  1.18447381e-01,  1.18404467e-01,  1.18312043e-01,\n",
       "         1.18107932e-01,  1.17654393e-01,  1.16663035e-01,  1.14586351e-01,\n",
       "         1.10539066e-01,  1.03428697e-01,  9.24927565e-02,  7.80646830e-02,\n",
       "         6.18287107e-02,  4.60814572e-02,  3.26170197e-02,  2.21829104e-02,\n",
       "         1.46572226e-02,  9.49309776e-03,  6.06579191e-03,  3.84025715e-03,\n",
       "         2.41523470e-03,  1.51089835e-03,  9.40227473e-04,  5.81390365e-04,\n",
       "         3.56257198e-04,  2.15206935e-04,  1.26913627e-04,  7.16749122e-05,\n",
       "         3.71279076e-05,  1.55263984e-05,  2.02124362e-06, -6.42140333e-06,\n",
       "        -1.16989847e-05, -1.49979445e-05]),\n",
       " 'split3_test_score': array([ 1.19028507e-01,  1.19028501e-01,  1.19028491e-01,  1.19028476e-01,\n",
       "         1.19028452e-01,  1.19028412e-01,  1.19028350e-01,  1.19028249e-01,\n",
       "         1.19028087e-01,  1.19027826e-01,  1.19027402e-01,  1.19026710e-01,\n",
       "         1.19025565e-01,  1.19023637e-01,  1.19020309e-01,  1.19014367e-01,\n",
       "         1.19003298e-01,  1.18981663e-01,  1.18937306e-01,  1.18842593e-01,\n",
       "         1.18634865e-01,  1.18175638e-01,  1.17175382e-01,  1.15084857e-01,\n",
       "         1.11016230e-01,  1.03873651e-01,  9.28914921e-02,  7.84028451e-02,\n",
       "         6.20967666e-02,  4.62787768e-02,  3.27515561e-02,  2.22673210e-02,\n",
       "         1.47046868e-02,  9.51482868e-03,  6.07027453e-03,  3.83346742e-03,\n",
       "         2.40119753e-03,  1.49224987e-03,  9.18664299e-04,  5.57992538e-04,\n",
       "         3.31707570e-04,  1.89935389e-04,  1.01190066e-04,  4.56685142e-05,\n",
       "         1.09446018e-05, -1.07675311e-05, -2.43418498e-05, -3.28277352e-05,\n",
       "        -3.81323457e-05, -4.14482013e-05]),\n",
       " 'split4_test_score': array([1.18396606e-01, 1.18396607e-01, 1.18396610e-01, 1.18396613e-01,\n",
       "        1.18396619e-01, 1.18396628e-01, 1.18396642e-01, 1.18396664e-01,\n",
       "        1.18396699e-01, 1.18396753e-01, 1.18396832e-01, 1.18396944e-01,\n",
       "        1.18397084e-01, 1.18397209e-01, 1.18397154e-01, 1.18396421e-01,\n",
       "        1.18393616e-01, 1.18385030e-01, 1.18361115e-01, 1.18298030e-01,\n",
       "        1.18138292e-01, 1.17749693e-01, 1.16848623e-01, 1.14887852e-01,\n",
       "        1.10972073e-01, 1.03984158e-01, 9.31272887e-02, 7.87087076e-02,\n",
       "        6.24128057e-02, 4.65620400e-02, 3.29834994e-02, 2.24480042e-02,\n",
       "        1.48431460e-02, 9.62203824e-03, 6.15579412e-03, 3.90451506e-03,\n",
       "        2.46282315e-03, 1.54783436e-03, 9.70412184e-04, 6.07318373e-04,\n",
       "        3.79510052e-04, 2.36781985e-04, 1.47437729e-04, 9.15412413e-05,\n",
       "        5.65827513e-05, 3.47239075e-05, 2.10578523e-05, 1.25146134e-05,\n",
       "        7.17414847e-06, 3.83587991e-06]),\n",
       " 'mean_test_score': array([ 1.17920117e-01,  1.17920117e-01,  1.17920117e-01,  1.17920118e-01,\n",
       "         1.17920118e-01,  1.17920118e-01,  1.17920119e-01,  1.17920120e-01,\n",
       "         1.17920120e-01,  1.17920118e-01,  1.17920108e-01,  1.17920078e-01,\n",
       "         1.17919992e-01,  1.17919755e-01,  1.17919125e-01,  1.17917478e-01,\n",
       "         1.17913231e-01,  1.17902385e-01,  1.17874970e-01,  1.17806578e-01,\n",
       "         1.17639049e-01,  1.17239621e-01,  1.16324844e-01,  1.14349519e-01,\n",
       "         1.10423736e-01,  1.03439587e-01,  9.26103601e-02,  7.82476808e-02,\n",
       "         6.20295818e-02,  4.62641370e-02,  3.27642546e-02,  2.22926638e-02,\n",
       "         1.47352929e-02,  9.54739056e-03,  6.10344713e-03,  3.86675752e-03,\n",
       "         2.43445115e-03,  1.52543602e-03,  9.51790392e-04,  5.91073994e-04,\n",
       "         3.64758326e-04,  2.22965855e-04,  1.34207419e-04,  7.86775014e-05,\n",
       "         4.39482939e-05,  2.22328254e-05,  8.65641158e-06,  1.69212734e-07,\n",
       "        -5.13622033e-06, -8.45259064e-06]),\n",
       " 'std_test_score': array([1.12455354e-03, 1.12454875e-03, 1.12454107e-03, 1.12452878e-03,\n",
       "        1.12450913e-03, 1.12447770e-03, 1.12442741e-03, 1.12434696e-03,\n",
       "        1.12421827e-03, 1.12401245e-03, 1.12368331e-03, 1.12315712e-03,\n",
       "        1.12231626e-03, 1.12097347e-03, 1.11883152e-03, 1.11542079e-03,\n",
       "        1.11000495e-03, 1.10144359e-03, 1.08800542e-03, 1.06714724e-03,\n",
       "        1.03533479e-03, 9.88113440e-04, 9.20844327e-04, 8.30636765e-04,\n",
       "        7.19461356e-04, 5.96510358e-04, 4.75893283e-04, 3.68990382e-04,\n",
       "        2.79297366e-04, 2.05666982e-04, 1.47010941e-04, 1.02596530e-04,\n",
       "        7.08880466e-05, 4.95267852e-05, 3.59563290e-05, 2.78675892e-05,\n",
       "        2.33483585e-05, 2.09453396e-05, 1.96923189e-05, 1.90323145e-05,\n",
       "        1.86747306e-05, 1.84743566e-05, 1.83585467e-05, 1.82899393e-05,\n",
       "        1.82485550e-05, 1.82232787e-05, 1.82077119e-05, 1.81980728e-05,\n",
       "        1.81920835e-05, 1.81883538e-05]),\n",
       " 'rank_test_score': array([10,  9,  8,  7,  5,  4,  3,  2,  1,  6, 11, 12, 13, 14, 15, 16, 17,\n",
       "        18, 19, 20, 21, 22, 23, 24, 25, 26, 27, 28, 29, 30, 31, 32, 33, 34,\n",
       "        35, 36, 37, 38, 39, 40, 41, 42, 43, 44, 45, 46, 47, 48, 49, 50])}"
      ]
     },
     "execution_count": 269,
     "metadata": {},
     "output_type": "execute_result"
    }
   ],
   "source": [
    "ridge_grid.cv_results_"
   ]
  },
  {
   "cell_type": "code",
   "execution_count": 270,
   "id": "8135d9a2",
   "metadata": {},
   "outputs": [
    {
     "data": {
      "text/plain": [
       "0.11792011971633173"
      ]
     },
     "execution_count": 270,
     "metadata": {},
     "output_type": "execute_result"
    }
   ],
   "source": [
    "ridge_grid.best_score_"
   ]
  },
  {
   "cell_type": "markdown",
   "id": "6b0c5a07",
   "metadata": {},
   "source": [
    "#### **4. Lasso Regression Evaluation**"
   ]
  },
  {
   "cell_type": "code",
   "execution_count": 271,
   "id": "038a0c31",
   "metadata": {},
   "outputs": [
    {
     "name": "stdout",
     "output_type": "stream",
     "text": [
      "r2score: 0.16638829873542105\n",
      " \n",
      "Train RMSE: 11196.556402060858\n",
      "Test RMSE: 11182.987791152536\n",
      " \n",
      "Mean Train Prediction: 17614.274244946984\n",
      "Mean Test Prediction: 17650.448575362247\n"
     ]
    }
   ],
   "source": [
    "r2score_lasso = r2_score(y_test, lasso_pipe_test_preds)\n",
    "lasso_train_mse = mean_squared_error(y_train, lasso_pipe_train_preds)\n",
    "lasso_train_rmse = np.sqrt(lasso_train_mse)\n",
    "lasso_mean_train_pred = np.mean(lasso_pipe_train_preds)\n",
    "\n",
    "lasso_test_mse = mean_squared_error(y_test, lasso_pipe_test_preds)\n",
    "lasso_test_rmse = np.sqrt(lasso_test_mse)\n",
    "lasso_mean_test_pred = np.mean(lasso_pipe_test_preds)\n",
    "\n",
    "print(\"r2score:\", r2score_lasso)\n",
    "print(\" \")\n",
    "print(\"Train RMSE:\", lasso_train_rmse)\n",
    "print(\"Test RMSE:\", lasso_test_rmse)\n",
    "\n",
    "print(\" \")\n",
    "print(\"Mean Train Prediction:\", lasso_mean_train_pred)\n",
    "print(\"Mean Test Prediction:\", lasso_mean_test_pred)"
   ]
  },
  {
   "cell_type": "code",
   "execution_count": 272,
   "id": "0670db81",
   "metadata": {},
   "outputs": [
    {
     "data": {
      "text/html": [
       "<div>\n",
       "<style scoped>\n",
       "    .dataframe tbody tr th:only-of-type {\n",
       "        vertical-align: middle;\n",
       "    }\n",
       "\n",
       "    .dataframe tbody tr th {\n",
       "        vertical-align: top;\n",
       "    }\n",
       "\n",
       "    .dataframe thead th {\n",
       "        text-align: right;\n",
       "    }\n",
       "</style>\n",
       "<table border=\"1\" class=\"dataframe\">\n",
       "  <thead>\n",
       "    <tr style=\"text-align: right;\">\n",
       "      <th></th>\n",
       "      <th>Actual Value</th>\n",
       "      <th>Predicted value</th>\n",
       "      <th>Difference</th>\n",
       "    </tr>\n",
       "    <tr>\n",
       "      <th>id</th>\n",
       "      <th></th>\n",
       "      <th></th>\n",
       "      <th></th>\n",
       "    </tr>\n",
       "  </thead>\n",
       "  <tbody>\n",
       "    <tr>\n",
       "      <th>7316548741</th>\n",
       "      <td>4999</td>\n",
       "      <td>15323.977938</td>\n",
       "      <td>-10324.977938</td>\n",
       "    </tr>\n",
       "    <tr>\n",
       "      <th>7311144829</th>\n",
       "      <td>37614</td>\n",
       "      <td>16086.470997</td>\n",
       "      <td>21527.529003</td>\n",
       "    </tr>\n",
       "    <tr>\n",
       "      <th>7308183160</th>\n",
       "      <td>16342</td>\n",
       "      <td>22494.238070</td>\n",
       "      <td>-6152.238070</td>\n",
       "    </tr>\n",
       "    <tr>\n",
       "      <th>7306608008</th>\n",
       "      <td>14950</td>\n",
       "      <td>17575.831722</td>\n",
       "      <td>-2625.831722</td>\n",
       "    </tr>\n",
       "  </tbody>\n",
       "</table>\n",
       "</div>"
      ],
      "text/plain": [
       "            Actual Value  Predicted value    Difference\n",
       "id                                                     \n",
       "7316548741          4999     15323.977938 -10324.977938\n",
       "7311144829         37614     16086.470997  21527.529003\n",
       "7308183160         16342     22494.238070  -6152.238070\n",
       "7306608008         14950     17575.831722  -2625.831722"
      ]
     },
     "execution_count": 272,
     "metadata": {},
     "output_type": "execute_result"
    }
   ],
   "source": [
    "lasso_pred_y_df = pd.DataFrame({'Actual Value':y_test,'Predicted value':lasso_pipe_test_preds, 'Difference':y_test-lasso_pipe_test_preds})\n",
    "lasso_pred_y_df[:4]"
   ]
  },
  {
   "cell_type": "code",
   "execution_count": 273,
   "id": "b7a34035",
   "metadata": {},
   "outputs": [
    {
     "data": {
      "text/plain": [
       "Text(0.5, 1.0, 'Actual vs Predicted')"
      ]
     },
     "execution_count": 273,
     "metadata": {},
     "output_type": "execute_result"
    },
    {
     "data": {
      "image/png": "[encoded data removed]",
      "text/plain": [
       "<Figure size 720x432 with 1 Axes>"
      ]
     },
     "metadata": {
      "needs_background": "light"
     },
     "output_type": "display_data"
    }
   ],
   "source": [
    "plt.figure(figsize=(10,6))\n",
    "plt.scatter(y_test, lasso_pipe_test_preds)\n",
    "plt.xlabel('Lasso Actual')\n",
    "plt.ylabel('Lasso Predicted')\n",
    "plt.title('Actual vs Predicted')"
   ]
  },
  {
   "cell_type": "code",
   "execution_count": 274,
   "id": "611810a3",
   "metadata": {},
   "outputs": [
    {
     "data": {
      "text/plain": [
       "{'memory': None,\n",
       " 'steps': [('polyfeatures', PolynomialFeatures(degree=3)),\n",
       "  ('scaler', StandardScaler()),\n",
       "  ('lasso', Lasso(random_state=42))],\n",
       " 'verbose': False,\n",
       " 'polyfeatures': PolynomialFeatures(degree=3),\n",
       " 'scaler': StandardScaler(),\n",
       " 'lasso': Lasso(random_state=42),\n",
       " 'polyfeatures__degree': 3,\n",
       " 'polyfeatures__include_bias': True,\n",
       " 'polyfeatures__interaction_only': False,\n",
       " 'polyfeatures__order': 'C',\n",
       " 'scaler__copy': True,\n",
       " 'scaler__with_mean': True,\n",
       " 'scaler__with_std': True,\n",
       " 'lasso__alpha': 1.0,\n",
       " 'lasso__copy_X': True,\n",
       " 'lasso__fit_intercept': True,\n",
       " 'lasso__max_iter': 1000,\n",
       " 'lasso__normalize': False,\n",
       " 'lasso__positive': False,\n",
       " 'lasso__precompute': False,\n",
       " 'lasso__random_state': 42,\n",
       " 'lasso__selection': 'cyclic',\n",
       " 'lasso__tol': 0.0001,\n",
       " 'lasso__warm_start': False}"
      ]
     },
     "execution_count": 274,
     "metadata": {},
     "output_type": "execute_result"
    }
   ],
   "source": [
    "lasso_pipe.get_params()"
   ]
  },
  {
   "cell_type": "code",
   "execution_count": 275,
   "id": "80ceba3f",
   "metadata": {},
   "outputs": [],
   "source": [
    "lasso_param_grid = {'lasso__fit_intercept':[True,False],\n",
    "              'lasso__copy_X': [True, False], \n",
    "             }"
   ]
  },
  {
   "cell_type": "code",
   "execution_count": 276,
   "id": "cde97c77",
   "metadata": {},
   "outputs": [
    {
     "data": {
      "text/plain": [
       "GridSearchCV(estimator=Pipeline(steps=[('polyfeatures',\n",
       "                                        PolynomialFeatures(degree=3)),\n",
       "                                       ('scaler', StandardScaler()),\n",
       "                                       ('lasso', Lasso(random_state=42))]),\n",
       "             param_grid={'lasso__copy_X': [True, False],\n",
       "                         'lasso__fit_intercept': [True, False]})"
      ]
     },
     "execution_count": 276,
     "metadata": {},
     "output_type": "execute_result"
    }
   ],
   "source": [
    "lasso_grid = GridSearchCV(lasso_pipe, param_grid=lasso_param_grid)\n",
    "lasso_grid.fit(X_train, y_train)"
   ]
  },
  {
   "cell_type": "code",
   "execution_count": 277,
   "id": "3a039105",
   "metadata": {},
   "outputs": [
    {
     "data": {
      "text/plain": [
       "{'mean_fit_time': array([10.35103312, 10.19276886, 10.26373048, 10.38138633]),\n",
       " 'std_fit_time': array([0.21514215, 0.2355935 , 0.31019558, 0.44626916]),\n",
       " 'mean_score_time': array([0.10214324, 0.0953866 , 0.09334989, 0.09510121]),\n",
       " 'std_score_time': array([0.0127035 , 0.01406192, 0.01033729, 0.00850765]),\n",
       " 'param_lasso__copy_X': masked_array(data=[True, True, False, False],\n",
       "              mask=[False, False, False, False],\n",
       "        fill_value='?',\n",
       "             dtype=object),\n",
       " 'param_lasso__fit_intercept': masked_array(data=[True, False, True, False],\n",
       "              mask=[False, False, False, False],\n",
       "        fill_value='?',\n",
       "             dtype=object),\n",
       " 'params': [{'lasso__copy_X': True, 'lasso__fit_intercept': True},\n",
       "  {'lasso__copy_X': True, 'lasso__fit_intercept': False},\n",
       "  {'lasso__copy_X': False, 'lasso__fit_intercept': True},\n",
       "  {'lasso__copy_X': False, 'lasso__fit_intercept': False}],\n",
       " 'split0_test_score': array([ 0.16621053, -1.90805054,  0.16621053, -1.90805054]),\n",
       " 'split1_test_score': array([ 0.1645423 , -1.89601421,  0.1645423 , -1.89601421]),\n",
       " 'split2_test_score': array([ 0.16374379, -1.88274461,  0.16374379, -1.88274461]),\n",
       " 'split3_test_score': array([ 0.16591791, -1.91146999,  0.16591791, -1.91146999]),\n",
       " 'split4_test_score': array([ 0.16848265, -1.89132843,  0.16848265, -1.89132843]),\n",
       " 'mean_test_score': array([ 0.16577944, -1.89792155,  0.16577944, -1.89792155]),\n",
       " 'std_test_score': array([0.00162399, 0.010617  , 0.00162399, 0.010617  ]),\n",
       " 'rank_test_score': array([1, 3, 1, 3])}"
      ]
     },
     "execution_count": 277,
     "metadata": {},
     "output_type": "execute_result"
    }
   ],
   "source": [
    "lasso_grid.cv_results_"
   ]
  },
  {
   "cell_type": "code",
   "execution_count": 278,
   "id": "8a8a6953",
   "metadata": {},
   "outputs": [
    {
     "data": {
      "text/plain": [
       "0.16577943624892363"
      ]
     },
     "execution_count": 278,
     "metadata": {},
     "output_type": "execute_result"
    }
   ],
   "source": [
    "lasso_grid.best_score_"
   ]
  },
  {
   "cell_type": "markdown",
   "id": "79171eda",
   "metadata": {},
   "source": [
    "### **Summary**"
   ]
  },
  {
   "cell_type": "markdown",
   "id": "6e5ae22e",
   "metadata": {},
   "source": [
    "**1. Linear Regression**"
   ]
  },
  {
   "cell_type": "code",
   "execution_count": 279,
   "id": "2e5e41d6",
   "metadata": {},
   "outputs": [
    {
     "name": "stdout",
     "output_type": "stream",
     "text": [
      "r2score: 0.11902726527158036\n",
      "Train RMSE: 11515.728835901236\n",
      "Test RMSE: 11496.27604818692\n",
      "Mean Train Prediction: 17614.27424494698\n",
      "Mean Test Prediction: 17636.583268868308\n",
      "Best score:  0.11792011689975565\n"
     ]
    }
   ],
   "source": [
    "print(\"r2score:\", r2score_linreg)\n",
    "print(\"Train RMSE:\", linreg_train_rmse)\n",
    "print(\"Test RMSE:\", linreg_test_rmse)\n",
    "print(\"Mean Train Prediction:\", linreg_mean_train_pred)\n",
    "print(\"Mean Test Prediction:\", linreg_mean_test_pred)\n",
    "print(\"Best score: \", grid.best_score_)"
   ]
  },
  {
   "cell_type": "markdown",
   "id": "49e20b8b",
   "metadata": {},
   "source": [
    "**2. Sequential Feature Selector with Linear Regression**"
   ]
  },
  {
   "cell_type": "code",
   "execution_count": 280,
   "id": "8a15992a",
   "metadata": {},
   "outputs": [
    {
     "name": "stdout",
     "output_type": "stream",
     "text": [
      "r2score: 0.1379636683451848\n",
      "Train RMSE: 11387.26732264136\n",
      "Test RMSE: 11372.049326091996\n",
      "Mean Train Prediction: 17614.27424494698\n",
      "Mean Test Prediction: 17638.416641930693\n",
      "Best score:  0.10934274815181588\n"
     ]
    }
   ],
   "source": [
    "print(\"r2score:\", r2score_pipe)\n",
    "print(\"Train RMSE:\", pipe_train_rmse)\n",
    "print(\"Test RMSE:\", pipe_test_rmse)\n",
    "print(\"Mean Train Prediction:\", pipe_mean_train_pred)\n",
    "print(\"Mean Test Prediction:\", pipe_mean_test_pred)\n",
    "print(\"Best score: \", grid_pipe.best_score_)"
   ]
  },
  {
   "cell_type": "markdown",
   "id": "ad57d534",
   "metadata": {},
   "source": [
    "**3. Ridge Regression Regression**"
   ]
  },
  {
   "cell_type": "code",
   "execution_count": 281,
   "id": "87b5ed9b",
   "metadata": {},
   "outputs": [
    {
     "name": "stdout",
     "output_type": "stream",
     "text": [
      "r2score: 0.11902726469503067\n",
      "Train RMSE: 11515.728835910206\n",
      "Test RMSE: 11496.276051948771\n",
      "Mean Train Prediction: 17614.27424494698\n",
      "Mean Test Prediction: 17636.583192738653\n",
      "Best score:  0.11792011971633173\n"
     ]
    }
   ],
   "source": [
    "print(\"r2score:\", r2score_ridge)\n",
    "print(\"Train RMSE:\", ridge_train_rmse)\n",
    "print(\"Test RMSE:\", ridge_test_rmse)\n",
    "print(\"Mean Train Prediction:\", ridge_mean_train_pred)\n",
    "print(\"Mean Test Prediction:\", ridge_mean_test_pred)\n",
    "print(\"Best score: \", ridge_grid.best_score_)"
   ]
  },
  {
   "cell_type": "markdown",
   "id": "897c6b68",
   "metadata": {},
   "source": [
    "**4. Lasso Regression**"
   ]
  },
  {
   "cell_type": "code",
   "execution_count": 282,
   "id": "9007c5c9",
   "metadata": {},
   "outputs": [
    {
     "name": "stdout",
     "output_type": "stream",
     "text": [
      "r2score: 0.16638829873542105\n",
      "Train RMSE: 11196.556402060858\n",
      "Test RMSE: 11182.987791152536\n",
      "Mean Train Prediction: 17614.274244946984\n",
      "Mean Test Prediction: 17650.448575362247\n",
      "Best score:  0.16577943624892363\n"
     ]
    }
   ],
   "source": [
    "print(\"r2score:\", r2score_lasso)\n",
    "print(\"Train RMSE:\", lasso_train_rmse)\n",
    "print(\"Test RMSE:\", lasso_test_rmse)\n",
    "print(\"Mean Train Prediction:\", lasso_mean_train_pred)\n",
    "print(\"Mean Test Prediction:\", lasso_mean_test_pred)\n",
    "print(\"Best score: \", lasso_grid.best_score_)"
   ]
  },
  {
   "cell_type": "code",
   "execution_count": 283,
   "id": "ebedc4af",
   "metadata": {},
   "outputs": [
    {
     "data": {
      "text/html": [
       "<div>\n",
       "<style scoped>\n",
       "    .dataframe tbody tr th:only-of-type {\n",
       "        vertical-align: middle;\n",
       "    }\n",
       "\n",
       "    .dataframe tbody tr th {\n",
       "        vertical-align: top;\n",
       "    }\n",
       "\n",
       "    .dataframe thead th {\n",
       "        text-align: right;\n",
       "    }\n",
       "</style>\n",
       "<table border=\"1\" class=\"dataframe\">\n",
       "  <thead>\n",
       "    <tr style=\"text-align: right;\">\n",
       "      <th></th>\n",
       "      <th>Regressions</th>\n",
       "      <th>r2score</th>\n",
       "      <th>Train RMSE</th>\n",
       "      <th>Test RMSE</th>\n",
       "      <th>Mean Train Preds</th>\n",
       "      <th>Mean Test Preds</th>\n",
       "      <th>Best Score</th>\n",
       "    </tr>\n",
       "  </thead>\n",
       "  <tbody>\n",
       "    <tr>\n",
       "      <th>0</th>\n",
       "      <td>Linear Regression</td>\n",
       "      <td>0.119027</td>\n",
       "      <td>11515.728836</td>\n",
       "      <td>11496.276048</td>\n",
       "      <td>17614.274245</td>\n",
       "      <td>17636.583269</td>\n",
       "      <td>0.117920</td>\n",
       "    </tr>\n",
       "    <tr>\n",
       "      <th>1</th>\n",
       "      <td>Polynomial Regression</td>\n",
       "      <td>0.137964</td>\n",
       "      <td>11387.267323</td>\n",
       "      <td>11372.049326</td>\n",
       "      <td>17614.274245</td>\n",
       "      <td>17638.416642</td>\n",
       "      <td>0.109343</td>\n",
       "    </tr>\n",
       "    <tr>\n",
       "      <th>2</th>\n",
       "      <td>Ridge Regression</td>\n",
       "      <td>0.119027</td>\n",
       "      <td>11515.728836</td>\n",
       "      <td>11496.276052</td>\n",
       "      <td>17614.274245</td>\n",
       "      <td>17636.583193</td>\n",
       "      <td>0.117920</td>\n",
       "    </tr>\n",
       "    <tr>\n",
       "      <th>3</th>\n",
       "      <td>Lasso Regression</td>\n",
       "      <td>0.166388</td>\n",
       "      <td>11196.556402</td>\n",
       "      <td>11182.987791</td>\n",
       "      <td>17614.274245</td>\n",
       "      <td>17650.448575</td>\n",
       "      <td>0.165779</td>\n",
       "    </tr>\n",
       "  </tbody>\n",
       "</table>\n",
       "</div>"
      ],
      "text/plain": [
       "             Regressions   r2score    Train RMSE     Test RMSE  \\\n",
       "0      Linear Regression  0.119027  11515.728836  11496.276048   \n",
       "1  Polynomial Regression  0.137964  11387.267323  11372.049326   \n",
       "2       Ridge Regression  0.119027  11515.728836  11496.276052   \n",
       "3       Lasso Regression  0.166388  11196.556402  11182.987791   \n",
       "\n",
       "   Mean Train Preds  Mean Test Preds  Best Score  \n",
       "0      17614.274245     17636.583269    0.117920  \n",
       "1      17614.274245     17638.416642    0.109343  \n",
       "2      17614.274245     17636.583193    0.117920  \n",
       "3      17614.274245     17650.448575    0.165779  "
      ]
     },
     "execution_count": 283,
     "metadata": {},
     "output_type": "execute_result"
    }
   ],
   "source": [
    "edata = {\n",
    "            \"Regressions\": ['Linear Regression','Polynomial Regression','Ridge Regression','Lasso Regression'], \n",
    "            \"r2score\": [r2score_linreg,r2score_pipe, r2score_ridge, r2score_lasso], \n",
    "            \"Train RMSE\": [linreg_train_rmse,pipe_train_rmse, ridge_train_rmse, lasso_train_rmse], \n",
    "            \"Test RMSE\": [linreg_test_rmse,pipe_test_rmse, ridge_test_rmse, lasso_test_rmse], \n",
    "            \"Mean Train Preds\": [linreg_mean_train_pred,pipe_mean_train_pred, ridge_mean_train_pred, lasso_mean_train_pred], \n",
    "            \"Mean Test Preds\": [linreg_mean_test_pred,pipe_mean_test_pred, ridge_mean_test_pred, lasso_mean_test_pred], \n",
    "            \"Best Score\": [grid.best_score_,grid_pipe.best_score_, ridge_grid.best_score_, lasso_grid.best_score_]\n",
    "        }\n",
    "\n",
    "evals = pd.DataFrame(edata)\n",
    "evals"
   ]
  },
  {
   "cell_type": "markdown",
   "id": "03f24716",
   "metadata": {},
   "source": [
    "### **Model Selection**\n",
    "- The **Lasso Regression Model** was selected because of the following features\n",
    "    - r2score is highest\n",
    "    - Test RMSE is smallest\n",
    "    - Best Score is highest"
   ]
  },
  {
   "cell_type": "markdown",
   "id": "d1a3fffd",
   "metadata": {},
   "source": [
    "## Deployment\n",
    "Now that we've settled on our models and findings, it is time to deliver the information to the client.  You should organize your work as a basic report that details your primary findings.  Keep in mind that your audience is a group of used car dealers interested in fine tuning their inventory."
   ]
  },
  {
   "cell_type": "markdown",
   "id": "affc04d8",
   "metadata": {},
   "source": [
    "### Answer: Report\n",
    "**A summary of Machine Learning analytic report**\n",
    "- The findings of the analysis of used car data reveals that\n",
    "    - Most vehicles sold starts in the range of \\$17,600 to \\\\$18,000\n",
    "    - Most cars sold are capped at around \\$40,000\n",
    "    - Selling cars whose years are nearer to year 2020 would be more profitable\n",
    "    - Cylinder, Condition, and Model features strongly determine price of a vehicle.\n",
    "    - The Higher the values of the four features, the higher the price of the vehicle\n",
    "    - Odometer: The smaller the odometer readings, the higher the price of a vehicle\n",
    "\n",
    "**Recommendations**\n",
    "- To maintain profitability, it is advisable to maintain inventory of cars within the range of \\$17,500 since they are very much on demand\n",
    "- Maintaining an inventory of cars from \\$40,000 and above is not profitable as they are rarely in demand\n",
    "- Maintain an inventory of cars with low Odometer readings since the lower the mileage (odometer reading), the higher the price of the vehicle\n",
    "- Maintain an inventory of cars with higher cylinder engines, good condition since they are in demand and more profitable for the business\n",
    "- These top 3 cars are more in demand, therefore maintaining more inventory of these cars will be profitable for business\n",
    "    - f-150\n",
    "    - silverado 1500\n",
    "    - camry\n",
    "- Buy Cars whose year of manufacturer are closer to the year 2020 since they appear to be more in demand"
   ]
  },
  {
   "cell_type": "markdown",
   "id": "02e35c4c",
   "metadata": {},
   "source": []
  },
  {
   "cell_type": "code",
   "execution_count": null,
   "id": "1d5c7aef",
   "metadata": {},
   "outputs": [],
   "source": []
  }
 ],
 "metadata": {
  "kernelspec": {
   "display_name": "Python 3 (ipykernel)",
   "language": "python",
   "name": "python3"
  },
  "language_info": {
   "codemirror_mode": {
    "name": "ipython",
    "version": 3
   },
   "file_extension": ".py",
   "mimetype": "text/x-python",
   "name": "python",
   "nbconvert_exporter": "python",
   "pygments_lexer": "ipython3",
   "version": "3.9.7"
  }
 },
 "nbformat": 4,
 "nbformat_minor": 5
}
