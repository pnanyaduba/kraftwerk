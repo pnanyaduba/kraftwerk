{
 "cells": [
  {
   "cell_type": "markdown",
   "metadata": {},
   "source": [
    "### Will a Customer Accept the Coupon?\n",
    "\n",
    "**Overview**\n",
    "\n",
    "The goal of this project is to use what you know about visualizations and probability distributions to distinguish between customers who accepted a driving coupon versus those that did not.\n",
    "\n",
    "**Data**\n",
    "\n",
    "\n",
    "This data comes to us from the UCI Machine Learning repository and was collected via a survey on Amazon Mechanical Turk. The survey describes different driving scenarios including the destination, current time, weather, passenger, etc., and then ask the person whether he will accept the coupon if he is the driver. Answers that the user will drive there ‘right away’ or ‘later before the coupon expires’ are labeled as ‘Y = 1’ and answers ‘no, I do not want the coupon’ are labeled as ‘Y = 0’.  There are five different types of coupons -- less expensive restaurants (under \\\\$20), coffee houses, carry out & take away, bar, and more expensive restaurants (\\\\$20 - \\\\$50). "
   ]
  },
  {
   "cell_type": "markdown",
   "metadata": {},
   "source": [
    "**Deliverables**\n",
    "\n",
    "Your final product should be a brief report that highlights the differences between customers who did and did not accept the coupons.  To explore the data you will utilize your knowledge of plotting, statistical summaries, and visualization using Python. You will publish your findings in a public facing github repository as your first portfolio piece. \n",
    "\n",
    "\n",
    "\n"
   ]
  },
  {
   "cell_type": "markdown",
   "metadata": {},
   "source": [
    "### Data Description\n",
    "\n",
    "The attributes of this data set include:\n",
    "1. User attributes\n",
    "    -  Gender: male, female\n",
    "    -  Age: below 21, 21 to 25, 26 to 30, etc.\n",
    "    -  Marital Status: single, married partner, unmarried partner, or widowed\n",
    "    -  Number of children: 0, 1, or more than 1\n",
    "    -  Education: high school, bachelors degree, associates degree, or graduate degree\n",
    "    -  Occupation: architecture & engineering, business & financial, etc.\n",
    "    -  Annual income: less than \\\\$12500, \\\\$12500 - \\\\$24999, \\\\$25000 - \\\\$37499, etc.\n",
    "    -  Number of times that he/she goes to a bar: 0, less than 1, 1 to 3, 4 to 8 or greater than 8\n",
    "    -  Number of times that he/she buys takeaway food: 0, less than 1, 1 to 3, 4 to 8 or greater\n",
    "    than 8\n",
    "    -  Number of times that he/she goes to a coffee house: 0, less than 1, 1 to 3, 4 to 8 or\n",
    "    greater than 8\n",
    "    -  Number of times that he/she eats at a restaurant with average expense less than \\\\$20 per\n",
    "    person: 0, less than 1, 1 to 3, 4 to 8 or greater than 8\n",
    "    -  Number of times that he/she goes to a bar: 0, less than 1, 1 to 3, 4 to 8 or greater than 8\n",
    "\n",
    "2. Contextual attributes\n",
    "    - Driving destination: home, work, or no urgent destination\n",
    "    - Location of user, coupon and destination: we provide a map to show the geographical\n",
    "    location of the user, destination, and the venue, and we mark the distance between each\n",
    "    two places with time of driving. The user can see whether the venue is in the same\n",
    "    direction as the destination.\n",
    "    - Weather: sunny, rainy, or snowy\n",
    "    - Temperature: 30F, 55F, or 80F\n",
    "    - Time: 10AM, 2PM, or 6PM\n",
    "    - Passenger: alone, partner, kid(s), or friend(s)\n",
    "\n",
    "3. Coupon attributes\n",
    "    - time before it expires: 2 hours or one day"
   ]
  },
  {
   "cell_type": "code",
   "execution_count": 265,
   "metadata": {},
   "outputs": [],
   "source": [
    "import matplotlib.pyplot as plt\n",
    "import seaborn as sns\n",
    "import pandas as pd\n",
    "import numpy as np"
   ]
  },
  {
   "cell_type": "markdown",
   "metadata": {},
   "source": [
    "### Problems\n",
    "\n",
    "Use the prompts below to get started with your data analysis.  \n",
    "\n",
    "1. Read in the `coupons.csv` file.\n",
    "\n",
    "\n"
   ]
  },
  {
   "cell_type": "code",
   "execution_count": 266,
   "metadata": {},
   "outputs": [],
   "source": [
    "data = pd.read_csv('data/coupons.csv')"
   ]
  },
  {
   "cell_type": "code",
   "execution_count": 267,
   "metadata": {},
   "outputs": [
    {
     "data": {
      "text/html": [
       "<div>\n",
       "<style scoped>\n",
       "    .dataframe tbody tr th:only-of-type {\n",
       "        vertical-align: middle;\n",
       "    }\n",
       "\n",
       "    .dataframe tbody tr th {\n",
       "        vertical-align: top;\n",
       "    }\n",
       "\n",
       "    .dataframe thead th {\n",
       "        text-align: right;\n",
       "    }\n",
       "</style>\n",
       "<table border=\"1\" class=\"dataframe\">\n",
       "  <thead>\n",
       "    <tr style=\"text-align: right;\">\n",
       "      <th></th>\n",
       "      <th>destination</th>\n",
       "      <th>passanger</th>\n",
       "      <th>weather</th>\n",
       "      <th>temperature</th>\n",
       "      <th>time</th>\n",
       "      <th>coupon</th>\n",
       "      <th>expiration</th>\n",
       "      <th>gender</th>\n",
       "      <th>age</th>\n",
       "      <th>maritalStatus</th>\n",
       "      <th>has_children</th>\n",
       "      <th>education</th>\n",
       "      <th>occupation</th>\n",
       "      <th>income</th>\n",
       "      <th>car</th>\n",
       "      <th>Bar</th>\n",
       "      <th>CoffeeHouse</th>\n",
       "      <th>CarryAway</th>\n",
       "      <th>RestaurantLessThan20</th>\n",
       "      <th>Restaurant20To50</th>\n",
       "      <th>toCoupon_GEQ5min</th>\n",
       "      <th>toCoupon_GEQ15min</th>\n",
       "      <th>toCoupon_GEQ25min</th>\n",
       "      <th>direction_same</th>\n",
       "      <th>direction_opp</th>\n",
       "      <th>Y</th>\n",
       "    </tr>\n",
       "  </thead>\n",
       "  <tbody>\n",
       "    <tr>\n",
       "      <th>0</th>\n",
       "      <td>No Urgent Place</td>\n",
       "      <td>Alone</td>\n",
       "      <td>Sunny</td>\n",
       "      <td>55</td>\n",
       "      <td>2PM</td>\n",
       "      <td>Restaurant(&lt;20)</td>\n",
       "      <td>1d</td>\n",
       "      <td>Female</td>\n",
       "      <td>21</td>\n",
       "      <td>Unmarried partner</td>\n",
       "      <td>1</td>\n",
       "      <td>Some college - no degree</td>\n",
       "      <td>Unemployed</td>\n",
       "      <td>$37500 - $49999</td>\n",
       "      <td>NaN</td>\n",
       "      <td>never</td>\n",
       "      <td>never</td>\n",
       "      <td>NaN</td>\n",
       "      <td>4~8</td>\n",
       "      <td>1~3</td>\n",
       "      <td>1</td>\n",
       "      <td>0</td>\n",
       "      <td>0</td>\n",
       "      <td>0</td>\n",
       "      <td>1</td>\n",
       "      <td>1</td>\n",
       "    </tr>\n",
       "    <tr>\n",
       "      <th>1</th>\n",
       "      <td>No Urgent Place</td>\n",
       "      <td>Friend(s)</td>\n",
       "      <td>Sunny</td>\n",
       "      <td>80</td>\n",
       "      <td>10AM</td>\n",
       "      <td>Coffee House</td>\n",
       "      <td>2h</td>\n",
       "      <td>Female</td>\n",
       "      <td>21</td>\n",
       "      <td>Unmarried partner</td>\n",
       "      <td>1</td>\n",
       "      <td>Some college - no degree</td>\n",
       "      <td>Unemployed</td>\n",
       "      <td>$37500 - $49999</td>\n",
       "      <td>NaN</td>\n",
       "      <td>never</td>\n",
       "      <td>never</td>\n",
       "      <td>NaN</td>\n",
       "      <td>4~8</td>\n",
       "      <td>1~3</td>\n",
       "      <td>1</td>\n",
       "      <td>0</td>\n",
       "      <td>0</td>\n",
       "      <td>0</td>\n",
       "      <td>1</td>\n",
       "      <td>0</td>\n",
       "    </tr>\n",
       "  </tbody>\n",
       "</table>\n",
       "</div>"
      ],
      "text/plain": [
       "       destination  passanger weather  temperature  time           coupon  \\\n",
       "0  No Urgent Place      Alone   Sunny           55   2PM  Restaurant(<20)   \n",
       "1  No Urgent Place  Friend(s)   Sunny           80  10AM     Coffee House   \n",
       "\n",
       "  expiration  gender age      maritalStatus  has_children  \\\n",
       "0         1d  Female  21  Unmarried partner             1   \n",
       "1         2h  Female  21  Unmarried partner             1   \n",
       "\n",
       "                  education  occupation           income  car    Bar  \\\n",
       "0  Some college - no degree  Unemployed  $37500 - $49999  NaN  never   \n",
       "1  Some college - no degree  Unemployed  $37500 - $49999  NaN  never   \n",
       "\n",
       "  CoffeeHouse CarryAway RestaurantLessThan20 Restaurant20To50  \\\n",
       "0       never       NaN                  4~8              1~3   \n",
       "1       never       NaN                  4~8              1~3   \n",
       "\n",
       "   toCoupon_GEQ5min  toCoupon_GEQ15min  toCoupon_GEQ25min  direction_same  \\\n",
       "0                 1                  0                  0               0   \n",
       "1                 1                  0                  0               0   \n",
       "\n",
       "   direction_opp  Y  \n",
       "0              1  1  \n",
       "1              1  0  "
      ]
     },
     "execution_count": 267,
     "metadata": {},
     "output_type": "execute_result"
    }
   ],
   "source": [
    "data.head(2)"
   ]
  },
  {
   "cell_type": "code",
   "execution_count": 268,
   "metadata": {},
   "outputs": [],
   "source": [
    "pd.set_option('display.max_columns', None)"
   ]
  },
  {
   "cell_type": "code",
   "execution_count": 269,
   "metadata": {},
   "outputs": [
    {
     "data": {
      "text/html": [
       "<div>\n",
       "<style scoped>\n",
       "    .dataframe tbody tr th:only-of-type {\n",
       "        vertical-align: middle;\n",
       "    }\n",
       "\n",
       "    .dataframe tbody tr th {\n",
       "        vertical-align: top;\n",
       "    }\n",
       "\n",
       "    .dataframe thead th {\n",
       "        text-align: right;\n",
       "    }\n",
       "</style>\n",
       "<table border=\"1\" class=\"dataframe\">\n",
       "  <thead>\n",
       "    <tr style=\"text-align: right;\">\n",
       "      <th></th>\n",
       "      <th>temperature</th>\n",
       "      <th>has_children</th>\n",
       "      <th>toCoupon_GEQ5min</th>\n",
       "      <th>toCoupon_GEQ15min</th>\n",
       "      <th>toCoupon_GEQ25min</th>\n",
       "      <th>direction_same</th>\n",
       "      <th>direction_opp</th>\n",
       "      <th>Y</th>\n",
       "    </tr>\n",
       "  </thead>\n",
       "  <tbody>\n",
       "    <tr>\n",
       "      <th>count</th>\n",
       "      <td>12684.000000</td>\n",
       "      <td>12684.000000</td>\n",
       "      <td>12684.0</td>\n",
       "      <td>12684.000000</td>\n",
       "      <td>12684.000000</td>\n",
       "      <td>12684.000000</td>\n",
       "      <td>12684.000000</td>\n",
       "      <td>12684.000000</td>\n",
       "    </tr>\n",
       "    <tr>\n",
       "      <th>mean</th>\n",
       "      <td>63.301798</td>\n",
       "      <td>0.414144</td>\n",
       "      <td>1.0</td>\n",
       "      <td>0.561495</td>\n",
       "      <td>0.119126</td>\n",
       "      <td>0.214759</td>\n",
       "      <td>0.785241</td>\n",
       "      <td>0.568433</td>\n",
       "    </tr>\n",
       "    <tr>\n",
       "      <th>std</th>\n",
       "      <td>19.154486</td>\n",
       "      <td>0.492593</td>\n",
       "      <td>0.0</td>\n",
       "      <td>0.496224</td>\n",
       "      <td>0.323950</td>\n",
       "      <td>0.410671</td>\n",
       "      <td>0.410671</td>\n",
       "      <td>0.495314</td>\n",
       "    </tr>\n",
       "    <tr>\n",
       "      <th>min</th>\n",
       "      <td>30.000000</td>\n",
       "      <td>0.000000</td>\n",
       "      <td>1.0</td>\n",
       "      <td>0.000000</td>\n",
       "      <td>0.000000</td>\n",
       "      <td>0.000000</td>\n",
       "      <td>0.000000</td>\n",
       "      <td>0.000000</td>\n",
       "    </tr>\n",
       "    <tr>\n",
       "      <th>25%</th>\n",
       "      <td>55.000000</td>\n",
       "      <td>0.000000</td>\n",
       "      <td>1.0</td>\n",
       "      <td>0.000000</td>\n",
       "      <td>0.000000</td>\n",
       "      <td>0.000000</td>\n",
       "      <td>1.000000</td>\n",
       "      <td>0.000000</td>\n",
       "    </tr>\n",
       "    <tr>\n",
       "      <th>50%</th>\n",
       "      <td>80.000000</td>\n",
       "      <td>0.000000</td>\n",
       "      <td>1.0</td>\n",
       "      <td>1.000000</td>\n",
       "      <td>0.000000</td>\n",
       "      <td>0.000000</td>\n",
       "      <td>1.000000</td>\n",
       "      <td>1.000000</td>\n",
       "    </tr>\n",
       "    <tr>\n",
       "      <th>75%</th>\n",
       "      <td>80.000000</td>\n",
       "      <td>1.000000</td>\n",
       "      <td>1.0</td>\n",
       "      <td>1.000000</td>\n",
       "      <td>0.000000</td>\n",
       "      <td>0.000000</td>\n",
       "      <td>1.000000</td>\n",
       "      <td>1.000000</td>\n",
       "    </tr>\n",
       "    <tr>\n",
       "      <th>max</th>\n",
       "      <td>80.000000</td>\n",
       "      <td>1.000000</td>\n",
       "      <td>1.0</td>\n",
       "      <td>1.000000</td>\n",
       "      <td>1.000000</td>\n",
       "      <td>1.000000</td>\n",
       "      <td>1.000000</td>\n",
       "      <td>1.000000</td>\n",
       "    </tr>\n",
       "  </tbody>\n",
       "</table>\n",
       "</div>"
      ],
      "text/plain": [
       "        temperature  has_children  toCoupon_GEQ5min  toCoupon_GEQ15min  \\\n",
       "count  12684.000000  12684.000000           12684.0       12684.000000   \n",
       "mean      63.301798      0.414144               1.0           0.561495   \n",
       "std       19.154486      0.492593               0.0           0.496224   \n",
       "min       30.000000      0.000000               1.0           0.000000   \n",
       "25%       55.000000      0.000000               1.0           0.000000   \n",
       "50%       80.000000      0.000000               1.0           1.000000   \n",
       "75%       80.000000      1.000000               1.0           1.000000   \n",
       "max       80.000000      1.000000               1.0           1.000000   \n",
       "\n",
       "       toCoupon_GEQ25min  direction_same  direction_opp             Y  \n",
       "count       12684.000000    12684.000000   12684.000000  12684.000000  \n",
       "mean            0.119126        0.214759       0.785241      0.568433  \n",
       "std             0.323950        0.410671       0.410671      0.495314  \n",
       "min             0.000000        0.000000       0.000000      0.000000  \n",
       "25%             0.000000        0.000000       1.000000      0.000000  \n",
       "50%             0.000000        0.000000       1.000000      1.000000  \n",
       "75%             0.000000        0.000000       1.000000      1.000000  \n",
       "max             1.000000        1.000000       1.000000      1.000000  "
      ]
     },
     "execution_count": 269,
     "metadata": {},
     "output_type": "execute_result"
    }
   ],
   "source": [
    "data.describe()"
   ]
  },
  {
   "cell_type": "code",
   "execution_count": 270,
   "metadata": {},
   "outputs": [
    {
     "name": "stdout",
     "output_type": "stream",
     "text": [
      "<class 'pandas.core.frame.DataFrame'>\n",
      "RangeIndex: 12684 entries, 0 to 12683\n",
      "Data columns (total 26 columns):\n",
      " #   Column                Non-Null Count  Dtype \n",
      "---  ------                --------------  ----- \n",
      " 0   destination           12684 non-null  object\n",
      " 1   passanger             12684 non-null  object\n",
      " 2   weather               12684 non-null  object\n",
      " 3   temperature           12684 non-null  int64 \n",
      " 4   time                  12684 non-null  object\n",
      " 5   coupon                12684 non-null  object\n",
      " 6   expiration            12684 non-null  object\n",
      " 7   gender                12684 non-null  object\n",
      " 8   age                   12684 non-null  object\n",
      " 9   maritalStatus         12684 non-null  object\n",
      " 10  has_children          12684 non-null  int64 \n",
      " 11  education             12684 non-null  object\n",
      " 12  occupation            12684 non-null  object\n",
      " 13  income                12684 non-null  object\n",
      " 14  car                   108 non-null    object\n",
      " 15  Bar                   12577 non-null  object\n",
      " 16  CoffeeHouse           12467 non-null  object\n",
      " 17  CarryAway             12533 non-null  object\n",
      " 18  RestaurantLessThan20  12554 non-null  object\n",
      " 19  Restaurant20To50      12495 non-null  object\n",
      " 20  toCoupon_GEQ5min      12684 non-null  int64 \n",
      " 21  toCoupon_GEQ15min     12684 non-null  int64 \n",
      " 22  toCoupon_GEQ25min     12684 non-null  int64 \n",
      " 23  direction_same        12684 non-null  int64 \n",
      " 24  direction_opp         12684 non-null  int64 \n",
      " 25  Y                     12684 non-null  int64 \n",
      "dtypes: int64(8), object(18)\n",
      "memory usage: 2.5+ MB\n"
     ]
    }
   ],
   "source": [
    "data.info()"
   ]
  },
  {
   "cell_type": "code",
   "execution_count": null,
   "metadata": {},
   "outputs": [],
   "source": []
  },
  {
   "cell_type": "code",
   "execution_count": null,
   "metadata": {},
   "outputs": [],
   "source": []
  },
  {
   "cell_type": "code",
   "execution_count": null,
   "metadata": {},
   "outputs": [],
   "source": []
  },
  {
   "cell_type": "markdown",
   "metadata": {},
   "source": [
    "## 2. Investigate the dataset for missing or problematic data.\n",
    "\n",
    "- Car column has problematic values with 12,576 values\n",
    "- Bar column has problematic values with 107 NaN values\n",
    "- CoffeeHouse column has problematic values with 217 NaN values\n",
    "- CarryAway column has problematic values with 151 NaN values\n",
    "- RestaurantLessThan20 column has problematic values with 130 NaN values\n",
    "- Restaurant20To50 column has problematic values with 189 NaN values"
   ]
  },
  {
   "cell_type": "code",
   "execution_count": 274,
   "metadata": {},
   "outputs": [
    {
     "data": {
      "text/plain": [
       "destination                 0\n",
       "passanger                   0\n",
       "weather                     0\n",
       "temperature                 0\n",
       "time                        0\n",
       "coupon                      0\n",
       "expiration                  0\n",
       "gender                      0\n",
       "age                         0\n",
       "maritalStatus               0\n",
       "has_children                0\n",
       "education                   0\n",
       "occupation                  0\n",
       "income                      0\n",
       "car                     12576\n",
       "Bar                       107\n",
       "CoffeeHouse               217\n",
       "CarryAway                 151\n",
       "RestaurantLessThan20      130\n",
       "Restaurant20To50          189\n",
       "toCoupon_GEQ5min            0\n",
       "toCoupon_GEQ15min           0\n",
       "toCoupon_GEQ25min           0\n",
       "direction_same              0\n",
       "direction_opp               0\n",
       "Y                           0\n",
       "dtype: int64"
      ]
     },
     "execution_count": 274,
     "metadata": {},
     "output_type": "execute_result"
    }
   ],
   "source": [
    "dt = data\n",
    "dt.isna().sum()"
   ]
  },
  {
   "cell_type": "code",
   "execution_count": 277,
   "metadata": {},
   "outputs": [
    {
     "data": {
      "text/plain": [
       "destination             string\n",
       "passanger               string\n",
       "weather                 string\n",
       "temperature              Int64\n",
       "time                    string\n",
       "coupon                  string\n",
       "expiration              string\n",
       "gender                  string\n",
       "age                     string\n",
       "maritalStatus           string\n",
       "has_children             Int64\n",
       "education               string\n",
       "occupation              string\n",
       "income                  string\n",
       "car                     string\n",
       "Bar                     string\n",
       "CoffeeHouse             string\n",
       "CarryAway               string\n",
       "RestaurantLessThan20    string\n",
       "Restaurant20To50        string\n",
       "toCoupon_GEQ5min         Int64\n",
       "toCoupon_GEQ15min        Int64\n",
       "toCoupon_GEQ25min        Int64\n",
       "direction_same           Int64\n",
       "direction_opp            Int64\n",
       "Y                        Int64\n",
       "dtype: object"
      ]
     },
     "execution_count": 277,
     "metadata": {},
     "output_type": "execute_result"
    }
   ],
   "source": [
    "dt.dtypes\n",
    "dts = dt.convert_dtypes()\n",
    "dts.dtypes"
   ]
  },
  {
   "cell_type": "code",
   "execution_count": 387,
   "metadata": {},
   "outputs": [
    {
     "data": {
      "text/plain": [
       "1      7210\n",
       "0      5474\n",
       "NaN       0\n",
       "Name: Y, dtype: Int64"
      ]
     },
     "execution_count": 387,
     "metadata": {},
     "output_type": "execute_result"
    }
   ],
   "source": [
    "dts['destination'].value_counts(dropna=False).to_frame()\n",
    "dts['passanger'].value_counts(dropna=False).to_frame()\n",
    "dts['weather'].value_counts(dropna=False).to_frame()\n",
    "dts['temperature'].value_counts(dropna=False).to_frame()\n",
    "dts['time'].value_counts(dropna=False).to_frame()\n",
    "dts['coupon'].value_counts(dropna=False).to_frame()\n",
    "dts['expiration'].value_counts(dropna=False).to_frame()\n",
    "dts['gender'].value_counts(dropna=False).to_frame()\n",
    "dts['age'].value_counts(dropna=False).to_frame()\n",
    "dts['maritalStatus'].value_counts(dropna=False).to_frame()\n",
    "dts['has_children'].value_counts(dropna=False).to_frame()\n",
    "dts['education'].value_counts(dropna=False).to_frame()\n",
    "dts['occupation'].value_counts(dropna=False).to_frame()\n",
    "dts['income'].value_counts(dropna=False).to_frame()\n",
    "\n",
    "\n",
    "dts[\"car\"].value_counts(dropna=False)\n",
    "dts['Bar'].value_counts(dropna=False)\n",
    "dts['CoffeeHouse'].value_counts(dropna=False)\n",
    "dts['CarryAway'].value_counts(dropna=False)\n",
    "dts['RestaurantLessThan20'].value_counts(dropna=False)\n",
    "dts['Restaurant20To50'].value_counts(dropna=False)\n",
    "dts['toCoupon_GEQ5min'].value_counts(dropna=False)\n",
    "dts['toCoupon_GEQ15min'].value_counts(dropna=False)\n",
    "dts['toCoupon_GEQ25min'].value_counts(dropna=False)\n",
    "dts['direction_same'].value_counts(dropna=False)\n",
    "dts['direction_opp'].value_counts(dropna=False)\n",
    "dts['Y'].value_counts(dropna=False)\n",
    "\n",
    "\n",
    "dts['destination'].value_counts(dropna=False)\n",
    "dts['passanger'].value_counts(dropna=False)\n",
    "\n",
    "# dts['destination'].isnull().sum()\n",
    "\n",
    "\n",
    "# problematic data with a lot of NaN 12,576 values\n",
    "dts['car'].value_counts(dropna=False).to_frame()\n",
    "\n",
    "#problematic data with 107 NaN walues\n",
    "dts['Bar'].value_counts(dropna=False).to_frame()\n",
    "\n",
    "#problematic data with 217 NaN walues\n",
    "dts['CoffeeHouse'].value_counts(dropna=False).to_frame()\n",
    "\n",
    "#problematic data with 151 NaN walues\n",
    "dts['CarryAway'].value_counts(dropna=False).to_frame()\n",
    "\n",
    "#problematic data with 130 NaN walues\n",
    "dts['RestaurantLessThan20'].value_counts(dropna=False)\n",
    "\n",
    "#problematic data with 189 NaN walues\n",
    "dts['Restaurant20To50'].value_counts(dropna=False)"
   ]
  },
  {
   "cell_type": "code",
   "execution_count": 218,
   "metadata": {
    "scrolled": true
   },
   "outputs": [
    {
     "data": {
      "text/html": [
       "<div>\n",
       "<style scoped>\n",
       "    .dataframe tbody tr th:only-of-type {\n",
       "        vertical-align: middle;\n",
       "    }\n",
       "\n",
       "    .dataframe tbody tr th {\n",
       "        vertical-align: top;\n",
       "    }\n",
       "\n",
       "    .dataframe thead th {\n",
       "        text-align: right;\n",
       "    }\n",
       "</style>\n",
       "<table border=\"1\" class=\"dataframe\">\n",
       "  <thead>\n",
       "    <tr style=\"text-align: right;\">\n",
       "      <th></th>\n",
       "      <th>destination</th>\n",
       "      <th>passanger</th>\n",
       "      <th>weather</th>\n",
       "      <th>temperature</th>\n",
       "      <th>time</th>\n",
       "      <th>coupon</th>\n",
       "      <th>expiration</th>\n",
       "      <th>gender</th>\n",
       "      <th>age</th>\n",
       "      <th>maritalStatus</th>\n",
       "      <th>has_children</th>\n",
       "      <th>education</th>\n",
       "      <th>occupation</th>\n",
       "      <th>income</th>\n",
       "      <th>car</th>\n",
       "      <th>Bar</th>\n",
       "      <th>CoffeeHouse</th>\n",
       "      <th>CarryAway</th>\n",
       "      <th>RestaurantLessThan20</th>\n",
       "      <th>Restaurant20To50</th>\n",
       "      <th>toCoupon_GEQ5min</th>\n",
       "      <th>toCoupon_GEQ15min</th>\n",
       "      <th>toCoupon_GEQ25min</th>\n",
       "      <th>direction_same</th>\n",
       "      <th>direction_opp</th>\n",
       "      <th>Y</th>\n",
       "      <th>toCoupon_GEQ5min2</th>\n",
       "      <th>toCoupon_GEQ15min2</th>\n",
       "      <th>toCoupon_GEQ25min2</th>\n",
       "    </tr>\n",
       "  </thead>\n",
       "  <tbody>\n",
       "    <tr>\n",
       "      <th>0</th>\n",
       "      <td>No Urgent Place</td>\n",
       "      <td>Alone</td>\n",
       "      <td>Sunny</td>\n",
       "      <td>55</td>\n",
       "      <td>2PM</td>\n",
       "      <td>Restaurant(&lt;20)</td>\n",
       "      <td>1d</td>\n",
       "      <td>Female</td>\n",
       "      <td>21</td>\n",
       "      <td>Unmarried partner</td>\n",
       "      <td>1</td>\n",
       "      <td>Some college - no degree</td>\n",
       "      <td>Unemployed</td>\n",
       "      <td>$37500 - $49999</td>\n",
       "      <td>NaN</td>\n",
       "      <td>never</td>\n",
       "      <td>never</td>\n",
       "      <td>NaN</td>\n",
       "      <td>4~8</td>\n",
       "      <td>1~3</td>\n",
       "      <td>1</td>\n",
       "      <td>0</td>\n",
       "      <td>0</td>\n",
       "      <td>0</td>\n",
       "      <td>1</td>\n",
       "      <td>1</td>\n",
       "      <td>3</td>\n",
       "      <td>0</td>\n",
       "      <td>0</td>\n",
       "    </tr>\n",
       "    <tr>\n",
       "      <th>1</th>\n",
       "      <td>No Urgent Place</td>\n",
       "      <td>Friend(s)</td>\n",
       "      <td>Sunny</td>\n",
       "      <td>80</td>\n",
       "      <td>10AM</td>\n",
       "      <td>Coffee House</td>\n",
       "      <td>2h</td>\n",
       "      <td>Female</td>\n",
       "      <td>21</td>\n",
       "      <td>Unmarried partner</td>\n",
       "      <td>1</td>\n",
       "      <td>Some college - no degree</td>\n",
       "      <td>Unemployed</td>\n",
       "      <td>$37500 - $49999</td>\n",
       "      <td>NaN</td>\n",
       "      <td>never</td>\n",
       "      <td>never</td>\n",
       "      <td>NaN</td>\n",
       "      <td>4~8</td>\n",
       "      <td>1~3</td>\n",
       "      <td>1</td>\n",
       "      <td>0</td>\n",
       "      <td>0</td>\n",
       "      <td>0</td>\n",
       "      <td>1</td>\n",
       "      <td>0</td>\n",
       "      <td>3</td>\n",
       "      <td>0</td>\n",
       "      <td>0</td>\n",
       "    </tr>\n",
       "  </tbody>\n",
       "</table>\n",
       "</div>"
      ],
      "text/plain": [
       "       destination  passanger weather  temperature  time           coupon  \\\n",
       "0  No Urgent Place      Alone   Sunny           55   2PM  Restaurant(<20)   \n",
       "1  No Urgent Place  Friend(s)   Sunny           80  10AM     Coffee House   \n",
       "\n",
       "  expiration  gender age      maritalStatus  has_children  \\\n",
       "0         1d  Female  21  Unmarried partner             1   \n",
       "1         2h  Female  21  Unmarried partner             1   \n",
       "\n",
       "                  education  occupation           income  car    Bar  \\\n",
       "0  Some college - no degree  Unemployed  $37500 - $49999  NaN  never   \n",
       "1  Some college - no degree  Unemployed  $37500 - $49999  NaN  never   \n",
       "\n",
       "  CoffeeHouse CarryAway RestaurantLessThan20 Restaurant20To50  \\\n",
       "0       never       NaN                  4~8              1~3   \n",
       "1       never       NaN                  4~8              1~3   \n",
       "\n",
       "   toCoupon_GEQ5min  toCoupon_GEQ15min  toCoupon_GEQ25min  direction_same  \\\n",
       "0                 1                  0                  0               0   \n",
       "1                 1                  0                  0               0   \n",
       "\n",
       "   direction_opp  Y  toCoupon_GEQ5min2  toCoupon_GEQ15min2  toCoupon_GEQ25min2  \n",
       "0              1  1                  3                   0                   0  \n",
       "1              1  0                  3                   0                   0  "
      ]
     },
     "execution_count": 218,
     "metadata": {},
     "output_type": "execute_result"
    }
   ],
   "source": [
    "dt.head(2)"
   ]
  },
  {
   "cell_type": "markdown",
   "metadata": {},
   "source": [
    "## 3. Decide what to do about your missing data -- drop, replace, other...\n",
    "- The Car column has a lot of problematic missing values. Because of the volume of missing values, this column can be replaced by using other statistical values derived from other portion of the whole dataset\n",
    "- Bar column has only 107 missing values hence, these values can be dropped\n",
    "- CoffeeHouse column has only 217 missing values hence these values can be dropped\n",
    "- CarryAway column has only 151 missing values, hence these values can be dropped\n",
    "- RestaurantLessThan20 column has only 130 missing values, hence these values can be dropped\n",
    "- Restaurant20To50 column has only 189 values, hence these values can be dropped"
   ]
  },
  {
   "cell_type": "code",
   "execution_count": 412,
   "metadata": {},
   "outputs": [],
   "source": [
    "portion_accepted = 0"
   ]
  },
  {
   "cell_type": "markdown",
   "metadata": {},
   "source": [
    "## 4. What proportion of the total observations chose to accept the coupon? \n",
    "- 56.86% is the proportion of the total observations that accepted the coupon {portion_accepted = 0.5684326710816777}"
   ]
  },
  {
   "cell_type": "code",
   "execution_count": 413,
   "metadata": {},
   "outputs": [
    {
     "name": "stdout",
     "output_type": "stream",
     "text": [
      "0.5684326710816777\n"
     ]
    }
   ],
   "source": [
    "number_accepted = dt.query(\"Y == 1\").groupby(\"Y\")[\"Y\"].size()\n",
    "total_population = len(dt.index)\n",
    "portion_accepted = (number_accepted / total_population)[1]\n",
    "portion_accepted\n",
    "\n",
    "val = dts[\"Y\"].value_counts(normalize=True)[1]\n",
    "\n",
    "if portion_accepted == val:\n",
    "   print(portion_accepted)"
   ]
  },
  {
   "cell_type": "markdown",
   "metadata": {},
   "source": [
    "## 5. Use a bar plot to visualize the `coupon` column."
   ]
  },
  {
   "cell_type": "code",
   "execution_count": 1629,
   "metadata": {},
   "outputs": [
    {
     "data": {
      "text/plain": [
       "Coffee House             0.315043\n",
       "Restaurant(<20)          0.219647\n",
       "Carry out & Take away    0.188663\n",
       "Bar                      0.159019\n",
       "Restaurant(20-50)        0.117629\n",
       "Name: coupon, dtype: float64"
      ]
     },
     "execution_count": 1629,
     "metadata": {},
     "output_type": "execute_result"
    },
    {
     "data": {
      "image/png": "[encoded data removed]",
      "text/plain": [
       "<Figure size 720x432 with 1 Axes>"
      ]
     },
     "metadata": {
      "needs_background": "light"
     },
     "output_type": "display_data"
    }
   ],
   "source": [
    "coupons = dt.groupby(\"coupon\").size()\n",
    "\n",
    "coupons = dt[\"coupon\"].value_counts(normalize=True)\n",
    "\n",
    "fig = coupons.plot(kind='bar', figsize=(10,6))\n",
    "\n",
    "for index,value in enumerate(coupons):\n",
    "    fig.annotate(format(value, '.2f'),\n",
    "                   (index, value), \n",
    "                    ha='center', va='center',\n",
    "                    size=12, xytext=(0, 8),\n",
    "                    textcoords='offset points')\n",
    "\n",
    "plt.xticks(rotation=45, ha='right')\n",
    "fig.margins(0.4)\n",
    "\n",
    "fig.minorticks_on()\n",
    "fig.grid(which='major', linestyle='--', linewidth='0.5', color='red')\n",
    "fig.grid(which='minor', linestyle=':', linewidth='0.5', color='gray')\n",
    "\n",
    "\n",
    "fig.set_ylabel(\"No. of Coupons\")\n",
    "fig.set_xlabel('Coupons Categories')\n",
    "fig.set_title(f\"Visualizing the Coupon Column with Bar Plot\", fontsize=14)\n",
    "coupons"
   ]
  },
  {
   "cell_type": "markdown",
   "metadata": {},
   "source": [
    "## 6. Use a histogram to visualize the temperature column."
   ]
  },
  {
   "cell_type": "code",
   "execution_count": 585,
   "metadata": {},
   "outputs": [
    {
     "data": {
      "text/html": [
       "<div>\n",
       "<style scoped>\n",
       "    .dataframe tbody tr th:only-of-type {\n",
       "        vertical-align: middle;\n",
       "    }\n",
       "\n",
       "    .dataframe tbody tr th {\n",
       "        vertical-align: top;\n",
       "    }\n",
       "\n",
       "    .dataframe thead th {\n",
       "        text-align: right;\n",
       "    }\n",
       "</style>\n",
       "<table border=\"1\" class=\"dataframe\">\n",
       "  <thead>\n",
       "    <tr style=\"text-align: right;\">\n",
       "      <th></th>\n",
       "      <th>index</th>\n",
       "      <th>temperature_x</th>\n",
       "      <th>temperature_y</th>\n",
       "    </tr>\n",
       "  </thead>\n",
       "  <tbody>\n",
       "    <tr>\n",
       "      <th>0</th>\n",
       "      <td>80</td>\n",
       "      <td>6528.0</td>\n",
       "      <td>0.514664</td>\n",
       "    </tr>\n",
       "    <tr>\n",
       "      <th>1</th>\n",
       "      <td>55</td>\n",
       "      <td>3840.0</td>\n",
       "      <td>0.302744</td>\n",
       "    </tr>\n",
       "    <tr>\n",
       "      <th>2</th>\n",
       "      <td>30</td>\n",
       "      <td>2316.0</td>\n",
       "      <td>0.182592</td>\n",
       "    </tr>\n",
       "  </tbody>\n",
       "</table>\n",
       "</div>"
      ],
      "text/plain": [
       "   index  temperature_x  temperature_y\n",
       "0     80         6528.0       0.514664\n",
       "1     55         3840.0       0.302744\n",
       "2     30         2316.0       0.182592"
      ]
     },
     "execution_count": 585,
     "metadata": {},
     "output_type": "execute_result"
    }
   ],
   "source": [
    "temp_value = dts[\"temperature\"].value_counts().to_frame()\n",
    "temp_percent = dts[\"temperature\"].value_counts(normalize=True).to_frame().reset_index()\n",
    "\n",
    "temp_value = pd.to_numeric(temp_value[\"temperature\"],  downcast='float').to_frame().reset_index()\n",
    "\n",
    "temp_final = temp_value.merge(temp_percent, left_on='index', right_on='index')\n",
    "\n",
    "\n",
    "temp_final.dtypes\n",
    "temp_final"
   ]
  },
  {
   "cell_type": "code",
   "execution_count": 1633,
   "metadata": {},
   "outputs": [
    {
     "data": {
      "text/plain": [
       "80    0.514664\n",
       "55    0.302744\n",
       "30    0.182592\n",
       "Name: temperature, dtype: Float64"
      ]
     },
     "execution_count": 1633,
     "metadata": {},
     "output_type": "execute_result"
    },
    {
     "data": {
      "image/png": "[encoded data removed]",
      "text/plain": [
       "<Figure size 576x360 with 1 Axes>"
      ]
     },
     "metadata": {
      "needs_background": "light"
     },
     "output_type": "display_data"
    }
   ],
   "source": [
    "import plotly.express as px\n",
    "import matplotlib.pyplot as plt\n",
    "\n",
    "temp_val = dts[\"temperature\"]\n",
    "temp_val\n",
    "\n",
    "num_bins = 5\n",
    "#fig = plt.hist(temp_val.sort_values(ascending=False), num_bins, facecolor='blue', alpha=0.5)\n",
    "\n",
    "plt.figure(figsize=(8,5))\n",
    "\n",
    "plt.minorticks_on()\n",
    "plt.grid(which='major', linestyle='--', linewidth='0.5', color='red')\n",
    "plt.grid(which='minor', linestyle=':', linewidth='0.5', color='gray')\n",
    "\n",
    "plt.margins(0.4)\n",
    "plt.xlabel('Temperature')\n",
    "plt.ylabel('Count')\n",
    "plt.title(r'Histogram of Temperature Column', size=16)\n",
    "\n",
    "fig = temp_val.hist(bins=5, alpha=0.5, color='k')\n",
    "    \n",
    "temp_val.value_counts(normalize=True)\n",
    "\n"
   ]
  },
  {
   "cell_type": "code",
   "execution_count": null,
   "metadata": {},
   "outputs": [],
   "source": []
  },
  {
   "cell_type": "code",
   "execution_count": null,
   "metadata": {},
   "outputs": [],
   "source": []
  },
  {
   "cell_type": "code",
   "execution_count": null,
   "metadata": {},
   "outputs": [],
   "source": []
  },
  {
   "cell_type": "markdown",
   "metadata": {},
   "source": [
    "**Investigating the Bar Coupons**\n",
    "\n",
    "Now, we will lead you through an exploration of just the bar related coupons.  \n",
    "\n",
    "1. Create a new `DataFrame` that contains just the bar coupons.\n"
   ]
  },
  {
   "cell_type": "code",
   "execution_count": 793,
   "metadata": {},
   "outputs": [
    {
     "data": {
      "text/html": [
       "<div>\n",
       "<style scoped>\n",
       "    .dataframe tbody tr th:only-of-type {\n",
       "        vertical-align: middle;\n",
       "    }\n",
       "\n",
       "    .dataframe tbody tr th {\n",
       "        vertical-align: top;\n",
       "    }\n",
       "\n",
       "    .dataframe thead th {\n",
       "        text-align: right;\n",
       "    }\n",
       "</style>\n",
       "<table border=\"1\" class=\"dataframe\">\n",
       "  <thead>\n",
       "    <tr style=\"text-align: right;\">\n",
       "      <th></th>\n",
       "      <th>destination</th>\n",
       "      <th>passanger</th>\n",
       "      <th>weather</th>\n",
       "      <th>temperature</th>\n",
       "      <th>time</th>\n",
       "      <th>coupon</th>\n",
       "      <th>expiration</th>\n",
       "      <th>gender</th>\n",
       "      <th>age</th>\n",
       "      <th>maritalStatus</th>\n",
       "      <th>has_children</th>\n",
       "      <th>education</th>\n",
       "      <th>occupation</th>\n",
       "      <th>income</th>\n",
       "      <th>car</th>\n",
       "      <th>Bar</th>\n",
       "      <th>CoffeeHouse</th>\n",
       "      <th>CarryAway</th>\n",
       "      <th>RestaurantLessThan20</th>\n",
       "      <th>Restaurant20To50</th>\n",
       "      <th>toCoupon_GEQ5min</th>\n",
       "      <th>toCoupon_GEQ15min</th>\n",
       "      <th>toCoupon_GEQ25min</th>\n",
       "      <th>direction_same</th>\n",
       "      <th>direction_opp</th>\n",
       "      <th>Y</th>\n",
       "    </tr>\n",
       "  </thead>\n",
       "  <tbody>\n",
       "    <tr>\n",
       "      <th>9</th>\n",
       "      <td>No Urgent Place</td>\n",
       "      <td>Kid(s)</td>\n",
       "      <td>Sunny</td>\n",
       "      <td>80</td>\n",
       "      <td>10AM</td>\n",
       "      <td>Bar</td>\n",
       "      <td>1d</td>\n",
       "      <td>Female</td>\n",
       "      <td>21</td>\n",
       "      <td>Unmarried partner</td>\n",
       "      <td>1</td>\n",
       "      <td>Some college - no degree</td>\n",
       "      <td>Unemployed</td>\n",
       "      <td>$37500 - $49999</td>\n",
       "      <td>&lt;NA&gt;</td>\n",
       "      <td>never</td>\n",
       "      <td>never</td>\n",
       "      <td>&lt;NA&gt;</td>\n",
       "      <td>4~8</td>\n",
       "      <td>1~3</td>\n",
       "      <td>1</td>\n",
       "      <td>1</td>\n",
       "      <td>0</td>\n",
       "      <td>0</td>\n",
       "      <td>1</td>\n",
       "      <td>0</td>\n",
       "    </tr>\n",
       "    <tr>\n",
       "      <th>13</th>\n",
       "      <td>Home</td>\n",
       "      <td>Alone</td>\n",
       "      <td>Sunny</td>\n",
       "      <td>55</td>\n",
       "      <td>6PM</td>\n",
       "      <td>Bar</td>\n",
       "      <td>1d</td>\n",
       "      <td>Female</td>\n",
       "      <td>21</td>\n",
       "      <td>Unmarried partner</td>\n",
       "      <td>1</td>\n",
       "      <td>Some college - no degree</td>\n",
       "      <td>Unemployed</td>\n",
       "      <td>$37500 - $49999</td>\n",
       "      <td>&lt;NA&gt;</td>\n",
       "      <td>never</td>\n",
       "      <td>never</td>\n",
       "      <td>&lt;NA&gt;</td>\n",
       "      <td>4~8</td>\n",
       "      <td>1~3</td>\n",
       "      <td>1</td>\n",
       "      <td>0</td>\n",
       "      <td>0</td>\n",
       "      <td>1</td>\n",
       "      <td>0</td>\n",
       "      <td>1</td>\n",
       "    </tr>\n",
       "  </tbody>\n",
       "</table>\n",
       "</div>"
      ],
      "text/plain": [
       "        destination passanger weather  temperature  time coupon expiration  \\\n",
       "9   No Urgent Place    Kid(s)   Sunny           80  10AM    Bar         1d   \n",
       "13             Home     Alone   Sunny           55   6PM    Bar         1d   \n",
       "\n",
       "    gender age      maritalStatus  has_children                 education  \\\n",
       "9   Female  21  Unmarried partner             1  Some college - no degree   \n",
       "13  Female  21  Unmarried partner             1  Some college - no degree   \n",
       "\n",
       "    occupation           income   car    Bar CoffeeHouse CarryAway  \\\n",
       "9   Unemployed  $37500 - $49999  <NA>  never       never      <NA>   \n",
       "13  Unemployed  $37500 - $49999  <NA>  never       never      <NA>   \n",
       "\n",
       "   RestaurantLessThan20 Restaurant20To50  toCoupon_GEQ5min  toCoupon_GEQ15min  \\\n",
       "9                   4~8              1~3                 1                  1   \n",
       "13                  4~8              1~3                 1                  0   \n",
       "\n",
       "    toCoupon_GEQ25min  direction_same  direction_opp  Y  \n",
       "9                   0               0              1  0  \n",
       "13                  0               1              0  1  "
      ]
     },
     "execution_count": 793,
     "metadata": {},
     "output_type": "execute_result"
    }
   ],
   "source": [
    "#df_bar_coupons = dts.groupby(\"coupon\").size()\n",
    "df_bar_coupons = dts.query(\"coupon == 'Bar'\")\n",
    "df_bar_coupons.head(2)"
   ]
  },
  {
   "cell_type": "markdown",
   "metadata": {},
   "source": [
    "2. What proportion of bar coupons were accepted?\n",
    "- 41% of Bar Coupons were accepted"
   ]
  },
  {
   "cell_type": "code",
   "execution_count": 1019,
   "metadata": {},
   "outputs": [
    {
     "data": {
      "text/plain": [
       "Text(0.5, 1.0, 'Proportion of Bar Coupons That Were Accepted')"
      ]
     },
     "execution_count": 1019,
     "metadata": {},
     "output_type": "execute_result"
    },
    {
     "data": {
      "image/png": "[encoded data removed]",
      "text/plain": [
       "<Figure size 720x360 with 1 Axes>"
      ]
     },
     "metadata": {
      "needs_background": "light"
     },
     "output_type": "display_data"
    }
   ],
   "source": [
    "#df_bar_accepted\n",
    "df_bar_coupons_accepted = df_bar_coupons['Y'].value_counts(normalize=True)\n",
    "\n",
    "fig = df_bar_coupons_accepted.plot(kind='bar', figsize=(10,5), color='k', alpha=0.8)\n",
    "\n",
    "plt.margins(0.4)\n",
    "\n",
    "for index,value in enumerate(df_bar_coupons_accepted):\n",
    "    fig.annotate(format(value, '.2f'),\n",
    "                   (index, value), \n",
    "                    ha='center', va='center',\n",
    "                    size=12, xytext=(0, 8),\n",
    "                    textcoords='offset points')\n",
    "\n",
    "fig.set_ylabel(\"Percent of Bar Coupons\")\n",
    "fig.set_xlabel('Bar Coupons Accepted or Not Accepted (1 - Accepted, 0 - Not Accepted)')\n",
    "fig.set_title(f\"Proportion of Bar Coupons That Were Accepted\", fontsize=14)"
   ]
  },
  {
   "cell_type": "markdown",
   "metadata": {},
   "source": [
    "3. Compare the acceptance rate between those who went to a bar 3 or fewer times a month to those who went more.\n",
    "- 81% acceptance rate among people who went to a bar 3 or fewer times a month\n",
    "- 19% acceptance rate among people who went to a bar more times within a month"
   ]
  },
  {
   "cell_type": "code",
   "execution_count": 1600,
   "metadata": {},
   "outputs": [
    {
     "data": {
      "text/plain": [
       "Text(0.5, 1.0, 'Acceptance rate Between Fewer Than 3 visitors and the rest')"
      ]
     },
     "execution_count": 1600,
     "metadata": {},
     "output_type": "execute_result"
    },
    {
     "data": {
      "image/png": "[encoded data removed]",
      "text/plain": [
       "<Figure size 576x360 with 1 Axes>"
      ]
     },
     "metadata": {
      "needs_background": "light"
     },
     "output_type": "display_data"
    }
   ],
   "source": [
    "#get bar coupons only\n",
    "df_bar_coupons = dts.query(\"coupon == 'Bar'\") \n",
    "\n",
    "df_bar_coupons.convert_dtypes().dtypes\n",
    "\n",
    "#get only accepted bar coupons\n",
    "df_accepted_bar_coupons = df_bar_coupons.loc[df_bar_coupons[\"Y\"] == 1]\n",
    "df_accepted_bar_coupons\n",
    "\n",
    "#remove null values\n",
    "df_accepted_bar_coupons[\"Bar\"].value_counts(dropna=False)\n",
    "\n",
    "df_accepted_bar_coupons2 = df_accepted_bar_coupons[df_accepted_bar_coupons[\"Bar\"].notna()]\n",
    "df_accepted_bar_coupons2[\"Bar\"].value_counts(dropna=False)\n",
    "\n",
    "\n",
    "\n",
    "#compare acceptance rate between those who went to bar 3 or fewer times a month\n",
    "#to those who went more.\n",
    "df_bar_coupons_3_or_fewer = df_accepted_bar_coupons2.query(\"Bar == '1~3'\")\n",
    "df_bar_coupons_less1 = df_accepted_bar_coupons2.query(\"Bar == 'less1'\")\n",
    "df_bar_coupons_never = df_accepted_bar_coupons2.query(\"Bar == 'never'\")\n",
    "df_bar_coupons_4to8 = df_accepted_bar_coupons2.query(\"Bar == '4~8'\")\n",
    "df_bar_coupons_gt8 = df_accepted_bar_coupons2.query(\"Bar == 'gt8'\")\n",
    "\n",
    "df_bar_coupons_3orfewer_total = df_bar_coupons_3_or_fewer.append(df_bar_coupons_less1).append(df_bar_coupons_never)\n",
    "df_bar_coupons_higherthan3_total = df_bar_coupons_4to8.append(df_bar_coupons_gt8)\n",
    "\n",
    "three_or_fewer = df_bar_coupons_3orfewer_total[\"Bar\"].count()\n",
    "above3 = df_bar_coupons_higherthan3_total[\"coupon\"].count()\n",
    "\n",
    "total = three_or_fewer + above3\n",
    "three_or_fewer_rate = three_or_fewer/total\n",
    "above3_rate = above3/total\n",
    "\n",
    "visit_data = {\n",
    "    \"category\": [\"Less Than or 3 Times\",\"Above 3 Times\"],\n",
    "    \"count\": [three_or_fewer_rate,above3_rate]\n",
    "}\n",
    "\n",
    "bar_visits = pd.DataFrame(visit_data).reset_index()\n",
    "\n",
    "bar_visits.columns = [\"index\", \"category\", \"count\"]\n",
    "bar_visits = bar_visits[[\"category\", \"count\"]]\n",
    "bar_visits.set_index(\"category\")\n",
    "\n",
    "\n",
    "\n",
    "fig = bar_visits.plot.bar(x=\"category\", figsize=(8,5))\n",
    "\n",
    "plt.margins(0.5)\n",
    "plt.xticks(rotation=45, ha='right')\n",
    "\n",
    "for index,value in enumerate(bar_visits[\"count\"]):\n",
    "    fig.annotate(format(value, '.2f'),\n",
    "                   (index, value), \n",
    "                    ha='center', va='center',\n",
    "                    size=12, xytext=(0, 8),\n",
    "                    textcoords='offset points')\n",
    "\n",
    "        \n",
    "fig.set_ylabel(\"Frequency Rate\")\n",
    "fig.set_xlabel('Bar Visits')\n",
    "fig.set_title(f\"Acceptance rate Between Fewer Than 3 visitors and the rest\", fontsize=13)"
   ]
  },
  {
   "cell_type": "markdown",
   "metadata": {},
   "source": [
    "\n",
    "4. Compare the acceptance rate between drivers who go to a bar more than once a month and are over the age of 25 to the all others.  Is there a difference?\n",
    "- There is a huge difference of 235 between drivers who go to a bar more than once a month and over the age of 25 to the all others\n",
    "- 292 drivers above the age of 25 visit a bar more than once a month while 527 visit less than once\n",
    "- 36% acceptance rate by drivers who visit more than once\n",
    "- 64% acceptance rate by all others\n",
    "- There is a difference of 235 which is a normalized 28%"
   ]
  },
  {
   "cell_type": "code",
   "execution_count": 1549,
   "metadata": {},
   "outputs": [
    {
     "data": {
      "text/plain": [
       "Text(0.5, 1.0, 'Population above 25 vs Everyone Else')"
      ]
     },
     "execution_count": 1549,
     "metadata": {},
     "output_type": "execute_result"
    },
    {
     "data": {
      "image/png": "[encoded data removed]",
      "text/plain": [
       "<Figure size 576x360 with 1 Axes>"
      ]
     },
     "metadata": {
      "needs_background": "light"
     },
     "output_type": "display_data"
    }
   ],
   "source": [
    "def convert_to50(val):\n",
    "    new_val = 50\n",
    "    \n",
    "    if val == \"50plus\":\n",
    "        return new_val\n",
    "    else:\n",
    "        return val\n",
    "    \n",
    "\n",
    "def convert_to20(val):\n",
    "    new_val = 20\n",
    "    \n",
    "    if val == \"below21\":\n",
    "        return new_val\n",
    "    else:\n",
    "        return val\n",
    "    \n",
    "\n",
    "#convert 50plus and below 21 to 50 and 20 respectively\n",
    "dts[\"age\"] = dts[\"age\"].apply(convert_to50)\n",
    "dts[\"age\"] = dts[\"age\"].apply(convert_to20)\n",
    "\n",
    "\n",
    "\n",
    "#convert age column to numeric\n",
    "dts[\"age\"] = pd.to_numeric(dts[\"age\"])\n",
    "\n",
    "\n",
    "\n",
    "\n",
    "#get all the Bar coupons\n",
    "df_barcoupons = dts.query(\"coupon == 'Bar'\")\n",
    "\n",
    "#get the accepted bar coupons\n",
    "df_barcoupons_accepted = df_barcoupons.loc[df_barcoupons[\"Y\"] == 1]\n",
    "\n",
    "\n",
    "\n",
    "\n",
    "def iter_df_barcoupons_accepted(df):\n",
    "    filters = [\"1~3\",\"4~8\",\"gt8\"]\n",
    "    df[\"visits_25\"] = np.NaN\n",
    "    \n",
    "    for idx, row in df.iterrows():\n",
    "        if  df.loc[idx,'age'] > 25 and df.loc[idx,'Bar'] in filters:\n",
    "            df.loc[idx,'visits_25'] = \"val_above_25\"\n",
    "        else:\n",
    "            df.loc[idx,'visits_25'] = \"all_else\"\n",
    "            \n",
    "    return df\n",
    "\n",
    "\n",
    "#select only non-empty fields\n",
    "df_barcoupons_accepted = df_barcoupons_accepted[df_barcoupons_accepted[\"Bar\"].notna()]\n",
    "\n",
    "df_barcoupons_accepted2 = iter_df_barcoupons_accepted(df_barcoupons_accepted)\n",
    "\n",
    "#assign the groups to a variable\n",
    "bar_visits_above25 = df_barcoupons_accepted2[\"visits_25\"].value_counts(dropna=False, normalize=True)\n",
    "\n",
    "#plot the variable\n",
    "fig = bar_visits_above25.plot.bar(figsize=(8,5))\n",
    "\n",
    "#assign margin to the plot and rotate the x-axis ticks\n",
    "plt.margins(0.4)\n",
    "plt.xticks(rotation=45, ha='right')\n",
    "\n",
    "for index,value in enumerate(bar_visits_above25):\n",
    "    fig.annotate(format(value, '.2f'),\n",
    "                   (index, value), \n",
    "                    ha='center', va='center',\n",
    "                    size=12, xytext=(0, 8),\n",
    "                    textcoords='offset points')\n",
    "\n",
    "fig.set_ylabel(\"Percentage\")\n",
    "fig.set_xlabel('Population')\n",
    "fig.set_title(f\"Population above 25 vs Everyone Else\", fontsize=14)\n",
    "\n",
    "#bar_visits_separated = df_barcoupons_accepted[\"visits_25 == 'drivers_above25'\"]\n",
    "#bar_visits_separated\n",
    "\n",
    "\n"
   ]
  },
  {
   "cell_type": "markdown",
   "metadata": {},
   "source": [
    "5. Construct a null and alternative hypothesis for the difference between groups of drivers who go to a bar more than once a month and are over the age of 25 to all other drivers. "
   ]
  },
  {
   "cell_type": "markdown",
   "metadata": {},
   "source": [
    "### Null Hypothesis\n",
    "- H0: Probability of going to bar being above 25 years of age and being less than 25 years are equal i.e.μ1 = μ2, \n",
    "\n",
    "\n",
    "### Alternative Hypothesis\n",
    "- H1: Probability of going to bar being above 25 years of age and being less than 25 years are not equal i.e.μ1 ≠ μ2, \n"
   ]
  },
  {
   "cell_type": "markdown",
   "metadata": {},
   "source": [
    "6. Using alpha at 0.05 test your hypothesis and state your conclusion."
   ]
  },
  {
   "cell_type": "code",
   "execution_count": 1446,
   "metadata": {},
   "outputs": [],
   "source": [
    "df_barcoupons_accepted2\n",
    "above_25 = df_barcoupons_accepted2.query(\"visits_25 == 'val_above_25'\")[\"age\"].head(200)\n",
    "all_else = df_barcoupons_accepted2.query(\"visits_25 == 'all_else'\")[\"age\"].head(200)"
   ]
  },
  {
   "cell_type": "code",
   "execution_count": 1455,
   "metadata": {},
   "outputs": [
    {
     "name": "stdout",
     "output_type": "stream",
     "text": [
      "Test statistic is 5.087370\n",
      "p-value for two tailed test is 0.000001\n",
      "Conclusion n Since p-value(=0.000001) < alpha(=0.05) We reject the null hypothesis H0. So we conclude that \n",
      "    the Probability of going to bar being above 25 years of age and being less than 25 years are not equal i.e., \n",
      "    μ1 ≠ μ2 at 0.05 level of significance.\n"
     ]
    }
   ],
   "source": [
    "from scipy import stats\n",
    "\n",
    "alpha = 0.05\n",
    "\n",
    "t_value,p_value=stats.ttest_ind(above_25,all_else)\n",
    "\n",
    "print('Test statistic is %f'%float(\"{:.6f}\".format(t_value)))\n",
    "print('p-value for two tailed test is %f'%p_value)\n",
    "\n",
    "if p_value<=alpha:\n",
    "\n",
    "    print('Conclusion','n','Since p-value(=%f)'%p_value,'<','alpha(=%.2f)'%alpha,'''We reject the null hypothesis H0. So we conclude that \n",
    "    the Probability of going to bar being above 25 years of age and being less than 25 years are not equal i.e., \n",
    "    μ1 ≠ μ2 at %.2f level of significance.'''%alpha)\n",
    "\n",
    "else:\n",
    "\n",
    "    print('Conclusion','n','Since p-value(=%f)'%p_value,'>','alpha(=%.2f)'%alpha,'''We do not reject the null hypothesis H0.''')\n",
    "\n"
   ]
  },
  {
   "cell_type": "markdown",
   "metadata": {},
   "source": [
    "7. Use the same process to compare the acceptance rate between drivers who go to bars more than once a month and had passengers that were not a kid and had occupations other than farming, fishing, or forestry. \n",
    "\n",
    "### Answer\n",
    "- There is a huge difference of 33 between drivers who go to a bar more than once a month and had passengers that were not kids and had occupations other than farming, fishing or forestry and all others\n",
    "- 426 drivers go to bar more than once a month, had passengers not kids and occupation other than farming, fishing, or forestry\n",
    "- 393 drivers are all others\n",
    "- 52% acceptance rate by the first category\n",
    "- 48% acceptance rate by all others\n",
    "- There is a difference of 14%\n"
   ]
  },
  {
   "cell_type": "code",
   "execution_count": 1548,
   "metadata": {},
   "outputs": [
    {
     "data": {
      "text/plain": [
       "bar_pass_occu_neg    0.520147\n",
       "bar_pass_occu_pos    0.479853\n",
       "Name: occu_separation, dtype: float64"
      ]
     },
     "execution_count": 1548,
     "metadata": {},
     "output_type": "execute_result"
    },
    {
     "data": {
      "image/png": "[encoded data removed]",
      "text/plain": [
       "<Figure size 720x360 with 1 Axes>"
      ]
     },
     "metadata": {
      "needs_background": "light"
     },
     "output_type": "display_data"
    }
   ],
   "source": [
    "#get bar coupons only\n",
    "df_bar_coupons = dts.query(\"coupon == 'Bar'\") \n",
    "\n",
    "df_bar_coupons.convert_dtypes().dtypes\n",
    "\n",
    "#get only accepted bar coupons\n",
    "df_accepted_bar_coupons = df_bar_coupons.loc[df_bar_coupons[\"Y\"] == 1]\n",
    "df_accepted_bar_coupons\n",
    "\n",
    "#remove null values\n",
    "df_accepted_bar_coupons2 = df_accepted_bar_coupons[df_accepted_bar_coupons[\"Bar\"].notna()]\n",
    "df_accepted_bar_coupons2 = df_accepted_bar_coupons2[df_accepted_bar_coupons2[\"passanger\"].notna()]\n",
    "df_accepted_bar_coupons2 = df_accepted_bar_coupons2[df_accepted_bar_coupons2[\"occupation\"].notna()]\n",
    "df_accepted_bar_coupons2\n",
    "\n",
    "\n",
    "\n",
    "\n",
    "def iter_df_bar_pass_occu_accepted(df):\n",
    "    ifilter = [\"1~3\",\"4~8\",\"gt8\"]\n",
    "    pass_filter = [\"Alone\",\"Friend(s)\",\"Partner\"]\n",
    "    occu_filter = [\"Farming\", \"Fishing\", \"Forestry\"]\n",
    "    \n",
    "    df[\"occu_separation\"] = np.NaN\n",
    "    \n",
    "    for idx, row in df.iterrows():\n",
    "        if  df.loc[idx,'Bar'] in ifilter and df.loc[idx,'passanger'] in pass_filter and df.loc[idx, 'occupation'] not in occu_filter:\n",
    "            df.loc[idx,'occu_separation'] = \"bar_pass_occu_pos\"\n",
    "        else:\n",
    "            df.loc[idx,'occu_separation'] = \"bar_pass_occu_neg\"\n",
    "            \n",
    "    return df\n",
    "\n",
    "df_accepted_bar_coupons2 = iter_df_bar_pass_occu_accepted(df_accepted_bar_coupons2)\n",
    "df_accepted_bar_coupons2[\"occu_separation\"].value_counts(dropna=False)\n",
    "\n",
    "#assign the groups to a variable\n",
    "acceptance_occu = df_accepted_bar_coupons2[\"occu_separation\"].value_counts(dropna=False, normalize=True)\n",
    "\n",
    "#plot the variable\n",
    "fig = acceptance_occu.plot.bar(figsize=(10,5))\n",
    "\n",
    "#assign margin to the plot and rotate the x-axis ticks\n",
    "plt.margins(0.4)\n",
    "plt.xticks(rotation=45, ha='right')\n",
    "\n",
    "for index,value in enumerate(acceptance_occu):\n",
    "    fig.annotate(format(value, '.2f'),\n",
    "                   (index, value), \n",
    "                    ha='center', va='center',\n",
    "                    size=12, xytext=(0, 8),\n",
    "                    textcoords='offset points')\n",
    "\n",
    "fig.set_ylabel(\"Percentage\")\n",
    "fig.set_xlabel('Acceptance Population')\n",
    "fig.set_title(f\"Bar Visitors, Passengers Not Kids, Select Occupations vs Everyone Else\", fontsize=14)\n",
    "acceptance_occu\n",
    "#df_barcoupons_accepted2 = df_barcoupons_accepted2[df_barcoupons_accepted2['passanger'].isin(filter_passanger)]\n",
    "#df_barcoupons_accepted2[\"passanger\"].value_counts(dropna=False)\n",
    "#df_bar_coupons_3orfewer_total = df_bar_coupons_3_or_fewer.append(df_bar_coupons_less1).append(df_bar_coupons_never)\n",
    "\n",
    "#df_accepted_bar_coupons2[\"passanger\"].value_counts(dropna=False)\n",
    "#df_accepted_bar_coupons2[\"Bar\"].value_counts(dropna=False)"
   ]
  },
  {
   "cell_type": "markdown",
   "metadata": {},
   "source": [
    "8. Compare the acceptance rates between those passengers who:\n",
    "\n",
    "- go to bars more than once a month, had passengers that were not a kid, and were not widowed *OR*\n",
    "- go to bars more than once a month and are under the age of 30 *OR*\n",
    "- go to cheap restaurants more than 4 times a month and income is less than 50K. \n",
    "\n",
    "#### Ans\n",
    "- There is a 59% acceptance rate among those who met the criteria\n",
    "- There is a 41% acceptance rate among those who did not the meet the criteria\n",
    "\n",
    "\n"
   ]
  },
  {
   "cell_type": "code",
   "execution_count": 1552,
   "metadata": {},
   "outputs": [
    {
     "data": {
      "text/plain": [
       "multiple_all_else    0.592365\n",
       "multiple_pos         0.407635\n",
       "Name: multiple_separation, dtype: float64"
      ]
     },
     "execution_count": 1552,
     "metadata": {},
     "output_type": "execute_result"
    },
    {
     "data": {
      "image/png": "[encoded data removed]",
      "text/plain": [
       "<Figure size 720x360 with 1 Axes>"
      ]
     },
     "metadata": {
      "needs_background": "light"
     },
     "output_type": "display_data"
    }
   ],
   "source": [
    "#get bar coupons only\n",
    "df_bar_coupons = dts.query(\"coupon == 'Bar'\") \n",
    "\n",
    "df_bar_coupons.convert_dtypes().dtypes\n",
    "\n",
    "#get only accepted bar coupons\n",
    "df_accepted_bar_coupons = df_bar_coupons.loc[df_bar_coupons[\"Y\"] == 1]\n",
    "df_accepted_bar_coupons\n",
    "\n",
    "#remove null values\n",
    "df_accepted_bar_coupons2 = df_accepted_bar_coupons[df_accepted_bar_coupons[\"Bar\"].notna()]\n",
    "df_accepted_bar_coupons2 = df_accepted_bar_coupons2[df_accepted_bar_coupons2[\"passanger\"].notna()]\n",
    "df_accepted_bar_coupons2 = df_accepted_bar_coupons2[df_accepted_bar_coupons2[\"maritalStatus\"].notna()]\n",
    "df_accepted_bar_coupons2 = df_accepted_bar_coupons2[df_accepted_bar_coupons2[\"age\"].notna()]\n",
    "df_accepted_bar_coupons2 = df_accepted_bar_coupons2[df_accepted_bar_coupons2[\"RestaurantLessThan20\"].notna()]\n",
    "\n",
    "\n",
    "\n",
    "def iter_df_bar_pass_occu_accepted_detailed(df):\n",
    "    bar_filter = [\"1~3\",\"4~8\",\"gt8\"]\n",
    "    pass_filter = [\"Alone\",\"Friend(s)\",\"Partner\"]\n",
    "    occu_filter = [\"Farming\", \"Fishing\", \"Forestry\"]\n",
    "    income_filter = [\"$25000 - $37499\",\"$12500 - $24999\",\"$37500 - $49999\",\"Less than $12500\"]\n",
    "    crestau_filter = [\"4~8\",\"gt8\"]\n",
    "    mstatus_filter = [\"Single\",\"Married partner\",\"Unmarried partner\",\"Divorced\"]\n",
    "     \n",
    "    df[\"multiple_separation\"] = np.NaN\n",
    "    \n",
    "    for idx, row in df.iterrows():\n",
    "        if  (df.loc[idx,'Bar'] in bar_filter and df.loc[idx,'passanger'] in pass_filter and df.loc[idx, 'maritalStatus'] not in mstatus_filter) or (df.loc[idx,'Bar'] in bar_filter and df.loc[idx,'age'] < 30) or (df.loc[idx,'RestaurantLessThan20'] in crestau_filter and df.loc[idx,'income'] in income_filter):\n",
    "            df.loc[idx,'multiple_separation'] = \"multiple_pos\"\n",
    "        else:\n",
    "            df.loc[idx,'multiple_separation'] = \"multiple_all_else\"\n",
    "            \n",
    "    return df\n",
    "\n",
    "\n",
    "df_accepted_bar_coupons2 = iter_df_bar_pass_occu_accepted_detailed(df_accepted_bar_coupons2)\n",
    "df_accepted_bar_coupons2[\"multiple_separation\"].value_counts(dropna=False)\n",
    "\n",
    "#assign the groups to a variable\n",
    "acceptance_multiple = df_accepted_bar_coupons2[\"multiple_separation\"].value_counts(dropna=False, normalize=True)\n",
    "\n",
    "#plot the variable\n",
    "fig = acceptance_multiple.plot.bar(figsize=(10,5))\n",
    "\n",
    "#assign margin to the plot and rotate the x-axis ticks\n",
    "plt.margins(0.4)\n",
    "plt.xticks(rotation=45, ha='right')\n",
    "\n",
    "for index,value in enumerate(acceptance_multiple):\n",
    "    fig.annotate(format(value, '.2f'),\n",
    "                   (index, value), \n",
    "                    ha='center', va='center',\n",
    "                    size=12, xytext=(0, 8),\n",
    "                    textcoords='offset points')\n",
    "\n",
    "fig.set_ylabel(\"Percentage\")\n",
    "fig.set_xlabel('Acceptance Population')\n",
    "fig.set_title(f\"Acceptance Rates with Multiple Criteria\", fontsize=14)\n",
    "acceptance_multiple\n",
    "#df_accepted_bar_coupons2[\"maritalStatus\"].value_counts(dropna=False)"
   ]
  },
  {
   "cell_type": "markdown",
   "metadata": {},
   "source": [
    "9.  Based on these observations, what do you hypothesize about passengers who accepted the bar coupons?\n",
    "\n",
    "#### Null Hypothesis\n",
    "- H0: Probability of accepting the bar coupons and not accepting the bar coupons are equal i.e.μ1 = μ2, \n",
    "\n",
    "\n",
    "#### Alternative Hypothesis\n",
    "- H1: Probability of accepting the bar coupons and not accepting the bar coupons are not equal i.e.μ1 ≠ μ2, \n"
   ]
  },
  {
   "cell_type": "code",
   "execution_count": 1570,
   "metadata": {},
   "outputs": [
    {
     "name": "stdout",
     "output_type": "stream",
     "text": [
      "Test statistic is -8.785142\n",
      "p-value for two tailed test is 0.000000\n",
      "Conclusion n Since p-value(=0.000000) < alpha(=0.05) We reject the null hypothesis H0. So we conclude that \n",
      "    the Probability of accepting the bar coupon and not accepting the bar coupon are not equal i.e., \n",
      "    μ1 ≠ μ2 at 0.05 level of significance.\n"
     ]
    }
   ],
   "source": [
    "df_accepted_bar_coupons2\n",
    "mul_pos = df_accepted_bar_coupons2.query(\"multiple_separation == 'multiple_pos'\")[\"age\"].head(200)\n",
    "mul_all_else = df_accepted_bar_coupons2.query(\"multiple_separation == 'multiple_all_else'\")[\"age\"].head(200)\n",
    "\n",
    "from scipy import stats\n",
    "\n",
    "alpha = 0.05\n",
    "\n",
    "t_value,p_value=stats.ttest_ind(mul_pos,mul_all_else)\n",
    "\n",
    "print('Test statistic is %f'%float(\"{:.6f}\".format(t_value)))\n",
    "print('p-value for two tailed test is %f'%p_value)\n",
    "\n",
    "if p_value<=alpha:\n",
    "\n",
    "    print('Conclusion','n','Since p-value(=%f)'%p_value,'<','alpha(=%.2f)'%alpha,'''We reject the null hypothesis H0. So we conclude that \n",
    "    the Probability of accepting the bar coupon and not accepting the bar coupon are not equal i.e., \n",
    "    μ1 ≠ μ2 at %.2f level of significance.'''%alpha)\n",
    "\n",
    "else:\n",
    "\n",
    "    print('Conclusion','n','Since p-value(=%f)'%p_value,'>','alpha(=%.2f)'%alpha,'''We do not reject the null hypothesis H0.''')\n",
    "\n",
    "\n",
    "\n",
    "\n"
   ]
  },
  {
   "cell_type": "markdown",
   "metadata": {},
   "source": [
    "### Independent Investigation\n",
    "\n",
    "Using the bar coupon example as motivation, you are to explore one of the other coupon groups and try to determine the characteristics of passengers who accept the coupons.  "
   ]
  },
  {
   "cell_type": "code",
   "execution_count": 1577,
   "metadata": {},
   "outputs": [
    {
     "data": {
      "text/html": [
       "<div>\n",
       "<style scoped>\n",
       "    .dataframe tbody tr th:only-of-type {\n",
       "        vertical-align: middle;\n",
       "    }\n",
       "\n",
       "    .dataframe tbody tr th {\n",
       "        vertical-align: top;\n",
       "    }\n",
       "\n",
       "    .dataframe thead th {\n",
       "        text-align: right;\n",
       "    }\n",
       "</style>\n",
       "<table border=\"1\" class=\"dataframe\">\n",
       "  <thead>\n",
       "    <tr style=\"text-align: right;\">\n",
       "      <th></th>\n",
       "      <th>destination</th>\n",
       "      <th>passanger</th>\n",
       "      <th>weather</th>\n",
       "      <th>temperature</th>\n",
       "      <th>time</th>\n",
       "      <th>coupon</th>\n",
       "      <th>expiration</th>\n",
       "      <th>gender</th>\n",
       "      <th>age</th>\n",
       "      <th>maritalStatus</th>\n",
       "      <th>has_children</th>\n",
       "      <th>education</th>\n",
       "      <th>occupation</th>\n",
       "      <th>income</th>\n",
       "      <th>car</th>\n",
       "      <th>Bar</th>\n",
       "      <th>CoffeeHouse</th>\n",
       "      <th>CarryAway</th>\n",
       "      <th>RestaurantLessThan20</th>\n",
       "      <th>Restaurant20To50</th>\n",
       "      <th>toCoupon_GEQ5min</th>\n",
       "      <th>toCoupon_GEQ15min</th>\n",
       "      <th>toCoupon_GEQ25min</th>\n",
       "      <th>direction_same</th>\n",
       "      <th>direction_opp</th>\n",
       "      <th>Y</th>\n",
       "    </tr>\n",
       "  </thead>\n",
       "  <tbody>\n",
       "    <tr>\n",
       "      <th>1</th>\n",
       "      <td>No Urgent Place</td>\n",
       "      <td>Friend(s)</td>\n",
       "      <td>Sunny</td>\n",
       "      <td>80</td>\n",
       "      <td>10AM</td>\n",
       "      <td>Coffee House</td>\n",
       "      <td>2h</td>\n",
       "      <td>Female</td>\n",
       "      <td>21</td>\n",
       "      <td>Unmarried partner</td>\n",
       "      <td>1</td>\n",
       "      <td>Some college - no degree</td>\n",
       "      <td>Unemployed</td>\n",
       "      <td>$37500 - $49999</td>\n",
       "      <td>&lt;NA&gt;</td>\n",
       "      <td>never</td>\n",
       "      <td>never</td>\n",
       "      <td>&lt;NA&gt;</td>\n",
       "      <td>4~8</td>\n",
       "      <td>1~3</td>\n",
       "      <td>1</td>\n",
       "      <td>0</td>\n",
       "      <td>0</td>\n",
       "      <td>0</td>\n",
       "      <td>1</td>\n",
       "      <td>0</td>\n",
       "    </tr>\n",
       "    <tr>\n",
       "      <th>3</th>\n",
       "      <td>No Urgent Place</td>\n",
       "      <td>Friend(s)</td>\n",
       "      <td>Sunny</td>\n",
       "      <td>80</td>\n",
       "      <td>2PM</td>\n",
       "      <td>Coffee House</td>\n",
       "      <td>2h</td>\n",
       "      <td>Female</td>\n",
       "      <td>21</td>\n",
       "      <td>Unmarried partner</td>\n",
       "      <td>1</td>\n",
       "      <td>Some college - no degree</td>\n",
       "      <td>Unemployed</td>\n",
       "      <td>$37500 - $49999</td>\n",
       "      <td>&lt;NA&gt;</td>\n",
       "      <td>never</td>\n",
       "      <td>never</td>\n",
       "      <td>&lt;NA&gt;</td>\n",
       "      <td>4~8</td>\n",
       "      <td>1~3</td>\n",
       "      <td>1</td>\n",
       "      <td>1</td>\n",
       "      <td>0</td>\n",
       "      <td>0</td>\n",
       "      <td>1</td>\n",
       "      <td>0</td>\n",
       "    </tr>\n",
       "  </tbody>\n",
       "</table>\n",
       "</div>"
      ],
      "text/plain": [
       "       destination  passanger weather  temperature  time        coupon  \\\n",
       "1  No Urgent Place  Friend(s)   Sunny           80  10AM  Coffee House   \n",
       "3  No Urgent Place  Friend(s)   Sunny           80   2PM  Coffee House   \n",
       "\n",
       "  expiration  gender  age      maritalStatus  has_children  \\\n",
       "1         2h  Female   21  Unmarried partner             1   \n",
       "3         2h  Female   21  Unmarried partner             1   \n",
       "\n",
       "                  education  occupation           income   car    Bar  \\\n",
       "1  Some college - no degree  Unemployed  $37500 - $49999  <NA>  never   \n",
       "3  Some college - no degree  Unemployed  $37500 - $49999  <NA>  never   \n",
       "\n",
       "  CoffeeHouse CarryAway RestaurantLessThan20 Restaurant20To50  \\\n",
       "1       never      <NA>                  4~8              1~3   \n",
       "3       never      <NA>                  4~8              1~3   \n",
       "\n",
       "   toCoupon_GEQ5min  toCoupon_GEQ15min  toCoupon_GEQ25min  direction_same  \\\n",
       "1                 1                  0                  0               0   \n",
       "3                 1                  1                  0               0   \n",
       "\n",
       "   direction_opp  Y  \n",
       "1              1  0  \n",
       "3              1  0  "
      ]
     },
     "execution_count": 1577,
     "metadata": {},
     "output_type": "execute_result"
    }
   ],
   "source": [
    "#df_bar_coupons = dts.groupby(\"coupon\").size()\n",
    "df_coffee_house_coupons = dts.query(\"coupon == 'Coffee House'\")\n",
    "df_coffee_house_coupons.head(2)"
   ]
  },
  {
   "cell_type": "markdown",
   "metadata": {},
   "source": [
    "### Proportion of Coffee House coupons accepted\n",
    "- 50% of Coffee House coupons were accepted\n",
    "- 50% of Coffee House coupons were not accepted"
   ]
  },
  {
   "cell_type": "code",
   "execution_count": 1592,
   "metadata": {},
   "outputs": [
    {
     "data": {
      "text/plain": [
       "Text(0.5, 1.0, 'Proportion of Coffee House Coupons Accepted vs Not Accepted')"
      ]
     },
     "execution_count": 1592,
     "metadata": {},
     "output_type": "execute_result"
    },
    {
     "data": {
      "image/png": "[encoded data removed]",
      "text/plain": [
       "<Figure size 720x360 with 1 Axes>"
      ]
     },
     "metadata": {
      "needs_background": "light"
     },
     "output_type": "display_data"
    }
   ],
   "source": [
    "#Proportion of Coffee House coupons that were accepted\n",
    "df_coffee_house_coupons_accepted = df_coffee_house_coupons['Y'].value_counts(normalize=True)\n",
    "\n",
    "\n",
    "fig = df_coffee_house_coupons_accepted.plot(kind='bar', figsize=(10,5), color='k', alpha=0.8)\n",
    "\n",
    "plt.margins(0.4)\n",
    "\n",
    "for index,value in enumerate(df_coffee_house_coupons_accepted):\n",
    "    fig.annotate(format(value, '.2f'),\n",
    "                   (index, value), \n",
    "                    ha='center', va='center',\n",
    "                    size=12, xytext=(0, 8),\n",
    "                    textcoords='offset points')\n",
    "\n",
    "fig.set_ylabel(\"Percent of Coffee House Coupons\")\n",
    "fig.set_xlabel('Coffee House Coupons Accepted or Not Accepted (1 - Accepted, 0 - Not Accepted)')\n",
    "fig.set_title(f\"Proportion of Coffee House Coupons Accepted vs Not Accepted\", fontsize=14)\n",
    "\n",
    "#df_coffee_house_coupons"
   ]
  },
  {
   "cell_type": "markdown",
   "metadata": {},
   "source": [
    "### Compare the acceptance rate between those who went to a Coffee House 3 or fewer times a month to those who went more.\n",
    "\n",
    "- 74% acceptance rate among people who went to a coffee house 3 or fewer times a month\n",
    "- 26% acceptance rate among people who went to a coffee house more times within a month"
   ]
  },
  {
   "cell_type": "code",
   "execution_count": 1603,
   "metadata": {},
   "outputs": [
    {
     "data": {
      "text/plain": [
       "Text(0.5, 1.0, 'Acceptance rate Between Fewer Than 3 visitors and the rest')"
      ]
     },
     "execution_count": 1603,
     "metadata": {},
     "output_type": "execute_result"
    },
    {
     "data": {
      "image/png": "[encoded data removed]",
      "text/plain": [
       "<Figure size 576x360 with 1 Axes>"
      ]
     },
     "metadata": {
      "needs_background": "light"
     },
     "output_type": "display_data"
    }
   ],
   "source": [
    "#get bar coupons only\n",
    "df_coffee_house_coupons = dts.query(\"coupon == 'Coffee House'\") \n",
    "\n",
    "df_coffee_house_coupons.convert_dtypes().dtypes\n",
    "\n",
    "#get only accepted bar coupons\n",
    "df_accepted_coffee_house_coupons = df_bar_coupons.loc[df_bar_coupons[\"Y\"] == 1]\n",
    "df_accepted_coffee_house_coupons\n",
    "\n",
    "#remove null values\n",
    "df_accepted_coffee_house_coupons[\"CoffeeHouse\"].value_counts(dropna=False)\n",
    "\n",
    "df_accepted_coffee_house_coupons2 = df_accepted_coffee_house_coupons[df_accepted_coffee_house_coupons[\"CoffeeHouse\"].notna()]\n",
    "df_accepted_coffee_house_coupons2[\"CoffeeHouse\"].value_counts(dropna=False)\n",
    "\n",
    "\n",
    "\n",
    "#compare acceptance rate between those who went to bar 3 or fewer times a month\n",
    "#to those who went more.\n",
    "df_coffee_house_coupons_3_or_fewer = df_accepted_coffee_house_coupons2.query(\"CoffeeHouse == '1~3'\")\n",
    "df_coffee_house_coupons_less1 = df_accepted_coffee_house_coupons2.query(\"CoffeeHouse == 'less1'\")\n",
    "df_coffee_house_coupons_never = df_accepted_coffee_house_coupons2.query(\"CoffeeHouse == 'never'\")\n",
    "df_coffee_house_coupons_4to8 = df_accepted_coffee_house_coupons2.query(\"CoffeeHouse == '4~8'\")\n",
    "df_coffee_house_coupons_gt8 = df_accepted_coffee_house_coupons2.query(\"CoffeeHouse == 'gt8'\")\n",
    "\n",
    "df_coffee_house_coupons_3orfewer_total = df_coffee_house_coupons_3_or_fewer.append(df_coffee_house_coupons_less1).append(df_coffee_house_coupons_never)\n",
    "df_coffee_house_coupons_higherthan3_total = df_coffee_house_coupons_4to8.append(df_coffee_house_coupons_gt8)\n",
    "\n",
    "three_or_fewer = df_coffee_house_coupons_3orfewer_total[\"CoffeeHouse\"].count()\n",
    "above3 = df_coffee_house_coupons_higherthan3_total[\"coupon\"].count()\n",
    "\n",
    "total = three_or_fewer + above3\n",
    "three_or_fewer_rate = three_or_fewer/total\n",
    "above3_rate = above3/total\n",
    "\n",
    "cvisit_data = {\n",
    "    \"category\": [\"Less Than or 3 Times\",\"Above 3 Times\"],\n",
    "    \"count\": [three_or_fewer_rate,above3_rate]\n",
    "}\n",
    "\n",
    "coffee_house_visits = pd.DataFrame(cvisit_data).reset_index()\n",
    "\n",
    "coffee_house_visits.columns = [\"index\", \"category\", \"count\"]\n",
    "coffee_house_visits = coffee_house_visits[[\"category\", \"count\"]]\n",
    "coffee_house_visits.set_index(\"category\")\n",
    "\n",
    "\n",
    "\n",
    "fig = coffee_house_visits.plot.bar(x=\"category\", figsize=(8,5))\n",
    "\n",
    "plt.margins(0.5)\n",
    "plt.xticks(rotation=45, ha='right')\n",
    "\n",
    "for index,value in enumerate(coffee_house_visits[\"count\"]):\n",
    "    fig.annotate(format(value, '.2f'),\n",
    "                   (index, value), \n",
    "                    ha='center', va='center',\n",
    "                    size=12, xytext=(0, 8),\n",
    "                    textcoords='offset points')\n",
    "\n",
    "        \n",
    "fig.set_ylabel(\"Frequency Rate\")\n",
    "fig.set_xlabel('Bar Visits')\n",
    "fig.set_title(f\"Acceptance rate Between Fewer Than 3 visitors and the rest\", fontsize=13)"
   ]
  },
  {
   "cell_type": "markdown",
   "metadata": {},
   "source": [
    "### Compare the acceptance rate between drivers who go to a Coffee House more than once a month and are over the age of 25 to the all others.  Is there a difference?\n",
    "- There is a huge difference of 235 between drivers who go to a bar more than once a month and over the age of 25 to the all others\n",
    "- 305 drivers above the age of 25 visit a bar more than once a month while 509 visit less than once\n",
    "- 37% acceptance rate by drivers who visit more than once\n",
    "- 63% acceptance rate by all others\n",
    "- There is a difference of 204 which is a normalized 26%"
   ]
  },
  {
   "cell_type": "code",
   "execution_count": 1613,
   "metadata": {},
   "outputs": [
    {
     "data": {
      "text/plain": [
       "Text(0.5, 1.0, 'Population above 25 vs Everyone Else')"
      ]
     },
     "execution_count": 1613,
     "metadata": {},
     "output_type": "execute_result"
    },
    {
     "data": {
      "image/png": "[encoded data removed]",
      "text/plain": [
       "<Figure size 576x360 with 1 Axes>"
      ]
     },
     "metadata": {
      "needs_background": "light"
     },
     "output_type": "display_data"
    }
   ],
   "source": [
    "def convert_to50(val):\n",
    "    new_val = 50\n",
    "    \n",
    "    if val == \"50plus\":\n",
    "        return new_val\n",
    "    else:\n",
    "        return val\n",
    "    \n",
    "\n",
    "def convert_to20(val):\n",
    "    new_val = 20\n",
    "    \n",
    "    if val == \"below21\":\n",
    "        return new_val\n",
    "    else:\n",
    "        return val\n",
    "    \n",
    "\n",
    "#convert 50plus and below 21 to 50 and 20 respectively\n",
    "dts[\"age\"] = dts[\"age\"].apply(convert_to50)\n",
    "dts[\"age\"] = dts[\"age\"].apply(convert_to20)\n",
    "\n",
    "\n",
    "\n",
    "#convert age column to numeric\n",
    "dts[\"age\"] = pd.to_numeric(dts[\"age\"])\n",
    "\n",
    "\n",
    "\n",
    "\n",
    "#get all the Bar coupons\n",
    "df_coffeehousecoupons = dts.query(\"coupon == 'Bar'\")\n",
    "\n",
    "#get the accepted bar coupons\n",
    "df_coffeehousecoupons_accepted = df_coffeehousecoupons.loc[df_coffeehousecoupons[\"Y\"] == 1]\n",
    "\n",
    "\n",
    "\n",
    "\n",
    "def iter_df_coffeehousecoupons_accepted(df):\n",
    "    filters = [\"1~3\",\"4~8\",\"gt8\"]\n",
    "    df[\"visits_25\"] = np.NaN\n",
    "    \n",
    "    for idx, row in df.iterrows():\n",
    "        if  df.loc[idx,'age'] > 25 and df.loc[idx,'CoffeeHouse'] in filters:\n",
    "            df.loc[idx,'visits_25'] = \"val_above_25\"\n",
    "        else:\n",
    "            df.loc[idx,'visits_25'] = \"all_else\"\n",
    "            \n",
    "    return df\n",
    "\n",
    "\n",
    "#select only non-empty fields\n",
    "df_coffeehousecoupons_accepted = df_coffeehousecoupons_accepted[df_coffeehousecoupons_accepted[\"CoffeeHouse\"].notna()]\n",
    "\n",
    "df_coffeehousecoupons_accepted2 = iter_df_coffeehousecoupons_accepted(df_coffeehousecoupons_accepted)\n",
    "\n",
    "#assign the groups to a variable\n",
    "coffeehouse_visits_above25 = df_coffeehousecoupons_accepted2[\"visits_25\"].value_counts(dropna=False, normalize=True)\n",
    "\n",
    "#plot the variable\n",
    "fig = coffeehouse_visits_above25.plot.bar(figsize=(8,5))\n",
    "\n",
    "#assign margin to the plot and rotate the x-axis ticks\n",
    "plt.margins(0.4)\n",
    "plt.xticks(rotation=45, ha='right')\n",
    "\n",
    "for index,value in enumerate(coffeehouse_visits_above25):\n",
    "    fig.annotate(format(value, '.2f'),\n",
    "                   (index, value), \n",
    "                    ha='center', va='center',\n",
    "                    size=12, xytext=(0, 8),\n",
    "                    textcoords='offset points')\n",
    "\n",
    "fig.set_ylabel(\"Percentage\")\n",
    "fig.set_xlabel('Population')\n",
    "fig.set_title(f\"Population above 25 vs Everyone Else\", fontsize=14)"
   ]
  },
  {
   "cell_type": "markdown",
   "metadata": {},
   "source": [
    "### Null Hypothesis\n",
    "- H0: Probability of going to coffee house being above 25 years of age and being less than 25 years are equal i.e.μ1 = μ2, \n",
    "\n",
    "\n",
    "### Alternative Hypothesis\n",
    "- H1: Probability of going to coffee house being above 25 years of age and being less than 25 years are not equal i.e.μ1 ≠ μ2, "
   ]
  },
  {
   "cell_type": "code",
   "execution_count": 1620,
   "metadata": {},
   "outputs": [],
   "source": [
    "df_coffeehousecoupons_accepted2\n",
    "cabove_25 = df_coffeehousecoupons_accepted2.query(\"visits_25 == 'val_above_25'\")[\"age\"].head(200)\n",
    "call_else = df_coffeehousecoupons_accepted2.query(\"visits_25 == 'all_else'\")[\"age\"].head(200)"
   ]
  },
  {
   "cell_type": "code",
   "execution_count": 1621,
   "metadata": {},
   "outputs": [
    {
     "name": "stdout",
     "output_type": "stream",
     "text": [
      "Test statistic is 5.715766\n",
      "p-value for two tailed test is 0.000000\n",
      "Conclusion n Since p-value(=0.000000) < alpha(=0.05) We reject the null hypothesis H0. So we conclude that \n",
      "    the Probability of going to coffee house being above 25 years of age and being less than 25 years are not equal i.e., \n",
      "    μ1 ≠ μ2 at 0.05 level of significance.\n"
     ]
    }
   ],
   "source": [
    "from scipy import stats\n",
    "\n",
    "alpha = 0.05\n",
    "\n",
    "ct_value,cp_value=stats.ttest_ind(cabove_25,call_else)\n",
    "\n",
    "print('Test statistic is %f'%float(\"{:.6f}\".format(ct_value)))\n",
    "print('p-value for two tailed test is %f'%cp_value)\n",
    "\n",
    "if cp_value<=alpha:\n",
    "\n",
    "    print('Conclusion','n','Since p-value(=%f)'%cp_value,'<','alpha(=%.2f)'%alpha,'''We reject the null hypothesis H0. So we conclude that \n",
    "    the Probability of going to coffee house being above 25 years of age and being less than 25 years are not equal i.e., \n",
    "    μ1 ≠ μ2 at %.2f level of significance.'''%alpha)\n",
    "\n",
    "else:\n",
    "\n",
    "    print('Conclusion','n','Since p-value(=%f)'%cp_value,'>','alpha(=%.2f)'%alpha,'''We do not reject the null hypothesis H0.''')\n",
    "\n"
   ]
  },
  {
   "cell_type": "code",
   "execution_count": null,
   "metadata": {},
   "outputs": [],
   "source": []
  }
 ],
 "metadata": {
  "kernelspec": {
   "display_name": "Python 3 (ipykernel)",
   "language": "python",
   "name": "python3"
  },
  "language_info": {
   "codemirror_mode": {
    "name": "ipython",
    "version": 3
   },
   "file_extension": ".py",
   "mimetype": "text/x-python",
   "name": "python",
   "nbconvert_exporter": "python",
   "pygments_lexer": "ipython3",
   "version": "3.9.7"
  },
  "widgets": {
   "application/vnd.jupyter.widget-state+json": {
    "state": {},
    "version_major": 2,
    "version_minor": 0
   }
  }
 },
 "nbformat": 4,
 "nbformat_minor": 4
}
